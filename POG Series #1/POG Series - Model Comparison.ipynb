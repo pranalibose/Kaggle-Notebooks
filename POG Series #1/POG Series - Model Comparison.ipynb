{
 "cells": [
  {
   "cell_type": "markdown",
   "id": "6c8c4245",
   "metadata": {},
   "source": [
    "# Youtube Prediction - Base Model"
   ]
  },
  {
   "cell_type": "markdown",
   "id": "263534a2",
   "metadata": {},
   "source": [
    "We have already performed EDA of this dataset.\n",
    "Here, we will be building our base model.\n",
    "\n",
    "Conclusions drawn from the EDA:\n",
    "   1. Spread of bool features in test and train sets are similar\n",
    "   2. CategoryIds 15 and 29 are not present in test set. These are extras in training dataset\n",
    "   3. Train set have videos published in all the months as against the test set where the cideos have been taken from Nov and Dec only\n",
    "   4. Majority of the videos have been published in the evening and the least in the morning. The trend is same in both test and train set\n",
    "   5. Using heatmap we found that the description and duration_seconds have missing values\n",
    "   6. Plotted correlation matrix to find that the target is least dependent on the binary features\n",
    "   \n",
    "Steps:\n",
    "   1. Dropping columns which are not present in test set\n",
    "   2. Extracting date, time and day of week information from publishedAt feature\n",
    "   3. Categorizing time to different slots\n",
    "   4. Encoding variables variabels\n",
    "   5. LabelEncoding categorical variables\n",
    "   6. Handling Missing Values\n",
    "   7. Scale Numerical Features\n",
    "   8. Modelling\n",
    "   9. Comparing the performance of different models"
   ]
  },
  {
   "cell_type": "markdown",
   "id": "59b1dbe0",
   "metadata": {},
   "source": [
    "# Import Libraries"
   ]
  },
  {
   "cell_type": "code",
   "execution_count": 118,
   "id": "dc9e2c40",
   "metadata": {},
   "outputs": [],
   "source": [
    "import pandas as pd\n",
    "import numpy as np\n",
    "import seaborn as sns\n",
    "import matplotlib.pyplot as plt\n",
    "import warnings\n",
    "from sklearn.preprocessing import StandardScaler\n",
    "\n",
    "warnings.filterwarnings('ignore')\n",
    "\n",
    "%matplotlib inline"
   ]
  },
  {
   "cell_type": "code",
   "execution_count": 119,
   "id": "36f2f77d",
   "metadata": {},
   "outputs": [],
   "source": [
    "train_df = pd.read_parquet('train.parquet')\n",
    "test_df = pd.read_parquet('test.parquet')"
   ]
  },
  {
   "cell_type": "code",
   "execution_count": 120,
   "id": "488f7463",
   "metadata": {},
   "outputs": [
    {
     "data": {
      "text/html": [
       "<div>\n",
       "<style scoped>\n",
       "    .dataframe tbody tr th:only-of-type {\n",
       "        vertical-align: middle;\n",
       "    }\n",
       "\n",
       "    .dataframe tbody tr th {\n",
       "        vertical-align: top;\n",
       "    }\n",
       "\n",
       "    .dataframe thead th {\n",
       "        text-align: right;\n",
       "    }\n",
       "</style>\n",
       "<table border=\"1\" class=\"dataframe\">\n",
       "  <thead>\n",
       "    <tr style=\"text-align: right;\">\n",
       "      <th></th>\n",
       "      <th>video_id</th>\n",
       "      <th>title</th>\n",
       "      <th>publishedAt</th>\n",
       "      <th>channelId</th>\n",
       "      <th>channelTitle</th>\n",
       "      <th>categoryId</th>\n",
       "      <th>trending_date</th>\n",
       "      <th>tags</th>\n",
       "      <th>thumbnail_link</th>\n",
       "      <th>comments_disabled</th>\n",
       "      <th>ratings_disabled</th>\n",
       "      <th>description</th>\n",
       "      <th>id</th>\n",
       "      <th>duration_seconds</th>\n",
       "      <th>has_thumbnail</th>\n",
       "      <th>target</th>\n",
       "    </tr>\n",
       "  </thead>\n",
       "  <tbody>\n",
       "    <tr>\n",
       "      <th>0</th>\n",
       "      <td>3C66w5Z0ixs</td>\n",
       "      <td>I ASKED HER TO BE MY GIRLFRIEND...</td>\n",
       "      <td>2020-08-11 19:20:14+00:00</td>\n",
       "      <td>UCvtRTOMP2TqYqu51xNrqAzg</td>\n",
       "      <td>Brawadis</td>\n",
       "      <td>22</td>\n",
       "      <td>2020-08-12</td>\n",
       "      <td>brawadis|prank|basketball|skits|ghost|funny vi...</td>\n",
       "      <td>https://i.ytimg.com/vi/3C66w5Z0ixs/default.jpg</td>\n",
       "      <td>False</td>\n",
       "      <td>False</td>\n",
       "      <td>SUBSCRIBE to BRAWADIS ▶ http://bit.ly/Subscrib...</td>\n",
       "      <td>3C66w5Z0ixs_2020-08-12</td>\n",
       "      <td>NaN</td>\n",
       "      <td>True</td>\n",
       "      <td>0.103596</td>\n",
       "    </tr>\n",
       "    <tr>\n",
       "      <th>1</th>\n",
       "      <td>M9Pmf9AB4Mo</td>\n",
       "      <td>Apex Legends | Stories from the Outlands – “Th...</td>\n",
       "      <td>2020-08-11 17:00:10+00:00</td>\n",
       "      <td>UC0ZV6M2THA81QT9hrVWJG3A</td>\n",
       "      <td>Apex Legends</td>\n",
       "      <td>20</td>\n",
       "      <td>2020-08-12</td>\n",
       "      <td>Apex Legends|Apex Legends characters|new Apex ...</td>\n",
       "      <td>https://i.ytimg.com/vi/M9Pmf9AB4Mo/default.jpg</td>\n",
       "      <td>False</td>\n",
       "      <td>False</td>\n",
       "      <td>While running her own modding shop, Ramya Pare...</td>\n",
       "      <td>M9Pmf9AB4Mo_2020-08-12</td>\n",
       "      <td>NaN</td>\n",
       "      <td>True</td>\n",
       "      <td>0.061611</td>\n",
       "    </tr>\n",
       "    <tr>\n",
       "      <th>2</th>\n",
       "      <td>J78aPJ3VyNs</td>\n",
       "      <td>I left youtube for a month and THIS is what ha...</td>\n",
       "      <td>2020-08-11 16:34:06+00:00</td>\n",
       "      <td>UCYzPXprvl5Y-Sf0g4vX-m6g</td>\n",
       "      <td>jacksepticeye</td>\n",
       "      <td>24</td>\n",
       "      <td>2020-08-12</td>\n",
       "      <td>jacksepticeye|funny|funny meme|memes|jacksepti...</td>\n",
       "      <td>https://i.ytimg.com/vi/J78aPJ3VyNs/default.jpg</td>\n",
       "      <td>False</td>\n",
       "      <td>False</td>\n",
       "      <td>I left youtube for a month and this is what ha...</td>\n",
       "      <td>J78aPJ3VyNs_2020-08-12</td>\n",
       "      <td>NaN</td>\n",
       "      <td>True</td>\n",
       "      <td>0.173523</td>\n",
       "    </tr>\n",
       "  </tbody>\n",
       "</table>\n",
       "</div>"
      ],
      "text/plain": [
       "      video_id                                              title  \\\n",
       "0  3C66w5Z0ixs                 I ASKED HER TO BE MY GIRLFRIEND...   \n",
       "1  M9Pmf9AB4Mo  Apex Legends | Stories from the Outlands – “Th...   \n",
       "2  J78aPJ3VyNs  I left youtube for a month and THIS is what ha...   \n",
       "\n",
       "                publishedAt                 channelId   channelTitle  \\\n",
       "0 2020-08-11 19:20:14+00:00  UCvtRTOMP2TqYqu51xNrqAzg       Brawadis   \n",
       "1 2020-08-11 17:00:10+00:00  UC0ZV6M2THA81QT9hrVWJG3A   Apex Legends   \n",
       "2 2020-08-11 16:34:06+00:00  UCYzPXprvl5Y-Sf0g4vX-m6g  jacksepticeye   \n",
       "\n",
       "   categoryId trending_date  \\\n",
       "0          22    2020-08-12   \n",
       "1          20    2020-08-12   \n",
       "2          24    2020-08-12   \n",
       "\n",
       "                                                tags  \\\n",
       "0  brawadis|prank|basketball|skits|ghost|funny vi...   \n",
       "1  Apex Legends|Apex Legends characters|new Apex ...   \n",
       "2  jacksepticeye|funny|funny meme|memes|jacksepti...   \n",
       "\n",
       "                                   thumbnail_link  comments_disabled  \\\n",
       "0  https://i.ytimg.com/vi/3C66w5Z0ixs/default.jpg              False   \n",
       "1  https://i.ytimg.com/vi/M9Pmf9AB4Mo/default.jpg              False   \n",
       "2  https://i.ytimg.com/vi/J78aPJ3VyNs/default.jpg              False   \n",
       "\n",
       "   ratings_disabled                                        description  \\\n",
       "0             False  SUBSCRIBE to BRAWADIS ▶ http://bit.ly/Subscrib...   \n",
       "1             False  While running her own modding shop, Ramya Pare...   \n",
       "2             False  I left youtube for a month and this is what ha...   \n",
       "\n",
       "                       id  duration_seconds  has_thumbnail    target  \n",
       "0  3C66w5Z0ixs_2020-08-12               NaN           True  0.103596  \n",
       "1  M9Pmf9AB4Mo_2020-08-12               NaN           True  0.061611  \n",
       "2  J78aPJ3VyNs_2020-08-12               NaN           True  0.173523  "
      ]
     },
     "execution_count": 120,
     "metadata": {},
     "output_type": "execute_result"
    }
   ],
   "source": [
    "train_df.drop(['view_count', 'likes', 'dislikes', 'comment_count'], axis=1, inplace=True)\n",
    "train_df.head(3)"
   ]
  },
  {
   "cell_type": "code",
   "execution_count": 121,
   "id": "6a9ca535",
   "metadata": {},
   "outputs": [
    {
     "data": {
      "text/html": [
       "<div>\n",
       "<style scoped>\n",
       "    .dataframe tbody tr th:only-of-type {\n",
       "        vertical-align: middle;\n",
       "    }\n",
       "\n",
       "    .dataframe tbody tr th {\n",
       "        vertical-align: top;\n",
       "    }\n",
       "\n",
       "    .dataframe thead th {\n",
       "        text-align: right;\n",
       "    }\n",
       "</style>\n",
       "<table border=\"1\" class=\"dataframe\">\n",
       "  <thead>\n",
       "    <tr style=\"text-align: right;\">\n",
       "      <th></th>\n",
       "      <th>video_id</th>\n",
       "      <th>title</th>\n",
       "      <th>publishedAt</th>\n",
       "      <th>channelId</th>\n",
       "      <th>channelTitle</th>\n",
       "      <th>categoryId</th>\n",
       "      <th>trending_date</th>\n",
       "      <th>tags</th>\n",
       "      <th>thumbnail_link</th>\n",
       "      <th>comments_disabled</th>\n",
       "      <th>ratings_disabled</th>\n",
       "      <th>description</th>\n",
       "      <th>id</th>\n",
       "      <th>duration_seconds</th>\n",
       "      <th>has_thumbnail</th>\n",
       "    </tr>\n",
       "  </thead>\n",
       "  <tbody>\n",
       "    <tr>\n",
       "      <th>0</th>\n",
       "      <td>_wNsZEqpKUA</td>\n",
       "      <td>Billie Eilish: Same Interview, The Fifth Year ...</td>\n",
       "      <td>2021-11-30 17:00:10+00:00</td>\n",
       "      <td>UCIsbLox_y9dCIMLd8tdC6qg</td>\n",
       "      <td>Vanity Fair</td>\n",
       "      <td>24</td>\n",
       "      <td>2021-12-01</td>\n",
       "      <td>billie|billie eilish|billie eilish 2021|billie...</td>\n",
       "      <td>https://i.ytimg.com/vi/_wNsZEqpKUA/default.jpg</td>\n",
       "      <td>False</td>\n",
       "      <td>False</td>\n",
       "      <td>I'm so much more open to stuff now. On the ver...</td>\n",
       "      <td>_wNsZEqpKUA_2021-12-01</td>\n",
       "      <td>1335.0</td>\n",
       "      <td>True</td>\n",
       "    </tr>\n",
       "    <tr>\n",
       "      <th>1</th>\n",
       "      <td>2jfbXZiE6Lc</td>\n",
       "      <td>Redneck vs Fancy Whiskey Glass</td>\n",
       "      <td>2021-11-29 21:30:27+00:00</td>\n",
       "      <td>UCT_QEGH0myu6lgbE_biQPuw</td>\n",
       "      <td>Drew Talbert</td>\n",
       "      <td>23</td>\n",
       "      <td>2021-12-01</td>\n",
       "      <td>[None]</td>\n",
       "      <td>https://i.ytimg.com/vi/2jfbXZiE6Lc/default.jpg</td>\n",
       "      <td>False</td>\n",
       "      <td>False</td>\n",
       "      <td>I’m just shocked Brad was able to sell him in ...</td>\n",
       "      <td>2jfbXZiE6Lc_2021-12-01</td>\n",
       "      <td>28.0</td>\n",
       "      <td>True</td>\n",
       "    </tr>\n",
       "    <tr>\n",
       "      <th>2</th>\n",
       "      <td>F1Hq8eVOMHs</td>\n",
       "      <td>Is Meat Really that Bad?</td>\n",
       "      <td>2021-11-30 15:01:34+00:00</td>\n",
       "      <td>UCsXVk37bltHxD1rDPwtNM8Q</td>\n",
       "      <td>Kurzgesagt – In a Nutshell</td>\n",
       "      <td>27</td>\n",
       "      <td>2021-12-01</td>\n",
       "      <td>[None]</td>\n",
       "      <td>https://i.ytimg.com/vi/F1Hq8eVOMHs/default.jpg</td>\n",
       "      <td>False</td>\n",
       "      <td>False</td>\n",
       "      <td>The first 1,000 people to use this link will g...</td>\n",
       "      <td>F1Hq8eVOMHs_2021-12-01</td>\n",
       "      <td>728.0</td>\n",
       "      <td>True</td>\n",
       "    </tr>\n",
       "  </tbody>\n",
       "</table>\n",
       "</div>"
      ],
      "text/plain": [
       "      video_id                                              title  \\\n",
       "0  _wNsZEqpKUA  Billie Eilish: Same Interview, The Fifth Year ...   \n",
       "1  2jfbXZiE6Lc                     Redneck vs Fancy Whiskey Glass   \n",
       "2  F1Hq8eVOMHs                           Is Meat Really that Bad?   \n",
       "\n",
       "                publishedAt                 channelId  \\\n",
       "0 2021-11-30 17:00:10+00:00  UCIsbLox_y9dCIMLd8tdC6qg   \n",
       "1 2021-11-29 21:30:27+00:00  UCT_QEGH0myu6lgbE_biQPuw   \n",
       "2 2021-11-30 15:01:34+00:00  UCsXVk37bltHxD1rDPwtNM8Q   \n",
       "\n",
       "                 channelTitle  categoryId trending_date  \\\n",
       "0                 Vanity Fair          24    2021-12-01   \n",
       "1                Drew Talbert          23    2021-12-01   \n",
       "2  Kurzgesagt – In a Nutshell          27    2021-12-01   \n",
       "\n",
       "                                                tags  \\\n",
       "0  billie|billie eilish|billie eilish 2021|billie...   \n",
       "1                                             [None]   \n",
       "2                                             [None]   \n",
       "\n",
       "                                   thumbnail_link  comments_disabled  \\\n",
       "0  https://i.ytimg.com/vi/_wNsZEqpKUA/default.jpg              False   \n",
       "1  https://i.ytimg.com/vi/2jfbXZiE6Lc/default.jpg              False   \n",
       "2  https://i.ytimg.com/vi/F1Hq8eVOMHs/default.jpg              False   \n",
       "\n",
       "   ratings_disabled                                        description  \\\n",
       "0             False  I'm so much more open to stuff now. On the ver...   \n",
       "1             False  I’m just shocked Brad was able to sell him in ...   \n",
       "2             False  The first 1,000 people to use this link will g...   \n",
       "\n",
       "                       id  duration_seconds  has_thumbnail  \n",
       "0  _wNsZEqpKUA_2021-12-01            1335.0           True  \n",
       "1  2jfbXZiE6Lc_2021-12-01              28.0           True  \n",
       "2  F1Hq8eVOMHs_2021-12-01             728.0           True  "
      ]
     },
     "execution_count": 121,
     "metadata": {},
     "output_type": "execute_result"
    }
   ],
   "source": [
    "test_df.drop('isTest', axis=1, inplace=True)\n",
    "test_df.head(3)"
   ]
  },
  {
   "cell_type": "markdown",
   "id": "0a514283",
   "metadata": {},
   "source": [
    "# Removing video_id and thumbnail_link"
   ]
  },
  {
   "cell_type": "code",
   "execution_count": 122,
   "id": "6c8c9dbb",
   "metadata": {},
   "outputs": [],
   "source": [
    "train_df.drop(['video_id', 'thumbnail_link', 'id'], axis=1, inplace=True)\n",
    "test_df.drop(['video_id', 'thumbnail_link'], axis=1, inplace=True)"
   ]
  },
  {
   "cell_type": "markdown",
   "id": "4a1a0943",
   "metadata": {},
   "source": [
    "# Extracting Date info from publishedAt"
   ]
  },
  {
   "cell_type": "code",
   "execution_count": 123,
   "id": "0e113351",
   "metadata": {},
   "outputs": [],
   "source": [
    "train_df['date'] = pd.to_datetime(train_df['publishedAt']).dt.month\n",
    "train_df['time'] = pd.to_datetime(train_df['publishedAt']).dt.time\n",
    "train_df['dayofweek'] = (train_df['publishedAt']).dt.dayofweek\n",
    "train_df['trending_date'] = pd.to_datetime(train_df['publishedAt']).dt.month\n",
    "train_df['monthsold'] = train_df['trending_date'] - train_df['date']"
   ]
  },
  {
   "cell_type": "code",
   "execution_count": 124,
   "id": "8dfd6417",
   "metadata": {},
   "outputs": [],
   "source": [
    "test_df['date'] = pd.to_datetime(test_df['publishedAt']).dt.month\n",
    "test_df['time'] = pd.to_datetime(test_df['publishedAt']).dt.time\n",
    "test_df['dayofweek'] = (test_df['publishedAt']).dt.dayofweek\n",
    "test_df['trending_date'] = pd.to_datetime(test_df['publishedAt']).dt.month\n",
    "test_df['monthsold'] = test_df['trending_date'] - test_df['date']"
   ]
  },
  {
   "cell_type": "code",
   "execution_count": 125,
   "id": "dff6b66d",
   "metadata": {},
   "outputs": [
    {
     "data": {
      "text/plain": [
       "0    5800\n",
       "Name: monthsold, dtype: int64"
      ]
     },
     "execution_count": 125,
     "metadata": {},
     "output_type": "execute_result"
    }
   ],
   "source": [
    "test_df['monthsold'].value_counts()"
   ]
  },
  {
   "cell_type": "code",
   "execution_count": 126,
   "id": "4a072731",
   "metadata": {},
   "outputs": [
    {
     "data": {
      "text/plain": [
       "0    92275\n",
       "Name: monthsold, dtype: int64"
      ]
     },
     "execution_count": 126,
     "metadata": {},
     "output_type": "execute_result"
    }
   ],
   "source": [
    "train_df['monthsold'].value_counts()"
   ]
  },
  {
   "cell_type": "markdown",
   "id": "a483c2f9",
   "metadata": {},
   "source": [
    "### We see that the prediction was made in the same month of publishing, we can drop the trending date for the time being"
   ]
  },
  {
   "cell_type": "code",
   "execution_count": 65,
   "id": "7b758db8",
   "metadata": {},
   "outputs": [],
   "source": [
    "train_df.drop(['monthsold', 'trending_date'], axis=1, inplace=True)\n",
    "test_df.drop(['monthsold', 'trending_date'], axis=1, inplace=True)"
   ]
  },
  {
   "cell_type": "markdown",
   "id": "dd0de02d",
   "metadata": {},
   "source": [
    "### Binning time to timeofday"
   ]
  },
  {
   "cell_type": "markdown",
   "id": "2d6a7f67",
   "metadata": {},
   "source": [
    "Categorizing the time into 6 groups:\n",
    "1. Late Night\n",
    "2. Early Morning\n",
    "3. Morning\n",
    "4. Noon\n",
    "5. Evening \n",
    "6. Night"
   ]
  },
  {
   "cell_type": "code",
   "execution_count": 127,
   "id": "c30282e2",
   "metadata": {},
   "outputs": [],
   "source": [
    "train_df['time'] = pd.to_datetime(train_df['publishedAt']).dt.hour\n",
    "test_df['time'] = pd.to_datetime(test_df['publishedAt']).dt.hour"
   ]
  },
  {
   "cell_type": "code",
   "execution_count": 128,
   "id": "c6d1bdeb",
   "metadata": {},
   "outputs": [],
   "source": [
    "time = 'time'\n",
    "\n",
    "def timeofday(df):\n",
    "    df[time] = (df[time] % 24 + 4) // 4\n",
    "    df[time].replace({1: 'Late Night',\n",
    "                      2: 'Early Morning',\n",
    "                      3: 'Morning',\n",
    "                      4: 'Noon',\n",
    "                      5: 'Evening',\n",
    "                      6: 'Night'}, inplace=True)"
   ]
  },
  {
   "cell_type": "code",
   "execution_count": 129,
   "id": "9c05c9ba",
   "metadata": {},
   "outputs": [],
   "source": [
    "timeofday(train_df)\n",
    "timeofday(test_df)"
   ]
  },
  {
   "cell_type": "markdown",
   "id": "12ed53e9",
   "metadata": {},
   "source": [
    "## Encoding"
   ]
  },
  {
   "cell_type": "code",
   "execution_count": 130,
   "id": "bd3753d9",
   "metadata": {},
   "outputs": [],
   "source": [
    "bool_features = [i for i in train_df.columns if train_df[i].dtypes == 'bool']"
   ]
  },
  {
   "cell_type": "code",
   "execution_count": 131,
   "id": "47cd1c95",
   "metadata": {},
   "outputs": [
    {
     "data": {
      "text/plain": [
       "['comments_disabled', 'ratings_disabled', 'has_thumbnail']"
      ]
     },
     "execution_count": 131,
     "metadata": {},
     "output_type": "execute_result"
    }
   ],
   "source": [
    "bool_features"
   ]
  },
  {
   "cell_type": "code",
   "execution_count": 132,
   "id": "d23beb53",
   "metadata": {},
   "outputs": [],
   "source": [
    "def bool_encode(df):\n",
    "    for i in bool_features:\n",
    "        df[i] = df[i].astype(int)"
   ]
  },
  {
   "cell_type": "code",
   "execution_count": 133,
   "id": "e8c0ab45",
   "metadata": {},
   "outputs": [],
   "source": [
    "bool_encode(train_df)\n",
    "bool_encode(test_df)"
   ]
  },
  {
   "cell_type": "code",
   "execution_count": 134,
   "id": "6923e4c6",
   "metadata": {},
   "outputs": [
    {
     "data": {
      "text/html": [
       "<div>\n",
       "<style scoped>\n",
       "    .dataframe tbody tr th:only-of-type {\n",
       "        vertical-align: middle;\n",
       "    }\n",
       "\n",
       "    .dataframe tbody tr th {\n",
       "        vertical-align: top;\n",
       "    }\n",
       "\n",
       "    .dataframe thead th {\n",
       "        text-align: right;\n",
       "    }\n",
       "</style>\n",
       "<table border=\"1\" class=\"dataframe\">\n",
       "  <thead>\n",
       "    <tr style=\"text-align: right;\">\n",
       "      <th></th>\n",
       "      <th>title</th>\n",
       "      <th>publishedAt</th>\n",
       "      <th>channelId</th>\n",
       "      <th>channelTitle</th>\n",
       "      <th>categoryId</th>\n",
       "      <th>trending_date</th>\n",
       "      <th>tags</th>\n",
       "      <th>comments_disabled</th>\n",
       "      <th>ratings_disabled</th>\n",
       "      <th>description</th>\n",
       "      <th>duration_seconds</th>\n",
       "      <th>has_thumbnail</th>\n",
       "      <th>target</th>\n",
       "      <th>date</th>\n",
       "      <th>time</th>\n",
       "      <th>dayofweek</th>\n",
       "      <th>monthsold</th>\n",
       "    </tr>\n",
       "  </thead>\n",
       "  <tbody>\n",
       "    <tr>\n",
       "      <th>0</th>\n",
       "      <td>I ASKED HER TO BE MY GIRLFRIEND...</td>\n",
       "      <td>2020-08-11 19:20:14+00:00</td>\n",
       "      <td>UCvtRTOMP2TqYqu51xNrqAzg</td>\n",
       "      <td>Brawadis</td>\n",
       "      <td>22</td>\n",
       "      <td>8</td>\n",
       "      <td>brawadis|prank|basketball|skits|ghost|funny vi...</td>\n",
       "      <td>0</td>\n",
       "      <td>0</td>\n",
       "      <td>SUBSCRIBE to BRAWADIS ▶ http://bit.ly/Subscrib...</td>\n",
       "      <td>NaN</td>\n",
       "      <td>1</td>\n",
       "      <td>0.103596</td>\n",
       "      <td>8</td>\n",
       "      <td>Evening</td>\n",
       "      <td>1</td>\n",
       "      <td>0</td>\n",
       "    </tr>\n",
       "    <tr>\n",
       "      <th>1</th>\n",
       "      <td>Apex Legends | Stories from the Outlands – “Th...</td>\n",
       "      <td>2020-08-11 17:00:10+00:00</td>\n",
       "      <td>UC0ZV6M2THA81QT9hrVWJG3A</td>\n",
       "      <td>Apex Legends</td>\n",
       "      <td>20</td>\n",
       "      <td>8</td>\n",
       "      <td>Apex Legends|Apex Legends characters|new Apex ...</td>\n",
       "      <td>0</td>\n",
       "      <td>0</td>\n",
       "      <td>While running her own modding shop, Ramya Pare...</td>\n",
       "      <td>NaN</td>\n",
       "      <td>1</td>\n",
       "      <td>0.061611</td>\n",
       "      <td>8</td>\n",
       "      <td>Evening</td>\n",
       "      <td>1</td>\n",
       "      <td>0</td>\n",
       "    </tr>\n",
       "    <tr>\n",
       "      <th>2</th>\n",
       "      <td>I left youtube for a month and THIS is what ha...</td>\n",
       "      <td>2020-08-11 16:34:06+00:00</td>\n",
       "      <td>UCYzPXprvl5Y-Sf0g4vX-m6g</td>\n",
       "      <td>jacksepticeye</td>\n",
       "      <td>24</td>\n",
       "      <td>8</td>\n",
       "      <td>jacksepticeye|funny|funny meme|memes|jacksepti...</td>\n",
       "      <td>0</td>\n",
       "      <td>0</td>\n",
       "      <td>I left youtube for a month and this is what ha...</td>\n",
       "      <td>NaN</td>\n",
       "      <td>1</td>\n",
       "      <td>0.173523</td>\n",
       "      <td>8</td>\n",
       "      <td>Evening</td>\n",
       "      <td>1</td>\n",
       "      <td>0</td>\n",
       "    </tr>\n",
       "  </tbody>\n",
       "</table>\n",
       "</div>"
      ],
      "text/plain": [
       "                                               title  \\\n",
       "0                 I ASKED HER TO BE MY GIRLFRIEND...   \n",
       "1  Apex Legends | Stories from the Outlands – “Th...   \n",
       "2  I left youtube for a month and THIS is what ha...   \n",
       "\n",
       "                publishedAt                 channelId   channelTitle  \\\n",
       "0 2020-08-11 19:20:14+00:00  UCvtRTOMP2TqYqu51xNrqAzg       Brawadis   \n",
       "1 2020-08-11 17:00:10+00:00  UC0ZV6M2THA81QT9hrVWJG3A   Apex Legends   \n",
       "2 2020-08-11 16:34:06+00:00  UCYzPXprvl5Y-Sf0g4vX-m6g  jacksepticeye   \n",
       "\n",
       "   categoryId  trending_date  \\\n",
       "0          22              8   \n",
       "1          20              8   \n",
       "2          24              8   \n",
       "\n",
       "                                                tags  comments_disabled  \\\n",
       "0  brawadis|prank|basketball|skits|ghost|funny vi...                  0   \n",
       "1  Apex Legends|Apex Legends characters|new Apex ...                  0   \n",
       "2  jacksepticeye|funny|funny meme|memes|jacksepti...                  0   \n",
       "\n",
       "   ratings_disabled                                        description  \\\n",
       "0                 0  SUBSCRIBE to BRAWADIS ▶ http://bit.ly/Subscrib...   \n",
       "1                 0  While running her own modding shop, Ramya Pare...   \n",
       "2                 0  I left youtube for a month and this is what ha...   \n",
       "\n",
       "   duration_seconds  has_thumbnail    target  date     time  dayofweek  \\\n",
       "0               NaN              1  0.103596     8  Evening          1   \n",
       "1               NaN              1  0.061611     8  Evening          1   \n",
       "2               NaN              1  0.173523     8  Evening          1   \n",
       "\n",
       "   monthsold  \n",
       "0          0  \n",
       "1          0  \n",
       "2          0  "
      ]
     },
     "execution_count": 134,
     "metadata": {},
     "output_type": "execute_result"
    }
   ],
   "source": [
    "train_df.head(3)"
   ]
  },
  {
   "cell_type": "code",
   "execution_count": 135,
   "id": "57370b6b",
   "metadata": {},
   "outputs": [],
   "source": [
    "train_df['tags'] = train_df['tags'].apply(lambda x: x[:100])              #considering only first 100 characters "
   ]
  },
  {
   "cell_type": "code",
   "execution_count": 137,
   "id": "afb4989c",
   "metadata": {},
   "outputs": [
    {
     "data": {
      "text/plain": [
       "'brawadis|prank|basketball|skits|ghost|funny videos|vlog|vlogging|NBA|browadis|challenges|bmw i8|faze'"
      ]
     },
     "execution_count": 137,
     "metadata": {},
     "output_type": "execute_result"
    }
   ],
   "source": [
    "train_df['tags'][0]"
   ]
  },
  {
   "cell_type": "markdown",
   "id": "4f913e23",
   "metadata": {},
   "source": [
    "# publishedAt is no longer required"
   ]
  },
  {
   "cell_type": "code",
   "execution_count": 138,
   "id": "68b56954",
   "metadata": {},
   "outputs": [],
   "source": [
    "train_df.drop('publishedAt', axis=1, inplace=True)\n",
    "test_df.drop('publishedAt', axis=1, inplace=True)"
   ]
  },
  {
   "cell_type": "code",
   "execution_count": 139,
   "id": "b3c9a057",
   "metadata": {},
   "outputs": [],
   "source": [
    "feature_list = ['channelTitle', 'channelId', 'title', 'description', 'tags']\n",
    "\n",
    "# For non-binary categorical features\n",
    "def feature_engg(df):\n",
    "    '''\n",
    "        Extracting columns with the value counts mapped to their categories for each of the features in feature list\n",
    "        df: DataFrame to be considered\n",
    "    '''\n",
    "    for i in feature_list:\n",
    "        frequencies=df[i].value_counts()\n",
    "        mapping=df[i].map(frequencies)\n",
    "        df[str(i)+'Top']=df[i].mask(mapping<6,'Other')"
   ]
  },
  {
   "cell_type": "code",
   "execution_count": 140,
   "id": "067bcc12",
   "metadata": {},
   "outputs": [],
   "source": [
    "feature_engg(train_df)\n",
    "feature_engg(test_df)"
   ]
  },
  {
   "cell_type": "code",
   "execution_count": 141,
   "id": "9bceb29e",
   "metadata": {},
   "outputs": [
    {
     "data": {
      "text/html": [
       "<div>\n",
       "<style scoped>\n",
       "    .dataframe tbody tr th:only-of-type {\n",
       "        vertical-align: middle;\n",
       "    }\n",
       "\n",
       "    .dataframe tbody tr th {\n",
       "        vertical-align: top;\n",
       "    }\n",
       "\n",
       "    .dataframe thead th {\n",
       "        text-align: right;\n",
       "    }\n",
       "</style>\n",
       "<table border=\"1\" class=\"dataframe\">\n",
       "  <thead>\n",
       "    <tr style=\"text-align: right;\">\n",
       "      <th></th>\n",
       "      <th>title</th>\n",
       "      <th>channelId</th>\n",
       "      <th>channelTitle</th>\n",
       "      <th>categoryId</th>\n",
       "      <th>trending_date</th>\n",
       "      <th>tags</th>\n",
       "      <th>comments_disabled</th>\n",
       "      <th>ratings_disabled</th>\n",
       "      <th>description</th>\n",
       "      <th>duration_seconds</th>\n",
       "      <th>...</th>\n",
       "      <th>target</th>\n",
       "      <th>date</th>\n",
       "      <th>time</th>\n",
       "      <th>dayofweek</th>\n",
       "      <th>monthsold</th>\n",
       "      <th>channelTitleTop</th>\n",
       "      <th>channelIdTop</th>\n",
       "      <th>titleTop</th>\n",
       "      <th>descriptionTop</th>\n",
       "      <th>tagsTop</th>\n",
       "    </tr>\n",
       "  </thead>\n",
       "  <tbody>\n",
       "    <tr>\n",
       "      <th>0</th>\n",
       "      <td>I ASKED HER TO BE MY GIRLFRIEND...</td>\n",
       "      <td>UCvtRTOMP2TqYqu51xNrqAzg</td>\n",
       "      <td>Brawadis</td>\n",
       "      <td>22</td>\n",
       "      <td>8</td>\n",
       "      <td>brawadis|prank|basketball|skits|ghost|funny vi...</td>\n",
       "      <td>0</td>\n",
       "      <td>0</td>\n",
       "      <td>SUBSCRIBE to BRAWADIS ▶ http://bit.ly/Subscrib...</td>\n",
       "      <td>NaN</td>\n",
       "      <td>...</td>\n",
       "      <td>0.103596</td>\n",
       "      <td>8</td>\n",
       "      <td>Evening</td>\n",
       "      <td>1</td>\n",
       "      <td>0</td>\n",
       "      <td>Brawadis</td>\n",
       "      <td>UCvtRTOMP2TqYqu51xNrqAzg</td>\n",
       "      <td>I ASKED HER TO BE MY GIRLFRIEND...</td>\n",
       "      <td>SUBSCRIBE to BRAWADIS ▶ http://bit.ly/Subscrib...</td>\n",
       "      <td>brawadis|prank|basketball|skits|ghost|funny vi...</td>\n",
       "    </tr>\n",
       "    <tr>\n",
       "      <th>1</th>\n",
       "      <td>Apex Legends | Stories from the Outlands – “Th...</td>\n",
       "      <td>UC0ZV6M2THA81QT9hrVWJG3A</td>\n",
       "      <td>Apex Legends</td>\n",
       "      <td>20</td>\n",
       "      <td>8</td>\n",
       "      <td>Apex Legends|Apex Legends characters|new Apex ...</td>\n",
       "      <td>0</td>\n",
       "      <td>0</td>\n",
       "      <td>While running her own modding shop, Ramya Pare...</td>\n",
       "      <td>NaN</td>\n",
       "      <td>...</td>\n",
       "      <td>0.061611</td>\n",
       "      <td>8</td>\n",
       "      <td>Evening</td>\n",
       "      <td>1</td>\n",
       "      <td>0</td>\n",
       "      <td>Apex Legends</td>\n",
       "      <td>UC0ZV6M2THA81QT9hrVWJG3A</td>\n",
       "      <td>Other</td>\n",
       "      <td>Other</td>\n",
       "      <td>Apex Legends|Apex Legends characters|new Apex ...</td>\n",
       "    </tr>\n",
       "    <tr>\n",
       "      <th>2</th>\n",
       "      <td>I left youtube for a month and THIS is what ha...</td>\n",
       "      <td>UCYzPXprvl5Y-Sf0g4vX-m6g</td>\n",
       "      <td>jacksepticeye</td>\n",
       "      <td>24</td>\n",
       "      <td>8</td>\n",
       "      <td>jacksepticeye|funny|funny meme|memes|jacksepti...</td>\n",
       "      <td>0</td>\n",
       "      <td>0</td>\n",
       "      <td>I left youtube for a month and this is what ha...</td>\n",
       "      <td>NaN</td>\n",
       "      <td>...</td>\n",
       "      <td>0.173523</td>\n",
       "      <td>8</td>\n",
       "      <td>Evening</td>\n",
       "      <td>1</td>\n",
       "      <td>0</td>\n",
       "      <td>jacksepticeye</td>\n",
       "      <td>UCYzPXprvl5Y-Sf0g4vX-m6g</td>\n",
       "      <td>I left youtube for a month and THIS is what ha...</td>\n",
       "      <td>I left youtube for a month and this is what ha...</td>\n",
       "      <td>jacksepticeye|funny|funny meme|memes|jacksepti...</td>\n",
       "    </tr>\n",
       "  </tbody>\n",
       "</table>\n",
       "<p>3 rows × 21 columns</p>\n",
       "</div>"
      ],
      "text/plain": [
       "                                               title  \\\n",
       "0                 I ASKED HER TO BE MY GIRLFRIEND...   \n",
       "1  Apex Legends | Stories from the Outlands – “Th...   \n",
       "2  I left youtube for a month and THIS is what ha...   \n",
       "\n",
       "                  channelId   channelTitle  categoryId  trending_date  \\\n",
       "0  UCvtRTOMP2TqYqu51xNrqAzg       Brawadis          22              8   \n",
       "1  UC0ZV6M2THA81QT9hrVWJG3A   Apex Legends          20              8   \n",
       "2  UCYzPXprvl5Y-Sf0g4vX-m6g  jacksepticeye          24              8   \n",
       "\n",
       "                                                tags  comments_disabled  \\\n",
       "0  brawadis|prank|basketball|skits|ghost|funny vi...                  0   \n",
       "1  Apex Legends|Apex Legends characters|new Apex ...                  0   \n",
       "2  jacksepticeye|funny|funny meme|memes|jacksepti...                  0   \n",
       "\n",
       "   ratings_disabled                                        description  \\\n",
       "0                 0  SUBSCRIBE to BRAWADIS ▶ http://bit.ly/Subscrib...   \n",
       "1                 0  While running her own modding shop, Ramya Pare...   \n",
       "2                 0  I left youtube for a month and this is what ha...   \n",
       "\n",
       "   duration_seconds  ...    target  date     time dayofweek  monthsold  \\\n",
       "0               NaN  ...  0.103596     8  Evening         1          0   \n",
       "1               NaN  ...  0.061611     8  Evening         1          0   \n",
       "2               NaN  ...  0.173523     8  Evening         1          0   \n",
       "\n",
       "   channelTitleTop              channelIdTop  \\\n",
       "0         Brawadis  UCvtRTOMP2TqYqu51xNrqAzg   \n",
       "1     Apex Legends  UC0ZV6M2THA81QT9hrVWJG3A   \n",
       "2    jacksepticeye  UCYzPXprvl5Y-Sf0g4vX-m6g   \n",
       "\n",
       "                                            titleTop  \\\n",
       "0                 I ASKED HER TO BE MY GIRLFRIEND...   \n",
       "1                                              Other   \n",
       "2  I left youtube for a month and THIS is what ha...   \n",
       "\n",
       "                                      descriptionTop  \\\n",
       "0  SUBSCRIBE to BRAWADIS ▶ http://bit.ly/Subscrib...   \n",
       "1                                              Other   \n",
       "2  I left youtube for a month and this is what ha...   \n",
       "\n",
       "                                             tagsTop  \n",
       "0  brawadis|prank|basketball|skits|ghost|funny vi...  \n",
       "1  Apex Legends|Apex Legends characters|new Apex ...  \n",
       "2  jacksepticeye|funny|funny meme|memes|jacksepti...  \n",
       "\n",
       "[3 rows x 21 columns]"
      ]
     },
     "execution_count": 141,
     "metadata": {},
     "output_type": "execute_result"
    }
   ],
   "source": [
    "train_df.head(3)"
   ]
  },
  {
   "cell_type": "markdown",
   "id": "de38ce1e",
   "metadata": {},
   "source": [
    "### Label Encoding "
   ]
  },
  {
   "cell_type": "code",
   "execution_count": 142,
   "id": "3cb4ccfe",
   "metadata": {},
   "outputs": [],
   "source": [
    "from sklearn.preprocessing import LabelEncoder\n",
    "\n",
    "def LE(train, test):\n",
    "    le = LabelEncoder()\n",
    "    for col in train.columns:\n",
    "        if train[col].dtypes == 'object':\n",
    "            train[col] = le.fit_transform(train[col])\n",
    "            le_dict = dict(zip(le.classes_, le.transform(le.classes_)))\n",
    "            test[col] = test[col].apply(lambda x: le_dict.get(x, -1))\n",
    "    return train, test\n",
    "\n",
    "train, test = LE(train_df, test_df)"
   ]
  },
  {
   "cell_type": "code",
   "execution_count": 143,
   "id": "c1362e4b",
   "metadata": {},
   "outputs": [
    {
     "data": {
      "text/html": [
       "<div>\n",
       "<style scoped>\n",
       "    .dataframe tbody tr th:only-of-type {\n",
       "        vertical-align: middle;\n",
       "    }\n",
       "\n",
       "    .dataframe tbody tr th {\n",
       "        vertical-align: top;\n",
       "    }\n",
       "\n",
       "    .dataframe thead th {\n",
       "        text-align: right;\n",
       "    }\n",
       "</style>\n",
       "<table border=\"1\" class=\"dataframe\">\n",
       "  <thead>\n",
       "    <tr style=\"text-align: right;\">\n",
       "      <th></th>\n",
       "      <th>title</th>\n",
       "      <th>channelId</th>\n",
       "      <th>channelTitle</th>\n",
       "      <th>categoryId</th>\n",
       "      <th>trending_date</th>\n",
       "      <th>tags</th>\n",
       "      <th>comments_disabled</th>\n",
       "      <th>ratings_disabled</th>\n",
       "      <th>description</th>\n",
       "      <th>duration_seconds</th>\n",
       "      <th>...</th>\n",
       "      <th>target</th>\n",
       "      <th>date</th>\n",
       "      <th>time</th>\n",
       "      <th>dayofweek</th>\n",
       "      <th>monthsold</th>\n",
       "      <th>channelTitleTop</th>\n",
       "      <th>channelIdTop</th>\n",
       "      <th>titleTop</th>\n",
       "      <th>descriptionTop</th>\n",
       "      <th>tagsTop</th>\n",
       "    </tr>\n",
       "  </thead>\n",
       "  <tbody>\n",
       "    <tr>\n",
       "      <th>0</th>\n",
       "      <td>6257</td>\n",
       "      <td>4292</td>\n",
       "      <td>524</td>\n",
       "      <td>22</td>\n",
       "      <td>8</td>\n",
       "      <td>5406</td>\n",
       "      <td>0</td>\n",
       "      <td>0</td>\n",
       "      <td>10635</td>\n",
       "      <td>NaN</td>\n",
       "      <td>...</td>\n",
       "      <td>0.103596</td>\n",
       "      <td>8</td>\n",
       "      <td>1</td>\n",
       "      <td>1</td>\n",
       "      <td>0</td>\n",
       "      <td>351</td>\n",
       "      <td>2989</td>\n",
       "      <td>2896</td>\n",
       "      <td>4460</td>\n",
       "      <td>2729</td>\n",
       "    </tr>\n",
       "    <tr>\n",
       "      <th>1</th>\n",
       "      <td>1254</td>\n",
       "      <td>109</td>\n",
       "      <td>250</td>\n",
       "      <td>20</td>\n",
       "      <td>8</td>\n",
       "      <td>450</td>\n",
       "      <td>0</td>\n",
       "      <td>0</td>\n",
       "      <td>15981</td>\n",
       "      <td>NaN</td>\n",
       "      <td>...</td>\n",
       "      <td>0.061611</td>\n",
       "      <td>8</td>\n",
       "      <td>1</td>\n",
       "      <td>1</td>\n",
       "      <td>0</td>\n",
       "      <td>163</td>\n",
       "      <td>80</td>\n",
       "      <td>5038</td>\n",
       "      <td>4035</td>\n",
       "      <td>223</td>\n",
       "    </tr>\n",
       "    <tr>\n",
       "      <th>2</th>\n",
       "      <td>6974</td>\n",
       "      <td>2599</td>\n",
       "      <td>4472</td>\n",
       "      <td>24</td>\n",
       "      <td>8</td>\n",
       "      <td>7299</td>\n",
       "      <td>0</td>\n",
       "      <td>0</td>\n",
       "      <td>5732</td>\n",
       "      <td>NaN</td>\n",
       "      <td>...</td>\n",
       "      <td>0.173523</td>\n",
       "      <td>8</td>\n",
       "      <td>1</td>\n",
       "      <td>1</td>\n",
       "      <td>0</td>\n",
       "      <td>3113</td>\n",
       "      <td>1793</td>\n",
       "      <td>3254</td>\n",
       "      <td>2420</td>\n",
       "      <td>3756</td>\n",
       "    </tr>\n",
       "    <tr>\n",
       "      <th>3</th>\n",
       "      <td>16378</td>\n",
       "      <td>2871</td>\n",
       "      <td>4251</td>\n",
       "      <td>10</td>\n",
       "      <td>8</td>\n",
       "      <td>10508</td>\n",
       "      <td>0</td>\n",
       "      <td>0</td>\n",
       "      <td>11800</td>\n",
       "      <td>NaN</td>\n",
       "      <td>...</td>\n",
       "      <td>0.046804</td>\n",
       "      <td>8</td>\n",
       "      <td>1</td>\n",
       "      <td>1</td>\n",
       "      <td>0</td>\n",
       "      <td>2970</td>\n",
       "      <td>1978</td>\n",
       "      <td>5038</td>\n",
       "      <td>4035</td>\n",
       "      <td>1700</td>\n",
       "    </tr>\n",
       "    <tr>\n",
       "      <th>4</th>\n",
       "      <td>15190</td>\n",
       "      <td>1062</td>\n",
       "      <td>2631</td>\n",
       "      <td>26</td>\n",
       "      <td>8</td>\n",
       "      <td>4248</td>\n",
       "      <td>0</td>\n",
       "      <td>0</td>\n",
       "      <td>14405</td>\n",
       "      <td>NaN</td>\n",
       "      <td>...</td>\n",
       "      <td>0.040753</td>\n",
       "      <td>8</td>\n",
       "      <td>5</td>\n",
       "      <td>1</td>\n",
       "      <td>0</td>\n",
       "      <td>1819</td>\n",
       "      <td>717</td>\n",
       "      <td>6981</td>\n",
       "      <td>5993</td>\n",
       "      <td>2147</td>\n",
       "    </tr>\n",
       "  </tbody>\n",
       "</table>\n",
       "<p>5 rows × 21 columns</p>\n",
       "</div>"
      ],
      "text/plain": [
       "   title  channelId  channelTitle  categoryId  trending_date   tags  \\\n",
       "0   6257       4292           524          22              8   5406   \n",
       "1   1254        109           250          20              8    450   \n",
       "2   6974       2599          4472          24              8   7299   \n",
       "3  16378       2871          4251          10              8  10508   \n",
       "4  15190       1062          2631          26              8   4248   \n",
       "\n",
       "   comments_disabled  ratings_disabled  description  duration_seconds  ...  \\\n",
       "0                  0                 0        10635               NaN  ...   \n",
       "1                  0                 0        15981               NaN  ...   \n",
       "2                  0                 0         5732               NaN  ...   \n",
       "3                  0                 0        11800               NaN  ...   \n",
       "4                  0                 0        14405               NaN  ...   \n",
       "\n",
       "     target  date  time  dayofweek  monthsold  channelTitleTop  channelIdTop  \\\n",
       "0  0.103596     8     1          1          0              351          2989   \n",
       "1  0.061611     8     1          1          0              163            80   \n",
       "2  0.173523     8     1          1          0             3113          1793   \n",
       "3  0.046804     8     1          1          0             2970          1978   \n",
       "4  0.040753     8     5          1          0             1819           717   \n",
       "\n",
       "   titleTop  descriptionTop  tagsTop  \n",
       "0      2896            4460     2729  \n",
       "1      5038            4035      223  \n",
       "2      3254            2420     3756  \n",
       "3      5038            4035     1700  \n",
       "4      6981            5993     2147  \n",
       "\n",
       "[5 rows x 21 columns]"
      ]
     },
     "execution_count": 143,
     "metadata": {},
     "output_type": "execute_result"
    }
   ],
   "source": [
    "train.head()"
   ]
  },
  {
   "cell_type": "code",
   "execution_count": 144,
   "id": "ea31e304",
   "metadata": {},
   "outputs": [],
   "source": [
    "train.drop(['title', 'channelId', 'channelTitle', 'description', 'tags'], axis=1, inplace=True)\n",
    "test.drop(['title', 'channelId', 'channelTitle', 'description', 'tags'], axis=1, inplace=True)"
   ]
  },
  {
   "cell_type": "markdown",
   "id": "a9d63700",
   "metadata": {},
   "source": [
    "# Handling missing values"
   ]
  },
  {
   "cell_type": "code",
   "execution_count": 145,
   "id": "1bd7304e",
   "metadata": {},
   "outputs": [],
   "source": [
    "# Replacing missing values with median\n",
    "\n",
    "train['duration_seconds'] = train['duration_seconds'].fillna(train['duration_seconds'].median())\n",
    "test['duration_seconds'] = test['duration_seconds'].fillna(test['duration_seconds'].median())"
   ]
  },
  {
   "cell_type": "code",
   "execution_count": 146,
   "id": "98eb550a",
   "metadata": {},
   "outputs": [
    {
     "data": {
      "text/html": [
       "<div>\n",
       "<style scoped>\n",
       "    .dataframe tbody tr th:only-of-type {\n",
       "        vertical-align: middle;\n",
       "    }\n",
       "\n",
       "    .dataframe tbody tr th {\n",
       "        vertical-align: top;\n",
       "    }\n",
       "\n",
       "    .dataframe thead th {\n",
       "        text-align: right;\n",
       "    }\n",
       "</style>\n",
       "<table border=\"1\" class=\"dataframe\">\n",
       "  <thead>\n",
       "    <tr style=\"text-align: right;\">\n",
       "      <th></th>\n",
       "      <th>categoryId</th>\n",
       "      <th>trending_date</th>\n",
       "      <th>comments_disabled</th>\n",
       "      <th>ratings_disabled</th>\n",
       "      <th>duration_seconds</th>\n",
       "      <th>has_thumbnail</th>\n",
       "      <th>target</th>\n",
       "      <th>date</th>\n",
       "      <th>time</th>\n",
       "      <th>dayofweek</th>\n",
       "      <th>monthsold</th>\n",
       "      <th>channelTitleTop</th>\n",
       "      <th>channelIdTop</th>\n",
       "      <th>titleTop</th>\n",
       "      <th>descriptionTop</th>\n",
       "      <th>tagsTop</th>\n",
       "    </tr>\n",
       "  </thead>\n",
       "  <tbody>\n",
       "    <tr>\n",
       "      <th>0</th>\n",
       "      <td>22</td>\n",
       "      <td>8</td>\n",
       "      <td>0</td>\n",
       "      <td>0</td>\n",
       "      <td>446.0</td>\n",
       "      <td>1</td>\n",
       "      <td>0.103596</td>\n",
       "      <td>8</td>\n",
       "      <td>1</td>\n",
       "      <td>1</td>\n",
       "      <td>0</td>\n",
       "      <td>351</td>\n",
       "      <td>2989</td>\n",
       "      <td>2896</td>\n",
       "      <td>4460</td>\n",
       "      <td>2729</td>\n",
       "    </tr>\n",
       "    <tr>\n",
       "      <th>1</th>\n",
       "      <td>20</td>\n",
       "      <td>8</td>\n",
       "      <td>0</td>\n",
       "      <td>0</td>\n",
       "      <td>446.0</td>\n",
       "      <td>1</td>\n",
       "      <td>0.061611</td>\n",
       "      <td>8</td>\n",
       "      <td>1</td>\n",
       "      <td>1</td>\n",
       "      <td>0</td>\n",
       "      <td>163</td>\n",
       "      <td>80</td>\n",
       "      <td>5038</td>\n",
       "      <td>4035</td>\n",
       "      <td>223</td>\n",
       "    </tr>\n",
       "    <tr>\n",
       "      <th>2</th>\n",
       "      <td>24</td>\n",
       "      <td>8</td>\n",
       "      <td>0</td>\n",
       "      <td>0</td>\n",
       "      <td>446.0</td>\n",
       "      <td>1</td>\n",
       "      <td>0.173523</td>\n",
       "      <td>8</td>\n",
       "      <td>1</td>\n",
       "      <td>1</td>\n",
       "      <td>0</td>\n",
       "      <td>3113</td>\n",
       "      <td>1793</td>\n",
       "      <td>3254</td>\n",
       "      <td>2420</td>\n",
       "      <td>3756</td>\n",
       "    </tr>\n",
       "  </tbody>\n",
       "</table>\n",
       "</div>"
      ],
      "text/plain": [
       "   categoryId  trending_date  comments_disabled  ratings_disabled  \\\n",
       "0          22              8                  0                 0   \n",
       "1          20              8                  0                 0   \n",
       "2          24              8                  0                 0   \n",
       "\n",
       "   duration_seconds  has_thumbnail    target  date  time  dayofweek  \\\n",
       "0             446.0              1  0.103596     8     1          1   \n",
       "1             446.0              1  0.061611     8     1          1   \n",
       "2             446.0              1  0.173523     8     1          1   \n",
       "\n",
       "   monthsold  channelTitleTop  channelIdTop  titleTop  descriptionTop  tagsTop  \n",
       "0          0              351          2989      2896            4460     2729  \n",
       "1          0              163            80      5038            4035      223  \n",
       "2          0             3113          1793      3254            2420     3756  "
      ]
     },
     "execution_count": 146,
     "metadata": {},
     "output_type": "execute_result"
    }
   ],
   "source": [
    "train.head(3)"
   ]
  },
  {
   "cell_type": "code",
   "execution_count": 147,
   "id": "228f00d0",
   "metadata": {},
   "outputs": [
    {
     "data": {
      "text/html": [
       "<div>\n",
       "<style scoped>\n",
       "    .dataframe tbody tr th:only-of-type {\n",
       "        vertical-align: middle;\n",
       "    }\n",
       "\n",
       "    .dataframe tbody tr th {\n",
       "        vertical-align: top;\n",
       "    }\n",
       "\n",
       "    .dataframe thead th {\n",
       "        text-align: right;\n",
       "    }\n",
       "</style>\n",
       "<table border=\"1\" class=\"dataframe\">\n",
       "  <thead>\n",
       "    <tr style=\"text-align: right;\">\n",
       "      <th></th>\n",
       "      <th>categoryId</th>\n",
       "      <th>trending_date</th>\n",
       "      <th>comments_disabled</th>\n",
       "      <th>ratings_disabled</th>\n",
       "      <th>id</th>\n",
       "      <th>duration_seconds</th>\n",
       "      <th>has_thumbnail</th>\n",
       "      <th>date</th>\n",
       "      <th>time</th>\n",
       "      <th>dayofweek</th>\n",
       "      <th>monthsold</th>\n",
       "      <th>channelTitleTop</th>\n",
       "      <th>channelIdTop</th>\n",
       "      <th>titleTop</th>\n",
       "      <th>descriptionTop</th>\n",
       "      <th>tagsTop</th>\n",
       "    </tr>\n",
       "  </thead>\n",
       "  <tbody>\n",
       "    <tr>\n",
       "      <th>0</th>\n",
       "      <td>24</td>\n",
       "      <td>11</td>\n",
       "      <td>0</td>\n",
       "      <td>0</td>\n",
       "      <td>_wNsZEqpKUA_2021-12-01</td>\n",
       "      <td>1335.0</td>\n",
       "      <td>1</td>\n",
       "      <td>11</td>\n",
       "      <td>1</td>\n",
       "      <td>1</td>\n",
       "      <td>0</td>\n",
       "      <td>2877</td>\n",
       "      <td>973</td>\n",
       "      <td>-1</td>\n",
       "      <td>-1</td>\n",
       "      <td>-1</td>\n",
       "    </tr>\n",
       "    <tr>\n",
       "      <th>1</th>\n",
       "      <td>23</td>\n",
       "      <td>11</td>\n",
       "      <td>0</td>\n",
       "      <td>0</td>\n",
       "      <td>2jfbXZiE6Lc_2021-12-01</td>\n",
       "      <td>28.0</td>\n",
       "      <td>1</td>\n",
       "      <td>11</td>\n",
       "      <td>4</td>\n",
       "      <td>0</td>\n",
       "      <td>0</td>\n",
       "      <td>-1</td>\n",
       "      <td>-1</td>\n",
       "      <td>5038</td>\n",
       "      <td>4035</td>\n",
       "      <td>2376</td>\n",
       "    </tr>\n",
       "    <tr>\n",
       "      <th>2</th>\n",
       "      <td>27</td>\n",
       "      <td>11</td>\n",
       "      <td>0</td>\n",
       "      <td>0</td>\n",
       "      <td>F1Hq8eVOMHs_2021-12-01</td>\n",
       "      <td>728.0</td>\n",
       "      <td>1</td>\n",
       "      <td>11</td>\n",
       "      <td>5</td>\n",
       "      <td>1</td>\n",
       "      <td>0</td>\n",
       "      <td>1478</td>\n",
       "      <td>2818</td>\n",
       "      <td>5038</td>\n",
       "      <td>4035</td>\n",
       "      <td>2376</td>\n",
       "    </tr>\n",
       "  </tbody>\n",
       "</table>\n",
       "</div>"
      ],
      "text/plain": [
       "   categoryId  trending_date  comments_disabled  ratings_disabled  \\\n",
       "0          24             11                  0                 0   \n",
       "1          23             11                  0                 0   \n",
       "2          27             11                  0                 0   \n",
       "\n",
       "                       id  duration_seconds  has_thumbnail  date  time  \\\n",
       "0  _wNsZEqpKUA_2021-12-01            1335.0              1    11     1   \n",
       "1  2jfbXZiE6Lc_2021-12-01              28.0              1    11     4   \n",
       "2  F1Hq8eVOMHs_2021-12-01             728.0              1    11     5   \n",
       "\n",
       "   dayofweek  monthsold  channelTitleTop  channelIdTop  titleTop  \\\n",
       "0          1          0             2877           973        -1   \n",
       "1          0          0               -1            -1      5038   \n",
       "2          1          0             1478          2818      5038   \n",
       "\n",
       "   descriptionTop  tagsTop  \n",
       "0              -1       -1  \n",
       "1            4035     2376  \n",
       "2            4035     2376  "
      ]
     },
     "execution_count": 147,
     "metadata": {},
     "output_type": "execute_result"
    }
   ],
   "source": [
    "test.head(3)"
   ]
  },
  {
   "cell_type": "markdown",
   "id": "b85f8a0d",
   "metadata": {},
   "source": [
    "# Scale Numerical Features"
   ]
  },
  {
   "cell_type": "code",
   "execution_count": 148,
   "id": "653d3e5f",
   "metadata": {},
   "outputs": [],
   "source": [
    "num_features = [i for i in train.columns if train[i].dtypes == 'int64' or train[i].dtypes == 'int32' or train[i].dtypes == float]"
   ]
  },
  {
   "cell_type": "code",
   "execution_count": 149,
   "id": "3630bf06",
   "metadata": {},
   "outputs": [],
   "source": [
    "num_features.remove('target')"
   ]
  },
  {
   "cell_type": "code",
   "execution_count": 150,
   "id": "b2af4063",
   "metadata": {},
   "outputs": [],
   "source": [
    "scaler = StandardScaler()\n",
    "\n",
    "train[num_features] = scaler.fit_transform(train[num_features])\n",
    "test[num_features] = scaler.transform(test[num_features])"
   ]
  },
  {
   "cell_type": "code",
   "execution_count": 151,
   "id": "8e678ad4",
   "metadata": {},
   "outputs": [
    {
     "data": {
      "text/html": [
       "<div>\n",
       "<style scoped>\n",
       "    .dataframe tbody tr th:only-of-type {\n",
       "        vertical-align: middle;\n",
       "    }\n",
       "\n",
       "    .dataframe tbody tr th {\n",
       "        vertical-align: top;\n",
       "    }\n",
       "\n",
       "    .dataframe thead th {\n",
       "        text-align: right;\n",
       "    }\n",
       "</style>\n",
       "<table border=\"1\" class=\"dataframe\">\n",
       "  <thead>\n",
       "    <tr style=\"text-align: right;\">\n",
       "      <th></th>\n",
       "      <th>categoryId</th>\n",
       "      <th>trending_date</th>\n",
       "      <th>comments_disabled</th>\n",
       "      <th>ratings_disabled</th>\n",
       "      <th>duration_seconds</th>\n",
       "      <th>has_thumbnail</th>\n",
       "      <th>target</th>\n",
       "      <th>date</th>\n",
       "      <th>time</th>\n",
       "      <th>dayofweek</th>\n",
       "      <th>monthsold</th>\n",
       "      <th>channelTitleTop</th>\n",
       "      <th>channelIdTop</th>\n",
       "      <th>titleTop</th>\n",
       "      <th>descriptionTop</th>\n",
       "      <th>tagsTop</th>\n",
       "    </tr>\n",
       "  </thead>\n",
       "  <tbody>\n",
       "    <tr>\n",
       "      <th>0</th>\n",
       "      <td>0.475737</td>\n",
       "      <td>0.218892</td>\n",
       "      <td>-0.128416</td>\n",
       "      <td>-0.069534</td>\n",
       "      <td>-0.053444</td>\n",
       "      <td>0.376871</td>\n",
       "      <td>0.103596</td>\n",
       "      <td>0.218892</td>\n",
       "      <td>-0.871674</td>\n",
       "      <td>-0.948105</td>\n",
       "      <td>0.0</td>\n",
       "      <td>-1.441281</td>\n",
       "      <td>1.542997</td>\n",
       "      <td>-0.825316</td>\n",
       "      <td>0.335214</td>\n",
       "      <td>0.181618</td>\n",
       "    </tr>\n",
       "    <tr>\n",
       "      <th>1</th>\n",
       "      <td>0.184462</td>\n",
       "      <td>0.218892</td>\n",
       "      <td>-0.128416</td>\n",
       "      <td>-0.069534</td>\n",
       "      <td>-0.053444</td>\n",
       "      <td>0.376871</td>\n",
       "      <td>0.061611</td>\n",
       "      <td>0.218892</td>\n",
       "      <td>-0.871674</td>\n",
       "      <td>-0.948105</td>\n",
       "      <td>0.0</td>\n",
       "      <td>-1.649058</td>\n",
       "      <td>-1.437871</td>\n",
       "      <td>0.338524</td>\n",
       "      <td>0.081844</td>\n",
       "      <td>-1.713501</td>\n",
       "    </tr>\n",
       "    <tr>\n",
       "      <th>2</th>\n",
       "      <td>0.767012</td>\n",
       "      <td>0.218892</td>\n",
       "      <td>-0.128416</td>\n",
       "      <td>-0.069534</td>\n",
       "      <td>-0.053444</td>\n",
       "      <td>0.376871</td>\n",
       "      <td>0.173523</td>\n",
       "      <td>0.218892</td>\n",
       "      <td>-0.871674</td>\n",
       "      <td>-0.948105</td>\n",
       "      <td>0.0</td>\n",
       "      <td>1.611262</td>\n",
       "      <td>0.317450</td>\n",
       "      <td>-0.630800</td>\n",
       "      <td>-0.880960</td>\n",
       "      <td>0.958269</td>\n",
       "    </tr>\n",
       "  </tbody>\n",
       "</table>\n",
       "</div>"
      ],
      "text/plain": [
       "   categoryId  trending_date  comments_disabled  ratings_disabled  \\\n",
       "0    0.475737       0.218892          -0.128416         -0.069534   \n",
       "1    0.184462       0.218892          -0.128416         -0.069534   \n",
       "2    0.767012       0.218892          -0.128416         -0.069534   \n",
       "\n",
       "   duration_seconds  has_thumbnail    target      date      time  dayofweek  \\\n",
       "0         -0.053444       0.376871  0.103596  0.218892 -0.871674  -0.948105   \n",
       "1         -0.053444       0.376871  0.061611  0.218892 -0.871674  -0.948105   \n",
       "2         -0.053444       0.376871  0.173523  0.218892 -0.871674  -0.948105   \n",
       "\n",
       "   monthsold  channelTitleTop  channelIdTop  titleTop  descriptionTop  \\\n",
       "0        0.0        -1.441281      1.542997 -0.825316        0.335214   \n",
       "1        0.0        -1.649058     -1.437871  0.338524        0.081844   \n",
       "2        0.0         1.611262      0.317450 -0.630800       -0.880960   \n",
       "\n",
       "    tagsTop  \n",
       "0  0.181618  \n",
       "1 -1.713501  \n",
       "2  0.958269  "
      ]
     },
     "execution_count": 151,
     "metadata": {},
     "output_type": "execute_result"
    }
   ],
   "source": [
    "train.head(3)"
   ]
  },
  {
   "cell_type": "markdown",
   "id": "ef60c6a4",
   "metadata": {},
   "source": [
    "# Modeling"
   ]
  },
  {
   "cell_type": "code",
   "execution_count": 152,
   "id": "9fec1e57",
   "metadata": {},
   "outputs": [],
   "source": [
    "x = train.drop(['target'], axis=1)\n",
    "y = train['target']"
   ]
  },
  {
   "cell_type": "code",
   "execution_count": 153,
   "id": "093d073c",
   "metadata": {},
   "outputs": [],
   "source": [
    "from sklearn.model_selection import train_test_split, RandomizedSearchCV\n",
    "\n",
    "x_train, x_test, y_train, y_test = train_test_split(x, y, test_size=0.30, random_state=42)"
   ]
  },
  {
   "cell_type": "code",
   "execution_count": 154,
   "id": "96c214c6",
   "metadata": {},
   "outputs": [],
   "source": [
    "from sklearn.linear_model import LinearRegression, Lasso, Ridge\n",
    "from sklearn.metrics import r2_score\n",
    "from sklearn import metrics\n",
    "from sklearn.tree import DecisionTreeRegressor\n",
    "from sklearn.ensemble import RandomForestRegressor, GradientBoostingRegressor\n",
    "from sklearn.svm import SVR\n",
    "from sklearn.model_selection import GridSearchCV\n",
    "from xgboost import XGBRegressor"
   ]
  },
  {
   "cell_type": "code",
   "execution_count": 155,
   "id": "3a36be52",
   "metadata": {},
   "outputs": [],
   "source": [
    "def model_performance(y_pred, original_col, fitted_col, txt):\n",
    "    '''\n",
    "    This is to visualize the model performance.\n",
    "    Parameters: \n",
    "    y_pred - Series of the predicted values\n",
    "    original_col - Color of the actual value line\n",
    "    fitted_col - color of the predicted value line\n",
    "    '''\n",
    "    plt.figure(figsize=(5,5))\n",
    "    ax1 = sns.distplot(y_test, hist=False, color=original_col, label='Actual Value')\n",
    "    sns.distplot(y_pred, hist=False, color=fitted_col, label='Predicted Value', ax=ax1)\n",
    "    plt.title(txt, fontsize=20)"
   ]
  },
  {
   "cell_type": "code",
   "execution_count": 156,
   "id": "9ddbc4dd",
   "metadata": {},
   "outputs": [],
   "source": [
    "def model_score(model, txt):\n",
    "    '''\n",
    "    Printing all the performance metrics:\n",
    "    R2 Square, Mean Absolute, Mean Squared Error, Root Mean Squared Error\n",
    "    \n",
    "    Parameters:\n",
    "    model: Trained Model\n",
    "    txt: To print the results for each model\n",
    "    '''\n",
    "    #Predicting the SalePrices using test set \n",
    "    y_pred = model.predict(x_test)\n",
    "    mae=metrics.mean_absolute_error(y_test, y_pred)\n",
    "    mse=metrics.mean_squared_error(y_test, y_pred)\n",
    "    rmse = metrics.mean_squared_error(y_test, y_pred, squared=False)\n",
    "\n",
    "    # Printing the metrics\n",
    "    print(txt, model.score(x_test,y_test))\n",
    "    print('R2 square:',metrics.r2_score(y_test, y_pred))\n",
    "    print('MAE: ', mae)\n",
    "    print('MSE: ', mse)\n",
    "    print('RMSE: ', rmse)\n",
    "    \n",
    "    return y_pred"
   ]
  },
  {
   "cell_type": "markdown",
   "id": "bcf05f9f",
   "metadata": {},
   "source": [
    "# Random Forest"
   ]
  },
  {
   "cell_type": "code",
   "execution_count": 157,
   "id": "00d7a3a2",
   "metadata": {},
   "outputs": [
    {
     "name": "stdout",
     "output_type": "stream",
     "text": [
      "Random Forest Scores:  0.8760706927021528\n",
      "R2 square: 0.8760706927021528\n",
      "MAE:  0.007323375173510424\n",
      "MSE:  0.00020489238006436242\n",
      "RMSE:  0.01431406231872568\n"
     ]
    }
   ],
   "source": [
    "rf_regressor = RandomForestRegressor(n_estimators = 300 ,  random_state = 0)\n",
    "rf_regressor.fit(x_train,y_train)\n",
    "\n",
    "rf_y_pred = model_score(rf_regressor, 'Random Forest Scores: ')"
   ]
  },
  {
   "cell_type": "code",
   "execution_count": 158,
   "id": "59721b67",
   "metadata": {},
   "outputs": [
    {
     "data": {
      "image/png": "[encoded data removed]",
      "text/plain": [
       "<Figure size 360x360 with 1 Axes>"
      ]
     },
     "metadata": {
      "needs_background": "light"
     },
     "output_type": "display_data"
    }
   ],
   "source": [
    "model_performance(rf_y_pred, 'b', 'r', 'Random Forest')"
   ]
  },
  {
   "cell_type": "markdown",
   "id": "ddec4717",
   "metadata": {},
   "source": [
    "# XGB Regressor"
   ]
  },
  {
   "cell_type": "code",
   "execution_count": 97,
   "id": "a32f59b7",
   "metadata": {},
   "outputs": [
    {
     "name": "stdout",
     "output_type": "stream",
     "text": [
      "Fitting 3 folds for each of 10 candidates, totalling 30 fits\n",
      "Best parameters: {'n_estimators': 600, 'max_depth': 10, 'learning_rate': 0.01, 'colsample_bytree': 0.6000000000000001}\n",
      "Lowest mean squared wrr:  -0.02443639872960775\n"
     ]
    }
   ],
   "source": [
    "params = { 'max_depth': range(3,11,1),\n",
    "           'learning_rate': np.arange(0.01,0.1,0.1),\n",
    "           'n_estimators': np.arange(100,1000,100),\n",
    "           'colsample_bytree': np.arange(0.3, 0.7,0.1)}\n",
    "\n",
    "xgbr = xgb.XGBRegressor(seed = 20)\n",
    "clf = RandomizedSearchCV(estimator=xgbr,\n",
    "                   cv=3,\n",
    "                   param_distributions=params,\n",
    "                   scoring='neg_root_mean_squared_error', \n",
    "                   verbose=1,n_jobs=-1)\n",
    "clf.fit(x_train,y_train)\n",
    "print(\"Best parameters:\", clf.best_params_)\n",
    "print(\"Lowest mean squared wrr: \", (clf.best_score_))"
   ]
  },
  {
   "cell_type": "code",
   "execution_count": 108,
   "id": "1abd9428",
   "metadata": {},
   "outputs": [
    {
     "name": "stdout",
     "output_type": "stream",
     "text": [
      "XGB Regression Scores:  0.639856828786354\n",
      "R2 square: 0.639856828786354\n",
      "MAE:  0.0167928478739647\n",
      "MSE:  0.0005954248686030774\n",
      "RMSE:  0.024401329238446772\n"
     ]
    }
   ],
   "source": [
    "xgb = XGBRegressor( n_estimators = 600 , max_depth=10, learning_rate=0.01, random_state = 0)\n",
    "xgb.fit(x_train,y_train)\n",
    "\n",
    "xgb_y_pred = model_score(xgb, 'XGB Regression Scores: ')"
   ]
  },
  {
   "cell_type": "code",
   "execution_count": 109,
   "id": "d6387146",
   "metadata": {},
   "outputs": [
    {
     "data": {
      "image/png": "[encoded data removed]",
      "text/plain": [
       "<Figure size 360x360 with 1 Axes>"
      ]
     },
     "metadata": {
      "needs_background": "light"
     },
     "output_type": "display_data"
    }
   ],
   "source": [
    "model_performance(xgb_y_pred, 'b', 'r', 'XGB Regression')"
   ]
  },
  {
   "cell_type": "markdown",
   "id": "7d932a57",
   "metadata": {},
   "source": [
    "# Light GBM"
   ]
  },
  {
   "cell_type": "code",
   "execution_count": 105,
   "id": "63ff0ff0",
   "metadata": {},
   "outputs": [
    {
     "name": "stdout",
     "output_type": "stream",
     "text": [
      "Fitting 3 folds for each of 10 candidates, totalling 30 fits\n",
      "Best parameters: {'n_estimators': 900, 'max_depth': 8, 'learning_rate': 0.01, 'colsample_bytree': 0.6000000000000001}\n",
      "Lowest mean squared wrr:  -0.029423335352143514\n"
     ]
    }
   ],
   "source": [
    "import lightgbm as lgb\n",
    "params = { 'max_depth': range(3,11,1),\n",
    "           'learning_rate': np.arange(0.01,0.1,0.1),\n",
    "           'n_estimators': np.arange(100,1000,100),\n",
    "           'colsample_bytree': np.arange(0.3, 0.7,0.1)}\n",
    "\n",
    "xgbr = lgb.LGBMRegressor(seed = 20)\n",
    "clf = RandomizedSearchCV(estimator=xgbr,\n",
    "                   cv=3,\n",
    "                   param_distributions=params,\n",
    "                   scoring='neg_root_mean_squared_error', \n",
    "                   verbose=1,n_jobs=-1)\n",
    "clf.fit(x_train,y_train)\n",
    "print(\"Best parameters:\", clf.best_params_)\n",
    "print(\"Lowest mean squared wrr: \", (clf.best_score_))"
   ]
  },
  {
   "cell_type": "code",
   "execution_count": 159,
   "id": "ef8a8051",
   "metadata": {},
   "outputs": [
    {
     "name": "stdout",
     "output_type": "stream",
     "text": [
      "LGBM Regression Scores:  0.4761754548944309\n",
      "R2 square: 0.4761754548944309\n",
      "MAE:  0.020519598300485647\n",
      "MSE:  0.0008660393584292742\n",
      "RMSE:  0.029428546658461986\n"
     ]
    }
   ],
   "source": [
    "import lightgbm as lgb\n",
    "lgb= lgb.LGBMRegressor(n_estimators = 900 , max_depth=8, learning_rate=0.01, importance_type='gain')\n",
    "lgb.fit(x_train,y_train)\n",
    "\n",
    "lgbm_y_pred = model_score(lgb, 'LGBM Regression Scores: ')"
   ]
  },
  {
   "cell_type": "code",
   "execution_count": 107,
   "id": "18ecac68",
   "metadata": {},
   "outputs": [
    {
     "data": {
      "image/png": "[encoded data removed]",
      "text/plain": [
       "<Figure size 360x360 with 1 Axes>"
      ]
     },
     "metadata": {
      "needs_background": "light"
     },
     "output_type": "display_data"
    }
   ],
   "source": [
    "model_performance(lgbm_y_pred, 'b', 'r', 'LGBM Regression')"
   ]
  },
  {
   "cell_type": "markdown",
   "id": "ba7e7bcc",
   "metadata": {},
   "source": [
    "# Preparing the submission file"
   ]
  },
  {
   "cell_type": "code",
   "execution_count": 115,
   "id": "aa3f7dfb",
   "metadata": {},
   "outputs": [
    {
     "data": {
      "text/plain": [
       "array([0.0628309 , 0.07739081, 0.06805672, ..., 0.0494469 , 0.03776241,\n",
       "       0.0478877 ])"
      ]
     },
     "execution_count": 115,
     "metadata": {},
     "output_type": "execute_result"
    }
   ],
   "source": [
    "test1 = test.drop('id', axis=1)\n",
    "submission = xgb.predict(test1)              # Predict with the best model\n",
    "submission                                   # This contains our predicted values "
   ]
  },
  {
   "cell_type": "code",
   "execution_count": 116,
   "id": "2d90c2b5",
   "metadata": {},
   "outputs": [
    {
     "data": {
      "text/html": [
       "<div>\n",
       "<style scoped>\n",
       "    .dataframe tbody tr th:only-of-type {\n",
       "        vertical-align: middle;\n",
       "    }\n",
       "\n",
       "    .dataframe tbody tr th {\n",
       "        vertical-align: top;\n",
       "    }\n",
       "\n",
       "    .dataframe thead th {\n",
       "        text-align: right;\n",
       "    }\n",
       "</style>\n",
       "<table border=\"1\" class=\"dataframe\">\n",
       "  <thead>\n",
       "    <tr style=\"text-align: right;\">\n",
       "      <th></th>\n",
       "      <th>id</th>\n",
       "      <th>target</th>\n",
       "    </tr>\n",
       "  </thead>\n",
       "  <tbody>\n",
       "    <tr>\n",
       "      <th>0</th>\n",
       "      <td>_wNsZEqpKUA_2021-12-01</td>\n",
       "      <td>0.062831</td>\n",
       "    </tr>\n",
       "    <tr>\n",
       "      <th>1</th>\n",
       "      <td>2jfbXZiE6Lc_2021-12-01</td>\n",
       "      <td>0.077391</td>\n",
       "    </tr>\n",
       "    <tr>\n",
       "      <th>2</th>\n",
       "      <td>F1Hq8eVOMHs_2021-12-01</td>\n",
       "      <td>0.068057</td>\n",
       "    </tr>\n",
       "    <tr>\n",
       "      <th>3</th>\n",
       "      <td>GQXVQmcGQUY_2021-12-01</td>\n",
       "      <td>0.078371</td>\n",
       "    </tr>\n",
       "    <tr>\n",
       "      <th>4</th>\n",
       "      <td>n4XojTb6pfs_2021-12-01</td>\n",
       "      <td>0.083097</td>\n",
       "    </tr>\n",
       "    <tr>\n",
       "      <th>...</th>\n",
       "      <td>...</td>\n",
       "      <td>...</td>\n",
       "    </tr>\n",
       "    <tr>\n",
       "      <th>5795</th>\n",
       "      <td>hJfpCXAMYPM_2021-12-30</td>\n",
       "      <td>0.052552</td>\n",
       "    </tr>\n",
       "    <tr>\n",
       "      <th>5796</th>\n",
       "      <td>MbmTMEYnEzo_2021-12-30</td>\n",
       "      <td>0.063445</td>\n",
       "    </tr>\n",
       "    <tr>\n",
       "      <th>5797</th>\n",
       "      <td>VG7arSAYvQI_2021-12-30</td>\n",
       "      <td>0.049447</td>\n",
       "    </tr>\n",
       "    <tr>\n",
       "      <th>5798</th>\n",
       "      <td>SNb-g-hNYYs_2021-12-30</td>\n",
       "      <td>0.037762</td>\n",
       "    </tr>\n",
       "    <tr>\n",
       "      <th>5799</th>\n",
       "      <td>_-K-sVn8Iko_2021-12-30</td>\n",
       "      <td>0.047888</td>\n",
       "    </tr>\n",
       "  </tbody>\n",
       "</table>\n",
       "<p>5800 rows × 2 columns</p>\n",
       "</div>"
      ],
      "text/plain": [
       "                          id    target\n",
       "0     _wNsZEqpKUA_2021-12-01  0.062831\n",
       "1     2jfbXZiE6Lc_2021-12-01  0.077391\n",
       "2     F1Hq8eVOMHs_2021-12-01  0.068057\n",
       "3     GQXVQmcGQUY_2021-12-01  0.078371\n",
       "4     n4XojTb6pfs_2021-12-01  0.083097\n",
       "...                      ...       ...\n",
       "5795  hJfpCXAMYPM_2021-12-30  0.052552\n",
       "5796  MbmTMEYnEzo_2021-12-30  0.063445\n",
       "5797  VG7arSAYvQI_2021-12-30  0.049447\n",
       "5798  SNb-g-hNYYs_2021-12-30  0.037762\n",
       "5799  _-K-sVn8Iko_2021-12-30  0.047888\n",
       "\n",
       "[5800 rows x 2 columns]"
      ]
     },
     "execution_count": 116,
     "metadata": {},
     "output_type": "execute_result"
    }
   ],
   "source": [
    "# Formatting to create a submission csv file with just the id and target\n",
    "\n",
    "submit = pd.DataFrame()\n",
    "submit['id'] = test['id']\n",
    "submit['target'] = submission\n",
    "submit"
   ]
  },
  {
   "cell_type": "code",
   "execution_count": 117,
   "id": "cf587043",
   "metadata": {},
   "outputs": [],
   "source": [
    "submit.to_csv('submission13.csv', index=False)         # save as csv"
   ]
  },
  {
   "cell_type": "markdown",
   "id": "434655fd",
   "metadata": {},
   "source": [
    "# Save the model"
   ]
  },
  {
   "cell_type": "code",
   "execution_count": 161,
   "id": "d9f4364d",
   "metadata": {},
   "outputs": [
    {
     "data": {
      "text/plain": [
       "['xgb_YT_model.pkl']"
      ]
     },
     "execution_count": 161,
     "metadata": {},
     "output_type": "execute_result"
    }
   ],
   "source": [
    "import joblib\n",
    "\n",
    "# Save the model as a pickle in a file\n",
    "joblib.dump(xgb, 'xgb_YT_model.pkl')"
   ]
  },
  {
   "cell_type": "markdown",
   "id": "736cf18c",
   "metadata": {},
   "source": [
    "# Conclusions"
   ]
  },
  {
   "cell_type": "markdown",
   "id": "a8c30445",
   "metadata": {},
   "source": [
    "There were very few missing data! The publishedAt had a lot of information. We extracted month, timeofday from it for model training. \n",
    "The model comparison tells us that the Random Forest overfitted the train data. Among the rest, the XGB Regressor did better (though a lot of improvement is needed).\n",
    "\n",
    "As the next steps:\n",
    "   1. We can try using different imputation techniques\n",
    "   2. Try different encoding \n",
    "   3. Tune hyperparameters for Randon Forest and compare the results"
   ]
  },
  {
   "cell_type": "markdown",
   "id": "5cc99dee",
   "metadata": {},
   "source": [
    "### This model yeilded a score of 0.02416 (MAE score) on Kaggle submission"
   ]
  }
 ],
 "metadata": {
  "kernelspec": {
   "display_name": "Python 3",
   "language": "python",
   "name": "python3"
  },
  "language_info": {
   "codemirror_mode": {
    "name": "ipython",
    "version": 3
   },
   "file_extension": ".py",
   "mimetype": "text/x-python",
   "name": "python",
   "nbconvert_exporter": "python",
   "pygments_lexer": "ipython3",
   "version": "3.8.8"
  }
 },
 "nbformat": 4,
 "nbformat_minor": 5
}
