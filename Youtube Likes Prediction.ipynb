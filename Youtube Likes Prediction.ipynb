{
 "cells": [
  {
   "cell_type": "markdown",
   "id": "1f17ccf9",
   "metadata": {},
   "source": [
    "## Youtube Likes Prediction"
   ]
  },
  {
   "cell_type": "markdown",
   "id": "52390c0f",
   "metadata": {},
   "source": [
    "### This notebook has been broadly divided into 5 sections:\n",
    "    1. Describing the dataset\n",
    "    2. Initial plan for data exploration\n",
    "    3. Data cleaning and feature engineering\n",
    "    4. Formulating hypothesis about this data\n",
    "    5. Conducting a formal significance test for one of the hypotheses\n",
    "    6. Suggestions for next steps in analyzing this data - Future Scope\n",
    "    7. Summary"
   ]
  },
  {
   "cell_type": "markdown",
   "id": "f2661c1f",
   "metadata": {},
   "source": [
    "### A. Brief description of the data set and a summary of its attributes"
   ]
  },
  {
   "cell_type": "markdown",
   "id": "487820a4",
   "metadata": {},
   "source": [
    "### Introduction"
   ]
  },
  {
   "cell_type": "markdown",
   "id": "cfe60321",
   "metadata": {},
   "source": [
    "I have taken a Kaggle's youtube videos dataset where the target variable is the ratio of likes to view counts.\n",
    "\n",
    "Below are the attributes description:\n",
    "\n",
    "    1. id - Unique Identifier for the row (combindation of video id and trending date)\n",
    "    2. video_id - Unique Identifier for the video\n",
    "    3. title - Title of the Video\n",
    "    4. publishedAt - Datetime the video was published\n",
    "    5. channelId - Id of the channel hosting the video\n",
    "    6. channelTitle - Title of the channel hosting the video\n",
    "    7. categoryId - Video category\n",
    "    8. trending_date - Date on which we are predicting the view count\n",
    "    9. tags - Video Tags\n",
    "    10. view_count - Number of views as of the trending date\n",
    "    11. likes - Number of likes as of the trending date Not provided in the test set\n",
    "    12. dislikes - Number of dislikes Not provided in the test set\n",
    "    13. comment_count Comment Count Not provided in the test set\n",
    "    14. thumbnail_link Link to the thumbnail of the video.\n",
    "    15. comments_disabled True/False if comments are disabled.\n",
    "    16. ratings_disabled True/False if ratings are disabled.\n",
    "    17. duration_seconds The duration of the video.\n",
    "    18. has_thumbnail True/False if the thumbnail is available for the video.\n",
    "    19. description Video description\n",
    "    20. target TARGET COLUMN - this is the ratio of like to view count."
   ]
  },
  {
   "cell_type": "markdown",
   "id": "9849de49",
   "metadata": {},
   "source": [
    "### Importing libraries"
   ]
  },
  {
   "cell_type": "code",
   "execution_count": 17,
   "id": "421ca18c",
   "metadata": {},
   "outputs": [],
   "source": [
    "import pandas as pd\n",
    "import numpy as np\n",
    "import matplotlib.pyplot as plt\n",
    "import seaborn as sns\n",
    "import warnings\n",
    "from scipy import stats\n",
    "\n",
    "warnings.simplefilter('ignore')\n",
    "\n",
    "%matplotlib inline"
   ]
  },
  {
   "cell_type": "markdown",
   "id": "8ecb1098",
   "metadata": {},
   "source": [
    "### Reading the parquet file"
   ]
  },
  {
   "cell_type": "code",
   "execution_count": 2,
   "id": "0748e858",
   "metadata": {},
   "outputs": [
    {
     "data": {
      "text/html": [
       "<div>\n",
       "<style scoped>\n",
       "    .dataframe tbody tr th:only-of-type {\n",
       "        vertical-align: middle;\n",
       "    }\n",
       "\n",
       "    .dataframe tbody tr th {\n",
       "        vertical-align: top;\n",
       "    }\n",
       "\n",
       "    .dataframe thead th {\n",
       "        text-align: right;\n",
       "    }\n",
       "</style>\n",
       "<table border=\"1\" class=\"dataframe\">\n",
       "  <thead>\n",
       "    <tr style=\"text-align: right;\">\n",
       "      <th></th>\n",
       "      <th>video_id</th>\n",
       "      <th>title</th>\n",
       "      <th>publishedAt</th>\n",
       "      <th>channelId</th>\n",
       "      <th>channelTitle</th>\n",
       "      <th>categoryId</th>\n",
       "      <th>trending_date</th>\n",
       "      <th>tags</th>\n",
       "      <th>view_count</th>\n",
       "      <th>likes</th>\n",
       "      <th>dislikes</th>\n",
       "      <th>comment_count</th>\n",
       "      <th>thumbnail_link</th>\n",
       "      <th>comments_disabled</th>\n",
       "      <th>ratings_disabled</th>\n",
       "      <th>description</th>\n",
       "      <th>id</th>\n",
       "      <th>duration_seconds</th>\n",
       "      <th>has_thumbnail</th>\n",
       "      <th>target</th>\n",
       "    </tr>\n",
       "  </thead>\n",
       "  <tbody>\n",
       "    <tr>\n",
       "      <th>0</th>\n",
       "      <td>3C66w5Z0ixs</td>\n",
       "      <td>I ASKED HER TO BE MY GIRLFRIEND...</td>\n",
       "      <td>2020-08-11 19:20:14+00:00</td>\n",
       "      <td>UCvtRTOMP2TqYqu51xNrqAzg</td>\n",
       "      <td>Brawadis</td>\n",
       "      <td>22</td>\n",
       "      <td>2020-08-12</td>\n",
       "      <td>brawadis|prank|basketball|skits|ghost|funny vi...</td>\n",
       "      <td>1514614</td>\n",
       "      <td>156908</td>\n",
       "      <td>5855</td>\n",
       "      <td>35313</td>\n",
       "      <td>https://i.ytimg.com/vi/3C66w5Z0ixs/default.jpg</td>\n",
       "      <td>False</td>\n",
       "      <td>False</td>\n",
       "      <td>SUBSCRIBE to BRAWADIS ▶ http://bit.ly/Subscrib...</td>\n",
       "      <td>3C66w5Z0ixs_2020-08-12</td>\n",
       "      <td>NaN</td>\n",
       "      <td>True</td>\n",
       "      <td>0.103596</td>\n",
       "    </tr>\n",
       "    <tr>\n",
       "      <th>1</th>\n",
       "      <td>M9Pmf9AB4Mo</td>\n",
       "      <td>Apex Legends | Stories from the Outlands – “Th...</td>\n",
       "      <td>2020-08-11 17:00:10+00:00</td>\n",
       "      <td>UC0ZV6M2THA81QT9hrVWJG3A</td>\n",
       "      <td>Apex Legends</td>\n",
       "      <td>20</td>\n",
       "      <td>2020-08-12</td>\n",
       "      <td>Apex Legends|Apex Legends characters|new Apex ...</td>\n",
       "      <td>2381688</td>\n",
       "      <td>146739</td>\n",
       "      <td>2794</td>\n",
       "      <td>16549</td>\n",
       "      <td>https://i.ytimg.com/vi/M9Pmf9AB4Mo/default.jpg</td>\n",
       "      <td>False</td>\n",
       "      <td>False</td>\n",
       "      <td>While running her own modding shop, Ramya Pare...</td>\n",
       "      <td>M9Pmf9AB4Mo_2020-08-12</td>\n",
       "      <td>NaN</td>\n",
       "      <td>True</td>\n",
       "      <td>0.061611</td>\n",
       "    </tr>\n",
       "    <tr>\n",
       "      <th>2</th>\n",
       "      <td>J78aPJ3VyNs</td>\n",
       "      <td>I left youtube for a month and THIS is what ha...</td>\n",
       "      <td>2020-08-11 16:34:06+00:00</td>\n",
       "      <td>UCYzPXprvl5Y-Sf0g4vX-m6g</td>\n",
       "      <td>jacksepticeye</td>\n",
       "      <td>24</td>\n",
       "      <td>2020-08-12</td>\n",
       "      <td>jacksepticeye|funny|funny meme|memes|jacksepti...</td>\n",
       "      <td>2038853</td>\n",
       "      <td>353787</td>\n",
       "      <td>2628</td>\n",
       "      <td>40221</td>\n",
       "      <td>https://i.ytimg.com/vi/J78aPJ3VyNs/default.jpg</td>\n",
       "      <td>False</td>\n",
       "      <td>False</td>\n",
       "      <td>I left youtube for a month and this is what ha...</td>\n",
       "      <td>J78aPJ3VyNs_2020-08-12</td>\n",
       "      <td>NaN</td>\n",
       "      <td>True</td>\n",
       "      <td>0.173523</td>\n",
       "    </tr>\n",
       "    <tr>\n",
       "      <th>3</th>\n",
       "      <td>kXLn3HkpjaA</td>\n",
       "      <td>XXL 2020 Freshman Class Revealed - Official An...</td>\n",
       "      <td>2020-08-11 16:38:55+00:00</td>\n",
       "      <td>UCbg_UMjlHJg_19SZckaKajg</td>\n",
       "      <td>XXL</td>\n",
       "      <td>10</td>\n",
       "      <td>2020-08-12</td>\n",
       "      <td>xxl freshman|xxl freshmen|2020 xxl freshman|20...</td>\n",
       "      <td>496771</td>\n",
       "      <td>23251</td>\n",
       "      <td>1856</td>\n",
       "      <td>7647</td>\n",
       "      <td>https://i.ytimg.com/vi/kXLn3HkpjaA/default.jpg</td>\n",
       "      <td>False</td>\n",
       "      <td>False</td>\n",
       "      <td>Subscribe to XXL → http://bit.ly/subscribe-xxl...</td>\n",
       "      <td>kXLn3HkpjaA_2020-08-12</td>\n",
       "      <td>NaN</td>\n",
       "      <td>True</td>\n",
       "      <td>0.046804</td>\n",
       "    </tr>\n",
       "    <tr>\n",
       "      <th>4</th>\n",
       "      <td>VIUo6yapDbc</td>\n",
       "      <td>Ultimate DIY Home Movie Theater for The LaBran...</td>\n",
       "      <td>2020-08-11 15:10:05+00:00</td>\n",
       "      <td>UCDVPcEbVLQgLZX0Rt6jo34A</td>\n",
       "      <td>Mr. Kate</td>\n",
       "      <td>26</td>\n",
       "      <td>2020-08-12</td>\n",
       "      <td>The LaBrant Family|DIY|Interior Design|Makeove...</td>\n",
       "      <td>1123889</td>\n",
       "      <td>45802</td>\n",
       "      <td>964</td>\n",
       "      <td>2196</td>\n",
       "      <td>https://i.ytimg.com/vi/VIUo6yapDbc/default.jpg</td>\n",
       "      <td>False</td>\n",
       "      <td>False</td>\n",
       "      <td>Transforming The LaBrant Family's empty white ...</td>\n",
       "      <td>VIUo6yapDbc_2020-08-12</td>\n",
       "      <td>NaN</td>\n",
       "      <td>True</td>\n",
       "      <td>0.040753</td>\n",
       "    </tr>\n",
       "  </tbody>\n",
       "</table>\n",
       "</div>"
      ],
      "text/plain": [
       "      video_id                                              title  \\\n",
       "0  3C66w5Z0ixs                 I ASKED HER TO BE MY GIRLFRIEND...   \n",
       "1  M9Pmf9AB4Mo  Apex Legends | Stories from the Outlands – “Th...   \n",
       "2  J78aPJ3VyNs  I left youtube for a month and THIS is what ha...   \n",
       "3  kXLn3HkpjaA  XXL 2020 Freshman Class Revealed - Official An...   \n",
       "4  VIUo6yapDbc  Ultimate DIY Home Movie Theater for The LaBran...   \n",
       "\n",
       "                publishedAt                 channelId   channelTitle  \\\n",
       "0 2020-08-11 19:20:14+00:00  UCvtRTOMP2TqYqu51xNrqAzg       Brawadis   \n",
       "1 2020-08-11 17:00:10+00:00  UC0ZV6M2THA81QT9hrVWJG3A   Apex Legends   \n",
       "2 2020-08-11 16:34:06+00:00  UCYzPXprvl5Y-Sf0g4vX-m6g  jacksepticeye   \n",
       "3 2020-08-11 16:38:55+00:00  UCbg_UMjlHJg_19SZckaKajg            XXL   \n",
       "4 2020-08-11 15:10:05+00:00  UCDVPcEbVLQgLZX0Rt6jo34A       Mr. Kate   \n",
       "\n",
       "   categoryId trending_date  \\\n",
       "0          22    2020-08-12   \n",
       "1          20    2020-08-12   \n",
       "2          24    2020-08-12   \n",
       "3          10    2020-08-12   \n",
       "4          26    2020-08-12   \n",
       "\n",
       "                                                tags  view_count   likes  \\\n",
       "0  brawadis|prank|basketball|skits|ghost|funny vi...     1514614  156908   \n",
       "1  Apex Legends|Apex Legends characters|new Apex ...     2381688  146739   \n",
       "2  jacksepticeye|funny|funny meme|memes|jacksepti...     2038853  353787   \n",
       "3  xxl freshman|xxl freshmen|2020 xxl freshman|20...      496771   23251   \n",
       "4  The LaBrant Family|DIY|Interior Design|Makeove...     1123889   45802   \n",
       "\n",
       "   dislikes  comment_count                                  thumbnail_link  \\\n",
       "0      5855          35313  https://i.ytimg.com/vi/3C66w5Z0ixs/default.jpg   \n",
       "1      2794          16549  https://i.ytimg.com/vi/M9Pmf9AB4Mo/default.jpg   \n",
       "2      2628          40221  https://i.ytimg.com/vi/J78aPJ3VyNs/default.jpg   \n",
       "3      1856           7647  https://i.ytimg.com/vi/kXLn3HkpjaA/default.jpg   \n",
       "4       964           2196  https://i.ytimg.com/vi/VIUo6yapDbc/default.jpg   \n",
       "\n",
       "   comments_disabled  ratings_disabled  \\\n",
       "0              False             False   \n",
       "1              False             False   \n",
       "2              False             False   \n",
       "3              False             False   \n",
       "4              False             False   \n",
       "\n",
       "                                         description                      id  \\\n",
       "0  SUBSCRIBE to BRAWADIS ▶ http://bit.ly/Subscrib...  3C66w5Z0ixs_2020-08-12   \n",
       "1  While running her own modding shop, Ramya Pare...  M9Pmf9AB4Mo_2020-08-12   \n",
       "2  I left youtube for a month and this is what ha...  J78aPJ3VyNs_2020-08-12   \n",
       "3  Subscribe to XXL → http://bit.ly/subscribe-xxl...  kXLn3HkpjaA_2020-08-12   \n",
       "4  Transforming The LaBrant Family's empty white ...  VIUo6yapDbc_2020-08-12   \n",
       "\n",
       "   duration_seconds  has_thumbnail    target  \n",
       "0               NaN           True  0.103596  \n",
       "1               NaN           True  0.061611  \n",
       "2               NaN           True  0.173523  \n",
       "3               NaN           True  0.046804  \n",
       "4               NaN           True  0.040753  "
      ]
     },
     "execution_count": 2,
     "metadata": {},
     "output_type": "execute_result"
    }
   ],
   "source": [
    "df = pd.read_parquet('train.parquet')\n",
    "df.head()"
   ]
  },
  {
   "cell_type": "markdown",
   "id": "52f1dca5",
   "metadata": {},
   "source": [
    "### Row and Col count"
   ]
  },
  {
   "cell_type": "code",
   "execution_count": 3,
   "id": "da63a8d5",
   "metadata": {},
   "outputs": [
    {
     "data": {
      "text/plain": [
       "(92275, 20)"
      ]
     },
     "execution_count": 3,
     "metadata": {},
     "output_type": "execute_result"
    }
   ],
   "source": [
    "df.shape"
   ]
  },
  {
   "cell_type": "markdown",
   "id": "bad7138a",
   "metadata": {},
   "source": [
    "### To see the number of null values and the data types of each attributes"
   ]
  },
  {
   "cell_type": "code",
   "execution_count": 4,
   "id": "0269f3d2",
   "metadata": {},
   "outputs": [
    {
     "name": "stdout",
     "output_type": "stream",
     "text": [
      "<class 'pandas.core.frame.DataFrame'>\n",
      "RangeIndex: 92275 entries, 0 to 92274\n",
      "Data columns (total 20 columns):\n",
      " #   Column             Non-Null Count  Dtype              \n",
      "---  ------             --------------  -----              \n",
      " 0   video_id           92275 non-null  object             \n",
      " 1   title              92275 non-null  object             \n",
      " 2   publishedAt        92275 non-null  datetime64[ns, UTC]\n",
      " 3   channelId          92275 non-null  object             \n",
      " 4   channelTitle       92275 non-null  object             \n",
      " 5   categoryId         92275 non-null  int64              \n",
      " 6   trending_date      92275 non-null  object             \n",
      " 7   tags               92275 non-null  object             \n",
      " 8   view_count         92275 non-null  int64              \n",
      " 9   likes              92275 non-null  int64              \n",
      " 10  dislikes           92275 non-null  int64              \n",
      " 11  comment_count      92275 non-null  int64              \n",
      " 12  thumbnail_link     92275 non-null  object             \n",
      " 13  comments_disabled  92275 non-null  bool               \n",
      " 14  ratings_disabled   92275 non-null  bool               \n",
      " 15  description        90799 non-null  object             \n",
      " 16  id                 92275 non-null  object             \n",
      " 17  duration_seconds   90099 non-null  float64            \n",
      " 18  has_thumbnail      92275 non-null  bool               \n",
      " 19  target             92275 non-null  float64            \n",
      "dtypes: bool(3), datetime64[ns, UTC](1), float64(2), int64(5), object(9)\n",
      "memory usage: 12.2+ MB\n"
     ]
    }
   ],
   "source": [
    "df.info()"
   ]
  },
  {
   "cell_type": "markdown",
   "id": "ee8b3ea1",
   "metadata": {},
   "source": [
    "### Total count of each data type"
   ]
  },
  {
   "cell_type": "code",
   "execution_count": 19,
   "id": "648f428d",
   "metadata": {},
   "outputs": [
    {
     "data": {
      "text/plain": [
       "object                 9\n",
       "int64                  5\n",
       "bool                   3\n",
       "float64                2\n",
       "datetime64[ns, UTC]    1\n",
       "dtype: int64"
      ]
     },
     "execution_count": 19,
     "metadata": {},
     "output_type": "execute_result"
    }
   ],
   "source": [
    "df.dtypes.value_counts()"
   ]
  },
  {
   "cell_type": "markdown",
   "id": "61ec4160",
   "metadata": {},
   "source": [
    "### B. Initial plan for data exploration"
   ]
  },
  {
   "cell_type": "markdown",
   "id": "80d16f2c",
   "metadata": {},
   "source": [
    "1. Visualize the count of True and False values in categorical features: comments_disabled, ratings_disabled and has_thumbnail\n",
    "2. Check the correlation using correlation matrix\n",
    "3. Use boxplot to see the outliers if any\n",
    "4. Use value_counts() and unique() methods for a detailed description of the data in the features\n",
    "5. Draw a histplot on categoryId to see the spread over the different categories\n",
    "6. Use various seaborn visualizations like pairplot, violinplot etc. to understand the data\n",
    "7. Visualize the missing values using heatmap\n",
    "8. Visualize whether the key numerical features are normally distributed"
   ]
  },
  {
   "cell_type": "code",
   "execution_count": 5,
   "id": "9013b1be",
   "metadata": {},
   "outputs": [],
   "source": [
    "bools = ['comments_disabled', 'ratings_disabled', 'has_thumbnail']"
   ]
  },
  {
   "cell_type": "markdown",
   "id": "52303bf5",
   "metadata": {},
   "source": [
    "### 1) Visualize the count of True and False values in categorical features: comments_disabled, ratings_disabled and has_thumbnail"
   ]
  },
  {
   "cell_type": "code",
   "execution_count": 6,
   "id": "4523dea4",
   "metadata": {},
   "outputs": [
    {
     "data": {
      "image/png": "[encoded data removed]",
      "text/plain": [
       "<Figure size 360x360 with 1 Axes>"
      ]
     },
     "metadata": {
      "needs_background": "light"
     },
     "output_type": "display_data"
    },
    {
     "data": {
      "image/png": "[encoded data removed]",
      "text/plain": [
       "<Figure size 360x360 with 1 Axes>"
      ]
     },
     "metadata": {
      "needs_background": "light"
     },
     "output_type": "display_data"
    },
    {
     "data": {
      "image/png": "[encoded data removed]",
      "text/plain": [
       "<Figure size 360x360 with 1 Axes>"
      ]
     },
     "metadata": {
      "needs_background": "light"
     },
     "output_type": "display_data"
    }
   ],
   "source": [
    "for i in bools:\n",
    "    plt.figure(figsize=(5,5))\n",
    "    sns.countplot(df[i])\n",
    "    plt.show()"
   ]
  },
  {
   "cell_type": "markdown",
   "id": "dad521fa",
   "metadata": {},
   "source": [
    "### 2) Check the correlation using correlation matrix"
   ]
  },
  {
   "cell_type": "code",
   "execution_count": 7,
   "id": "fbb5ab18",
   "metadata": {},
   "outputs": [
    {
     "data": {
      "image/png": "[encoded data removed]",
      "text/plain": [
       "<Figure size 432x288 with 2 Axes>"
      ]
     },
     "metadata": {
      "needs_background": "light"
     },
     "output_type": "display_data"
    }
   ],
   "source": [
    "corr_df = df.iloc[:,8:12]\n",
    "sns.heatmap(corr_df.corr())\n",
    "plt.title('correlation matrix', fontsize=20)\n",
    "plt.show()"
   ]
  },
  {
   "cell_type": "markdown",
   "id": "42e3f492",
   "metadata": {},
   "source": [
    "### 3) Use boxplot to see the outliers if any"
   ]
  },
  {
   "cell_type": "code",
   "execution_count": 8,
   "id": "c66a5b03",
   "metadata": {},
   "outputs": [
    {
     "data": {
      "image/png": "[encoded data removed]",
      "text/plain": [
       "<Figure size 576x360 with 1 Axes>"
      ]
     },
     "metadata": {
      "needs_background": "light"
     },
     "output_type": "display_data"
    }
   ],
   "source": [
    "plt.figure(figsize=(8,5))\n",
    "sns.boxplot(df['target'], color='yellow')\n",
    "plt.show()"
   ]
  },
  {
   "cell_type": "markdown",
   "id": "cf76bcd3",
   "metadata": {},
   "source": [
    "### 4)  Use value_counts() and unique() methods for a detailed description of the data in the features"
   ]
  },
  {
   "cell_type": "code",
   "execution_count": 9,
   "id": "b4558bd2",
   "metadata": {},
   "outputs": [
    {
     "name": "stdout",
     "output_type": "stream",
     "text": [
      "\u001b[1;4;34mchannelTitle\u001b[0m\n",
      "['Brawadis' 'Apex Legends' 'jacksepticeye' ... 'fastASMR'\n",
      " 'IGoByLotsOfNames' 'WickedBinge']\n",
      "NFL                 612\n",
      "NBA                 564\n",
      "SSSniperWolf        480\n",
      "MrBeast Gaming      380\n",
      "SSundee             360\n",
      "                   ... \n",
      "DIY Perks             1\n",
      "Galantis              1\n",
      "Michaels Stores       1\n",
      "fastASMR              1\n",
      "Jerry Production      1\n",
      "Name: channelTitle, Length: 4632, dtype: int64\n",
      "\n",
      "\n",
      "\u001b[1;4;34mcategoryId\u001b[0m\n",
      "[22 20 24 10 26 27 23 28  1 25 17 19 15  2 29]\n",
      "24    18522\n",
      "10    16967\n",
      "20    15593\n",
      "17    10034\n",
      "22     8040\n",
      "23     5126\n",
      "1      3514\n",
      "25     3430\n",
      "28     3326\n",
      "26     3039\n",
      "27     2044\n",
      "2      1668\n",
      "15      504\n",
      "19      385\n",
      "29       83\n",
      "Name: categoryId, dtype: int64\n",
      "\n",
      "\n"
     ]
    }
   ],
   "source": [
    "from simple_colors import *\n",
    "\n",
    "for i in ['channelTitle', 'categoryId']:\n",
    "    print(blue(i, ['bold', 'underlined']))\n",
    "    print(df[i].unique())\n",
    "    print(df[i].value_counts())\n",
    "    print('\\n')"
   ]
  },
  {
   "cell_type": "markdown",
   "id": "4b97927c",
   "metadata": {},
   "source": [
    "### 5) Draw a histplot on categoryId to see the spread over the different categories"
   ]
  },
  {
   "cell_type": "code",
   "execution_count": 10,
   "id": "03b0895e",
   "metadata": {},
   "outputs": [
    {
     "data": {
      "image/png": "[encoded data removed]",
      "text/plain": [
       "<Figure size 720x360 with 1 Axes>"
      ]
     },
     "metadata": {
      "needs_background": "light"
     },
     "output_type": "display_data"
    }
   ],
   "source": [
    "plt.figure(figsize=(10,5))\n",
    "sns.barplot(x='categoryId', y=\"likes\", data=df.sort_values(by='categoryId', ascending=False))\n",
    "plt.xticks(rotation=90)\n",
    "plt.tight_layout()\n",
    "plt.show()"
   ]
  },
  {
   "cell_type": "code",
   "execution_count": 11,
   "id": "52ddd103",
   "metadata": {},
   "outputs": [
    {
     "data": {
      "image/png": "[encoded data removed]",
      "text/plain": [
       "<Figure size 720x648 with 1 Axes>"
      ]
     },
     "metadata": {
      "needs_background": "light"
     },
     "output_type": "display_data"
    }
   ],
   "source": [
    "plt.figure(figsize=(10,9))\n",
    "sns.scatterplot(x='categoryId', y='likes', data=df, legend='brief', color='maroon')\n",
    "plt.show()"
   ]
  },
  {
   "cell_type": "markdown",
   "id": "09b1304e",
   "metadata": {},
   "source": [
    "### 6) Use various seaborn visualizations like pairplot, violinplot etc. to understand the data"
   ]
  },
  {
   "cell_type": "code",
   "execution_count": 12,
   "id": "8b3f7241",
   "metadata": {},
   "outputs": [
    {
     "data": {
      "text/plain": [
       "<seaborn.axisgrid.PairGrid at 0x28b8727edc0>"
      ]
     },
     "execution_count": 12,
     "metadata": {},
     "output_type": "execute_result"
    },
    {
     "data": {
      "image/png": "[encoded data removed]",
      "text/plain": [
       "<Figure size 720x720 with 20 Axes>"
      ]
     },
     "metadata": {
      "needs_background": "light"
     },
     "output_type": "display_data"
    }
   ],
   "source": [
    "sliced_df = df.iloc[:, 8:12]\n",
    "sns.pairplot(sliced_df)"
   ]
  },
  {
   "cell_type": "code",
   "execution_count": 13,
   "id": "155942ef",
   "metadata": {},
   "outputs": [
    {
     "data": {
      "text/plain": [
       "<AxesSubplot:xlabel='categoryId'>"
      ]
     },
     "execution_count": 13,
     "metadata": {},
     "output_type": "execute_result"
    },
    {
     "data": {
      "image/png": "[encoded data removed]",
      "text/plain": [
       "<Figure size 432x288 with 1 Axes>"
      ]
     },
     "metadata": {
      "needs_background": "light"
     },
     "output_type": "display_data"
    }
   ],
   "source": [
    "sns.violinplot(df['categoryId'], orient='h', color='red')"
   ]
  },
  {
   "cell_type": "markdown",
   "id": "8688e0bd",
   "metadata": {},
   "source": [
    "### 7) Visualize the missing values using heatmap"
   ]
  },
  {
   "cell_type": "code",
   "execution_count": 14,
   "id": "6f2ae759",
   "metadata": {},
   "outputs": [
    {
     "data": {
      "image/png": "[encoded data removed]",
      "text/plain": [
       "<Figure size 1080x360 with 2 Axes>"
      ]
     },
     "metadata": {
      "needs_background": "light"
     },
     "output_type": "display_data"
    }
   ],
   "source": [
    "plt.figure(figsize = (15,5))\n",
    "sns.heatmap(df.isna().values, cmap = ['#800080','#FFFACD'], xticklabels=df.columns)\n",
    "plt.title(\"Missing values in the Dataset\", size=15);"
   ]
  },
  {
   "cell_type": "markdown",
   "id": "cf3fae0a",
   "metadata": {},
   "source": [
    "### 8) Visualize whether the key numerical features are normally distributed"
   ]
  },
  {
   "cell_type": "code",
   "execution_count": 20,
   "id": "77a5888c",
   "metadata": {},
   "outputs": [],
   "source": [
    "import pylab\n",
    "def normality(data,feature):\n",
    "    plt.figure(figsize=(10,5))\n",
    "    plt.subplot(1,2,1)\n",
    "    sns.kdeplot(data[feature])\n",
    "    plt.subplot(1,2,2)\n",
    "    stats.probplot(data[feature],plot=pylab)\n",
    "    plt.show()"
   ]
  },
  {
   "cell_type": "code",
   "execution_count": 21,
   "id": "4bc99e99",
   "metadata": {},
   "outputs": [
    {
     "data": {
      "image/png": "[encoded data removed]",
      "text/plain": [
       "<Figure size 720x360 with 2 Axes>"
      ]
     },
     "metadata": {
      "needs_background": "light"
     },
     "output_type": "display_data"
    }
   ],
   "source": [
    "normality(df, 'view_count')"
   ]
  },
  {
   "cell_type": "code",
   "execution_count": 23,
   "id": "4139b1be",
   "metadata": {},
   "outputs": [
    {
     "data": {
      "image/png": "[encoded data removed]",
      "text/plain": [
       "<Figure size 720x360 with 2 Axes>"
      ]
     },
     "metadata": {
      "needs_background": "light"
     },
     "output_type": "display_data"
    }
   ],
   "source": [
    "normality(df, 'comment_count')"
   ]
  },
  {
   "cell_type": "markdown",
   "id": "5021dfcd",
   "metadata": {},
   "source": [
    "Both the features have highly right-skewed distribution. We can use different transformation techniques to transform these into normally distributed data. Commonly used transformation methods:\n",
    "\n",
    "    1. Log\n",
    "    2. Square Root\n",
    "    3. Box-cox\n",
    "    4. Reciprocal\n",
    "    5. Exponential"
   ]
  },
  {
   "cell_type": "markdown",
   "id": "9db35ba1",
   "metadata": {},
   "source": [
    "### C. Actions taken for data cleaning and feature engineering"
   ]
  },
  {
   "cell_type": "markdown",
   "id": "c3f5dd3b",
   "metadata": {},
   "source": [
    "1. Remove unnecessary or redundant columns\n",
    "2. Impute the missing values for duration_seconds features\n",
    "3. Encoding techniques on categorical features: comments_disabled, ratings_disabled and has_thumbnail\n",
    "4. Extract date and time from publishedAt column\n",
    "5. Categorize the values in PublishedTime column into 4 categories: Morning, Noon, Evening, Night\n",
    "6. Extract another column as net_likes which will be the difference between the likes and dislikes columns\n",
    "7. Transform view_count feature into normally distributed data"
   ]
  },
  {
   "cell_type": "markdown",
   "id": "132bcd20",
   "metadata": {},
   "source": [
    "### 1) Remove unnecessary or redundant columns"
   ]
  },
  {
   "cell_type": "markdown",
   "id": "bd11d070",
   "metadata": {},
   "source": [
    "To avoid model overfitting, getting rid of unnecessary and redundant attributes, for example id and description, is important"
   ]
  },
  {
   "cell_type": "markdown",
   "id": "b4e2bcbd",
   "metadata": {},
   "source": [
    "### Checking number of unique values per column"
   ]
  },
  {
   "cell_type": "code",
   "execution_count": 25,
   "id": "29c69226",
   "metadata": {},
   "outputs": [
    {
     "name": "stdout",
     "output_type": "stream",
     "text": [
      "video_id = 16969\n",
      "title = 17321\n",
      "publishedAt = 16692\n",
      "channelId = 4563\n",
      "channelTitle = 4632\n",
      "categoryId = 15\n",
      "trending_date = 461\n",
      "tags = 12891\n",
      "view_count = 90915\n",
      "likes = 71880\n",
      "dislikes = 12805\n",
      "comment_count = 25556\n",
      "thumbnail_link = 16969\n",
      "comments_disabled = 2\n",
      "ratings_disabled = 2\n",
      "description = 17704\n",
      "id = 92275\n",
      "duration_seconds = 2328\n",
      "has_thumbnail = 2\n",
      "target = 91831\n"
     ]
    }
   ],
   "source": [
    "for i in df.columns:\n",
    "    print(i, '=', len(df[i].unique()))"
   ]
  },
  {
   "cell_type": "markdown",
   "id": "873fa462",
   "metadata": {},
   "source": [
    "### Dropping the columns with huge number of unique values and the ones which does not provide relevant information as it won't be useful for model training"
   ]
  },
  {
   "cell_type": "code",
   "execution_count": 26,
   "id": "b4ce657f",
   "metadata": {},
   "outputs": [
    {
     "data": {
      "text/html": [
       "<div>\n",
       "<style scoped>\n",
       "    .dataframe tbody tr th:only-of-type {\n",
       "        vertical-align: middle;\n",
       "    }\n",
       "\n",
       "    .dataframe tbody tr th {\n",
       "        vertical-align: top;\n",
       "    }\n",
       "\n",
       "    .dataframe thead th {\n",
       "        text-align: right;\n",
       "    }\n",
       "</style>\n",
       "<table border=\"1\" class=\"dataframe\">\n",
       "  <thead>\n",
       "    <tr style=\"text-align: right;\">\n",
       "      <th></th>\n",
       "      <th>publishedAt</th>\n",
       "      <th>channelTitle</th>\n",
       "      <th>categoryId</th>\n",
       "      <th>trending_date</th>\n",
       "      <th>tags</th>\n",
       "      <th>view_count</th>\n",
       "      <th>likes</th>\n",
       "      <th>dislikes</th>\n",
       "      <th>comment_count</th>\n",
       "      <th>comments_disabled</th>\n",
       "      <th>ratings_disabled</th>\n",
       "      <th>id</th>\n",
       "      <th>duration_seconds</th>\n",
       "      <th>has_thumbnail</th>\n",
       "      <th>target</th>\n",
       "    </tr>\n",
       "  </thead>\n",
       "  <tbody>\n",
       "    <tr>\n",
       "      <th>0</th>\n",
       "      <td>2020-08-11 19:20:14+00:00</td>\n",
       "      <td>Brawadis</td>\n",
       "      <td>22</td>\n",
       "      <td>2020-08-12</td>\n",
       "      <td>brawadis|prank|basketball|skits|ghost|funny vi...</td>\n",
       "      <td>1514614</td>\n",
       "      <td>156908</td>\n",
       "      <td>5855</td>\n",
       "      <td>35313</td>\n",
       "      <td>False</td>\n",
       "      <td>False</td>\n",
       "      <td>3C66w5Z0ixs_2020-08-12</td>\n",
       "      <td>NaN</td>\n",
       "      <td>True</td>\n",
       "      <td>0.103596</td>\n",
       "    </tr>\n",
       "    <tr>\n",
       "      <th>1</th>\n",
       "      <td>2020-08-11 17:00:10+00:00</td>\n",
       "      <td>Apex Legends</td>\n",
       "      <td>20</td>\n",
       "      <td>2020-08-12</td>\n",
       "      <td>Apex Legends|Apex Legends characters|new Apex ...</td>\n",
       "      <td>2381688</td>\n",
       "      <td>146739</td>\n",
       "      <td>2794</td>\n",
       "      <td>16549</td>\n",
       "      <td>False</td>\n",
       "      <td>False</td>\n",
       "      <td>M9Pmf9AB4Mo_2020-08-12</td>\n",
       "      <td>NaN</td>\n",
       "      <td>True</td>\n",
       "      <td>0.061611</td>\n",
       "    </tr>\n",
       "    <tr>\n",
       "      <th>2</th>\n",
       "      <td>2020-08-11 16:34:06+00:00</td>\n",
       "      <td>jacksepticeye</td>\n",
       "      <td>24</td>\n",
       "      <td>2020-08-12</td>\n",
       "      <td>jacksepticeye|funny|funny meme|memes|jacksepti...</td>\n",
       "      <td>2038853</td>\n",
       "      <td>353787</td>\n",
       "      <td>2628</td>\n",
       "      <td>40221</td>\n",
       "      <td>False</td>\n",
       "      <td>False</td>\n",
       "      <td>J78aPJ3VyNs_2020-08-12</td>\n",
       "      <td>NaN</td>\n",
       "      <td>True</td>\n",
       "      <td>0.173523</td>\n",
       "    </tr>\n",
       "    <tr>\n",
       "      <th>3</th>\n",
       "      <td>2020-08-11 16:38:55+00:00</td>\n",
       "      <td>XXL</td>\n",
       "      <td>10</td>\n",
       "      <td>2020-08-12</td>\n",
       "      <td>xxl freshman|xxl freshmen|2020 xxl freshman|20...</td>\n",
       "      <td>496771</td>\n",
       "      <td>23251</td>\n",
       "      <td>1856</td>\n",
       "      <td>7647</td>\n",
       "      <td>False</td>\n",
       "      <td>False</td>\n",
       "      <td>kXLn3HkpjaA_2020-08-12</td>\n",
       "      <td>NaN</td>\n",
       "      <td>True</td>\n",
       "      <td>0.046804</td>\n",
       "    </tr>\n",
       "    <tr>\n",
       "      <th>4</th>\n",
       "      <td>2020-08-11 15:10:05+00:00</td>\n",
       "      <td>Mr. Kate</td>\n",
       "      <td>26</td>\n",
       "      <td>2020-08-12</td>\n",
       "      <td>The LaBrant Family|DIY|Interior Design|Makeove...</td>\n",
       "      <td>1123889</td>\n",
       "      <td>45802</td>\n",
       "      <td>964</td>\n",
       "      <td>2196</td>\n",
       "      <td>False</td>\n",
       "      <td>False</td>\n",
       "      <td>VIUo6yapDbc_2020-08-12</td>\n",
       "      <td>NaN</td>\n",
       "      <td>True</td>\n",
       "      <td>0.040753</td>\n",
       "    </tr>\n",
       "  </tbody>\n",
       "</table>\n",
       "</div>"
      ],
      "text/plain": [
       "                publishedAt   channelTitle  categoryId trending_date  \\\n",
       "0 2020-08-11 19:20:14+00:00       Brawadis          22    2020-08-12   \n",
       "1 2020-08-11 17:00:10+00:00   Apex Legends          20    2020-08-12   \n",
       "2 2020-08-11 16:34:06+00:00  jacksepticeye          24    2020-08-12   \n",
       "3 2020-08-11 16:38:55+00:00            XXL          10    2020-08-12   \n",
       "4 2020-08-11 15:10:05+00:00       Mr. Kate          26    2020-08-12   \n",
       "\n",
       "                                                tags  view_count   likes  \\\n",
       "0  brawadis|prank|basketball|skits|ghost|funny vi...     1514614  156908   \n",
       "1  Apex Legends|Apex Legends characters|new Apex ...     2381688  146739   \n",
       "2  jacksepticeye|funny|funny meme|memes|jacksepti...     2038853  353787   \n",
       "3  xxl freshman|xxl freshmen|2020 xxl freshman|20...      496771   23251   \n",
       "4  The LaBrant Family|DIY|Interior Design|Makeove...     1123889   45802   \n",
       "\n",
       "   dislikes  comment_count  comments_disabled  ratings_disabled  \\\n",
       "0      5855          35313              False             False   \n",
       "1      2794          16549              False             False   \n",
       "2      2628          40221              False             False   \n",
       "3      1856           7647              False             False   \n",
       "4       964           2196              False             False   \n",
       "\n",
       "                       id  duration_seconds  has_thumbnail    target  \n",
       "0  3C66w5Z0ixs_2020-08-12               NaN           True  0.103596  \n",
       "1  M9Pmf9AB4Mo_2020-08-12               NaN           True  0.061611  \n",
       "2  J78aPJ3VyNs_2020-08-12               NaN           True  0.173523  \n",
       "3  kXLn3HkpjaA_2020-08-12               NaN           True  0.046804  \n",
       "4  VIUo6yapDbc_2020-08-12               NaN           True  0.040753  "
      ]
     },
     "execution_count": 26,
     "metadata": {},
     "output_type": "execute_result"
    }
   ],
   "source": [
    "drop_cols = ['video_id', 'channelId', 'title', 'thumbnail_link', 'description']\n",
    "short_df = df.drop(drop_cols, axis=1)\n",
    "short_df.head()"
   ]
  },
  {
   "cell_type": "markdown",
   "id": "60afbeb9",
   "metadata": {},
   "source": [
    "### Dropping the target column as well as it is the ratio between likes and view_count and as view_count is provided in the test set our task is just to predict the likes"
   ]
  },
  {
   "cell_type": "code",
   "execution_count": 27,
   "id": "54d9b03a",
   "metadata": {},
   "outputs": [
    {
     "data": {
      "text/html": [
       "<div>\n",
       "<style scoped>\n",
       "    .dataframe tbody tr th:only-of-type {\n",
       "        vertical-align: middle;\n",
       "    }\n",
       "\n",
       "    .dataframe tbody tr th {\n",
       "        vertical-align: top;\n",
       "    }\n",
       "\n",
       "    .dataframe thead th {\n",
       "        text-align: right;\n",
       "    }\n",
       "</style>\n",
       "<table border=\"1\" class=\"dataframe\">\n",
       "  <thead>\n",
       "    <tr style=\"text-align: right;\">\n",
       "      <th></th>\n",
       "      <th>publishedAt</th>\n",
       "      <th>channelTitle</th>\n",
       "      <th>categoryId</th>\n",
       "      <th>trending_date</th>\n",
       "      <th>tags</th>\n",
       "      <th>view_count</th>\n",
       "      <th>likes</th>\n",
       "      <th>dislikes</th>\n",
       "      <th>comment_count</th>\n",
       "      <th>comments_disabled</th>\n",
       "      <th>ratings_disabled</th>\n",
       "      <th>id</th>\n",
       "      <th>duration_seconds</th>\n",
       "      <th>has_thumbnail</th>\n",
       "    </tr>\n",
       "  </thead>\n",
       "  <tbody>\n",
       "    <tr>\n",
       "      <th>0</th>\n",
       "      <td>2020-08-11 19:20:14+00:00</td>\n",
       "      <td>Brawadis</td>\n",
       "      <td>22</td>\n",
       "      <td>2020-08-12</td>\n",
       "      <td>brawadis|prank|basketball|skits|ghost|funny vi...</td>\n",
       "      <td>1514614</td>\n",
       "      <td>156908</td>\n",
       "      <td>5855</td>\n",
       "      <td>35313</td>\n",
       "      <td>False</td>\n",
       "      <td>False</td>\n",
       "      <td>3C66w5Z0ixs_2020-08-12</td>\n",
       "      <td>NaN</td>\n",
       "      <td>True</td>\n",
       "    </tr>\n",
       "    <tr>\n",
       "      <th>1</th>\n",
       "      <td>2020-08-11 17:00:10+00:00</td>\n",
       "      <td>Apex Legends</td>\n",
       "      <td>20</td>\n",
       "      <td>2020-08-12</td>\n",
       "      <td>Apex Legends|Apex Legends characters|new Apex ...</td>\n",
       "      <td>2381688</td>\n",
       "      <td>146739</td>\n",
       "      <td>2794</td>\n",
       "      <td>16549</td>\n",
       "      <td>False</td>\n",
       "      <td>False</td>\n",
       "      <td>M9Pmf9AB4Mo_2020-08-12</td>\n",
       "      <td>NaN</td>\n",
       "      <td>True</td>\n",
       "    </tr>\n",
       "    <tr>\n",
       "      <th>2</th>\n",
       "      <td>2020-08-11 16:34:06+00:00</td>\n",
       "      <td>jacksepticeye</td>\n",
       "      <td>24</td>\n",
       "      <td>2020-08-12</td>\n",
       "      <td>jacksepticeye|funny|funny meme|memes|jacksepti...</td>\n",
       "      <td>2038853</td>\n",
       "      <td>353787</td>\n",
       "      <td>2628</td>\n",
       "      <td>40221</td>\n",
       "      <td>False</td>\n",
       "      <td>False</td>\n",
       "      <td>J78aPJ3VyNs_2020-08-12</td>\n",
       "      <td>NaN</td>\n",
       "      <td>True</td>\n",
       "    </tr>\n",
       "    <tr>\n",
       "      <th>3</th>\n",
       "      <td>2020-08-11 16:38:55+00:00</td>\n",
       "      <td>XXL</td>\n",
       "      <td>10</td>\n",
       "      <td>2020-08-12</td>\n",
       "      <td>xxl freshman|xxl freshmen|2020 xxl freshman|20...</td>\n",
       "      <td>496771</td>\n",
       "      <td>23251</td>\n",
       "      <td>1856</td>\n",
       "      <td>7647</td>\n",
       "      <td>False</td>\n",
       "      <td>False</td>\n",
       "      <td>kXLn3HkpjaA_2020-08-12</td>\n",
       "      <td>NaN</td>\n",
       "      <td>True</td>\n",
       "    </tr>\n",
       "    <tr>\n",
       "      <th>4</th>\n",
       "      <td>2020-08-11 15:10:05+00:00</td>\n",
       "      <td>Mr. Kate</td>\n",
       "      <td>26</td>\n",
       "      <td>2020-08-12</td>\n",
       "      <td>The LaBrant Family|DIY|Interior Design|Makeove...</td>\n",
       "      <td>1123889</td>\n",
       "      <td>45802</td>\n",
       "      <td>964</td>\n",
       "      <td>2196</td>\n",
       "      <td>False</td>\n",
       "      <td>False</td>\n",
       "      <td>VIUo6yapDbc_2020-08-12</td>\n",
       "      <td>NaN</td>\n",
       "      <td>True</td>\n",
       "    </tr>\n",
       "  </tbody>\n",
       "</table>\n",
       "</div>"
      ],
      "text/plain": [
       "                publishedAt   channelTitle  categoryId trending_date  \\\n",
       "0 2020-08-11 19:20:14+00:00       Brawadis          22    2020-08-12   \n",
       "1 2020-08-11 17:00:10+00:00   Apex Legends          20    2020-08-12   \n",
       "2 2020-08-11 16:34:06+00:00  jacksepticeye          24    2020-08-12   \n",
       "3 2020-08-11 16:38:55+00:00            XXL          10    2020-08-12   \n",
       "4 2020-08-11 15:10:05+00:00       Mr. Kate          26    2020-08-12   \n",
       "\n",
       "                                                tags  view_count   likes  \\\n",
       "0  brawadis|prank|basketball|skits|ghost|funny vi...     1514614  156908   \n",
       "1  Apex Legends|Apex Legends characters|new Apex ...     2381688  146739   \n",
       "2  jacksepticeye|funny|funny meme|memes|jacksepti...     2038853  353787   \n",
       "3  xxl freshman|xxl freshmen|2020 xxl freshman|20...      496771   23251   \n",
       "4  The LaBrant Family|DIY|Interior Design|Makeove...     1123889   45802   \n",
       "\n",
       "   dislikes  comment_count  comments_disabled  ratings_disabled  \\\n",
       "0      5855          35313              False             False   \n",
       "1      2794          16549              False             False   \n",
       "2      2628          40221              False             False   \n",
       "3      1856           7647              False             False   \n",
       "4       964           2196              False             False   \n",
       "\n",
       "                       id  duration_seconds  has_thumbnail  \n",
       "0  3C66w5Z0ixs_2020-08-12               NaN           True  \n",
       "1  M9Pmf9AB4Mo_2020-08-12               NaN           True  \n",
       "2  J78aPJ3VyNs_2020-08-12               NaN           True  \n",
       "3  kXLn3HkpjaA_2020-08-12               NaN           True  \n",
       "4  VIUo6yapDbc_2020-08-12               NaN           True  "
      ]
     },
     "execution_count": 27,
     "metadata": {},
     "output_type": "execute_result"
    }
   ],
   "source": [
    "short_df.drop('target', axis=1, inplace=True)\n",
    "short_df.head()"
   ]
  },
  {
   "cell_type": "markdown",
   "id": "12ceef2b",
   "metadata": {},
   "source": [
    "### 2) Impute the missing values for duration_seconds features"
   ]
  },
  {
   "cell_type": "code",
   "execution_count": 28,
   "id": "70624c70",
   "metadata": {},
   "outputs": [
    {
     "data": {
      "image/png": "[encoded data removed]",
      "text/plain": [
       "<Figure size 432x288 with 1 Axes>"
      ]
     },
     "metadata": {
      "needs_background": "light"
     },
     "output_type": "display_data"
    }
   ],
   "source": [
    "sns.boxplot(short_df['duration_seconds'])\n",
    "plt.show()"
   ]
  },
  {
   "cell_type": "code",
   "execution_count": 29,
   "id": "c8388c05",
   "metadata": {},
   "outputs": [
    {
     "data": {
      "image/png": "[encoded data removed]",
      "text/plain": [
       "<Figure size 432x288 with 1 Axes>"
      ]
     },
     "metadata": {
      "needs_background": "light"
     },
     "output_type": "display_data"
    }
   ],
   "source": [
    "sns.countplot(short_df['duration_seconds'])\n",
    "plt.show()"
   ]
  },
  {
   "cell_type": "code",
   "execution_count": 30,
   "id": "0f52a33b",
   "metadata": {},
   "outputs": [
    {
     "data": {
      "image/png": "[encoded data removed]",
      "text/plain": [
       "<Figure size 720x576 with 1 Axes>"
      ]
     },
     "metadata": {
      "needs_background": "light"
     },
     "output_type": "display_data"
    }
   ],
   "source": [
    "fig, ax = plt.subplots(figsize=(10,8))\n",
    "sns.distplot(short_df.duration_seconds)\n",
    "plt.show()"
   ]
  },
  {
   "cell_type": "markdown",
   "id": "5dc59873",
   "metadata": {},
   "source": [
    "### As we see there is unequal distribution of data and there are quite a few outliers hence we use median to replace the missing values"
   ]
  },
  {
   "cell_type": "code",
   "execution_count": 31,
   "id": "50bb3b8c",
   "metadata": {},
   "outputs": [],
   "source": [
    "short_df['duration_seconds'] = short_df['duration_seconds'].fillna(short_df['duration_seconds'].median())"
   ]
  },
  {
   "cell_type": "code",
   "execution_count": 32,
   "id": "80211186",
   "metadata": {},
   "outputs": [
    {
     "data": {
      "text/plain": [
       "0         446.0\n",
       "1         446.0\n",
       "2         446.0\n",
       "3         446.0\n",
       "4         446.0\n",
       "          ...  \n",
       "92270      59.0\n",
       "92271      58.0\n",
       "92272     824.0\n",
       "92273      56.0\n",
       "92274    1032.0\n",
       "Name: duration_seconds, Length: 92275, dtype: float64"
      ]
     },
     "execution_count": 32,
     "metadata": {},
     "output_type": "execute_result"
    }
   ],
   "source": [
    "short_df['duration_seconds']"
   ]
  },
  {
   "cell_type": "code",
   "execution_count": 33,
   "id": "5356d7a7",
   "metadata": {},
   "outputs": [
    {
     "data": {
      "image/png": "[encoded data removed]",
      "text/plain": [
       "<Figure size 1080x360 with 2 Axes>"
      ]
     },
     "metadata": {
      "needs_background": "light"
     },
     "output_type": "display_data"
    }
   ],
   "source": [
    "plt.figure(figsize = (15,5))\n",
    "sns.heatmap(short_df.isna().values, cmap = ['#0066ff','#ccffcc'], xticklabels=short_df.columns)\n",
    "plt.title(\"No Missing values in the Dataset\", size=15);"
   ]
  },
  {
   "cell_type": "markdown",
   "id": "c55d0139",
   "metadata": {},
   "source": [
    "### 3) Encoding techniques on categorical features: comments_disabled, ratings_disabled and has_thumbnail"
   ]
  },
  {
   "cell_type": "markdown",
   "id": "d3df5eb5",
   "metadata": {},
   "source": [
    "Encoding is a technique to transorm the string values of a feature into numeric values. There are different types of encoding techniques like binary encoding and one-hot encoding. Encoding is required as we cannot pass strings to train our model.\n",
    "\n",
    "Here we have taken the categorical features into consideration for binary encoding."
   ]
  },
  {
   "cell_type": "code",
   "execution_count": 35,
   "id": "a123143f",
   "metadata": {},
   "outputs": [],
   "source": [
    "for i in bools:\n",
    "    short_df.replace({i: {True:1, False:0}}, inplace=True)"
   ]
  },
  {
   "cell_type": "code",
   "execution_count": 36,
   "id": "55d44ac5",
   "metadata": {},
   "outputs": [
    {
     "data": {
      "text/html": [
       "<div>\n",
       "<style scoped>\n",
       "    .dataframe tbody tr th:only-of-type {\n",
       "        vertical-align: middle;\n",
       "    }\n",
       "\n",
       "    .dataframe tbody tr th {\n",
       "        vertical-align: top;\n",
       "    }\n",
       "\n",
       "    .dataframe thead th {\n",
       "        text-align: right;\n",
       "    }\n",
       "</style>\n",
       "<table border=\"1\" class=\"dataframe\">\n",
       "  <thead>\n",
       "    <tr style=\"text-align: right;\">\n",
       "      <th></th>\n",
       "      <th>publishedAt</th>\n",
       "      <th>channelTitle</th>\n",
       "      <th>categoryId</th>\n",
       "      <th>trending_date</th>\n",
       "      <th>tags</th>\n",
       "      <th>view_count</th>\n",
       "      <th>likes</th>\n",
       "      <th>dislikes</th>\n",
       "      <th>comment_count</th>\n",
       "      <th>comments_disabled</th>\n",
       "      <th>ratings_disabled</th>\n",
       "      <th>id</th>\n",
       "      <th>duration_seconds</th>\n",
       "      <th>has_thumbnail</th>\n",
       "    </tr>\n",
       "  </thead>\n",
       "  <tbody>\n",
       "    <tr>\n",
       "      <th>0</th>\n",
       "      <td>2020-08-11 19:20:14+00:00</td>\n",
       "      <td>Brawadis</td>\n",
       "      <td>22</td>\n",
       "      <td>2020-08-12</td>\n",
       "      <td>brawadis|prank|basketball|skits|ghost|funny vi...</td>\n",
       "      <td>1514614</td>\n",
       "      <td>156908</td>\n",
       "      <td>5855</td>\n",
       "      <td>35313</td>\n",
       "      <td>0</td>\n",
       "      <td>0</td>\n",
       "      <td>3C66w5Z0ixs_2020-08-12</td>\n",
       "      <td>446.0</td>\n",
       "      <td>1</td>\n",
       "    </tr>\n",
       "    <tr>\n",
       "      <th>1</th>\n",
       "      <td>2020-08-11 17:00:10+00:00</td>\n",
       "      <td>Apex Legends</td>\n",
       "      <td>20</td>\n",
       "      <td>2020-08-12</td>\n",
       "      <td>Apex Legends|Apex Legends characters|new Apex ...</td>\n",
       "      <td>2381688</td>\n",
       "      <td>146739</td>\n",
       "      <td>2794</td>\n",
       "      <td>16549</td>\n",
       "      <td>0</td>\n",
       "      <td>0</td>\n",
       "      <td>M9Pmf9AB4Mo_2020-08-12</td>\n",
       "      <td>446.0</td>\n",
       "      <td>1</td>\n",
       "    </tr>\n",
       "    <tr>\n",
       "      <th>2</th>\n",
       "      <td>2020-08-11 16:34:06+00:00</td>\n",
       "      <td>jacksepticeye</td>\n",
       "      <td>24</td>\n",
       "      <td>2020-08-12</td>\n",
       "      <td>jacksepticeye|funny|funny meme|memes|jacksepti...</td>\n",
       "      <td>2038853</td>\n",
       "      <td>353787</td>\n",
       "      <td>2628</td>\n",
       "      <td>40221</td>\n",
       "      <td>0</td>\n",
       "      <td>0</td>\n",
       "      <td>J78aPJ3VyNs_2020-08-12</td>\n",
       "      <td>446.0</td>\n",
       "      <td>1</td>\n",
       "    </tr>\n",
       "    <tr>\n",
       "      <th>3</th>\n",
       "      <td>2020-08-11 16:38:55+00:00</td>\n",
       "      <td>XXL</td>\n",
       "      <td>10</td>\n",
       "      <td>2020-08-12</td>\n",
       "      <td>xxl freshman|xxl freshmen|2020 xxl freshman|20...</td>\n",
       "      <td>496771</td>\n",
       "      <td>23251</td>\n",
       "      <td>1856</td>\n",
       "      <td>7647</td>\n",
       "      <td>0</td>\n",
       "      <td>0</td>\n",
       "      <td>kXLn3HkpjaA_2020-08-12</td>\n",
       "      <td>446.0</td>\n",
       "      <td>1</td>\n",
       "    </tr>\n",
       "    <tr>\n",
       "      <th>4</th>\n",
       "      <td>2020-08-11 15:10:05+00:00</td>\n",
       "      <td>Mr. Kate</td>\n",
       "      <td>26</td>\n",
       "      <td>2020-08-12</td>\n",
       "      <td>The LaBrant Family|DIY|Interior Design|Makeove...</td>\n",
       "      <td>1123889</td>\n",
       "      <td>45802</td>\n",
       "      <td>964</td>\n",
       "      <td>2196</td>\n",
       "      <td>0</td>\n",
       "      <td>0</td>\n",
       "      <td>VIUo6yapDbc_2020-08-12</td>\n",
       "      <td>446.0</td>\n",
       "      <td>1</td>\n",
       "    </tr>\n",
       "  </tbody>\n",
       "</table>\n",
       "</div>"
      ],
      "text/plain": [
       "                publishedAt   channelTitle  categoryId trending_date  \\\n",
       "0 2020-08-11 19:20:14+00:00       Brawadis          22    2020-08-12   \n",
       "1 2020-08-11 17:00:10+00:00   Apex Legends          20    2020-08-12   \n",
       "2 2020-08-11 16:34:06+00:00  jacksepticeye          24    2020-08-12   \n",
       "3 2020-08-11 16:38:55+00:00            XXL          10    2020-08-12   \n",
       "4 2020-08-11 15:10:05+00:00       Mr. Kate          26    2020-08-12   \n",
       "\n",
       "                                                tags  view_count   likes  \\\n",
       "0  brawadis|prank|basketball|skits|ghost|funny vi...     1514614  156908   \n",
       "1  Apex Legends|Apex Legends characters|new Apex ...     2381688  146739   \n",
       "2  jacksepticeye|funny|funny meme|memes|jacksepti...     2038853  353787   \n",
       "3  xxl freshman|xxl freshmen|2020 xxl freshman|20...      496771   23251   \n",
       "4  The LaBrant Family|DIY|Interior Design|Makeove...     1123889   45802   \n",
       "\n",
       "   dislikes  comment_count  comments_disabled  ratings_disabled  \\\n",
       "0      5855          35313                  0                 0   \n",
       "1      2794          16549                  0                 0   \n",
       "2      2628          40221                  0                 0   \n",
       "3      1856           7647                  0                 0   \n",
       "4       964           2196                  0                 0   \n",
       "\n",
       "                       id  duration_seconds  has_thumbnail  \n",
       "0  3C66w5Z0ixs_2020-08-12             446.0              1  \n",
       "1  M9Pmf9AB4Mo_2020-08-12             446.0              1  \n",
       "2  J78aPJ3VyNs_2020-08-12             446.0              1  \n",
       "3  kXLn3HkpjaA_2020-08-12             446.0              1  \n",
       "4  VIUo6yapDbc_2020-08-12             446.0              1  "
      ]
     },
     "execution_count": 36,
     "metadata": {},
     "output_type": "execute_result"
    }
   ],
   "source": [
    "short_df.head()"
   ]
  },
  {
   "cell_type": "markdown",
   "id": "9a5a016f",
   "metadata": {},
   "source": [
    "### 4) Extract date and time from publishedAt column"
   ]
  },
  {
   "cell_type": "markdown",
   "id": "650174c6",
   "metadata": {},
   "source": [
    "publishedAt column cannot be used directly as it is in date time format. We need to extract the date and time separately for training our model. We can then drop the publishedAt column"
   ]
  },
  {
   "cell_type": "code",
   "execution_count": 37,
   "id": "f1d69a7b",
   "metadata": {},
   "outputs": [
    {
     "data": {
      "text/html": [
       "<div>\n",
       "<style scoped>\n",
       "    .dataframe tbody tr th:only-of-type {\n",
       "        vertical-align: middle;\n",
       "    }\n",
       "\n",
       "    .dataframe tbody tr th {\n",
       "        vertical-align: top;\n",
       "    }\n",
       "\n",
       "    .dataframe thead th {\n",
       "        text-align: right;\n",
       "    }\n",
       "</style>\n",
       "<table border=\"1\" class=\"dataframe\">\n",
       "  <thead>\n",
       "    <tr style=\"text-align: right;\">\n",
       "      <th></th>\n",
       "      <th>channelTitle</th>\n",
       "      <th>categoryId</th>\n",
       "      <th>trending_date</th>\n",
       "      <th>tags</th>\n",
       "      <th>view_count</th>\n",
       "      <th>likes</th>\n",
       "      <th>dislikes</th>\n",
       "      <th>comment_count</th>\n",
       "      <th>comments_disabled</th>\n",
       "      <th>ratings_disabled</th>\n",
       "      <th>id</th>\n",
       "      <th>duration_seconds</th>\n",
       "      <th>has_thumbnail</th>\n",
       "      <th>publishedDate</th>\n",
       "      <th>publishedTime</th>\n",
       "    </tr>\n",
       "  </thead>\n",
       "  <tbody>\n",
       "    <tr>\n",
       "      <th>0</th>\n",
       "      <td>Brawadis</td>\n",
       "      <td>22</td>\n",
       "      <td>2020-08-12</td>\n",
       "      <td>brawadis|prank|basketball|skits|ghost|funny vi...</td>\n",
       "      <td>1514614</td>\n",
       "      <td>156908</td>\n",
       "      <td>5855</td>\n",
       "      <td>35313</td>\n",
       "      <td>0</td>\n",
       "      <td>0</td>\n",
       "      <td>3C66w5Z0ixs_2020-08-12</td>\n",
       "      <td>446.0</td>\n",
       "      <td>1</td>\n",
       "      <td>2020-08-11</td>\n",
       "      <td>19</td>\n",
       "    </tr>\n",
       "    <tr>\n",
       "      <th>1</th>\n",
       "      <td>Apex Legends</td>\n",
       "      <td>20</td>\n",
       "      <td>2020-08-12</td>\n",
       "      <td>Apex Legends|Apex Legends characters|new Apex ...</td>\n",
       "      <td>2381688</td>\n",
       "      <td>146739</td>\n",
       "      <td>2794</td>\n",
       "      <td>16549</td>\n",
       "      <td>0</td>\n",
       "      <td>0</td>\n",
       "      <td>M9Pmf9AB4Mo_2020-08-12</td>\n",
       "      <td>446.0</td>\n",
       "      <td>1</td>\n",
       "      <td>2020-08-11</td>\n",
       "      <td>17</td>\n",
       "    </tr>\n",
       "    <tr>\n",
       "      <th>2</th>\n",
       "      <td>jacksepticeye</td>\n",
       "      <td>24</td>\n",
       "      <td>2020-08-12</td>\n",
       "      <td>jacksepticeye|funny|funny meme|memes|jacksepti...</td>\n",
       "      <td>2038853</td>\n",
       "      <td>353787</td>\n",
       "      <td>2628</td>\n",
       "      <td>40221</td>\n",
       "      <td>0</td>\n",
       "      <td>0</td>\n",
       "      <td>J78aPJ3VyNs_2020-08-12</td>\n",
       "      <td>446.0</td>\n",
       "      <td>1</td>\n",
       "      <td>2020-08-11</td>\n",
       "      <td>16</td>\n",
       "    </tr>\n",
       "    <tr>\n",
       "      <th>3</th>\n",
       "      <td>XXL</td>\n",
       "      <td>10</td>\n",
       "      <td>2020-08-12</td>\n",
       "      <td>xxl freshman|xxl freshmen|2020 xxl freshman|20...</td>\n",
       "      <td>496771</td>\n",
       "      <td>23251</td>\n",
       "      <td>1856</td>\n",
       "      <td>7647</td>\n",
       "      <td>0</td>\n",
       "      <td>0</td>\n",
       "      <td>kXLn3HkpjaA_2020-08-12</td>\n",
       "      <td>446.0</td>\n",
       "      <td>1</td>\n",
       "      <td>2020-08-11</td>\n",
       "      <td>16</td>\n",
       "    </tr>\n",
       "    <tr>\n",
       "      <th>4</th>\n",
       "      <td>Mr. Kate</td>\n",
       "      <td>26</td>\n",
       "      <td>2020-08-12</td>\n",
       "      <td>The LaBrant Family|DIY|Interior Design|Makeove...</td>\n",
       "      <td>1123889</td>\n",
       "      <td>45802</td>\n",
       "      <td>964</td>\n",
       "      <td>2196</td>\n",
       "      <td>0</td>\n",
       "      <td>0</td>\n",
       "      <td>VIUo6yapDbc_2020-08-12</td>\n",
       "      <td>446.0</td>\n",
       "      <td>1</td>\n",
       "      <td>2020-08-11</td>\n",
       "      <td>15</td>\n",
       "    </tr>\n",
       "  </tbody>\n",
       "</table>\n",
       "</div>"
      ],
      "text/plain": [
       "    channelTitle  categoryId trending_date  \\\n",
       "0       Brawadis          22    2020-08-12   \n",
       "1   Apex Legends          20    2020-08-12   \n",
       "2  jacksepticeye          24    2020-08-12   \n",
       "3            XXL          10    2020-08-12   \n",
       "4       Mr. Kate          26    2020-08-12   \n",
       "\n",
       "                                                tags  view_count   likes  \\\n",
       "0  brawadis|prank|basketball|skits|ghost|funny vi...     1514614  156908   \n",
       "1  Apex Legends|Apex Legends characters|new Apex ...     2381688  146739   \n",
       "2  jacksepticeye|funny|funny meme|memes|jacksepti...     2038853  353787   \n",
       "3  xxl freshman|xxl freshmen|2020 xxl freshman|20...      496771   23251   \n",
       "4  The LaBrant Family|DIY|Interior Design|Makeove...     1123889   45802   \n",
       "\n",
       "   dislikes  comment_count  comments_disabled  ratings_disabled  \\\n",
       "0      5855          35313                  0                 0   \n",
       "1      2794          16549                  0                 0   \n",
       "2      2628          40221                  0                 0   \n",
       "3      1856           7647                  0                 0   \n",
       "4       964           2196                  0                 0   \n",
       "\n",
       "                       id  duration_seconds  has_thumbnail publishedDate  \\\n",
       "0  3C66w5Z0ixs_2020-08-12             446.0              1    2020-08-11   \n",
       "1  M9Pmf9AB4Mo_2020-08-12             446.0              1    2020-08-11   \n",
       "2  J78aPJ3VyNs_2020-08-12             446.0              1    2020-08-11   \n",
       "3  kXLn3HkpjaA_2020-08-12             446.0              1    2020-08-11   \n",
       "4  VIUo6yapDbc_2020-08-12             446.0              1    2020-08-11   \n",
       "\n",
       "  publishedTime  \n",
       "0            19  \n",
       "1            17  \n",
       "2            16  \n",
       "3            16  \n",
       "4            15  "
      ]
     },
     "execution_count": 37,
     "metadata": {},
     "output_type": "execute_result"
    }
   ],
   "source": [
    "short_df['publishedDate'] = short_df.apply(lambda x : str(x['publishedAt'])[:10], axis=1)\n",
    "short_df['publishedTime'] = short_df.apply(lambda x : str(x['publishedAt'])[10:13], axis=1)\n",
    "short_df.drop('publishedAt', axis=1, inplace=True)\n",
    "short_df.head()"
   ]
  },
  {
   "cell_type": "markdown",
   "id": "08218106",
   "metadata": {},
   "source": [
    "### 5) Categorize the values in PublishedTime column into 4 categories: Morning, Noon, Evening, Night"
   ]
  },
  {
   "cell_type": "markdown",
   "id": "71f45182",
   "metadata": {},
   "source": [
    "The time of the day when the video was published can be broadly categorized into 4 groups as exact time wouldn't be beneficial for model training"
   ]
  },
  {
   "cell_type": "code",
   "execution_count": 39,
   "id": "1155755c",
   "metadata": {},
   "outputs": [
    {
     "data": {
      "text/plain": [
       " 16    9118\n",
       " 17    8485\n",
       " 15    6919\n",
       " 18    6149\n",
       " 19    6101\n",
       " 20    5690\n",
       " 21    5135\n",
       " 14    4969\n",
       " 22    4936\n",
       " 04    4849\n",
       " 13    4006\n",
       " 23    3920\n",
       " 00    3736\n",
       " 01    2944\n",
       " 05    2594\n",
       " 03    2426\n",
       " 02    2279\n",
       " 12    2084\n",
       " 11    1264\n",
       " 09    1138\n",
       " 06     937\n",
       " 10     889\n",
       " 08     862\n",
       " 07     845\n",
       "Name: publishedTime, dtype: int64"
      ]
     },
     "execution_count": 39,
     "metadata": {},
     "output_type": "execute_result"
    }
   ],
   "source": [
    "short_df['publishedTime'].value_counts()"
   ]
  },
  {
   "cell_type": "code",
   "execution_count": 40,
   "id": "beb4cc8b",
   "metadata": {},
   "outputs": [],
   "source": [
    "short_df[\"publishedTime\"] = pd.to_numeric(short_df[\"publishedTime\"])"
   ]
  },
  {
   "cell_type": "code",
   "execution_count": 41,
   "id": "8bf8cf0f",
   "metadata": {},
   "outputs": [
    {
     "data": {
      "text/plain": [
       "dtype('int64')"
      ]
     },
     "execution_count": 41,
     "metadata": {},
     "output_type": "execute_result"
    }
   ],
   "source": [
    "short_df['publishedTime'].dtype"
   ]
  },
  {
   "cell_type": "code",
   "execution_count": 42,
   "id": "32e1f9d6",
   "metadata": {},
   "outputs": [],
   "source": [
    "time = 'publishedTime'\n",
    "\n",
    "for i in short_df[time].values:\n",
    "    if i>=4 and i<12:\n",
    "        short_df.replace({time : {i: 'Morning'}}, inplace=True)\n",
    "    elif i>=12 and i<18:\n",
    "        short_df.replace({time : {i: 'Noon'}}, inplace=True)\n",
    "    elif i>=18 and i<23:\n",
    "        short_df.replace({time : {i: 'Evening'}}, inplace=True)\n",
    "    elif i>=23 or i<4:\n",
    "        short_df.replace({time : {i: 'Night'}}, inplace=True)"
   ]
  },
  {
   "cell_type": "code",
   "execution_count": 43,
   "id": "e720af2f",
   "metadata": {},
   "outputs": [
    {
     "data": {
      "text/html": [
       "<div>\n",
       "<style scoped>\n",
       "    .dataframe tbody tr th:only-of-type {\n",
       "        vertical-align: middle;\n",
       "    }\n",
       "\n",
       "    .dataframe tbody tr th {\n",
       "        vertical-align: top;\n",
       "    }\n",
       "\n",
       "    .dataframe thead th {\n",
       "        text-align: right;\n",
       "    }\n",
       "</style>\n",
       "<table border=\"1\" class=\"dataframe\">\n",
       "  <thead>\n",
       "    <tr style=\"text-align: right;\">\n",
       "      <th></th>\n",
       "      <th>channelTitle</th>\n",
       "      <th>categoryId</th>\n",
       "      <th>trending_date</th>\n",
       "      <th>tags</th>\n",
       "      <th>view_count</th>\n",
       "      <th>likes</th>\n",
       "      <th>dislikes</th>\n",
       "      <th>comment_count</th>\n",
       "      <th>comments_disabled</th>\n",
       "      <th>ratings_disabled</th>\n",
       "      <th>id</th>\n",
       "      <th>duration_seconds</th>\n",
       "      <th>has_thumbnail</th>\n",
       "      <th>publishedDate</th>\n",
       "      <th>publishedTime</th>\n",
       "    </tr>\n",
       "  </thead>\n",
       "  <tbody>\n",
       "    <tr>\n",
       "      <th>0</th>\n",
       "      <td>Brawadis</td>\n",
       "      <td>22</td>\n",
       "      <td>2020-08-12</td>\n",
       "      <td>brawadis|prank|basketball|skits|ghost|funny vi...</td>\n",
       "      <td>1514614</td>\n",
       "      <td>156908</td>\n",
       "      <td>5855</td>\n",
       "      <td>35313</td>\n",
       "      <td>0</td>\n",
       "      <td>0</td>\n",
       "      <td>3C66w5Z0ixs_2020-08-12</td>\n",
       "      <td>446.0</td>\n",
       "      <td>1</td>\n",
       "      <td>2020-08-11</td>\n",
       "      <td>Evening</td>\n",
       "    </tr>\n",
       "    <tr>\n",
       "      <th>1</th>\n",
       "      <td>Apex Legends</td>\n",
       "      <td>20</td>\n",
       "      <td>2020-08-12</td>\n",
       "      <td>Apex Legends|Apex Legends characters|new Apex ...</td>\n",
       "      <td>2381688</td>\n",
       "      <td>146739</td>\n",
       "      <td>2794</td>\n",
       "      <td>16549</td>\n",
       "      <td>0</td>\n",
       "      <td>0</td>\n",
       "      <td>M9Pmf9AB4Mo_2020-08-12</td>\n",
       "      <td>446.0</td>\n",
       "      <td>1</td>\n",
       "      <td>2020-08-11</td>\n",
       "      <td>Noon</td>\n",
       "    </tr>\n",
       "    <tr>\n",
       "      <th>2</th>\n",
       "      <td>jacksepticeye</td>\n",
       "      <td>24</td>\n",
       "      <td>2020-08-12</td>\n",
       "      <td>jacksepticeye|funny|funny meme|memes|jacksepti...</td>\n",
       "      <td>2038853</td>\n",
       "      <td>353787</td>\n",
       "      <td>2628</td>\n",
       "      <td>40221</td>\n",
       "      <td>0</td>\n",
       "      <td>0</td>\n",
       "      <td>J78aPJ3VyNs_2020-08-12</td>\n",
       "      <td>446.0</td>\n",
       "      <td>1</td>\n",
       "      <td>2020-08-11</td>\n",
       "      <td>Noon</td>\n",
       "    </tr>\n",
       "    <tr>\n",
       "      <th>3</th>\n",
       "      <td>XXL</td>\n",
       "      <td>10</td>\n",
       "      <td>2020-08-12</td>\n",
       "      <td>xxl freshman|xxl freshmen|2020 xxl freshman|20...</td>\n",
       "      <td>496771</td>\n",
       "      <td>23251</td>\n",
       "      <td>1856</td>\n",
       "      <td>7647</td>\n",
       "      <td>0</td>\n",
       "      <td>0</td>\n",
       "      <td>kXLn3HkpjaA_2020-08-12</td>\n",
       "      <td>446.0</td>\n",
       "      <td>1</td>\n",
       "      <td>2020-08-11</td>\n",
       "      <td>Noon</td>\n",
       "    </tr>\n",
       "    <tr>\n",
       "      <th>4</th>\n",
       "      <td>Mr. Kate</td>\n",
       "      <td>26</td>\n",
       "      <td>2020-08-12</td>\n",
       "      <td>The LaBrant Family|DIY|Interior Design|Makeove...</td>\n",
       "      <td>1123889</td>\n",
       "      <td>45802</td>\n",
       "      <td>964</td>\n",
       "      <td>2196</td>\n",
       "      <td>0</td>\n",
       "      <td>0</td>\n",
       "      <td>VIUo6yapDbc_2020-08-12</td>\n",
       "      <td>446.0</td>\n",
       "      <td>1</td>\n",
       "      <td>2020-08-11</td>\n",
       "      <td>Noon</td>\n",
       "    </tr>\n",
       "  </tbody>\n",
       "</table>\n",
       "</div>"
      ],
      "text/plain": [
       "    channelTitle  categoryId trending_date  \\\n",
       "0       Brawadis          22    2020-08-12   \n",
       "1   Apex Legends          20    2020-08-12   \n",
       "2  jacksepticeye          24    2020-08-12   \n",
       "3            XXL          10    2020-08-12   \n",
       "4       Mr. Kate          26    2020-08-12   \n",
       "\n",
       "                                                tags  view_count   likes  \\\n",
       "0  brawadis|prank|basketball|skits|ghost|funny vi...     1514614  156908   \n",
       "1  Apex Legends|Apex Legends characters|new Apex ...     2381688  146739   \n",
       "2  jacksepticeye|funny|funny meme|memes|jacksepti...     2038853  353787   \n",
       "3  xxl freshman|xxl freshmen|2020 xxl freshman|20...      496771   23251   \n",
       "4  The LaBrant Family|DIY|Interior Design|Makeove...     1123889   45802   \n",
       "\n",
       "   dislikes  comment_count  comments_disabled  ratings_disabled  \\\n",
       "0      5855          35313                  0                 0   \n",
       "1      2794          16549                  0                 0   \n",
       "2      2628          40221                  0                 0   \n",
       "3      1856           7647                  0                 0   \n",
       "4       964           2196                  0                 0   \n",
       "\n",
       "                       id  duration_seconds  has_thumbnail publishedDate  \\\n",
       "0  3C66w5Z0ixs_2020-08-12             446.0              1    2020-08-11   \n",
       "1  M9Pmf9AB4Mo_2020-08-12             446.0              1    2020-08-11   \n",
       "2  J78aPJ3VyNs_2020-08-12             446.0              1    2020-08-11   \n",
       "3  kXLn3HkpjaA_2020-08-12             446.0              1    2020-08-11   \n",
       "4  VIUo6yapDbc_2020-08-12             446.0              1    2020-08-11   \n",
       "\n",
       "  publishedTime  \n",
       "0       Evening  \n",
       "1          Noon  \n",
       "2          Noon  \n",
       "3          Noon  \n",
       "4          Noon  "
      ]
     },
     "execution_count": 43,
     "metadata": {},
     "output_type": "execute_result"
    }
   ],
   "source": [
    "short_df.head()"
   ]
  },
  {
   "cell_type": "code",
   "execution_count": 44,
   "id": "e386ebef",
   "metadata": {},
   "outputs": [
    {
     "data": {
      "text/plain": [
       "Noon       35581\n",
       "Evening    28011\n",
       "Night      15305\n",
       "Morning    13378\n",
       "Name: publishedTime, dtype: int64"
      ]
     },
     "execution_count": 44,
     "metadata": {},
     "output_type": "execute_result"
    }
   ],
   "source": [
    "short_df['publishedTime'].value_counts()"
   ]
  },
  {
   "cell_type": "markdown",
   "id": "6279a456",
   "metadata": {},
   "source": [
    "### 6) Extract another column as net_likes which will be the difference between the likes and dislikes columns"
   ]
  },
  {
   "cell_type": "code",
   "execution_count": 45,
   "id": "dfcfb7cc",
   "metadata": {},
   "outputs": [
    {
     "data": {
      "text/html": [
       "<div>\n",
       "<style scoped>\n",
       "    .dataframe tbody tr th:only-of-type {\n",
       "        vertical-align: middle;\n",
       "    }\n",
       "\n",
       "    .dataframe tbody tr th {\n",
       "        vertical-align: top;\n",
       "    }\n",
       "\n",
       "    .dataframe thead th {\n",
       "        text-align: right;\n",
       "    }\n",
       "</style>\n",
       "<table border=\"1\" class=\"dataframe\">\n",
       "  <thead>\n",
       "    <tr style=\"text-align: right;\">\n",
       "      <th></th>\n",
       "      <th>channelTitle</th>\n",
       "      <th>categoryId</th>\n",
       "      <th>trending_date</th>\n",
       "      <th>tags</th>\n",
       "      <th>view_count</th>\n",
       "      <th>likes</th>\n",
       "      <th>dislikes</th>\n",
       "      <th>comment_count</th>\n",
       "      <th>comments_disabled</th>\n",
       "      <th>ratings_disabled</th>\n",
       "      <th>id</th>\n",
       "      <th>duration_seconds</th>\n",
       "      <th>has_thumbnail</th>\n",
       "      <th>publishedDate</th>\n",
       "      <th>publishedTime</th>\n",
       "      <th>net_likes</th>\n",
       "    </tr>\n",
       "  </thead>\n",
       "  <tbody>\n",
       "    <tr>\n",
       "      <th>0</th>\n",
       "      <td>Brawadis</td>\n",
       "      <td>22</td>\n",
       "      <td>2020-08-12</td>\n",
       "      <td>brawadis|prank|basketball|skits|ghost|funny vi...</td>\n",
       "      <td>1514614</td>\n",
       "      <td>156908</td>\n",
       "      <td>5855</td>\n",
       "      <td>35313</td>\n",
       "      <td>0</td>\n",
       "      <td>0</td>\n",
       "      <td>3C66w5Z0ixs_2020-08-12</td>\n",
       "      <td>446.0</td>\n",
       "      <td>1</td>\n",
       "      <td>2020-08-11</td>\n",
       "      <td>Evening</td>\n",
       "      <td>151053</td>\n",
       "    </tr>\n",
       "    <tr>\n",
       "      <th>1</th>\n",
       "      <td>Apex Legends</td>\n",
       "      <td>20</td>\n",
       "      <td>2020-08-12</td>\n",
       "      <td>Apex Legends|Apex Legends characters|new Apex ...</td>\n",
       "      <td>2381688</td>\n",
       "      <td>146739</td>\n",
       "      <td>2794</td>\n",
       "      <td>16549</td>\n",
       "      <td>0</td>\n",
       "      <td>0</td>\n",
       "      <td>M9Pmf9AB4Mo_2020-08-12</td>\n",
       "      <td>446.0</td>\n",
       "      <td>1</td>\n",
       "      <td>2020-08-11</td>\n",
       "      <td>Noon</td>\n",
       "      <td>143945</td>\n",
       "    </tr>\n",
       "    <tr>\n",
       "      <th>2</th>\n",
       "      <td>jacksepticeye</td>\n",
       "      <td>24</td>\n",
       "      <td>2020-08-12</td>\n",
       "      <td>jacksepticeye|funny|funny meme|memes|jacksepti...</td>\n",
       "      <td>2038853</td>\n",
       "      <td>353787</td>\n",
       "      <td>2628</td>\n",
       "      <td>40221</td>\n",
       "      <td>0</td>\n",
       "      <td>0</td>\n",
       "      <td>J78aPJ3VyNs_2020-08-12</td>\n",
       "      <td>446.0</td>\n",
       "      <td>1</td>\n",
       "      <td>2020-08-11</td>\n",
       "      <td>Noon</td>\n",
       "      <td>351159</td>\n",
       "    </tr>\n",
       "    <tr>\n",
       "      <th>3</th>\n",
       "      <td>XXL</td>\n",
       "      <td>10</td>\n",
       "      <td>2020-08-12</td>\n",
       "      <td>xxl freshman|xxl freshmen|2020 xxl freshman|20...</td>\n",
       "      <td>496771</td>\n",
       "      <td>23251</td>\n",
       "      <td>1856</td>\n",
       "      <td>7647</td>\n",
       "      <td>0</td>\n",
       "      <td>0</td>\n",
       "      <td>kXLn3HkpjaA_2020-08-12</td>\n",
       "      <td>446.0</td>\n",
       "      <td>1</td>\n",
       "      <td>2020-08-11</td>\n",
       "      <td>Noon</td>\n",
       "      <td>21395</td>\n",
       "    </tr>\n",
       "    <tr>\n",
       "      <th>4</th>\n",
       "      <td>Mr. Kate</td>\n",
       "      <td>26</td>\n",
       "      <td>2020-08-12</td>\n",
       "      <td>The LaBrant Family|DIY|Interior Design|Makeove...</td>\n",
       "      <td>1123889</td>\n",
       "      <td>45802</td>\n",
       "      <td>964</td>\n",
       "      <td>2196</td>\n",
       "      <td>0</td>\n",
       "      <td>0</td>\n",
       "      <td>VIUo6yapDbc_2020-08-12</td>\n",
       "      <td>446.0</td>\n",
       "      <td>1</td>\n",
       "      <td>2020-08-11</td>\n",
       "      <td>Noon</td>\n",
       "      <td>44838</td>\n",
       "    </tr>\n",
       "  </tbody>\n",
       "</table>\n",
       "</div>"
      ],
      "text/plain": [
       "    channelTitle  categoryId trending_date  \\\n",
       "0       Brawadis          22    2020-08-12   \n",
       "1   Apex Legends          20    2020-08-12   \n",
       "2  jacksepticeye          24    2020-08-12   \n",
       "3            XXL          10    2020-08-12   \n",
       "4       Mr. Kate          26    2020-08-12   \n",
       "\n",
       "                                                tags  view_count   likes  \\\n",
       "0  brawadis|prank|basketball|skits|ghost|funny vi...     1514614  156908   \n",
       "1  Apex Legends|Apex Legends characters|new Apex ...     2381688  146739   \n",
       "2  jacksepticeye|funny|funny meme|memes|jacksepti...     2038853  353787   \n",
       "3  xxl freshman|xxl freshmen|2020 xxl freshman|20...      496771   23251   \n",
       "4  The LaBrant Family|DIY|Interior Design|Makeove...     1123889   45802   \n",
       "\n",
       "   dislikes  comment_count  comments_disabled  ratings_disabled  \\\n",
       "0      5855          35313                  0                 0   \n",
       "1      2794          16549                  0                 0   \n",
       "2      2628          40221                  0                 0   \n",
       "3      1856           7647                  0                 0   \n",
       "4       964           2196                  0                 0   \n",
       "\n",
       "                       id  duration_seconds  has_thumbnail publishedDate  \\\n",
       "0  3C66w5Z0ixs_2020-08-12             446.0              1    2020-08-11   \n",
       "1  M9Pmf9AB4Mo_2020-08-12             446.0              1    2020-08-11   \n",
       "2  J78aPJ3VyNs_2020-08-12             446.0              1    2020-08-11   \n",
       "3  kXLn3HkpjaA_2020-08-12             446.0              1    2020-08-11   \n",
       "4  VIUo6yapDbc_2020-08-12             446.0              1    2020-08-11   \n",
       "\n",
       "  publishedTime  net_likes  \n",
       "0       Evening     151053  \n",
       "1          Noon     143945  \n",
       "2          Noon     351159  \n",
       "3          Noon      21395  \n",
       "4          Noon      44838  "
      ]
     },
     "execution_count": 45,
     "metadata": {},
     "output_type": "execute_result"
    }
   ],
   "source": [
    "short_df['net_likes'] = abs(short_df['likes'] - short_df['dislikes'])\n",
    "short_df.head()"
   ]
  },
  {
   "cell_type": "code",
   "execution_count": 46,
   "id": "f8976dab",
   "metadata": {},
   "outputs": [
    {
     "data": {
      "image/png": "[encoded data removed]",
      "text/plain": [
       "<Figure size 720x504 with 1 Axes>"
      ]
     },
     "metadata": {
      "needs_background": "light"
     },
     "output_type": "display_data"
    }
   ],
   "source": [
    "plt.figure(figsize=(10,7))\n",
    "sns.histplot(x=short_df['categoryId'], y=short_df['net_likes'], color = 'green')\n",
    "plt.title('CategoryId vs net_likes')\n",
    "plt.show()"
   ]
  },
  {
   "cell_type": "code",
   "execution_count": 47,
   "id": "e5bf7825",
   "metadata": {},
   "outputs": [
    {
     "data": {
      "text/html": [
       "<div>\n",
       "<style scoped>\n",
       "    .dataframe tbody tr th:only-of-type {\n",
       "        vertical-align: middle;\n",
       "    }\n",
       "\n",
       "    .dataframe tbody tr th {\n",
       "        vertical-align: top;\n",
       "    }\n",
       "\n",
       "    .dataframe thead th {\n",
       "        text-align: right;\n",
       "    }\n",
       "</style>\n",
       "<table border=\"1\" class=\"dataframe\">\n",
       "  <thead>\n",
       "    <tr style=\"text-align: right;\">\n",
       "      <th></th>\n",
       "      <th>channelTitle</th>\n",
       "      <th>categoryId</th>\n",
       "      <th>trending_date</th>\n",
       "      <th>tags</th>\n",
       "      <th>view_count</th>\n",
       "      <th>likes</th>\n",
       "      <th>dislikes</th>\n",
       "      <th>comment_count</th>\n",
       "      <th>comments_disabled</th>\n",
       "      <th>ratings_disabled</th>\n",
       "      <th>duration_seconds</th>\n",
       "      <th>has_thumbnail</th>\n",
       "      <th>publishedDate</th>\n",
       "      <th>publishedTime</th>\n",
       "      <th>net_likes</th>\n",
       "    </tr>\n",
       "  </thead>\n",
       "  <tbody>\n",
       "    <tr>\n",
       "      <th>0</th>\n",
       "      <td>Brawadis</td>\n",
       "      <td>22</td>\n",
       "      <td>2020-08-12</td>\n",
       "      <td>brawadis|prank|basketball|skits|ghost|funny vi...</td>\n",
       "      <td>1514614</td>\n",
       "      <td>156908</td>\n",
       "      <td>5855</td>\n",
       "      <td>35313</td>\n",
       "      <td>0</td>\n",
       "      <td>0</td>\n",
       "      <td>446.0</td>\n",
       "      <td>1</td>\n",
       "      <td>2020-08-11</td>\n",
       "      <td>Evening</td>\n",
       "      <td>151053</td>\n",
       "    </tr>\n",
       "    <tr>\n",
       "      <th>1</th>\n",
       "      <td>Apex Legends</td>\n",
       "      <td>20</td>\n",
       "      <td>2020-08-12</td>\n",
       "      <td>Apex Legends|Apex Legends characters|new Apex ...</td>\n",
       "      <td>2381688</td>\n",
       "      <td>146739</td>\n",
       "      <td>2794</td>\n",
       "      <td>16549</td>\n",
       "      <td>0</td>\n",
       "      <td>0</td>\n",
       "      <td>446.0</td>\n",
       "      <td>1</td>\n",
       "      <td>2020-08-11</td>\n",
       "      <td>Noon</td>\n",
       "      <td>143945</td>\n",
       "    </tr>\n",
       "    <tr>\n",
       "      <th>2</th>\n",
       "      <td>jacksepticeye</td>\n",
       "      <td>24</td>\n",
       "      <td>2020-08-12</td>\n",
       "      <td>jacksepticeye|funny|funny meme|memes|jacksepti...</td>\n",
       "      <td>2038853</td>\n",
       "      <td>353787</td>\n",
       "      <td>2628</td>\n",
       "      <td>40221</td>\n",
       "      <td>0</td>\n",
       "      <td>0</td>\n",
       "      <td>446.0</td>\n",
       "      <td>1</td>\n",
       "      <td>2020-08-11</td>\n",
       "      <td>Noon</td>\n",
       "      <td>351159</td>\n",
       "    </tr>\n",
       "    <tr>\n",
       "      <th>3</th>\n",
       "      <td>XXL</td>\n",
       "      <td>10</td>\n",
       "      <td>2020-08-12</td>\n",
       "      <td>xxl freshman|xxl freshmen|2020 xxl freshman|20...</td>\n",
       "      <td>496771</td>\n",
       "      <td>23251</td>\n",
       "      <td>1856</td>\n",
       "      <td>7647</td>\n",
       "      <td>0</td>\n",
       "      <td>0</td>\n",
       "      <td>446.0</td>\n",
       "      <td>1</td>\n",
       "      <td>2020-08-11</td>\n",
       "      <td>Noon</td>\n",
       "      <td>21395</td>\n",
       "    </tr>\n",
       "    <tr>\n",
       "      <th>4</th>\n",
       "      <td>Mr. Kate</td>\n",
       "      <td>26</td>\n",
       "      <td>2020-08-12</td>\n",
       "      <td>The LaBrant Family|DIY|Interior Design|Makeove...</td>\n",
       "      <td>1123889</td>\n",
       "      <td>45802</td>\n",
       "      <td>964</td>\n",
       "      <td>2196</td>\n",
       "      <td>0</td>\n",
       "      <td>0</td>\n",
       "      <td>446.0</td>\n",
       "      <td>1</td>\n",
       "      <td>2020-08-11</td>\n",
       "      <td>Noon</td>\n",
       "      <td>44838</td>\n",
       "    </tr>\n",
       "  </tbody>\n",
       "</table>\n",
       "</div>"
      ],
      "text/plain": [
       "    channelTitle  categoryId trending_date  \\\n",
       "0       Brawadis          22    2020-08-12   \n",
       "1   Apex Legends          20    2020-08-12   \n",
       "2  jacksepticeye          24    2020-08-12   \n",
       "3            XXL          10    2020-08-12   \n",
       "4       Mr. Kate          26    2020-08-12   \n",
       "\n",
       "                                                tags  view_count   likes  \\\n",
       "0  brawadis|prank|basketball|skits|ghost|funny vi...     1514614  156908   \n",
       "1  Apex Legends|Apex Legends characters|new Apex ...     2381688  146739   \n",
       "2  jacksepticeye|funny|funny meme|memes|jacksepti...     2038853  353787   \n",
       "3  xxl freshman|xxl freshmen|2020 xxl freshman|20...      496771   23251   \n",
       "4  The LaBrant Family|DIY|Interior Design|Makeove...     1123889   45802   \n",
       "\n",
       "   dislikes  comment_count  comments_disabled  ratings_disabled  \\\n",
       "0      5855          35313                  0                 0   \n",
       "1      2794          16549                  0                 0   \n",
       "2      2628          40221                  0                 0   \n",
       "3      1856           7647                  0                 0   \n",
       "4       964           2196                  0                 0   \n",
       "\n",
       "   duration_seconds  has_thumbnail publishedDate publishedTime  net_likes  \n",
       "0             446.0              1    2020-08-11       Evening     151053  \n",
       "1             446.0              1    2020-08-11          Noon     143945  \n",
       "2             446.0              1    2020-08-11          Noon     351159  \n",
       "3             446.0              1    2020-08-11          Noon      21395  \n",
       "4             446.0              1    2020-08-11          Noon      44838  "
      ]
     },
     "execution_count": 47,
     "metadata": {},
     "output_type": "execute_result"
    }
   ],
   "source": [
    "short_df.drop('id', axis=1, inplace=True)\n",
    "short_df.head()"
   ]
  },
  {
   "cell_type": "markdown",
   "id": "0f4bde8d",
   "metadata": {},
   "source": [
    "### D. Key Findings and Insights, which synthesizes the results of Exploratory Data Analysis in an insightful and actionable manner"
   ]
  },
  {
   "cell_type": "code",
   "execution_count": 48,
   "id": "eda2e3f9",
   "metadata": {},
   "outputs": [
    {
     "data": {
      "image/png": "[encoded data removed]",
      "text/plain": [
       "<Figure size 720x576 with 2 Axes>"
      ]
     },
     "metadata": {
      "needs_background": "light"
     },
     "output_type": "display_data"
    }
   ],
   "source": [
    "plt.figure(figsize=(10,8))\n",
    "sns.heatmap(short_df.corr(), cmap='Greens')\n",
    "plt.title('Correlation Matrix', fontsize=20)\n",
    "plt.show()"
   ]
  },
  {
   "cell_type": "markdown",
   "id": "1ed0c7ad",
   "metadata": {},
   "source": [
    "#### From the above correlation matrix it is clear that the view_count, dislikes and comment_count columns have huge correlation with our target column (likes)"
   ]
  },
  {
   "cell_type": "code",
   "execution_count": 49,
   "id": "6e652549",
   "metadata": {},
   "outputs": [
    {
     "data": {
      "text/plain": [
       "<AxesSubplot:xlabel='ratings_disabled', ylabel='count'>"
      ]
     },
     "execution_count": 49,
     "metadata": {},
     "output_type": "execute_result"
    },
    {
     "data": {
      "image/png": "[encoded data removed]",
      "text/plain": [
       "<Figure size 432x288 with 1 Axes>"
      ]
     },
     "metadata": {
      "needs_background": "light"
     },
     "output_type": "display_data"
    }
   ],
   "source": [
    "sns.countplot(short_df['ratings_disabled'], color='red')"
   ]
  },
  {
   "cell_type": "markdown",
   "id": "8581df23",
   "metadata": {},
   "source": [
    "#### From the above, we conclude that the True values are negligible in ratings_disabled column and also this attribute has very less effect on our target variable as shown in the correlation matrix. Therefore, it is safe to drop it."
   ]
  },
  {
   "cell_type": "code",
   "execution_count": 50,
   "id": "33d9890e",
   "metadata": {},
   "outputs": [
    {
     "name": "stdout",
     "output_type": "stream",
     "text": [
      "\u001b[1;4;34mview_count\u001b[0m\n",
      "Mean: 2779091.2581956107\n",
      "Meadian: 1100045.0\n",
      "standard Deviation: 7364112.645729635\n",
      "Min: 38510 Max: 264407389\n",
      "Skewness: 13.030952157610031\n",
      "\n",
      "\n",
      "\u001b[1;4;34mdislikes\u001b[0m\n",
      "Mean: 3110.9773069628827\n",
      "Meadian: 852.0\n",
      "standard Deviation: 13342.743386373326\n",
      "Min: 0 Max: 879354\n",
      "Skewness: 31.388899184437093\n",
      "\n",
      "\n",
      "\u001b[1;4;34mcomment_count\u001b[0m\n",
      "Mean: 13735.741219181793\n",
      "Meadian: 3856.0\n",
      "standard Deviation: 96726.82049289922\n",
      "Min: 0 Max: 6738537\n",
      "Skewness: 38.19282041913125\n",
      "\n",
      "\n"
     ]
    }
   ],
   "source": [
    "from scipy.stats import skew\n",
    "cat_features = ['view_count', 'dislikes', 'comment_count']\n",
    "\n",
    "for i in cat_features:\n",
    "    print(blue(i, ['bold', 'underlined']))\n",
    "    print('Mean:', short_df[i].mean())\n",
    "    print('Meadian:', short_df[i].median())\n",
    "    print('standard Deviation:', short_df[i].std())\n",
    "    print('Min:', short_df[i].min(), 'Max:', short_df[i].max())\n",
    "    print('Skewness:', skew(short_df[i], bias=False))\n",
    "    print('\\n')"
   ]
  },
  {
   "cell_type": "markdown",
   "id": "2abccff8",
   "metadata": {},
   "source": [
    "### Alternatively"
   ]
  },
  {
   "cell_type": "code",
   "execution_count": 51,
   "id": "0c967564",
   "metadata": {},
   "outputs": [
    {
     "data": {
      "text/html": [
       "<div>\n",
       "<style scoped>\n",
       "    .dataframe tbody tr th:only-of-type {\n",
       "        vertical-align: middle;\n",
       "    }\n",
       "\n",
       "    .dataframe tbody tr th {\n",
       "        vertical-align: top;\n",
       "    }\n",
       "\n",
       "    .dataframe thead th {\n",
       "        text-align: right;\n",
       "    }\n",
       "</style>\n",
       "<table border=\"1\" class=\"dataframe\">\n",
       "  <thead>\n",
       "    <tr style=\"text-align: right;\">\n",
       "      <th></th>\n",
       "      <th>view_count</th>\n",
       "      <th>dislikes</th>\n",
       "      <th>comment_count</th>\n",
       "    </tr>\n",
       "  </thead>\n",
       "  <tbody>\n",
       "    <tr>\n",
       "      <th>count</th>\n",
       "      <td>9.227500e+04</td>\n",
       "      <td>92275.000000</td>\n",
       "      <td>9.227500e+04</td>\n",
       "    </tr>\n",
       "    <tr>\n",
       "      <th>mean</th>\n",
       "      <td>2.779091e+06</td>\n",
       "      <td>3110.977307</td>\n",
       "      <td>1.373574e+04</td>\n",
       "    </tr>\n",
       "    <tr>\n",
       "      <th>std</th>\n",
       "      <td>7.364113e+06</td>\n",
       "      <td>13342.743386</td>\n",
       "      <td>9.672682e+04</td>\n",
       "    </tr>\n",
       "    <tr>\n",
       "      <th>min</th>\n",
       "      <td>3.851000e+04</td>\n",
       "      <td>0.000000</td>\n",
       "      <td>0.000000e+00</td>\n",
       "    </tr>\n",
       "    <tr>\n",
       "      <th>25%</th>\n",
       "      <td>5.312440e+05</td>\n",
       "      <td>368.000000</td>\n",
       "      <td>1.692000e+03</td>\n",
       "    </tr>\n",
       "    <tr>\n",
       "      <th>50%</th>\n",
       "      <td>1.100045e+06</td>\n",
       "      <td>852.000000</td>\n",
       "      <td>3.856000e+03</td>\n",
       "    </tr>\n",
       "    <tr>\n",
       "      <th>75%</th>\n",
       "      <td>2.482274e+06</td>\n",
       "      <td>2239.000000</td>\n",
       "      <td>9.322000e+03</td>\n",
       "    </tr>\n",
       "    <tr>\n",
       "      <th>max</th>\n",
       "      <td>2.644074e+08</td>\n",
       "      <td>879354.000000</td>\n",
       "      <td>6.738537e+06</td>\n",
       "    </tr>\n",
       "  </tbody>\n",
       "</table>\n",
       "</div>"
      ],
      "text/plain": [
       "         view_count       dislikes  comment_count\n",
       "count  9.227500e+04   92275.000000   9.227500e+04\n",
       "mean   2.779091e+06    3110.977307   1.373574e+04\n",
       "std    7.364113e+06   13342.743386   9.672682e+04\n",
       "min    3.851000e+04       0.000000   0.000000e+00\n",
       "25%    5.312440e+05     368.000000   1.692000e+03\n",
       "50%    1.100045e+06     852.000000   3.856000e+03\n",
       "75%    2.482274e+06    2239.000000   9.322000e+03\n",
       "max    2.644074e+08  879354.000000   6.738537e+06"
      ]
     },
     "execution_count": 51,
     "metadata": {},
     "output_type": "execute_result"
    }
   ],
   "source": [
    "cat_feature = short_df.iloc[:,4:8]\n",
    "cat_feature.drop('likes', axis=1, inplace=True)\n",
    "cat_feature.describe()"
   ]
  },
  {
   "cell_type": "code",
   "execution_count": 52,
   "id": "f34e0404",
   "metadata": {},
   "outputs": [
    {
     "data": {
      "image/png": "[encoded data removed]",
      "text/plain": [
       "<Figure size 432x288 with 1 Axes>"
      ]
     },
     "metadata": {
      "needs_background": "light"
     },
     "output_type": "display_data"
    }
   ],
   "source": [
    "for i in cat_features:\n",
    "    sns.kdeplot(short_df[i])"
   ]
  },
  {
   "cell_type": "markdown",
   "id": "6d35b380",
   "metadata": {},
   "source": [
    "### 7) Transform view_count feature into normally distributed data"
   ]
  },
  {
   "cell_type": "code",
   "execution_count": 53,
   "id": "aec94b58",
   "metadata": {},
   "outputs": [
    {
     "data": {
      "image/png": "[encoded data removed]",
      "text/plain": [
       "<Figure size 720x360 with 2 Axes>"
      ]
     },
     "metadata": {
      "needs_background": "light"
     },
     "output_type": "display_data"
    }
   ],
   "source": [
    "normality(short_df, 'view_count')"
   ]
  },
  {
   "cell_type": "code",
   "execution_count": 54,
   "id": "5733022a",
   "metadata": {},
   "outputs": [],
   "source": [
    "# performing logarithmic transformation on the feature\n",
    "short_df['view_count']=np.log(short_df['view_count'])"
   ]
  },
  {
   "cell_type": "code",
   "execution_count": 55,
   "id": "a013e310",
   "metadata": {},
   "outputs": [
    {
     "data": {
      "image/png": "[encoded data removed]",
      "text/plain": [
       "<Figure size 720x360 with 2 Axes>"
      ]
     },
     "metadata": {
      "needs_background": "light"
     },
     "output_type": "display_data"
    }
   ],
   "source": [
    "#plotting to check the transformation\n",
    "normality(short_df,'view_count')"
   ]
  },
  {
   "cell_type": "markdown",
   "id": "d0660365",
   "metadata": {},
   "source": [
    "#### Above is the univariate analysis for view_count, dislikes and comment_count columns. We conclude that there are many outliers as the mean and median differ a lot and all the features are highly positively skewed"
   ]
  },
  {
   "cell_type": "markdown",
   "id": "5b2367ea",
   "metadata": {},
   "source": [
    "### E. Formulating hypothesis about this data"
   ]
  },
  {
   "cell_type": "markdown",
   "id": "eef507fb",
   "metadata": {},
   "source": [
    "1. Relationship between likes and view_count is 0 in youtube video population"
   ]
  },
  {
   "cell_type": "markdown",
   "id": "508cc0d3",
   "metadata": {},
   "source": [
    "2. Average comment_count of categoryId 10 differs from the population"
   ]
  },
  {
   "cell_type": "markdown",
   "id": "9e340785",
   "metadata": {},
   "source": [
    "3. trending_date does not have any effect on likes3"
   ]
  },
  {
   "cell_type": "markdown",
   "id": "4018552b",
   "metadata": {},
   "source": [
    "4. Assuming that duration_seconds feature is normally distributed"
   ]
  },
  {
   "cell_type": "markdown",
   "id": "d4800c85",
   "metadata": {},
   "source": [
    "### F. Conducting a formal significance test for one of the hypotheses"
   ]
  },
  {
   "cell_type": "markdown",
   "id": "973e83a1",
   "metadata": {},
   "source": [
    "#### Null Hypothesis: Relationship between likes and view_count is 0 in youtube video population\n",
    "#### Alternative Hypothesis: Relationship between likes and view_count is not 0 in youtube video population\n",
    "\n",
    "#### Significance value: 0.05"
   ]
  },
  {
   "cell_type": "code",
   "execution_count": 56,
   "id": "87f9851e",
   "metadata": {},
   "outputs": [
    {
     "name": "stdout",
     "output_type": "stream",
     "text": [
      "1.317391069693217 191384707294.2937\n",
      "145275546264.984\n",
      "Ttest_indResult(statistic=-105.61821131323308, pvalue=0.0)\n"
     ]
    }
   ],
   "source": [
    "class1 = short_df.view_count\n",
    "class2 = short_df.likes\n",
    "print(np.var(class1), np.var(class2))\n",
    "\n",
    "ratio_check = np.var(class2)/np.var(class1)\n",
    "\n",
    "print(ratio_check)\n",
    "\n",
    "print(stats.ttest_ind(a=class1, b=class2, equal_var=True))"
   ]
  },
  {
   "cell_type": "markdown",
   "id": "a2630db0",
   "metadata": {},
   "source": [
    "#### Conclusion: Since the p-value is 0, we can reject the null hypothesis, which means the alternative hypothesis of 'Relationship between likes and view_count is not 0 in youtube video population' holds true"
   ]
  },
  {
   "cell_type": "markdown",
   "id": "07d30613",
   "metadata": {},
   "source": [
    "### G. Suggestions for next steps in analyzing this data - Future Scope"
   ]
  },
  {
   "cell_type": "markdown",
   "id": "245a2738",
   "metadata": {},
   "source": [
    "1. As a next step, we can try to analyze the remaining categorical features (channelTitle and Tags) further and extract useful information which will help us decide whether it is required to consider these attributes while model building\n",
    "2. We would check whether the trending_Date feature provides any additional information or can we proceed just with the publishedDate and publishedTime\n",
    "3. We can categoriza the publishedDate into months or perhaps different time of the month.\n",
    "4. Use encoding technique on the categorical feature: publishedTime \n",
    "5. Check for the scope of time-series analysis\n",
    "6. Test the remaining hypothesis\n",
    "7. Convert features into normally distributed data"
   ]
  },
  {
   "cell_type": "markdown",
   "id": "4c5b8e54",
   "metadata": {},
   "source": [
    "### H. A paragraph that summarizes the quality of this data set and a request for additional data"
   ]
  },
  {
   "cell_type": "markdown",
   "id": "05fbcf4f",
   "metadata": {},
   "source": [
    "This dataset was quite clean with very few features with missing values. Though the dataset had redundant attributes, it was easy to identify and remove them.\n",
    "\n",
    "It would have been beneficial for our model to have few more relevant features like:\n",
    "\n",
    "    1. comments (to determine the probablity of likes based on text)\n",
    "    2. LIVE (was the video hosted live or was it an uploaded version)\n",
    "    3. Shares (No. of times the video was shared)"
   ]
  }
 ],
 "metadata": {
  "kernelspec": {
   "display_name": "Python 3",
   "language": "python",
   "name": "python3"
  },
  "language_info": {
   "codemirror_mode": {
    "name": "ipython",
    "version": 3
   },
   "file_extension": ".py",
   "mimetype": "text/x-python",
   "name": "python",
   "nbconvert_exporter": "python",
   "pygments_lexer": "ipython3",
   "version": "3.8.8"
  }
 },
 "nbformat": 4,
 "nbformat_minor": 5
}
