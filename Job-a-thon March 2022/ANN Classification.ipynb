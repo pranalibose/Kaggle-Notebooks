{
 "cells": [
  {
   "cell_type": "markdown",
   "id": "7e62bec7",
   "metadata": {},
   "source": [
    "# <u>Churn Prediction</u>\n",
    "\n",
    "## Problem\n",
    "Can you predict whether a customer will churn or not?\n",
    "\n",
    "## Problem Statement\n",
    "Decreasing the Customer Churn is a key goal for any business. Predicting Customer Churn (also known as Customer Attrition) represents an additional potential revenue source for any business. Customer Churn impacts the cost to the business. Higher Customer Churn leads to loss in revenue and the additional marketing costs involved with replacing those customers with new ones. \n",
    "\n",
    "In this challenge, as a data scientist of a bank, you are asked to analyze the past data and predict whether the customer will churn or not in the next 6 months. This would help the bank to have the right engagement with customers at the right time.\n",
    "\n",
    "## Objective\n",
    "Our objective is to build a machine learning model to predict whether the customer will churn or not in the next six months.\n",
    "\n",
    "## Data Dictionary\n",
    "\n",
    "| Variable | Description |\n",
    "| :- | :- |\n",
    "| ID | Unique Identifier of a row |\n",
    "| Age | Age of the customer |\n",
    "| Gender | Gender of the customer (Male and Female) |\n",
    "| Income | Yearly income of the customer |\n",
    "| Balance | Average quarterly balance of the customer |\n",
    "| Vintage | No. of years the customer is associated with bank |\n",
    "| Transaction_Status | Whether the customer has done any transaction in the past 3 months or not |\n",
    "| Product_Holdings | No. of product holdings with the bank |\n",
    "| Credit_Card | Whether the customer has a credit card or not |\n",
    "| Credit_Category | Category of a customer based on the credit score |\n",
    "| Is_Churn *(target variable)* | Whether the customer will churn in next 6 months or not |\n"
   ]
  },
  {
   "cell_type": "markdown",
   "id": "d9974979",
   "metadata": {},
   "source": [
    "## Steps Performed\n",
    "   1. Loading and Understanding the data\n",
    "   1. Feature Engineering\n",
    "   1. Model Building\n",
    "   1. Model's Performance Comparison\n",
    "   1. Conclusion\n",
    "   1. Next Steps"
   ]
  },
  {
   "cell_type": "code",
   "execution_count": 1,
   "id": "e0ee10dd",
   "metadata": {},
   "outputs": [],
   "source": [
    "# importing libraries\n",
    "import pandas as pd\n",
    "import numpy as np\n",
    "import matplotlib.pyplot as plt\n",
    "import plotly.express as px\n",
    "import seaborn as sns\n",
    "import plotly.graph_objects as go\n",
    "import warnings\n",
    "warnings.simplefilter('ignore')\n",
    "\n",
    "%matplotlib inline"
   ]
  },
  {
   "cell_type": "code",
   "execution_count": 2,
   "id": "052fb947",
   "metadata": {},
   "outputs": [],
   "source": [
    "train = pd.read_csv('train.csv')\n",
    "test = pd.read_csv('test.csv')"
   ]
  },
  {
   "cell_type": "code",
   "execution_count": 3,
   "id": "9e898765",
   "metadata": {},
   "outputs": [
    {
     "data": {
      "text/html": [
       "<div>\n",
       "<style scoped>\n",
       "    .dataframe tbody tr th:only-of-type {\n",
       "        vertical-align: middle;\n",
       "    }\n",
       "\n",
       "    .dataframe tbody tr th {\n",
       "        vertical-align: top;\n",
       "    }\n",
       "\n",
       "    .dataframe thead th {\n",
       "        text-align: right;\n",
       "    }\n",
       "</style>\n",
       "<table border=\"1\" class=\"dataframe\">\n",
       "  <thead>\n",
       "    <tr style=\"text-align: right;\">\n",
       "      <th></th>\n",
       "      <th>ID</th>\n",
       "      <th>Age</th>\n",
       "      <th>Gender</th>\n",
       "      <th>Income</th>\n",
       "      <th>Balance</th>\n",
       "      <th>Vintage</th>\n",
       "      <th>Transaction_Status</th>\n",
       "      <th>Product_Holdings</th>\n",
       "      <th>Credit_Card</th>\n",
       "      <th>Credit_Category</th>\n",
       "      <th>Is_Churn</th>\n",
       "    </tr>\n",
       "  </thead>\n",
       "  <tbody>\n",
       "    <tr>\n",
       "      <th>0</th>\n",
       "      <td>84e2fcc9</td>\n",
       "      <td>36</td>\n",
       "      <td>Female</td>\n",
       "      <td>5L - 10L</td>\n",
       "      <td>563266.44</td>\n",
       "      <td>4</td>\n",
       "      <td>0</td>\n",
       "      <td>1</td>\n",
       "      <td>0</td>\n",
       "      <td>Average</td>\n",
       "      <td>1</td>\n",
       "    </tr>\n",
       "    <tr>\n",
       "      <th>1</th>\n",
       "      <td>57fea15e</td>\n",
       "      <td>53</td>\n",
       "      <td>Female</td>\n",
       "      <td>Less than 5L</td>\n",
       "      <td>875572.11</td>\n",
       "      <td>2</td>\n",
       "      <td>1</td>\n",
       "      <td>1</td>\n",
       "      <td>1</td>\n",
       "      <td>Poor</td>\n",
       "      <td>0</td>\n",
       "    </tr>\n",
       "    <tr>\n",
       "      <th>2</th>\n",
       "      <td>8df34ef3</td>\n",
       "      <td>35</td>\n",
       "      <td>Female</td>\n",
       "      <td>More than 15L</td>\n",
       "      <td>701607.06</td>\n",
       "      <td>2</td>\n",
       "      <td>1</td>\n",
       "      <td>2</td>\n",
       "      <td>0</td>\n",
       "      <td>Poor</td>\n",
       "      <td>0</td>\n",
       "    </tr>\n",
       "    <tr>\n",
       "      <th>3</th>\n",
       "      <td>c5c0788b</td>\n",
       "      <td>43</td>\n",
       "      <td>Female</td>\n",
       "      <td>More than 15L</td>\n",
       "      <td>1393922.16</td>\n",
       "      <td>0</td>\n",
       "      <td>1</td>\n",
       "      <td>2</td>\n",
       "      <td>1</td>\n",
       "      <td>Poor</td>\n",
       "      <td>1</td>\n",
       "    </tr>\n",
       "    <tr>\n",
       "      <th>4</th>\n",
       "      <td>951d69c4</td>\n",
       "      <td>39</td>\n",
       "      <td>Female</td>\n",
       "      <td>More than 15L</td>\n",
       "      <td>893146.23</td>\n",
       "      <td>1</td>\n",
       "      <td>1</td>\n",
       "      <td>1</td>\n",
       "      <td>1</td>\n",
       "      <td>Good</td>\n",
       "      <td>1</td>\n",
       "    </tr>\n",
       "  </tbody>\n",
       "</table>\n",
       "</div>"
      ],
      "text/plain": [
       "         ID  Age  Gender         Income     Balance  Vintage  \\\n",
       "0  84e2fcc9   36  Female       5L - 10L   563266.44        4   \n",
       "1  57fea15e   53  Female   Less than 5L   875572.11        2   \n",
       "2  8df34ef3   35  Female  More than 15L   701607.06        2   \n",
       "3  c5c0788b   43  Female  More than 15L  1393922.16        0   \n",
       "4  951d69c4   39  Female  More than 15L   893146.23        1   \n",
       "\n",
       "   Transaction_Status Product_Holdings  Credit_Card Credit_Category  Is_Churn  \n",
       "0                   0                1            0         Average         1  \n",
       "1                   1                1            1            Poor         0  \n",
       "2                   1                2            0            Poor         0  \n",
       "3                   1                2            1            Poor         1  \n",
       "4                   1                1            1            Good         1  "
      ]
     },
     "execution_count": 3,
     "metadata": {},
     "output_type": "execute_result"
    }
   ],
   "source": [
    "train.head()"
   ]
  },
  {
   "cell_type": "code",
   "execution_count": 4,
   "id": "3038ccca",
   "metadata": {},
   "outputs": [],
   "source": [
    "sub_ids = test['ID']                              # storing sub_ids for submission\n",
    "train.drop('ID', axis=1, inplace=True)\n",
    "test.drop('ID', axis=1, inplace=True)"
   ]
  },
  {
   "cell_type": "code",
   "execution_count": 5,
   "id": "a9f80f78",
   "metadata": {},
   "outputs": [
    {
     "name": "stdout",
     "output_type": "stream",
     "text": [
      "<class 'pandas.core.frame.DataFrame'>\n",
      "RangeIndex: 6650 entries, 0 to 6649\n",
      "Data columns (total 10 columns):\n",
      " #   Column              Non-Null Count  Dtype  \n",
      "---  ------              --------------  -----  \n",
      " 0   Age                 6650 non-null   int64  \n",
      " 1   Gender              6650 non-null   object \n",
      " 2   Income              6650 non-null   object \n",
      " 3   Balance             6650 non-null   float64\n",
      " 4   Vintage             6650 non-null   int64  \n",
      " 5   Transaction_Status  6650 non-null   int64  \n",
      " 6   Product_Holdings    6650 non-null   object \n",
      " 7   Credit_Card         6650 non-null   int64  \n",
      " 8   Credit_Category     6650 non-null   object \n",
      " 9   Is_Churn            6650 non-null   int64  \n",
      "dtypes: float64(1), int64(5), object(4)\n",
      "memory usage: 519.7+ KB\n"
     ]
    }
   ],
   "source": [
    "train.info()"
   ]
  },
  {
   "cell_type": "code",
   "execution_count": 6,
   "id": "e5fa19bd",
   "metadata": {},
   "outputs": [
    {
     "data": {
      "text/html": [
       "<div>\n",
       "<style scoped>\n",
       "    .dataframe tbody tr th:only-of-type {\n",
       "        vertical-align: middle;\n",
       "    }\n",
       "\n",
       "    .dataframe tbody tr th {\n",
       "        vertical-align: top;\n",
       "    }\n",
       "\n",
       "    .dataframe thead th {\n",
       "        text-align: right;\n",
       "    }\n",
       "</style>\n",
       "<table border=\"1\" class=\"dataframe\">\n",
       "  <thead>\n",
       "    <tr style=\"text-align: right;\">\n",
       "      <th></th>\n",
       "      <th>Age</th>\n",
       "      <th>Balance</th>\n",
       "      <th>Vintage</th>\n",
       "      <th>Transaction_Status</th>\n",
       "      <th>Credit_Card</th>\n",
       "      <th>Is_Churn</th>\n",
       "    </tr>\n",
       "  </thead>\n",
       "  <tbody>\n",
       "    <tr>\n",
       "      <th>count</th>\n",
       "      <td>6650.000000</td>\n",
       "      <td>6.650000e+03</td>\n",
       "      <td>6650.000000</td>\n",
       "      <td>6650.000000</td>\n",
       "      <td>6650.000000</td>\n",
       "      <td>6650.000000</td>\n",
       "    </tr>\n",
       "    <tr>\n",
       "      <th>mean</th>\n",
       "      <td>41.130226</td>\n",
       "      <td>8.045954e+05</td>\n",
       "      <td>2.250226</td>\n",
       "      <td>0.515789</td>\n",
       "      <td>0.664361</td>\n",
       "      <td>0.231128</td>\n",
       "    </tr>\n",
       "    <tr>\n",
       "      <th>std</th>\n",
       "      <td>9.685747</td>\n",
       "      <td>5.157549e+05</td>\n",
       "      <td>1.458795</td>\n",
       "      <td>0.499788</td>\n",
       "      <td>0.472249</td>\n",
       "      <td>0.421586</td>\n",
       "    </tr>\n",
       "    <tr>\n",
       "      <th>min</th>\n",
       "      <td>21.000000</td>\n",
       "      <td>6.300000e+01</td>\n",
       "      <td>0.000000</td>\n",
       "      <td>0.000000</td>\n",
       "      <td>0.000000</td>\n",
       "      <td>0.000000</td>\n",
       "    </tr>\n",
       "    <tr>\n",
       "      <th>25%</th>\n",
       "      <td>34.000000</td>\n",
       "      <td>3.922642e+05</td>\n",
       "      <td>1.000000</td>\n",
       "      <td>0.000000</td>\n",
       "      <td>0.000000</td>\n",
       "      <td>0.000000</td>\n",
       "    </tr>\n",
       "    <tr>\n",
       "      <th>50%</th>\n",
       "      <td>40.000000</td>\n",
       "      <td>7.649386e+05</td>\n",
       "      <td>2.000000</td>\n",
       "      <td>1.000000</td>\n",
       "      <td>1.000000</td>\n",
       "      <td>0.000000</td>\n",
       "    </tr>\n",
       "    <tr>\n",
       "      <th>75%</th>\n",
       "      <td>47.000000</td>\n",
       "      <td>1.147124e+06</td>\n",
       "      <td>3.000000</td>\n",
       "      <td>1.000000</td>\n",
       "      <td>1.000000</td>\n",
       "      <td>0.000000</td>\n",
       "    </tr>\n",
       "    <tr>\n",
       "      <th>max</th>\n",
       "      <td>72.000000</td>\n",
       "      <td>2.436616e+06</td>\n",
       "      <td>5.000000</td>\n",
       "      <td>1.000000</td>\n",
       "      <td>1.000000</td>\n",
       "      <td>1.000000</td>\n",
       "    </tr>\n",
       "  </tbody>\n",
       "</table>\n",
       "</div>"
      ],
      "text/plain": [
       "               Age       Balance      Vintage  Transaction_Status  \\\n",
       "count  6650.000000  6.650000e+03  6650.000000         6650.000000   \n",
       "mean     41.130226  8.045954e+05     2.250226            0.515789   \n",
       "std       9.685747  5.157549e+05     1.458795            0.499788   \n",
       "min      21.000000  6.300000e+01     0.000000            0.000000   \n",
       "25%      34.000000  3.922642e+05     1.000000            0.000000   \n",
       "50%      40.000000  7.649386e+05     2.000000            1.000000   \n",
       "75%      47.000000  1.147124e+06     3.000000            1.000000   \n",
       "max      72.000000  2.436616e+06     5.000000            1.000000   \n",
       "\n",
       "       Credit_Card     Is_Churn  \n",
       "count  6650.000000  6650.000000  \n",
       "mean      0.664361     0.231128  \n",
       "std       0.472249     0.421586  \n",
       "min       0.000000     0.000000  \n",
       "25%       0.000000     0.000000  \n",
       "50%       1.000000     0.000000  \n",
       "75%       1.000000     0.000000  \n",
       "max       1.000000     1.000000  "
      ]
     },
     "execution_count": 6,
     "metadata": {},
     "output_type": "execute_result"
    }
   ],
   "source": [
    "train.describe()"
   ]
  },
  {
   "cell_type": "code",
   "execution_count": 7,
   "id": "6f8d80e8",
   "metadata": {},
   "outputs": [
    {
     "name": "stdout",
     "output_type": "stream",
     "text": [
      "Train Shape:  (6650, 10)   Test Shape:  (2851, 9)\n"
     ]
    }
   ],
   "source": [
    "print('Train Shape: ', train.shape, '  Test Shape: ', test.shape)"
   ]
  },
  {
   "cell_type": "markdown",
   "id": "986b73c5",
   "metadata": {},
   "source": [
    "### **From the above initial analysis it is clear that:**\n",
    "   - There are 9 predictors out of which are 4 are categorical features and the rest are numericals\n",
    "   - Train set has a total of 6650 records whereas there are 2851 in test set\n",
    "   - There are no missing values in the datasets\n",
    "   - Memory utilization by training dataset is minimal, around 520 KB\n",
    "   - The statistical information tells the range and percecntile values of each numerical feature"
   ]
  },
  {
   "cell_type": "code",
   "execution_count": 8,
   "id": "66c00a22",
   "metadata": {},
   "outputs": [],
   "source": [
    "num_features = [i for i in train.columns if train[i].dtype != 'object']            # list of numberical features\n",
    "cat_features = [i for i in train.columns if train[i].dtype == 'object']            # list of cateforical features"
   ]
  },
  {
   "cell_type": "markdown",
   "id": "44e605ae",
   "metadata": {},
   "source": [
    "## <u>Feature Engineering</u>\n",
    "\n",
    "We have a good understanding of the data from the previous section. Here, we will alter the dataset to make it model ready. We are going to perform the following operations:\n",
    "   1. Handle Missing Values\n",
    "   1. Encode Categorical Features\n",
    "   1. Feature Scaling\n",
    "   1. Imbalanced Dataset "
   ]
  },
  {
   "cell_type": "code",
   "execution_count": 9,
   "id": "61099c8c",
   "metadata": {},
   "outputs": [],
   "source": [
    "# import libraries\n",
    "\n",
    "from sklearn.preprocessing import LabelEncoder\n",
    "from sklearn.preprocessing import MinMaxScaler\n",
    "from imblearn.over_sampling import SMOTE, ADASYN\n",
    "from sklearn.model_selection import train_test_split\n",
    "from sklearn.ensemble import RandomForestClassifier"
   ]
  },
  {
   "cell_type": "markdown",
   "id": "949a4b77",
   "metadata": {},
   "source": [
    "### 1. Missing Values"
   ]
  },
  {
   "cell_type": "code",
   "execution_count": 10,
   "id": "2c8a0cab",
   "metadata": {},
   "outputs": [
    {
     "data": {
      "text/plain": [
       "Age                   0\n",
       "Gender                0\n",
       "Income                0\n",
       "Balance               0\n",
       "Vintage               0\n",
       "Transaction_Status    0\n",
       "Product_Holdings      0\n",
       "Credit_Card           0\n",
       "Credit_Category       0\n",
       "Is_Churn              0\n",
       "dtype: int64"
      ]
     },
     "execution_count": 10,
     "metadata": {},
     "output_type": "execute_result"
    }
   ],
   "source": [
    "train.isnull().sum()"
   ]
  },
  {
   "cell_type": "code",
   "execution_count": 11,
   "id": "40339464",
   "metadata": {},
   "outputs": [
    {
     "data": {
      "text/plain": [
       "Age                   0\n",
       "Gender                0\n",
       "Income                0\n",
       "Balance               0\n",
       "Vintage               0\n",
       "Transaction_Status    0\n",
       "Product_Holdings      0\n",
       "Credit_Card           0\n",
       "Credit_Category       0\n",
       "dtype: int64"
      ]
     },
     "execution_count": 11,
     "metadata": {},
     "output_type": "execute_result"
    }
   ],
   "source": [
    "test.isnull().sum()"
   ]
  },
  {
   "cell_type": "markdown",
   "id": "c7e335ab",
   "metadata": {},
   "source": [
    "**We do not see any missing values in either of the datasets**"
   ]
  },
  {
   "cell_type": "markdown",
   "id": "ac6068cb",
   "metadata": {},
   "source": [
    "### 2. Encoding\n",
    "\n",
    "Models understand only numbers. Hence, it is crucial to conver the categorical features to numerical values. There are multiple ways of achieving this. For example Label Encoding isused in case of ordinal values in categorical feature whereas One-Hot encoding can be used for nominal values. "
   ]
  },
  {
   "cell_type": "code",
   "execution_count": 12,
   "id": "aca3002f",
   "metadata": {},
   "outputs": [
    {
     "data": {
      "text/html": [
       "<div>\n",
       "<style scoped>\n",
       "    .dataframe tbody tr th:only-of-type {\n",
       "        vertical-align: middle;\n",
       "    }\n",
       "\n",
       "    .dataframe tbody tr th {\n",
       "        vertical-align: top;\n",
       "    }\n",
       "\n",
       "    .dataframe thead th {\n",
       "        text-align: right;\n",
       "    }\n",
       "</style>\n",
       "<table border=\"1\" class=\"dataframe\">\n",
       "  <thead>\n",
       "    <tr style=\"text-align: right;\">\n",
       "      <th></th>\n",
       "      <th>Age</th>\n",
       "      <th>Gender</th>\n",
       "      <th>Income</th>\n",
       "      <th>Balance</th>\n",
       "      <th>Vintage</th>\n",
       "      <th>Transaction_Status</th>\n",
       "      <th>Product_Holdings</th>\n",
       "      <th>Credit_Card</th>\n",
       "      <th>Credit_Category</th>\n",
       "      <th>Is_Churn</th>\n",
       "    </tr>\n",
       "  </thead>\n",
       "  <tbody>\n",
       "    <tr>\n",
       "      <th>0</th>\n",
       "      <td>36</td>\n",
       "      <td>0</td>\n",
       "      <td>1</td>\n",
       "      <td>563266.44</td>\n",
       "      <td>4</td>\n",
       "      <td>0</td>\n",
       "      <td>0</td>\n",
       "      <td>0</td>\n",
       "      <td>0</td>\n",
       "      <td>1</td>\n",
       "    </tr>\n",
       "    <tr>\n",
       "      <th>1</th>\n",
       "      <td>53</td>\n",
       "      <td>0</td>\n",
       "      <td>2</td>\n",
       "      <td>875572.11</td>\n",
       "      <td>2</td>\n",
       "      <td>1</td>\n",
       "      <td>0</td>\n",
       "      <td>1</td>\n",
       "      <td>2</td>\n",
       "      <td>0</td>\n",
       "    </tr>\n",
       "    <tr>\n",
       "      <th>2</th>\n",
       "      <td>35</td>\n",
       "      <td>0</td>\n",
       "      <td>3</td>\n",
       "      <td>701607.06</td>\n",
       "      <td>2</td>\n",
       "      <td>1</td>\n",
       "      <td>1</td>\n",
       "      <td>0</td>\n",
       "      <td>2</td>\n",
       "      <td>0</td>\n",
       "    </tr>\n",
       "    <tr>\n",
       "      <th>3</th>\n",
       "      <td>43</td>\n",
       "      <td>0</td>\n",
       "      <td>3</td>\n",
       "      <td>1393922.16</td>\n",
       "      <td>0</td>\n",
       "      <td>1</td>\n",
       "      <td>1</td>\n",
       "      <td>1</td>\n",
       "      <td>2</td>\n",
       "      <td>1</td>\n",
       "    </tr>\n",
       "    <tr>\n",
       "      <th>4</th>\n",
       "      <td>39</td>\n",
       "      <td>0</td>\n",
       "      <td>3</td>\n",
       "      <td>893146.23</td>\n",
       "      <td>1</td>\n",
       "      <td>1</td>\n",
       "      <td>0</td>\n",
       "      <td>1</td>\n",
       "      <td>1</td>\n",
       "      <td>1</td>\n",
       "    </tr>\n",
       "  </tbody>\n",
       "</table>\n",
       "</div>"
      ],
      "text/plain": [
       "   Age  Gender  Income     Balance  Vintage  Transaction_Status  \\\n",
       "0   36       0       1   563266.44        4                   0   \n",
       "1   53       0       2   875572.11        2                   1   \n",
       "2   35       0       3   701607.06        2                   1   \n",
       "3   43       0       3  1393922.16        0                   1   \n",
       "4   39       0       3   893146.23        1                   1   \n",
       "\n",
       "   Product_Holdings  Credit_Card  Credit_Category  Is_Churn  \n",
       "0                 0            0                0         1  \n",
       "1                 0            1                2         0  \n",
       "2                 1            0                2         0  \n",
       "3                 1            1                2         1  \n",
       "4                 0            1                1         1  "
      ]
     },
     "execution_count": 12,
     "metadata": {},
     "output_type": "execute_result"
    }
   ],
   "source": [
    "# Label Encoding Income and Credit Category\n",
    "le_cols = ['Income', 'Credit_Category', 'Product_Holdings', 'Gender']\n",
    "def LE(train, test):\n",
    "    le = LabelEncoder()\n",
    "    for col in le_cols:\n",
    "            train[col] = le.fit_transform(train[col])\n",
    "            test[col] = le.transform(test[col])\n",
    "    return train, test\n",
    "\n",
    "# train_en, test_en = LE(train, test)\n",
    "LE(train, test)\n",
    "train.head()"
   ]
  },
  {
   "cell_type": "markdown",
   "id": "e29114e0",
   "metadata": {},
   "source": [
    "### 4. Scaling\n",
    "Scaling is an important part of Feature Engineering. The idea behind scaling is to bring down all the values in a feature within a certain range. Here, we have used MinMax scaler on Vintage feature to squeeze all the values in the range of 0-1."
   ]
  },
  {
   "cell_type": "code",
   "execution_count": 13,
   "id": "40dea72d",
   "metadata": {},
   "outputs": [
    {
     "data": {
      "text/html": [
       "<div>\n",
       "<style scoped>\n",
       "    .dataframe tbody tr th:only-of-type {\n",
       "        vertical-align: middle;\n",
       "    }\n",
       "\n",
       "    .dataframe tbody tr th {\n",
       "        vertical-align: top;\n",
       "    }\n",
       "\n",
       "    .dataframe thead th {\n",
       "        text-align: right;\n",
       "    }\n",
       "</style>\n",
       "<table border=\"1\" class=\"dataframe\">\n",
       "  <thead>\n",
       "    <tr style=\"text-align: right;\">\n",
       "      <th></th>\n",
       "      <th>Age</th>\n",
       "      <th>Gender</th>\n",
       "      <th>Income</th>\n",
       "      <th>Balance</th>\n",
       "      <th>Vintage</th>\n",
       "      <th>Transaction_Status</th>\n",
       "      <th>Product_Holdings</th>\n",
       "      <th>Credit_Card</th>\n",
       "      <th>Credit_Category</th>\n",
       "      <th>Is_Churn</th>\n",
       "    </tr>\n",
       "  </thead>\n",
       "  <tbody>\n",
       "    <tr>\n",
       "      <th>0</th>\n",
       "      <td>0.294118</td>\n",
       "      <td>0</td>\n",
       "      <td>1</td>\n",
       "      <td>0.231148</td>\n",
       "      <td>0.8</td>\n",
       "      <td>0</td>\n",
       "      <td>0</td>\n",
       "      <td>0</td>\n",
       "      <td>0</td>\n",
       "      <td>1</td>\n",
       "    </tr>\n",
       "    <tr>\n",
       "      <th>1</th>\n",
       "      <td>0.627451</td>\n",
       "      <td>0</td>\n",
       "      <td>2</td>\n",
       "      <td>0.359323</td>\n",
       "      <td>0.4</td>\n",
       "      <td>1</td>\n",
       "      <td>0</td>\n",
       "      <td>1</td>\n",
       "      <td>2</td>\n",
       "      <td>0</td>\n",
       "    </tr>\n",
       "    <tr>\n",
       "      <th>2</th>\n",
       "      <td>0.274510</td>\n",
       "      <td>0</td>\n",
       "      <td>3</td>\n",
       "      <td>0.287925</td>\n",
       "      <td>0.4</td>\n",
       "      <td>1</td>\n",
       "      <td>1</td>\n",
       "      <td>0</td>\n",
       "      <td>2</td>\n",
       "      <td>0</td>\n",
       "    </tr>\n",
       "    <tr>\n",
       "      <th>3</th>\n",
       "      <td>0.431373</td>\n",
       "      <td>0</td>\n",
       "      <td>3</td>\n",
       "      <td>0.572062</td>\n",
       "      <td>0.0</td>\n",
       "      <td>1</td>\n",
       "      <td>1</td>\n",
       "      <td>1</td>\n",
       "      <td>2</td>\n",
       "      <td>1</td>\n",
       "    </tr>\n",
       "    <tr>\n",
       "      <th>4</th>\n",
       "      <td>0.352941</td>\n",
       "      <td>0</td>\n",
       "      <td>3</td>\n",
       "      <td>0.366536</td>\n",
       "      <td>0.2</td>\n",
       "      <td>1</td>\n",
       "      <td>0</td>\n",
       "      <td>1</td>\n",
       "      <td>1</td>\n",
       "      <td>1</td>\n",
       "    </tr>\n",
       "  </tbody>\n",
       "</table>\n",
       "</div>"
      ],
      "text/plain": [
       "        Age  Gender  Income   Balance  Vintage  Transaction_Status  \\\n",
       "0  0.294118       0       1  0.231148      0.8                   0   \n",
       "1  0.627451       0       2  0.359323      0.4                   1   \n",
       "2  0.274510       0       3  0.287925      0.4                   1   \n",
       "3  0.431373       0       3  0.572062      0.0                   1   \n",
       "4  0.352941       0       3  0.366536      0.2                   1   \n",
       "\n",
       "   Product_Holdings  Credit_Card  Credit_Category  Is_Churn  \n",
       "0                 0            0                0         1  \n",
       "1                 0            1                2         0  \n",
       "2                 1            0                2         0  \n",
       "3                 1            1                2         1  \n",
       "4                 0            1                1         1  "
      ]
     },
     "execution_count": 13,
     "metadata": {},
     "output_type": "execute_result"
    }
   ],
   "source": [
    "scaler = MinMaxScaler()\n",
    "num_features = ['Age', 'Balance', 'Vintage']\n",
    "\n",
    "train[num_features] = scaler.fit_transform(train[num_features])\n",
    "test[num_features] = scaler.transform(test[num_features])\n",
    "\n",
    "train.head()"
   ]
  },
  {
   "cell_type": "markdown",
   "id": "2cea2681",
   "metadata": {},
   "source": [
    "### 5. Handling Imbalanced Class\n",
    "In case of classification problems we should ensure the distribution of the classes in target feature. As the customers churned are quite less in number in the dataset, we need to adjust and balance the classes (churn vs not_churned). There are 2 techniques by which this can be achieved: Over-sampling and Under Sampling."
   ]
  },
  {
   "cell_type": "code",
   "execution_count": 14,
   "id": "65dc0ad8",
   "metadata": {},
   "outputs": [],
   "source": [
    "# X = train.drop('Is_Churn', axis=1)\n",
    "# y = train['Is_Churn']\n",
    "\n",
    "# sm = SMOTE(sampling_strategy = 'minority', k_neighbors = 1, random_state = 42)\n",
    "# x_train_miss, y_train_miss = sm.fit_resample(X, y.ravel())\n",
    "\n",
    "# x_train, x_test, y_train, y_test = train_test_split(x_train_miss, y_train_miss, test_size=0.3, random_state=42)"
   ]
  },
  {
   "cell_type": "code",
   "execution_count": 15,
   "id": "0b2b36d1",
   "metadata": {},
   "outputs": [],
   "source": [
    "X = train.drop('Is_Churn', axis=1)\n",
    "y = train['Is_Churn']\n",
    "\n",
    "ad = ADASYN(sampling_strategy = 'minority', n_neighbors = 5, random_state = 140)\n",
    "x_train_miss, y_train_miss = ad.fit_resample(X, y.ravel())\n",
    "\n",
    "x_train, x_test, y_train, y_test = train_test_split(x_train_miss, y_train_miss, test_size=0.3, random_state=42)"
   ]
  },
  {
   "cell_type": "markdown",
   "id": "659c7d14",
   "metadata": {},
   "source": [
    "## <u>Model Building</u>"
   ]
  },
  {
   "cell_type": "code",
   "execution_count": 18,
   "id": "f9970cc0",
   "metadata": {},
   "outputs": [],
   "source": [
    "# importing libraries for this section \n",
    "\n",
    "from sklearn.metrics import classification_report, accuracy_score, confusion_matrix, roc_auc_score, roc_curve\n",
    "# import xgboost\n",
    "from sklearn.model_selection import cross_val_score\n",
    "from sklearn.datasets import make_blobs\n",
    "import keras\n",
    "from keras.layers import Dense, Dropout "
   ]
  },
  {
   "cell_type": "code",
   "execution_count": 19,
   "id": "abbf7f6f",
   "metadata": {},
   "outputs": [],
   "source": [
    "def model_score_ann(model):\n",
    "    ''' model score for ann. Converting the continuous variables to 0s and 1s'''\n",
    "    yp = model.predict(x_test)\n",
    "    y_pred = []\n",
    "    for i in yp:\n",
    "        if i<0.5:\n",
    "            y_pred.append(0)\n",
    "        else:\n",
    "            y_pred.append(1)\n",
    "        \n",
    "    print(classification_report(y_test, y_pred))\n",
    "    cm = confusion_matrix(y_test, y_pred)\n",
    "    sns.set_context('talk')\n",
    "    sns.heatmap(cm, annot=True, fmt='d')\n",
    "    plt.show()"
   ]
  },
  {
   "cell_type": "markdown",
   "id": "672deded",
   "metadata": {},
   "source": [
    "### ANN - with Dense"
   ]
  },
  {
   "cell_type": "code",
   "execution_count": 20,
   "id": "01f6665d",
   "metadata": {},
   "outputs": [],
   "source": [
    "# Training a simple Artificial Neural Network\n",
    "ann1 = keras.Sequential([\n",
    "    keras.layers.Dense(2, input_dim=9, activation='leaky_relu'),\n",
    "    keras.layers.Dense(1, activation='sigmoid')\n",
    "])"
   ]
  },
  {
   "cell_type": "code",
   "execution_count": 21,
   "id": "dfbb23d0",
   "metadata": {},
   "outputs": [
    {
     "name": "stdout",
     "output_type": "stream",
     "text": [
      "Epoch 1/100\n",
      "56/56 [==============================] - 1s 7ms/step - loss: 1.0137 - accuracy: 0.4900 - val_loss: 0.9431 - val_accuracy: 0.4950\n",
      "Epoch 2/100\n",
      "56/56 [==============================] - 0s 2ms/step - loss: 0.8619 - accuracy: 0.4949 - val_loss: 0.8310 - val_accuracy: 0.5014\n",
      "Epoch 3/100\n",
      "56/56 [==============================] - 0s 2ms/step - loss: 0.7813 - accuracy: 0.4929 - val_loss: 0.7728 - val_accuracy: 0.4928\n",
      "Epoch 4/100\n",
      "56/56 [==============================] - 0s 2ms/step - loss: 0.7415 - accuracy: 0.4988 - val_loss: 0.7442 - val_accuracy: 0.4907\n",
      "Epoch 5/100\n",
      "56/56 [==============================] - 0s 2ms/step - loss: 0.7228 - accuracy: 0.4994 - val_loss: 0.7285 - val_accuracy: 0.4899\n",
      "Epoch 6/100\n",
      "56/56 [==============================] - 0s 2ms/step - loss: 0.7130 - accuracy: 0.5028 - val_loss: 0.7200 - val_accuracy: 0.5000\n",
      "Epoch 7/100\n",
      "56/56 [==============================] - 0s 2ms/step - loss: 0.7074 - accuracy: 0.5130 - val_loss: 0.7146 - val_accuracy: 0.4878\n",
      "Epoch 8/100\n",
      "56/56 [==============================] - 0s 2ms/step - loss: 0.7038 - accuracy: 0.5159 - val_loss: 0.7112 - val_accuracy: 0.4899\n",
      "Epoch 9/100\n",
      "56/56 [==============================] - 0s 2ms/step - loss: 0.7018 - accuracy: 0.5148 - val_loss: 0.7088 - val_accuracy: 0.4928\n",
      "Epoch 10/100\n",
      "56/56 [==============================] - 0s 3ms/step - loss: 0.7002 - accuracy: 0.5186 - val_loss: 0.7069 - val_accuracy: 0.4928\n",
      "Epoch 11/100\n",
      "56/56 [==============================] - 0s 2ms/step - loss: 0.6989 - accuracy: 0.5132 - val_loss: 0.7052 - val_accuracy: 0.4964\n",
      "Epoch 12/100\n",
      "56/56 [==============================] - 0s 2ms/step - loss: 0.6977 - accuracy: 0.5150 - val_loss: 0.7039 - val_accuracy: 0.4935\n",
      "Epoch 13/100\n",
      "56/56 [==============================] - 0s 2ms/step - loss: 0.6968 - accuracy: 0.5121 - val_loss: 0.7029 - val_accuracy: 0.4921\n",
      "Epoch 14/100\n",
      "56/56 [==============================] - 0s 2ms/step - loss: 0.6960 - accuracy: 0.5121 - val_loss: 0.7021 - val_accuracy: 0.4921\n",
      "Epoch 15/100\n",
      "56/56 [==============================] - 0s 2ms/step - loss: 0.6954 - accuracy: 0.5175 - val_loss: 0.7013 - val_accuracy: 0.4892\n",
      "Epoch 16/100\n",
      "56/56 [==============================] - 0s 2ms/step - loss: 0.6948 - accuracy: 0.5172 - val_loss: 0.7005 - val_accuracy: 0.4899\n",
      "Epoch 17/100\n",
      "56/56 [==============================] - 0s 2ms/step - loss: 0.6943 - accuracy: 0.5209 - val_loss: 0.6999 - val_accuracy: 0.4907\n",
      "Epoch 18/100\n",
      "56/56 [==============================] - 0s 2ms/step - loss: 0.6938 - accuracy: 0.5197 - val_loss: 0.6992 - val_accuracy: 0.4907\n",
      "Epoch 19/100\n",
      "56/56 [==============================] - 0s 2ms/step - loss: 0.6933 - accuracy: 0.5215 - val_loss: 0.6984 - val_accuracy: 0.4914\n",
      "Epoch 20/100\n",
      "56/56 [==============================] - 0s 2ms/step - loss: 0.6928 - accuracy: 0.5233 - val_loss: 0.6978 - val_accuracy: 0.4971\n",
      "Epoch 21/100\n",
      "56/56 [==============================] - 0s 2ms/step - loss: 0.6924 - accuracy: 0.5242 - val_loss: 0.6971 - val_accuracy: 0.4986\n",
      "Epoch 22/100\n",
      "56/56 [==============================] - 0s 2ms/step - loss: 0.6920 - accuracy: 0.5270 - val_loss: 0.6966 - val_accuracy: 0.4993\n",
      "Epoch 23/100\n",
      "56/56 [==============================] - 0s 2ms/step - loss: 0.6916 - accuracy: 0.5252 - val_loss: 0.6961 - val_accuracy: 0.4986\n",
      "Epoch 24/100\n",
      "56/56 [==============================] - 0s 2ms/step - loss: 0.6912 - accuracy: 0.5294 - val_loss: 0.6957 - val_accuracy: 0.5007\n",
      "Epoch 25/100\n",
      "56/56 [==============================] - 0s 2ms/step - loss: 0.6909 - accuracy: 0.5272 - val_loss: 0.6953 - val_accuracy: 0.5036\n",
      "Epoch 26/100\n",
      "56/56 [==============================] - 0s 2ms/step - loss: 0.6905 - accuracy: 0.5306 - val_loss: 0.6949 - val_accuracy: 0.5000\n",
      "Epoch 27/100\n",
      "56/56 [==============================] - 0s 2ms/step - loss: 0.6902 - accuracy: 0.5304 - val_loss: 0.6945 - val_accuracy: 0.5029\n",
      "Epoch 28/100\n",
      "56/56 [==============================] - 0s 2ms/step - loss: 0.6899 - accuracy: 0.5312 - val_loss: 0.6942 - val_accuracy: 0.5065\n",
      "Epoch 29/100\n",
      "56/56 [==============================] - 0s 2ms/step - loss: 0.6895 - accuracy: 0.5315 - val_loss: 0.6938 - val_accuracy: 0.5072\n",
      "Epoch 30/100\n",
      "56/56 [==============================] - 0s 2ms/step - loss: 0.6892 - accuracy: 0.5337 - val_loss: 0.6935 - val_accuracy: 0.5086\n",
      "Epoch 31/100\n",
      "56/56 [==============================] - 0s 2ms/step - loss: 0.6889 - accuracy: 0.5330 - val_loss: 0.6930 - val_accuracy: 0.5093\n",
      "Epoch 32/100\n",
      "56/56 [==============================] - 0s 2ms/step - loss: 0.6885 - accuracy: 0.5337 - val_loss: 0.6926 - val_accuracy: 0.5129\n",
      "Epoch 33/100\n",
      "56/56 [==============================] - 0s 2ms/step - loss: 0.6882 - accuracy: 0.5339 - val_loss: 0.6922 - val_accuracy: 0.5122\n",
      "Epoch 34/100\n",
      "56/56 [==============================] - 0s 2ms/step - loss: 0.6878 - accuracy: 0.5346 - val_loss: 0.6918 - val_accuracy: 0.5165\n",
      "Epoch 35/100\n",
      "56/56 [==============================] - 0s 3ms/step - loss: 0.6874 - accuracy: 0.5373 - val_loss: 0.6914 - val_accuracy: 0.5172\n",
      "Epoch 36/100\n",
      "56/56 [==============================] - 0s 2ms/step - loss: 0.6871 - accuracy: 0.5380 - val_loss: 0.6910 - val_accuracy: 0.5216\n",
      "Epoch 37/100\n",
      "56/56 [==============================] - 0s 2ms/step - loss: 0.6866 - accuracy: 0.5369 - val_loss: 0.6905 - val_accuracy: 0.5244\n",
      "Epoch 38/100\n",
      "56/56 [==============================] - 0s 2ms/step - loss: 0.6862 - accuracy: 0.5418 - val_loss: 0.6900 - val_accuracy: 0.5302\n",
      "Epoch 39/100\n",
      "56/56 [==============================] - 0s 2ms/step - loss: 0.6858 - accuracy: 0.5436 - val_loss: 0.6894 - val_accuracy: 0.5345\n",
      "Epoch 40/100\n",
      "56/56 [==============================] - 0s 2ms/step - loss: 0.6853 - accuracy: 0.5445 - val_loss: 0.6889 - val_accuracy: 0.5338\n",
      "Epoch 41/100\n",
      "56/56 [==============================] - 0s 2ms/step - loss: 0.6848 - accuracy: 0.5459 - val_loss: 0.6883 - val_accuracy: 0.5330\n",
      "Epoch 42/100\n",
      "56/56 [==============================] - 0s 2ms/step - loss: 0.6842 - accuracy: 0.5500 - val_loss: 0.6877 - val_accuracy: 0.5381\n",
      "Epoch 43/100\n",
      "56/56 [==============================] - 0s 2ms/step - loss: 0.6836 - accuracy: 0.5516 - val_loss: 0.6870 - val_accuracy: 0.5381\n",
      "Epoch 44/100\n",
      "56/56 [==============================] - 0s 2ms/step - loss: 0.6830 - accuracy: 0.5531 - val_loss: 0.6864 - val_accuracy: 0.5395\n",
      "Epoch 45/100\n",
      "56/56 [==============================] - 0s 2ms/step - loss: 0.6823 - accuracy: 0.5567 - val_loss: 0.6857 - val_accuracy: 0.5409\n",
      "Epoch 46/100\n",
      "56/56 [==============================] - 0s 3ms/step - loss: 0.6813 - accuracy: 0.5556 - val_loss: 0.6846 - val_accuracy: 0.5417\n",
      "Epoch 47/100\n",
      "56/56 [==============================] - 0s 3ms/step - loss: 0.6799 - accuracy: 0.5533 - val_loss: 0.6835 - val_accuracy: 0.5489\n",
      "Epoch 48/100\n",
      "56/56 [==============================] - 0s 2ms/step - loss: 0.6782 - accuracy: 0.5574 - val_loss: 0.6822 - val_accuracy: 0.5474\n",
      "Epoch 49/100\n",
      "56/56 [==============================] - 0s 2ms/step - loss: 0.6762 - accuracy: 0.5630 - val_loss: 0.6814 - val_accuracy: 0.5575\n",
      "Epoch 50/100\n",
      "56/56 [==============================] - 0s 2ms/step - loss: 0.6746 - accuracy: 0.5687 - val_loss: 0.6800 - val_accuracy: 0.5654\n",
      "Epoch 51/100\n",
      "56/56 [==============================] - 0s 2ms/step - loss: 0.6729 - accuracy: 0.5703 - val_loss: 0.6786 - val_accuracy: 0.5690\n",
      "Epoch 52/100\n",
      "56/56 [==============================] - 0s 2ms/step - loss: 0.6717 - accuracy: 0.5728 - val_loss: 0.6775 - val_accuracy: 0.5711\n",
      "Epoch 53/100\n",
      "56/56 [==============================] - 0s 2ms/step - loss: 0.6707 - accuracy: 0.5763 - val_loss: 0.6768 - val_accuracy: 0.5733\n",
      "Epoch 54/100\n",
      "56/56 [==============================] - 0s 2ms/step - loss: 0.6696 - accuracy: 0.5793 - val_loss: 0.6758 - val_accuracy: 0.5812\n",
      "Epoch 55/100\n",
      "56/56 [==============================] - 0s 2ms/step - loss: 0.6686 - accuracy: 0.5809 - val_loss: 0.6751 - val_accuracy: 0.5776\n",
      "Epoch 56/100\n",
      "56/56 [==============================] - 0s 2ms/step - loss: 0.6679 - accuracy: 0.5824 - val_loss: 0.6743 - val_accuracy: 0.5769\n",
      "Epoch 57/100\n",
      "56/56 [==============================] - 0s 2ms/step - loss: 0.6670 - accuracy: 0.5885 - val_loss: 0.6732 - val_accuracy: 0.5812\n",
      "Epoch 58/100\n",
      "56/56 [==============================] - 0s 2ms/step - loss: 0.6663 - accuracy: 0.5930 - val_loss: 0.6723 - val_accuracy: 0.5833\n"
     ]
    },
    {
     "name": "stdout",
     "output_type": "stream",
     "text": [
      "Epoch 59/100\n",
      "56/56 [==============================] - 0s 2ms/step - loss: 0.6657 - accuracy: 0.5937 - val_loss: 0.6720 - val_accuracy: 0.5819\n",
      "Epoch 60/100\n",
      "56/56 [==============================] - 0s 2ms/step - loss: 0.6647 - accuracy: 0.5948 - val_loss: 0.6710 - val_accuracy: 0.5819\n",
      "Epoch 61/100\n",
      "56/56 [==============================] - 0s 2ms/step - loss: 0.6642 - accuracy: 0.5992 - val_loss: 0.6707 - val_accuracy: 0.5884\n",
      "Epoch 62/100\n",
      "56/56 [==============================] - 0s 2ms/step - loss: 0.6635 - accuracy: 0.6019 - val_loss: 0.6699 - val_accuracy: 0.5905\n",
      "Epoch 63/100\n",
      "56/56 [==============================] - 0s 2ms/step - loss: 0.6627 - accuracy: 0.5998 - val_loss: 0.6687 - val_accuracy: 0.5934\n",
      "Epoch 64/100\n",
      "56/56 [==============================] - 0s 2ms/step - loss: 0.6621 - accuracy: 0.6009 - val_loss: 0.6680 - val_accuracy: 0.5934\n",
      "Epoch 65/100\n",
      "56/56 [==============================] - 0s 2ms/step - loss: 0.6621 - accuracy: 0.6009 - val_loss: 0.6682 - val_accuracy: 0.5934\n",
      "Epoch 66/100\n",
      "56/56 [==============================] - 0s 2ms/step - loss: 0.6610 - accuracy: 0.6030 - val_loss: 0.6671 - val_accuracy: 0.5920\n",
      "Epoch 67/100\n",
      "56/56 [==============================] - 0s 2ms/step - loss: 0.6605 - accuracy: 0.6028 - val_loss: 0.6664 - val_accuracy: 0.5934\n",
      "Epoch 68/100\n",
      "56/56 [==============================] - 0s 2ms/step - loss: 0.6602 - accuracy: 0.6019 - val_loss: 0.6662 - val_accuracy: 0.5934\n",
      "Epoch 69/100\n",
      "56/56 [==============================] - 0s 2ms/step - loss: 0.6595 - accuracy: 0.6021 - val_loss: 0.6656 - val_accuracy: 0.5948\n",
      "Epoch 70/100\n",
      "56/56 [==============================] - 0s 2ms/step - loss: 0.6589 - accuracy: 0.6055 - val_loss: 0.6650 - val_accuracy: 0.5948\n",
      "Epoch 71/100\n",
      "56/56 [==============================] - 0s 2ms/step - loss: 0.6585 - accuracy: 0.6059 - val_loss: 0.6646 - val_accuracy: 0.5941\n",
      "Epoch 72/100\n",
      "56/56 [==============================] - 0s 2ms/step - loss: 0.6584 - accuracy: 0.6046 - val_loss: 0.6643 - val_accuracy: 0.5977\n",
      "Epoch 73/100\n",
      "56/56 [==============================] - 0s 2ms/step - loss: 0.6578 - accuracy: 0.6048 - val_loss: 0.6640 - val_accuracy: 0.5955\n",
      "Epoch 74/100\n",
      "56/56 [==============================] - 0s 2ms/step - loss: 0.6572 - accuracy: 0.6084 - val_loss: 0.6636 - val_accuracy: 0.5991\n",
      "Epoch 75/100\n",
      "56/56 [==============================] - 0s 2ms/step - loss: 0.6572 - accuracy: 0.6061 - val_loss: 0.6636 - val_accuracy: 0.5977\n",
      "Epoch 76/100\n",
      "56/56 [==============================] - 0s 2ms/step - loss: 0.6567 - accuracy: 0.6073 - val_loss: 0.6629 - val_accuracy: 0.5991\n",
      "Epoch 77/100\n",
      "56/56 [==============================] - 0s 2ms/step - loss: 0.6563 - accuracy: 0.6082 - val_loss: 0.6629 - val_accuracy: 0.5955\n",
      "Epoch 78/100\n",
      "56/56 [==============================] - 0s 2ms/step - loss: 0.6562 - accuracy: 0.6073 - val_loss: 0.6624 - val_accuracy: 0.5977\n",
      "Epoch 79/100\n",
      "56/56 [==============================] - 0s 2ms/step - loss: 0.6558 - accuracy: 0.6095 - val_loss: 0.6624 - val_accuracy: 0.5941\n",
      "Epoch 80/100\n",
      "56/56 [==============================] - 0s 2ms/step - loss: 0.6554 - accuracy: 0.6061 - val_loss: 0.6621 - val_accuracy: 0.5977\n",
      "Epoch 81/100\n",
      "56/56 [==============================] - 0s 2ms/step - loss: 0.6552 - accuracy: 0.6068 - val_loss: 0.6618 - val_accuracy: 0.5984\n",
      "Epoch 82/100\n",
      "56/56 [==============================] - 0s 2ms/step - loss: 0.6549 - accuracy: 0.6070 - val_loss: 0.6615 - val_accuracy: 0.6020\n",
      "Epoch 83/100\n",
      "56/56 [==============================] - 0s 2ms/step - loss: 0.6547 - accuracy: 0.6050 - val_loss: 0.6615 - val_accuracy: 0.5991\n",
      "Epoch 84/100\n",
      "56/56 [==============================] - 0s 2ms/step - loss: 0.6546 - accuracy: 0.6064 - val_loss: 0.6610 - val_accuracy: 0.6034\n",
      "Epoch 85/100\n",
      "56/56 [==============================] - 0s 2ms/step - loss: 0.6542 - accuracy: 0.6068 - val_loss: 0.6614 - val_accuracy: 0.5955\n",
      "Epoch 86/100\n",
      "56/56 [==============================] - 0s 2ms/step - loss: 0.6544 - accuracy: 0.6064 - val_loss: 0.6604 - val_accuracy: 0.6020\n",
      "Epoch 87/100\n",
      "56/56 [==============================] - 0s 2ms/step - loss: 0.6539 - accuracy: 0.6064 - val_loss: 0.6603 - val_accuracy: 0.6020\n",
      "Epoch 88/100\n",
      "56/56 [==============================] - 0s 2ms/step - loss: 0.6539 - accuracy: 0.6066 - val_loss: 0.6602 - val_accuracy: 0.6034\n",
      "Epoch 89/100\n",
      "56/56 [==============================] - 0s 2ms/step - loss: 0.6537 - accuracy: 0.6061 - val_loss: 0.6599 - val_accuracy: 0.5991\n",
      "Epoch 90/100\n",
      "56/56 [==============================] - 0s 2ms/step - loss: 0.6535 - accuracy: 0.6089 - val_loss: 0.6597 - val_accuracy: 0.5991\n",
      "Epoch 91/100\n",
      "56/56 [==============================] - 0s 2ms/step - loss: 0.6534 - accuracy: 0.6091 - val_loss: 0.6596 - val_accuracy: 0.5991\n",
      "Epoch 92/100\n",
      "56/56 [==============================] - 0s 2ms/step - loss: 0.6533 - accuracy: 0.6095 - val_loss: 0.6595 - val_accuracy: 0.5999\n",
      "Epoch 93/100\n",
      "56/56 [==============================] - 0s 2ms/step - loss: 0.6532 - accuracy: 0.6086 - val_loss: 0.6592 - val_accuracy: 0.6013\n",
      "Epoch 94/100\n",
      "56/56 [==============================] - 0s 3ms/step - loss: 0.6530 - accuracy: 0.6073 - val_loss: 0.6592 - val_accuracy: 0.6013\n",
      "Epoch 95/100\n",
      "56/56 [==============================] - 0s 3ms/step - loss: 0.6529 - accuracy: 0.6089 - val_loss: 0.6591 - val_accuracy: 0.6027\n",
      "Epoch 96/100\n",
      "56/56 [==============================] - 0s 3ms/step - loss: 0.6528 - accuracy: 0.6086 - val_loss: 0.6588 - val_accuracy: 0.6034\n",
      "Epoch 97/100\n",
      "56/56 [==============================] - 0s 2ms/step - loss: 0.6527 - accuracy: 0.6080 - val_loss: 0.6587 - val_accuracy: 0.6027\n",
      "Epoch 98/100\n",
      "56/56 [==============================] - 0s 2ms/step - loss: 0.6527 - accuracy: 0.6100 - val_loss: 0.6584 - val_accuracy: 0.5991\n",
      "Epoch 99/100\n",
      "56/56 [==============================] - 0s 2ms/step - loss: 0.6525 - accuracy: 0.6077 - val_loss: 0.6583 - val_accuracy: 0.6020\n",
      "Epoch 100/100\n",
      "56/56 [==============================] - 0s 2ms/step - loss: 0.6525 - accuracy: 0.6116 - val_loss: 0.6581 - val_accuracy: 0.6027\n"
     ]
    }
   ],
   "source": [
    "ann1.compile(loss = 'binary_crossentropy', optimizer = 'adam', metrics = ['accuracy'])\n",
    "history = ann1.fit(x_train, y_train, epochs = 100, validation_split=0.2, verbose=1, batch_size=100)"
   ]
  },
  {
   "cell_type": "code",
   "execution_count": 22,
   "id": "773abef7",
   "metadata": {},
   "outputs": [
    {
     "name": "stdout",
     "output_type": "stream",
     "text": [
      "              precision    recall  f1-score   support\n",
      "\n",
      "           0       0.64      0.58      0.61      1541\n",
      "           1       0.59      0.65      0.62      1442\n",
      "\n",
      "    accuracy                           0.61      2983\n",
      "   macro avg       0.62      0.62      0.61      2983\n",
      "weighted avg       0.62      0.61      0.61      2983\n",
      "\n"
     ]
    },
    {
     "data": {
      "image/png": "[encoded data removed]",
      "text/plain": [
       "<Figure size 432x288 with 2 Axes>"
      ]
     },
     "metadata": {
      "needs_background": "light"
     },
     "output_type": "display_data"
    }
   ],
   "source": [
    "model_score_ann(ann1)"
   ]
  },
  {
   "cell_type": "markdown",
   "id": "191a822c",
   "metadata": {},
   "source": [
    "### ANN - with Dropout"
   ]
  },
  {
   "cell_type": "code",
   "execution_count": 23,
   "id": "c18f5b75",
   "metadata": {},
   "outputs": [
    {
     "name": "stdout",
     "output_type": "stream",
     "text": [
      "Model: \"sequential_1\"\n",
      "_________________________________________________________________\n",
      " Layer (type)                Output Shape              Param #   \n",
      "=================================================================\n",
      " dense_2 (Dense)             (None, 250)               2500      \n",
      "                                                                 \n",
      " dropout (Dropout)           (None, 250)               0         \n",
      "                                                                 \n",
      " dense_3 (Dense)             (None, 500)               125500    \n",
      "                                                                 \n",
      " dense_4 (Dense)             (None, 2)                 1002      \n",
      "                                                                 \n",
      " dense_5 (Dense)             (None, 1)                 3         \n",
      "                                                                 \n",
      "=================================================================\n",
      "Total params: 129,005\n",
      "Trainable params: 129,005\n",
      "Non-trainable params: 0\n",
      "_________________________________________________________________\n"
     ]
    }
   ],
   "source": [
    "ann2 = keras.Sequential()\n",
    "\n",
    "ann2.add(Dense(250, input_dim=9, kernel_initializer = 'normal', activation = 'leaky_relu'))\n",
    "\n",
    "ann2.add(Dropout(0.3))\n",
    "ann2.add(Dense(500, activation = 'relu'))\n",
    "\n",
    "ann2.add(Dense(2, activation = 'softmax'))\n",
    "ann2.add(Dense(1, activation = 'sigmoid'))\n",
    "ann2.summary()"
   ]
  },
  {
   "cell_type": "code",
   "execution_count": 24,
   "id": "4c74eefb",
   "metadata": {},
   "outputs": [
    {
     "name": "stdout",
     "output_type": "stream",
     "text": [
      "Epoch 1/100\n",
      "56/56 [==============================] - 1s 9ms/step - loss: 0.6951 - accuracy: 0.4891 - val_loss: 0.6932 - val_accuracy: 0.5431\n",
      "Epoch 2/100\n",
      "56/56 [==============================] - 0s 6ms/step - loss: 0.6906 - accuracy: 0.5380 - val_loss: 0.6874 - val_accuracy: 0.5524\n",
      "Epoch 3/100\n",
      "56/56 [==============================] - 0s 6ms/step - loss: 0.6861 - accuracy: 0.5716 - val_loss: 0.6871 - val_accuracy: 0.5510\n",
      "Epoch 4/100\n",
      "56/56 [==============================] - 0s 6ms/step - loss: 0.6810 - accuracy: 0.5836 - val_loss: 0.6783 - val_accuracy: 0.5841\n",
      "Epoch 5/100\n",
      "56/56 [==============================] - 0s 6ms/step - loss: 0.6765 - accuracy: 0.5922 - val_loss: 0.6740 - val_accuracy: 0.5999\n",
      "Epoch 6/100\n",
      "56/56 [==============================] - 0s 6ms/step - loss: 0.6718 - accuracy: 0.6041 - val_loss: 0.6717 - val_accuracy: 0.6056\n",
      "Epoch 7/100\n",
      "56/56 [==============================] - 0s 7ms/step - loss: 0.6699 - accuracy: 0.6045 - val_loss: 0.6708 - val_accuracy: 0.5970\n",
      "Epoch 8/100\n",
      "56/56 [==============================] - 0s 6ms/step - loss: 0.6680 - accuracy: 0.6073 - val_loss: 0.6682 - val_accuracy: 0.6092\n",
      "Epoch 9/100\n",
      "56/56 [==============================] - 0s 6ms/step - loss: 0.6677 - accuracy: 0.6106 - val_loss: 0.6785 - val_accuracy: 0.5797\n",
      "Epoch 10/100\n",
      "56/56 [==============================] - 0s 6ms/step - loss: 0.6692 - accuracy: 0.6007 - val_loss: 0.6656 - val_accuracy: 0.6085\n",
      "Epoch 11/100\n",
      "56/56 [==============================] - 0s 6ms/step - loss: 0.6628 - accuracy: 0.6179 - val_loss: 0.6650 - val_accuracy: 0.6063\n",
      "Epoch 12/100\n",
      "56/56 [==============================] - 0s 6ms/step - loss: 0.6639 - accuracy: 0.6131 - val_loss: 0.6727 - val_accuracy: 0.5999\n",
      "Epoch 13/100\n",
      "56/56 [==============================] - 0s 6ms/step - loss: 0.6648 - accuracy: 0.6093 - val_loss: 0.6621 - val_accuracy: 0.6056\n",
      "Epoch 14/100\n",
      "56/56 [==============================] - 0s 6ms/step - loss: 0.6584 - accuracy: 0.6235 - val_loss: 0.6604 - val_accuracy: 0.6106\n",
      "Epoch 15/100\n",
      "56/56 [==============================] - 0s 6ms/step - loss: 0.6593 - accuracy: 0.6194 - val_loss: 0.6633 - val_accuracy: 0.6128\n",
      "Epoch 16/100\n",
      "56/56 [==============================] - 0s 6ms/step - loss: 0.6576 - accuracy: 0.6212 - val_loss: 0.6575 - val_accuracy: 0.6264\n",
      "Epoch 17/100\n",
      "56/56 [==============================] - 0s 6ms/step - loss: 0.6582 - accuracy: 0.6160 - val_loss: 0.6565 - val_accuracy: 0.6135\n",
      "Epoch 18/100\n",
      "56/56 [==============================] - 0s 6ms/step - loss: 0.6548 - accuracy: 0.6253 - val_loss: 0.6551 - val_accuracy: 0.6121\n",
      "Epoch 19/100\n",
      "56/56 [==============================] - 0s 6ms/step - loss: 0.6532 - accuracy: 0.6285 - val_loss: 0.6535 - val_accuracy: 0.6164\n",
      "Epoch 20/100\n",
      "56/56 [==============================] - 0s 6ms/step - loss: 0.6539 - accuracy: 0.6273 - val_loss: 0.6570 - val_accuracy: 0.6200\n",
      "Epoch 21/100\n",
      "56/56 [==============================] - 0s 6ms/step - loss: 0.6484 - accuracy: 0.6345 - val_loss: 0.6529 - val_accuracy: 0.6128\n",
      "Epoch 22/100\n",
      "56/56 [==============================] - 0s 6ms/step - loss: 0.6484 - accuracy: 0.6300 - val_loss: 0.6542 - val_accuracy: 0.6214\n",
      "Epoch 23/100\n",
      "56/56 [==============================] - 0s 6ms/step - loss: 0.6497 - accuracy: 0.6260 - val_loss: 0.6482 - val_accuracy: 0.6257\n",
      "Epoch 24/100\n",
      "56/56 [==============================] - 0s 6ms/step - loss: 0.6459 - accuracy: 0.6312 - val_loss: 0.6466 - val_accuracy: 0.6264\n",
      "Epoch 25/100\n",
      "56/56 [==============================] - 0s 6ms/step - loss: 0.6462 - accuracy: 0.6332 - val_loss: 0.6452 - val_accuracy: 0.6207\n",
      "Epoch 26/100\n",
      "56/56 [==============================] - 0s 6ms/step - loss: 0.6419 - accuracy: 0.6397 - val_loss: 0.6428 - val_accuracy: 0.6272\n",
      "Epoch 27/100\n",
      "56/56 [==============================] - 0s 6ms/step - loss: 0.6407 - accuracy: 0.6416 - val_loss: 0.6409 - val_accuracy: 0.6365\n",
      "Epoch 28/100\n",
      "56/56 [==============================] - 0s 6ms/step - loss: 0.6394 - accuracy: 0.6402 - val_loss: 0.6391 - val_accuracy: 0.6343\n",
      "Epoch 29/100\n",
      "56/56 [==============================] - 0s 6ms/step - loss: 0.6385 - accuracy: 0.6404 - val_loss: 0.6387 - val_accuracy: 0.6365\n",
      "Epoch 30/100\n",
      "56/56 [==============================] - 0s 6ms/step - loss: 0.6373 - accuracy: 0.6451 - val_loss: 0.6358 - val_accuracy: 0.6351\n",
      "Epoch 31/100\n",
      "56/56 [==============================] - 0s 6ms/step - loss: 0.6341 - accuracy: 0.6451 - val_loss: 0.6366 - val_accuracy: 0.6358\n",
      "Epoch 32/100\n",
      "56/56 [==============================] - 0s 6ms/step - loss: 0.6348 - accuracy: 0.6476 - val_loss: 0.6348 - val_accuracy: 0.6307\n",
      "Epoch 33/100\n",
      "56/56 [==============================] - 0s 6ms/step - loss: 0.6303 - accuracy: 0.6542 - val_loss: 0.6335 - val_accuracy: 0.6415\n",
      "Epoch 34/100\n",
      "56/56 [==============================] - 0s 6ms/step - loss: 0.6287 - accuracy: 0.6582 - val_loss: 0.6360 - val_accuracy: 0.6286\n",
      "Epoch 35/100\n",
      "56/56 [==============================] - 0s 6ms/step - loss: 0.6308 - accuracy: 0.6508 - val_loss: 0.6357 - val_accuracy: 0.6444\n",
      "Epoch 36/100\n",
      "56/56 [==============================] - 0s 6ms/step - loss: 0.6263 - accuracy: 0.6548 - val_loss: 0.6323 - val_accuracy: 0.6336\n",
      "Epoch 37/100\n",
      "56/56 [==============================] - 0s 7ms/step - loss: 0.6278 - accuracy: 0.6562 - val_loss: 0.6327 - val_accuracy: 0.6293\n",
      "Epoch 38/100\n",
      "56/56 [==============================] - 0s 6ms/step - loss: 0.6259 - accuracy: 0.6573 - val_loss: 0.6296 - val_accuracy: 0.6466\n",
      "Epoch 39/100\n",
      "56/56 [==============================] - 0s 6ms/step - loss: 0.6266 - accuracy: 0.6573 - val_loss: 0.6288 - val_accuracy: 0.6430\n",
      "Epoch 40/100\n",
      "56/56 [==============================] - 0s 6ms/step - loss: 0.6237 - accuracy: 0.6628 - val_loss: 0.6287 - val_accuracy: 0.6358\n",
      "Epoch 41/100\n",
      "56/56 [==============================] - 0s 6ms/step - loss: 0.6196 - accuracy: 0.6691 - val_loss: 0.6288 - val_accuracy: 0.6386\n",
      "Epoch 42/100\n",
      "56/56 [==============================] - 0s 6ms/step - loss: 0.6201 - accuracy: 0.6637 - val_loss: 0.6295 - val_accuracy: 0.6422\n",
      "Epoch 43/100\n",
      "56/56 [==============================] - 0s 6ms/step - loss: 0.6222 - accuracy: 0.6582 - val_loss: 0.6383 - val_accuracy: 0.6286\n",
      "Epoch 44/100\n",
      "56/56 [==============================] - 0s 6ms/step - loss: 0.6209 - accuracy: 0.6655 - val_loss: 0.6295 - val_accuracy: 0.6437\n",
      "Epoch 45/100\n",
      "56/56 [==============================] - 0s 6ms/step - loss: 0.6165 - accuracy: 0.6652 - val_loss: 0.6254 - val_accuracy: 0.6487\n",
      "Epoch 46/100\n",
      "56/56 [==============================] - 0s 6ms/step - loss: 0.6147 - accuracy: 0.6725 - val_loss: 0.6307 - val_accuracy: 0.6379\n",
      "Epoch 47/100\n",
      "56/56 [==============================] - 0s 6ms/step - loss: 0.6161 - accuracy: 0.6675 - val_loss: 0.6219 - val_accuracy: 0.6501\n",
      "Epoch 48/100\n",
      "56/56 [==============================] - 0s 6ms/step - loss: 0.6128 - accuracy: 0.6722 - val_loss: 0.6194 - val_accuracy: 0.6595\n",
      "Epoch 49/100\n",
      "56/56 [==============================] - 0s 6ms/step - loss: 0.6135 - accuracy: 0.6689 - val_loss: 0.6251 - val_accuracy: 0.6379\n",
      "Epoch 50/100\n",
      "56/56 [==============================] - 0s 6ms/step - loss: 0.6119 - accuracy: 0.6731 - val_loss: 0.6263 - val_accuracy: 0.6451\n",
      "Epoch 51/100\n",
      "56/56 [==============================] - 0s 6ms/step - loss: 0.6111 - accuracy: 0.6756 - val_loss: 0.6198 - val_accuracy: 0.6437\n",
      "Epoch 52/100\n",
      "56/56 [==============================] - 0s 6ms/step - loss: 0.6083 - accuracy: 0.6750 - val_loss: 0.6229 - val_accuracy: 0.6516\n",
      "Epoch 53/100\n",
      "56/56 [==============================] - 0s 6ms/step - loss: 0.6086 - accuracy: 0.6803 - val_loss: 0.6202 - val_accuracy: 0.6466\n",
      "Epoch 54/100\n",
      "56/56 [==============================] - 0s 6ms/step - loss: 0.6037 - accuracy: 0.6858 - val_loss: 0.6280 - val_accuracy: 0.6415\n",
      "Epoch 55/100\n",
      "56/56 [==============================] - 0s 6ms/step - loss: 0.6064 - accuracy: 0.6817 - val_loss: 0.6191 - val_accuracy: 0.6523\n",
      "Epoch 56/100\n",
      "56/56 [==============================] - 0s 6ms/step - loss: 0.6043 - accuracy: 0.6801 - val_loss: 0.6240 - val_accuracy: 0.6494\n",
      "Epoch 57/100\n",
      "56/56 [==============================] - 0s 6ms/step - loss: 0.6033 - accuracy: 0.6853 - val_loss: 0.6236 - val_accuracy: 0.6545\n",
      "Epoch 58/100\n",
      "56/56 [==============================] - 0s 6ms/step - loss: 0.5985 - accuracy: 0.6849 - val_loss: 0.6295 - val_accuracy: 0.6401\n"
     ]
    },
    {
     "name": "stdout",
     "output_type": "stream",
     "text": [
      "Epoch 59/100\n",
      "56/56 [==============================] - 0s 6ms/step - loss: 0.6080 - accuracy: 0.6767 - val_loss: 0.6205 - val_accuracy: 0.6466\n",
      "Epoch 60/100\n",
      "56/56 [==============================] - 0s 6ms/step - loss: 0.5974 - accuracy: 0.6923 - val_loss: 0.6238 - val_accuracy: 0.6386\n",
      "Epoch 61/100\n",
      "56/56 [==============================] - 0s 6ms/step - loss: 0.6018 - accuracy: 0.6837 - val_loss: 0.6167 - val_accuracy: 0.6494\n",
      "Epoch 62/100\n",
      "56/56 [==============================] - 0s 6ms/step - loss: 0.5966 - accuracy: 0.6864 - val_loss: 0.6231 - val_accuracy: 0.6451\n",
      "Epoch 63/100\n",
      "56/56 [==============================] - 0s 6ms/step - loss: 0.5961 - accuracy: 0.6909 - val_loss: 0.6231 - val_accuracy: 0.6494\n",
      "Epoch 64/100\n",
      "56/56 [==============================] - 0s 6ms/step - loss: 0.5966 - accuracy: 0.6871 - val_loss: 0.6194 - val_accuracy: 0.6516\n",
      "Epoch 65/100\n",
      "56/56 [==============================] - 0s 6ms/step - loss: 0.5958 - accuracy: 0.6892 - val_loss: 0.6177 - val_accuracy: 0.6573\n",
      "Epoch 66/100\n",
      "56/56 [==============================] - 0s 6ms/step - loss: 0.5932 - accuracy: 0.6957 - val_loss: 0.6188 - val_accuracy: 0.6530\n",
      "Epoch 67/100\n",
      "56/56 [==============================] - 0s 6ms/step - loss: 0.5943 - accuracy: 0.6894 - val_loss: 0.6233 - val_accuracy: 0.6494\n",
      "Epoch 68/100\n",
      "56/56 [==============================] - 0s 6ms/step - loss: 0.5881 - accuracy: 0.6980 - val_loss: 0.6219 - val_accuracy: 0.6430\n",
      "Epoch 69/100\n",
      "56/56 [==============================] - 0s 6ms/step - loss: 0.5899 - accuracy: 0.6901 - val_loss: 0.6242 - val_accuracy: 0.6523\n",
      "Epoch 70/100\n",
      "56/56 [==============================] - 0s 6ms/step - loss: 0.5901 - accuracy: 0.6948 - val_loss: 0.6223 - val_accuracy: 0.6537\n",
      "Epoch 71/100\n",
      "56/56 [==============================] - 0s 6ms/step - loss: 0.5886 - accuracy: 0.7013 - val_loss: 0.6215 - val_accuracy: 0.6473\n",
      "Epoch 72/100\n",
      "56/56 [==============================] - 0s 6ms/step - loss: 0.5863 - accuracy: 0.6989 - val_loss: 0.6211 - val_accuracy: 0.6444\n",
      "Epoch 73/100\n",
      "56/56 [==============================] - 0s 6ms/step - loss: 0.5852 - accuracy: 0.7002 - val_loss: 0.6228 - val_accuracy: 0.6422\n",
      "Epoch 74/100\n",
      "56/56 [==============================] - 0s 6ms/step - loss: 0.5845 - accuracy: 0.7024 - val_loss: 0.6190 - val_accuracy: 0.6573\n",
      "Epoch 75/100\n",
      "56/56 [==============================] - 0s 6ms/step - loss: 0.5835 - accuracy: 0.6989 - val_loss: 0.6175 - val_accuracy: 0.6552\n",
      "Epoch 76/100\n",
      "56/56 [==============================] - 0s 6ms/step - loss: 0.5837 - accuracy: 0.7000 - val_loss: 0.6205 - val_accuracy: 0.6523\n",
      "Epoch 77/100\n",
      "56/56 [==============================] - 0s 6ms/step - loss: 0.5814 - accuracy: 0.7015 - val_loss: 0.6175 - val_accuracy: 0.6523\n",
      "Epoch 78/100\n",
      "56/56 [==============================] - 0s 6ms/step - loss: 0.5838 - accuracy: 0.6989 - val_loss: 0.6196 - val_accuracy: 0.6595\n",
      "Epoch 79/100\n",
      "56/56 [==============================] - 0s 6ms/step - loss: 0.5776 - accuracy: 0.7047 - val_loss: 0.6194 - val_accuracy: 0.6573\n",
      "Epoch 80/100\n",
      "56/56 [==============================] - 0s 6ms/step - loss: 0.5778 - accuracy: 0.7047 - val_loss: 0.6156 - val_accuracy: 0.6703\n",
      "Epoch 81/100\n",
      "56/56 [==============================] - 0s 6ms/step - loss: 0.5790 - accuracy: 0.7110 - val_loss: 0.6247 - val_accuracy: 0.6501\n",
      "Epoch 82/100\n",
      "56/56 [==============================] - 0s 6ms/step - loss: 0.5783 - accuracy: 0.7050 - val_loss: 0.6212 - val_accuracy: 0.6566\n",
      "Epoch 83/100\n",
      "56/56 [==============================] - 0s 6ms/step - loss: 0.5741 - accuracy: 0.7088 - val_loss: 0.6187 - val_accuracy: 0.6494\n",
      "Epoch 84/100\n",
      "56/56 [==============================] - 0s 6ms/step - loss: 0.5730 - accuracy: 0.7137 - val_loss: 0.6179 - val_accuracy: 0.6523\n",
      "Epoch 85/100\n",
      "56/56 [==============================] - 0s 6ms/step - loss: 0.5726 - accuracy: 0.7142 - val_loss: 0.6181 - val_accuracy: 0.6631\n",
      "Epoch 86/100\n",
      "56/56 [==============================] - 0s 6ms/step - loss: 0.5701 - accuracy: 0.7165 - val_loss: 0.6234 - val_accuracy: 0.6494\n",
      "Epoch 87/100\n",
      "56/56 [==============================] - 0s 6ms/step - loss: 0.5723 - accuracy: 0.7108 - val_loss: 0.6167 - val_accuracy: 0.6487\n",
      "Epoch 88/100\n",
      "56/56 [==============================] - 0s 6ms/step - loss: 0.5697 - accuracy: 0.7140 - val_loss: 0.6144 - val_accuracy: 0.6602\n",
      "Epoch 89/100\n",
      "56/56 [==============================] - 0s 6ms/step - loss: 0.5663 - accuracy: 0.7189 - val_loss: 0.6273 - val_accuracy: 0.6573\n",
      "Epoch 90/100\n",
      "56/56 [==============================] - 0s 6ms/step - loss: 0.5676 - accuracy: 0.7122 - val_loss: 0.6198 - val_accuracy: 0.6537\n",
      "Epoch 91/100\n",
      "56/56 [==============================] - 0s 6ms/step - loss: 0.5652 - accuracy: 0.7201 - val_loss: 0.6176 - val_accuracy: 0.6638\n",
      "Epoch 92/100\n",
      "56/56 [==============================] - 0s 6ms/step - loss: 0.5689 - accuracy: 0.7101 - val_loss: 0.6181 - val_accuracy: 0.6595\n",
      "Epoch 93/100\n",
      "56/56 [==============================] - 0s 6ms/step - loss: 0.5645 - accuracy: 0.7209 - val_loss: 0.6207 - val_accuracy: 0.6516\n",
      "Epoch 94/100\n",
      "56/56 [==============================] - 0s 6ms/step - loss: 0.5622 - accuracy: 0.7192 - val_loss: 0.6228 - val_accuracy: 0.6523\n",
      "Epoch 95/100\n",
      "56/56 [==============================] - 0s 6ms/step - loss: 0.5652 - accuracy: 0.7191 - val_loss: 0.6213 - val_accuracy: 0.6509\n",
      "Epoch 96/100\n",
      "56/56 [==============================] - 0s 6ms/step - loss: 0.5638 - accuracy: 0.7183 - val_loss: 0.6189 - val_accuracy: 0.6588\n",
      "Epoch 97/100\n",
      "56/56 [==============================] - 0s 6ms/step - loss: 0.5634 - accuracy: 0.7241 - val_loss: 0.6154 - val_accuracy: 0.6616\n",
      "Epoch 98/100\n",
      "56/56 [==============================] - 0s 6ms/step - loss: 0.5601 - accuracy: 0.7289 - val_loss: 0.6240 - val_accuracy: 0.6487\n",
      "Epoch 99/100\n",
      "56/56 [==============================] - 0s 6ms/step - loss: 0.5554 - accuracy: 0.7271 - val_loss: 0.6174 - val_accuracy: 0.6710\n",
      "Epoch 100/100\n",
      "56/56 [==============================] - 0s 6ms/step - loss: 0.5555 - accuracy: 0.7306 - val_loss: 0.6221 - val_accuracy: 0.6580\n"
     ]
    }
   ],
   "source": [
    "ann2.compile(loss = 'binary_crossentropy', optimizer = 'adam', metrics = ['accuracy'])\n",
    "history = ann2.fit(x_train, y_train, epochs = 100, validation_split=0.2, verbose=1, batch_size=100)"
   ]
  },
  {
   "cell_type": "code",
   "execution_count": 25,
   "id": "e6d2f0eb",
   "metadata": {},
   "outputs": [
    {
     "name": "stdout",
     "output_type": "stream",
     "text": [
      "              precision    recall  f1-score   support\n",
      "\n",
      "           0       0.72      0.59      0.65      1541\n",
      "           1       0.63      0.75      0.69      1442\n",
      "\n",
      "    accuracy                           0.67      2983\n",
      "   macro avg       0.67      0.67      0.67      2983\n",
      "weighted avg       0.68      0.67      0.67      2983\n",
      "\n"
     ]
    },
    {
     "data": {
      "image/png": "[encoded data removed]",
      "text/plain": [
       "<Figure size 432x288 with 2 Axes>"
      ]
     },
     "metadata": {
      "needs_background": "light"
     },
     "output_type": "display_data"
    }
   ],
   "source": [
    "model_score_ann(ann2)"
   ]
  },
  {
   "cell_type": "markdown",
   "id": "7ac34011",
   "metadata": {},
   "source": [
    "### ANN - with Optimization"
   ]
  },
  {
   "cell_type": "code",
   "execution_count": 26,
   "id": "97c3b068",
   "metadata": {},
   "outputs": [],
   "source": [
    "import keras_tuner as kt"
   ]
  },
  {
   "cell_type": "code",
   "execution_count": 27,
   "id": "c21fd33c",
   "metadata": {},
   "outputs": [],
   "source": [
    "x_train, x_val, y_train, y_val = train_test_split(x_train, y_train, stratify=y_train, test_size=0.2, random_state = 42)"
   ]
  },
  {
   "cell_type": "code",
   "execution_count": 28,
   "id": "6bbc502a",
   "metadata": {},
   "outputs": [],
   "source": [
    "BATCH_SIZE=32\n",
    "\n",
    "def create_model(hp):\n",
    "    model = keras.Sequential()\n",
    "    \n",
    "    for i in range(hp.Choice('hidden_layers', values=[1])):\n",
    "        model.add(keras.layers.Dense(units = hp.Int(\"units_{}\".format(i+1),min_value=2,max_value=40,step=1), activation='relu')),\n",
    "        model.add(keras.layers.Dropout(hp.Choice(\"dropout_{}\".format(i+1), values=[0.3, 0.4, 0.5]))),\n",
    "\n",
    "    model.add(keras.layers.Dense(1, activation='sigmoid')),\n",
    "    \n",
    "    model.compile(loss='binary_crossentropy',\n",
    "                  optimizer='adam' ,\n",
    "                  metrics=['accuracy'])\n",
    "    \n",
    "    return model"
   ]
  },
  {
   "cell_type": "code",
   "execution_count": 29,
   "id": "fac8f676",
   "metadata": {},
   "outputs": [],
   "source": [
    "tuner_bo = kt.BayesianOptimization(\n",
    "        create_model,\n",
    "        objective=\"val_accuracy\",\n",
    "        max_trials=100,\n",
    "        seed=42,\n",
    "        directory='my_dir',\n",
    "        project_name='kt',\n",
    "        overwrite=True)"
   ]
  },
  {
   "cell_type": "code",
   "execution_count": 30,
   "id": "faf2778f",
   "metadata": {},
   "outputs": [],
   "source": [
    "early_stop = keras.callbacks.EarlyStopping(monitor=\"val_accuracy\", patience=5, restore_best_weights=True)"
   ]
  },
  {
   "cell_type": "code",
   "execution_count": 31,
   "id": "00b98411",
   "metadata": {},
   "outputs": [
    {
     "name": "stdout",
     "output_type": "stream",
     "text": [
      "Trial 100 Complete [00h 00m 01s]\n",
      "val_accuracy: 0.5747126340866089\n",
      "\n",
      "Best val_accuracy So Far: 0.5883620977401733\n",
      "Total elapsed time: 00h 04m 30s\n",
      "INFO:tensorflow:Oracle triggered exit\n"
     ]
    }
   ],
   "source": [
    "tuner_bo.search(x_train, y_train,validation_data=(x_val, y_val), callbacks=[early_stop])"
   ]
  },
  {
   "cell_type": "code",
   "execution_count": 32,
   "id": "d49503b1",
   "metadata": {},
   "outputs": [
    {
     "name": "stdout",
     "output_type": "stream",
     "text": [
      "Results summary\n",
      "Results in my_dir\\kt\n",
      "Showing 1 best trials\n",
      "Objective(name='val_accuracy', direction='max')\n",
      "Trial summary\n",
      "Hyperparameters:\n",
      "hidden_layers: 1\n",
      "units_1: 40\n",
      "dropout_1: 0.4\n",
      "Score: 0.5883620977401733\n"
     ]
    }
   ],
   "source": [
    "tuner_bo.results_summary(num_trials=1)"
   ]
  },
  {
   "cell_type": "code",
   "execution_count": 33,
   "id": "0afbc623",
   "metadata": {},
   "outputs": [],
   "source": [
    "best_hps_bo=tuner_bo.get_best_hyperparameters()[0]"
   ]
  },
  {
   "cell_type": "code",
   "execution_count": 34,
   "id": "0e3ef4ef",
   "metadata": {},
   "outputs": [],
   "source": [
    "hypermodel_bo = tuner_bo.hypermodel.build(best_hps_bo)"
   ]
  },
  {
   "cell_type": "code",
   "execution_count": 35,
   "id": "954a298f",
   "metadata": {},
   "outputs": [
    {
     "name": "stdout",
     "output_type": "stream",
     "text": [
      "Epoch 1/100\n",
      "174/174 [==============================] - 1s 3ms/step - loss: 0.7257 - accuracy: 0.5055 - val_loss: 0.6864 - val_accuracy: 0.5409\n",
      "Epoch 2/100\n",
      "174/174 [==============================] - 0s 2ms/step - loss: 0.6942 - accuracy: 0.5324 - val_loss: 0.6796 - val_accuracy: 0.5711\n",
      "Epoch 3/100\n",
      "174/174 [==============================] - 0s 2ms/step - loss: 0.6862 - accuracy: 0.5472 - val_loss: 0.6773 - val_accuracy: 0.5790\n",
      "Epoch 4/100\n",
      "174/174 [==============================] - 0s 2ms/step - loss: 0.6838 - accuracy: 0.5493 - val_loss: 0.6745 - val_accuracy: 0.5912\n",
      "Epoch 5/100\n",
      "174/174 [==============================] - 0s 2ms/step - loss: 0.6794 - accuracy: 0.5651 - val_loss: 0.6721 - val_accuracy: 0.5991\n",
      "Epoch 6/100\n",
      "174/174 [==============================] - 0s 2ms/step - loss: 0.6740 - accuracy: 0.5795 - val_loss: 0.6714 - val_accuracy: 0.5862\n",
      "Epoch 7/100\n",
      "174/174 [==============================] - 0s 2ms/step - loss: 0.6753 - accuracy: 0.5779 - val_loss: 0.6689 - val_accuracy: 0.6085\n",
      "Epoch 8/100\n",
      "174/174 [==============================] - 0s 2ms/step - loss: 0.6723 - accuracy: 0.5791 - val_loss: 0.6660 - val_accuracy: 0.6142\n",
      "Epoch 9/100\n",
      "174/174 [==============================] - 0s 2ms/step - loss: 0.6699 - accuracy: 0.5928 - val_loss: 0.6639 - val_accuracy: 0.6243\n",
      "Epoch 10/100\n",
      "174/174 [==============================] - 0s 2ms/step - loss: 0.6700 - accuracy: 0.5894 - val_loss: 0.6622 - val_accuracy: 0.6243\n",
      "Epoch 11/100\n",
      "174/174 [==============================] - 0s 2ms/step - loss: 0.6693 - accuracy: 0.5874 - val_loss: 0.6612 - val_accuracy: 0.6149\n",
      "Epoch 12/100\n",
      "174/174 [==============================] - 0s 2ms/step - loss: 0.6694 - accuracy: 0.5924 - val_loss: 0.6608 - val_accuracy: 0.6178\n",
      "Epoch 13/100\n",
      "174/174 [==============================] - 0s 2ms/step - loss: 0.6664 - accuracy: 0.5894 - val_loss: 0.6588 - val_accuracy: 0.6351\n",
      "Epoch 14/100\n",
      "174/174 [==============================] - 0s 2ms/step - loss: 0.6671 - accuracy: 0.5901 - val_loss: 0.6583 - val_accuracy: 0.6336\n",
      "Epoch 15/100\n",
      "174/174 [==============================] - 0s 2ms/step - loss: 0.6640 - accuracy: 0.5955 - val_loss: 0.6568 - val_accuracy: 0.6250\n",
      "Epoch 16/100\n",
      "174/174 [==============================] - 0s 2ms/step - loss: 0.6647 - accuracy: 0.6019 - val_loss: 0.6559 - val_accuracy: 0.6329\n",
      "Epoch 17/100\n",
      "174/174 [==============================] - 0s 2ms/step - loss: 0.6611 - accuracy: 0.5998 - val_loss: 0.6548 - val_accuracy: 0.6221\n",
      "Epoch 18/100\n",
      "174/174 [==============================] - 0s 2ms/step - loss: 0.6601 - accuracy: 0.6018 - val_loss: 0.6539 - val_accuracy: 0.6365\n",
      "Epoch 19/100\n",
      "174/174 [==============================] - 0s 2ms/step - loss: 0.6615 - accuracy: 0.6001 - val_loss: 0.6540 - val_accuracy: 0.6135\n",
      "Epoch 20/100\n",
      "174/174 [==============================] - 0s 2ms/step - loss: 0.6586 - accuracy: 0.5940 - val_loss: 0.6521 - val_accuracy: 0.6379\n",
      "Epoch 21/100\n",
      "174/174 [==============================] - 0s 2ms/step - loss: 0.6567 - accuracy: 0.6093 - val_loss: 0.6509 - val_accuracy: 0.6307\n",
      "Epoch 22/100\n",
      "174/174 [==============================] - 0s 2ms/step - loss: 0.6595 - accuracy: 0.5980 - val_loss: 0.6508 - val_accuracy: 0.6322\n",
      "Epoch 23/100\n",
      "174/174 [==============================] - 0s 2ms/step - loss: 0.6568 - accuracy: 0.6027 - val_loss: 0.6503 - val_accuracy: 0.6214\n",
      "Epoch 24/100\n",
      "174/174 [==============================] - 0s 2ms/step - loss: 0.6585 - accuracy: 0.6043 - val_loss: 0.6503 - val_accuracy: 0.6394\n",
      "Epoch 25/100\n",
      "174/174 [==============================] - 0s 2ms/step - loss: 0.6557 - accuracy: 0.6052 - val_loss: 0.6489 - val_accuracy: 0.6307\n",
      "Epoch 26/100\n",
      "174/174 [==============================] - 0s 2ms/step - loss: 0.6555 - accuracy: 0.6025 - val_loss: 0.6488 - val_accuracy: 0.6329\n",
      "Epoch 27/100\n",
      "174/174 [==============================] - 0s 2ms/step - loss: 0.6534 - accuracy: 0.6068 - val_loss: 0.6478 - val_accuracy: 0.6408\n",
      "Epoch 28/100\n",
      "174/174 [==============================] - 0s 2ms/step - loss: 0.6547 - accuracy: 0.5996 - val_loss: 0.6469 - val_accuracy: 0.6458\n",
      "Epoch 29/100\n",
      "174/174 [==============================] - 0s 2ms/step - loss: 0.6541 - accuracy: 0.6086 - val_loss: 0.6471 - val_accuracy: 0.6351\n",
      "Epoch 30/100\n",
      "174/174 [==============================] - 0s 2ms/step - loss: 0.6513 - accuracy: 0.6050 - val_loss: 0.6458 - val_accuracy: 0.6365\n",
      "Epoch 31/100\n",
      "174/174 [==============================] - 0s 2ms/step - loss: 0.6518 - accuracy: 0.6192 - val_loss: 0.6456 - val_accuracy: 0.6437\n",
      "Epoch 32/100\n",
      "174/174 [==============================] - 0s 2ms/step - loss: 0.6494 - accuracy: 0.6104 - val_loss: 0.6445 - val_accuracy: 0.6444\n",
      "Epoch 33/100\n",
      "174/174 [==============================] - 0s 2ms/step - loss: 0.6523 - accuracy: 0.6061 - val_loss: 0.6446 - val_accuracy: 0.6437\n"
     ]
    }
   ],
   "source": [
    "history = hypermodel_bo.fit(x_train, y_train, epochs=100, validation_data=(x_val, y_val), callbacks=[early_stop])"
   ]
  },
  {
   "cell_type": "code",
   "execution_count": 36,
   "id": "f1f8eaec",
   "metadata": {},
   "outputs": [
    {
     "name": "stdout",
     "output_type": "stream",
     "text": [
      "Best epoch: 28\n"
     ]
    }
   ],
   "source": [
    "val_acc_per_epoch = history.history['val_accuracy']\n",
    "best_epoch = val_acc_per_epoch.index(max(val_acc_per_epoch)) + 1\n",
    "print('Best epoch: %d' % (best_epoch,))"
   ]
  },
  {
   "cell_type": "code",
   "execution_count": 37,
   "id": "e95f491e",
   "metadata": {},
   "outputs": [],
   "source": [
    "hypermodel_bo = tuner_bo.hypermodel.build(best_hps_bo)"
   ]
  },
  {
   "cell_type": "code",
   "execution_count": 38,
   "id": "66436487",
   "metadata": {},
   "outputs": [
    {
     "name": "stdout",
     "output_type": "stream",
     "text": [
      "Epoch 1/28\n",
      "174/174 [==============================] - 1s 3ms/step - loss: 0.7034 - accuracy: 0.5066 - val_loss: 0.6838 - val_accuracy: 0.5596\n",
      "Epoch 2/28\n",
      "174/174 [==============================] - 0s 2ms/step - loss: 0.6874 - accuracy: 0.5409 - val_loss: 0.6793 - val_accuracy: 0.5812\n",
      "Epoch 3/28\n",
      "174/174 [==============================] - 0s 2ms/step - loss: 0.6856 - accuracy: 0.5507 - val_loss: 0.6752 - val_accuracy: 0.5905\n",
      "Epoch 4/28\n",
      "174/174 [==============================] - 0s 2ms/step - loss: 0.6787 - accuracy: 0.5701 - val_loss: 0.6719 - val_accuracy: 0.5934\n",
      "Epoch 5/28\n",
      "174/174 [==============================] - 0s 2ms/step - loss: 0.6768 - accuracy: 0.5730 - val_loss: 0.6689 - val_accuracy: 0.5991\n",
      "Epoch 6/28\n",
      "174/174 [==============================] - 0s 2ms/step - loss: 0.6759 - accuracy: 0.5750 - val_loss: 0.6664 - val_accuracy: 0.6020\n",
      "Epoch 7/28\n",
      "174/174 [==============================] - 0s 2ms/step - loss: 0.6704 - accuracy: 0.5800 - val_loss: 0.6635 - val_accuracy: 0.6164\n",
      "Epoch 8/28\n",
      "174/174 [==============================] - 0s 2ms/step - loss: 0.6687 - accuracy: 0.5872 - val_loss: 0.6608 - val_accuracy: 0.6264\n",
      "Epoch 9/28\n",
      "174/174 [==============================] - 0s 2ms/step - loss: 0.6697 - accuracy: 0.5838 - val_loss: 0.6596 - val_accuracy: 0.6236\n",
      "Epoch 10/28\n",
      "174/174 [==============================] - 0s 2ms/step - loss: 0.6674 - accuracy: 0.5897 - val_loss: 0.6592 - val_accuracy: 0.6207\n",
      "Epoch 11/28\n",
      "174/174 [==============================] - 0s 2ms/step - loss: 0.6637 - accuracy: 0.5983 - val_loss: 0.6565 - val_accuracy: 0.6322\n",
      "Epoch 12/28\n",
      "174/174 [==============================] - 0s 2ms/step - loss: 0.6664 - accuracy: 0.5872 - val_loss: 0.6558 - val_accuracy: 0.6365\n",
      "Epoch 13/28\n",
      "174/174 [==============================] - 0s 2ms/step - loss: 0.6655 - accuracy: 0.5942 - val_loss: 0.6554 - val_accuracy: 0.6343\n",
      "Epoch 14/28\n",
      "174/174 [==============================] - 0s 2ms/step - loss: 0.6610 - accuracy: 0.6082 - val_loss: 0.6523 - val_accuracy: 0.6386\n",
      "Epoch 15/28\n",
      "174/174 [==============================] - 0s 2ms/step - loss: 0.6596 - accuracy: 0.5951 - val_loss: 0.6520 - val_accuracy: 0.6408\n",
      "Epoch 16/28\n",
      "174/174 [==============================] - 0s 2ms/step - loss: 0.6599 - accuracy: 0.6012 - val_loss: 0.6505 - val_accuracy: 0.6415\n",
      "Epoch 17/28\n",
      "174/174 [==============================] - 0s 2ms/step - loss: 0.6596 - accuracy: 0.5921 - val_loss: 0.6505 - val_accuracy: 0.6401\n",
      "Epoch 18/28\n",
      "174/174 [==============================] - 0s 2ms/step - loss: 0.6585 - accuracy: 0.6012 - val_loss: 0.6492 - val_accuracy: 0.6300\n",
      "Epoch 19/28\n",
      "174/174 [==============================] - 0s 2ms/step - loss: 0.6568 - accuracy: 0.6019 - val_loss: 0.6487 - val_accuracy: 0.6365\n",
      "Epoch 20/28\n",
      "174/174 [==============================] - 0s 2ms/step - loss: 0.6576 - accuracy: 0.6027 - val_loss: 0.6478 - val_accuracy: 0.6422\n",
      "Epoch 21/28\n",
      "174/174 [==============================] - 0s 2ms/step - loss: 0.6560 - accuracy: 0.6009 - val_loss: 0.6475 - val_accuracy: 0.6394\n",
      "Epoch 22/28\n",
      "174/174 [==============================] - 0s 2ms/step - loss: 0.6538 - accuracy: 0.6089 - val_loss: 0.6461 - val_accuracy: 0.6451\n",
      "Epoch 23/28\n",
      "174/174 [==============================] - 0s 2ms/step - loss: 0.6539 - accuracy: 0.6070 - val_loss: 0.6459 - val_accuracy: 0.6386\n",
      "Epoch 24/28\n",
      "174/174 [==============================] - 0s 2ms/step - loss: 0.6561 - accuracy: 0.6052 - val_loss: 0.6459 - val_accuracy: 0.6386\n",
      "Epoch 25/28\n",
      "174/174 [==============================] - 0s 2ms/step - loss: 0.6517 - accuracy: 0.6097 - val_loss: 0.6446 - val_accuracy: 0.6386\n",
      "Epoch 26/28\n",
      "174/174 [==============================] - 0s 2ms/step - loss: 0.6528 - accuracy: 0.6097 - val_loss: 0.6455 - val_accuracy: 0.6358\n",
      "Epoch 27/28\n",
      "174/174 [==============================] - 0s 2ms/step - loss: 0.6515 - accuracy: 0.6073 - val_loss: 0.6451 - val_accuracy: 0.6401\n"
     ]
    }
   ],
   "source": [
    "history = hypermodel_bo.fit(x_train, y_train, epochs=best_epoch, validation_data=(x_val, y_val), callbacks=[early_stop])"
   ]
  },
  {
   "cell_type": "code",
   "execution_count": 39,
   "id": "67defbe4",
   "metadata": {},
   "outputs": [
    {
     "name": "stdout",
     "output_type": "stream",
     "text": [
      "              precision    recall  f1-score   support\n",
      "\n",
      "           0       0.64      0.62      0.63      1541\n",
      "           1       0.61      0.62      0.61      1442\n",
      "\n",
      "    accuracy                           0.62      2983\n",
      "   macro avg       0.62      0.62      0.62      2983\n",
      "weighted avg       0.62      0.62      0.62      2983\n",
      "\n"
     ]
    },
    {
     "data": {
      "image/png": "[encoded data removed]",
      "text/plain": [
       "<Figure size 432x288 with 2 Axes>"
      ]
     },
     "metadata": {
      "needs_background": "light"
     },
     "output_type": "display_data"
    }
   ],
   "source": [
    "model_score_ann(hypermodel_bo)"
   ]
  },
  {
   "cell_type": "code",
   "execution_count": null,
   "id": "6251a5ba",
   "metadata": {},
   "outputs": [],
   "source": []
  },
  {
   "cell_type": "markdown",
   "id": "965b0615",
   "metadata": {},
   "source": [
    "## <u>Model Comparison</u>"
   ]
  },
  {
   "cell_type": "code",
   "execution_count": 40,
   "id": "7ff04948",
   "metadata": {},
   "outputs": [],
   "source": [
    "# calculating the false positive and true positive rate for each of the models\n",
    "fpr1, tpr1, thresh1 = roc_curve(y_test, ann1.predict(x_test), pos_label=1)\n",
    "fpr2, tpr2, thresh2 = roc_curve(y_test, ann2.predict(x_test), pos_label=1)\n",
    "fpr3, tpr3, thresh3 = roc_curve(y_test, hypermodel_bo.predict(x_test), pos_label=1)"
   ]
  },
  {
   "cell_type": "code",
   "execution_count": 41,
   "id": "63983244",
   "metadata": {},
   "outputs": [
    {
     "name": "stdout",
     "output_type": "stream",
     "text": [
      "Artificial Neural Network with Dense Layers:  0.6745439719331342\n",
      "Artificial Neural Network with Dense and Dropout:  0.7077637951471611\n",
      "Artificial Neural Network with Hyperparameter Tuning:  0.677846670884857\n"
     ]
    }
   ],
   "source": [
    "# Fething the Area under the curve \n",
    "\n",
    "auc_score1 = roc_auc_score(y_test, ann1.predict(x_test))\n",
    "auc_score2 = roc_auc_score(y_test, ann2.predict(x_test))\n",
    "auc_score3 = roc_auc_score(y_test, hypermodel_bo.predict(x_test))\n",
    "\n",
    "print(\"Artificial Neural Network with Dense Layers: \", auc_score1)\n",
    "print(\"Artificial Neural Network with Dense and Dropout: \", auc_score2)\n",
    "print(\"Artificial Neural Network with Hyperparameter Tuning: \", auc_score3)"
   ]
  },
  {
   "cell_type": "code",
   "execution_count": 42,
   "id": "9eacd30c",
   "metadata": {},
   "outputs": [
    {
     "data": {
      "image/png": "[encoded data removed]",
      "text/plain": [
       "<Figure size 1440x720 with 1 Axes>"
      ]
     },
     "metadata": {
      "needs_background": "light"
     },
     "output_type": "display_data"
    }
   ],
   "source": [
    "# Plotting ROC curve\n",
    "plt.figure(figsize=(20,10))\n",
    "plt.plot(fpr1, tpr1, color = 'green', label='ANN with Dense')\n",
    "plt.plot(fpr2, tpr2, color = 'black', label='ANN with Droupout')\n",
    "plt.plot(fpr3, tpr3, color = 'purple', label='ANN with Tuning')\n",
    "         \n",
    "plt.title('Receiver Operator Characteristic', fontsize=20)\n",
    "plt.xlabel('False Positive Rate')\n",
    "plt.ylabel('True Positive Rate')\n",
    "plt.plot([0, 1], [0, 1],'r--') \n",
    "plt.legend(loc = 'best')\n",
    "plt.show()"
   ]
  },
  {
   "cell_type": "markdown",
   "id": "cc359ae4",
   "metadata": {},
   "source": [
    "**Model Comparison Results:**\n",
    "- ROC-AUC curve shows the model performance by plotting the false positive rate to true positive rate\n",
    "- More the skewness of the curve towards the upper left corner higher is the area under the roc curve and better is the model performance\n",
    "- From the ROC-AUC curve it is clear that ANN with droupout performed the best followed by tuned ANN and ANN with dense layer."
   ]
  },
  {
   "cell_type": "markdown",
   "id": "f8e7beec",
   "metadata": {},
   "source": [
    "## <u>Summary</u>"
   ]
  },
  {
   "cell_type": "markdown",
   "id": "4522ab63",
   "metadata": {},
   "source": [
    "In this classification problem the dataset given was quite clean, it had no missing values and a lot of information regarding the customers' was provided.\n",
    "<p>\n",
    "It was a binary classification problem with only 2 classes in the target feature (0: not churned, 1: churned). The classes were imbalanced and the models were predicting all 0s in the target feature. To resolve this we had used over-sampling technique. \n",
    "<p>\n",
    "We used different encoding techniques depending on the feature type. We used Label Encoder for ordinal values whereas one hot encoding for the nominal ones. The Age and Balance features were binned and encoded later on.\n",
    "\n",
    "<b>One important takeaway is new customers are more likely to churn and also customers with high income are hard to retain. The Bank can focus on these 2 groups to bring down the churn rate."
   ]
  },
  {
   "cell_type": "markdown",
   "id": "f4c5bba9",
   "metadata": {},
   "source": [
    "## <u>Next Steps</u>"
   ]
  },
  {
   "cell_type": "markdown",
   "id": "936aa732",
   "metadata": {},
   "source": [
    "To improve the model performance and to get higher accuracy the below things can be done:\n",
    "   - A model's performance increases with increase in data (clean and relevant). If we can feed in more data we can achieve higher accuracy.\n",
    "   - We can try extracting features like (Product_Holdings - Credit_Card) assuming credit card as one of the products we can fetch how many other products the customer is holding.\n",
    "   - Experimenting with under-sampling to see whether there is any change in model performance\n",
    "   - Trying other tuning methods like Optuna or Hyperband or Random Search Optimizer"
   ]
  }
 ],
 "metadata": {
  "kernelspec": {
   "display_name": "Python 3",
   "language": "python",
   "name": "python3"
  },
  "language_info": {
   "codemirror_mode": {
    "name": "ipython",
    "version": 3
   },
   "file_extension": ".py",
   "mimetype": "text/x-python",
   "name": "python",
   "nbconvert_exporter": "python",
   "pygments_lexer": "ipython3",
   "version": "3.8.8"
  }
 },
 "nbformat": 4,
 "nbformat_minor": 5
}
