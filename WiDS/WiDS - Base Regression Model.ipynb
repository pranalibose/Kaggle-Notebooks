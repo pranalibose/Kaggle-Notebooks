{
 "cells": [
  {
   "cell_type": "markdown",
   "id": "f1d9007c",
   "metadata": {},
   "source": [
    "# WiDS - Base Regression Model"
   ]
  },
  {
   "cell_type": "markdown",
   "id": "2adb1e4d",
   "metadata": {},
   "source": [
    "## Introduction"
   ]
  },
  {
   "cell_type": "markdown",
   "id": "74703778",
   "metadata": {},
   "source": [
    "#### In this notebook, I will be implementing Regression Models to predict the site-wise electricity consumption. The notebook has been divided into the following sections:\n",
    "    1. Undedrstanding the Data\n",
    "    2. EDA\n",
    "    3. Preprocessing\n",
    "    4. Key takeaways from the analysis\n",
    "    5. Summary of Data Cleaning steps\n",
    "    6. Modelling\n",
    "    7. Key Findings\n",
    "    8. Future Plan of Action"
   ]
  },
  {
   "cell_type": "markdown",
   "id": "1f34b1a1",
   "metadata": {},
   "source": [
    "# 1. Understanding the Data"
   ]
  },
  {
   "cell_type": "markdown",
   "id": "76d1b107",
   "metadata": {},
   "source": [
    "### Import Libraries"
   ]
  },
  {
   "cell_type": "code",
   "execution_count": 61,
   "id": "1c9c3a96",
   "metadata": {},
   "outputs": [],
   "source": [
    "import pandas as pd\n",
    "import numpy as np\n",
    "import matplotlib.pyplot as plt\n",
    "import seaborn as sns\n",
    "from simple_colors import *\n",
    "import warnings\n",
    "warnings.simplefilter('ignore')\n",
    "\n",
    "%matplotlib inline"
   ]
  },
  {
   "cell_type": "markdown",
   "id": "bad9ce11",
   "metadata": {},
   "source": [
    "### Read train and test files"
   ]
  },
  {
   "cell_type": "code",
   "execution_count": 62,
   "id": "49e06a5c",
   "metadata": {},
   "outputs": [
    {
     "data": {
      "text/html": [
       "<div>\n",
       "<style scoped>\n",
       "    .dataframe tbody tr th:only-of-type {\n",
       "        vertical-align: middle;\n",
       "    }\n",
       "\n",
       "    .dataframe tbody tr th {\n",
       "        vertical-align: top;\n",
       "    }\n",
       "\n",
       "    .dataframe thead th {\n",
       "        text-align: right;\n",
       "    }\n",
       "</style>\n",
       "<table border=\"1\" class=\"dataframe\">\n",
       "  <thead>\n",
       "    <tr style=\"text-align: right;\">\n",
       "      <th></th>\n",
       "      <th>Year_Factor</th>\n",
       "      <th>State_Factor</th>\n",
       "      <th>building_class</th>\n",
       "      <th>facility_type</th>\n",
       "      <th>floor_area</th>\n",
       "      <th>year_built</th>\n",
       "      <th>energy_star_rating</th>\n",
       "      <th>ELEVATION</th>\n",
       "      <th>january_min_temp</th>\n",
       "      <th>january_avg_temp</th>\n",
       "      <th>...</th>\n",
       "      <th>days_above_80F</th>\n",
       "      <th>days_above_90F</th>\n",
       "      <th>days_above_100F</th>\n",
       "      <th>days_above_110F</th>\n",
       "      <th>direction_max_wind_speed</th>\n",
       "      <th>direction_peak_wind_speed</th>\n",
       "      <th>max_wind_speed</th>\n",
       "      <th>days_with_fog</th>\n",
       "      <th>site_eui</th>\n",
       "      <th>id</th>\n",
       "    </tr>\n",
       "  </thead>\n",
       "  <tbody>\n",
       "    <tr>\n",
       "      <th>0</th>\n",
       "      <td>1</td>\n",
       "      <td>State_1</td>\n",
       "      <td>Commercial</td>\n",
       "      <td>Grocery_store_or_food_market</td>\n",
       "      <td>61242.0</td>\n",
       "      <td>1942.0</td>\n",
       "      <td>11.0</td>\n",
       "      <td>2.4</td>\n",
       "      <td>36</td>\n",
       "      <td>50.5</td>\n",
       "      <td>...</td>\n",
       "      <td>14</td>\n",
       "      <td>0</td>\n",
       "      <td>0</td>\n",
       "      <td>0</td>\n",
       "      <td>1.0</td>\n",
       "      <td>1.0</td>\n",
       "      <td>1.0</td>\n",
       "      <td>NaN</td>\n",
       "      <td>248.682615</td>\n",
       "      <td>0</td>\n",
       "    </tr>\n",
       "    <tr>\n",
       "      <th>1</th>\n",
       "      <td>1</td>\n",
       "      <td>State_1</td>\n",
       "      <td>Commercial</td>\n",
       "      <td>Warehouse_Distribution_or_Shipping_center</td>\n",
       "      <td>274000.0</td>\n",
       "      <td>1955.0</td>\n",
       "      <td>45.0</td>\n",
       "      <td>1.8</td>\n",
       "      <td>36</td>\n",
       "      <td>50.5</td>\n",
       "      <td>...</td>\n",
       "      <td>14</td>\n",
       "      <td>0</td>\n",
       "      <td>0</td>\n",
       "      <td>0</td>\n",
       "      <td>1.0</td>\n",
       "      <td>NaN</td>\n",
       "      <td>1.0</td>\n",
       "      <td>12.0</td>\n",
       "      <td>26.500150</td>\n",
       "      <td>1</td>\n",
       "    </tr>\n",
       "    <tr>\n",
       "      <th>2</th>\n",
       "      <td>1</td>\n",
       "      <td>State_1</td>\n",
       "      <td>Commercial</td>\n",
       "      <td>Retail_Enclosed_mall</td>\n",
       "      <td>280025.0</td>\n",
       "      <td>1951.0</td>\n",
       "      <td>97.0</td>\n",
       "      <td>1.8</td>\n",
       "      <td>36</td>\n",
       "      <td>50.5</td>\n",
       "      <td>...</td>\n",
       "      <td>14</td>\n",
       "      <td>0</td>\n",
       "      <td>0</td>\n",
       "      <td>0</td>\n",
       "      <td>1.0</td>\n",
       "      <td>NaN</td>\n",
       "      <td>1.0</td>\n",
       "      <td>12.0</td>\n",
       "      <td>24.693619</td>\n",
       "      <td>2</td>\n",
       "    </tr>\n",
       "    <tr>\n",
       "      <th>3</th>\n",
       "      <td>1</td>\n",
       "      <td>State_1</td>\n",
       "      <td>Commercial</td>\n",
       "      <td>Education_Other_classroom</td>\n",
       "      <td>55325.0</td>\n",
       "      <td>1980.0</td>\n",
       "      <td>46.0</td>\n",
       "      <td>1.8</td>\n",
       "      <td>36</td>\n",
       "      <td>50.5</td>\n",
       "      <td>...</td>\n",
       "      <td>14</td>\n",
       "      <td>0</td>\n",
       "      <td>0</td>\n",
       "      <td>0</td>\n",
       "      <td>1.0</td>\n",
       "      <td>NaN</td>\n",
       "      <td>1.0</td>\n",
       "      <td>12.0</td>\n",
       "      <td>48.406926</td>\n",
       "      <td>3</td>\n",
       "    </tr>\n",
       "    <tr>\n",
       "      <th>4</th>\n",
       "      <td>1</td>\n",
       "      <td>State_1</td>\n",
       "      <td>Commercial</td>\n",
       "      <td>Warehouse_Nonrefrigerated</td>\n",
       "      <td>66000.0</td>\n",
       "      <td>1985.0</td>\n",
       "      <td>100.0</td>\n",
       "      <td>2.4</td>\n",
       "      <td>36</td>\n",
       "      <td>50.5</td>\n",
       "      <td>...</td>\n",
       "      <td>14</td>\n",
       "      <td>0</td>\n",
       "      <td>0</td>\n",
       "      <td>0</td>\n",
       "      <td>1.0</td>\n",
       "      <td>1.0</td>\n",
       "      <td>1.0</td>\n",
       "      <td>NaN</td>\n",
       "      <td>3.899395</td>\n",
       "      <td>4</td>\n",
       "    </tr>\n",
       "  </tbody>\n",
       "</table>\n",
       "<p>5 rows × 64 columns</p>\n",
       "</div>"
      ],
      "text/plain": [
       "   Year_Factor State_Factor building_class  \\\n",
       "0            1      State_1     Commercial   \n",
       "1            1      State_1     Commercial   \n",
       "2            1      State_1     Commercial   \n",
       "3            1      State_1     Commercial   \n",
       "4            1      State_1     Commercial   \n",
       "\n",
       "                               facility_type  floor_area  year_built  \\\n",
       "0               Grocery_store_or_food_market     61242.0      1942.0   \n",
       "1  Warehouse_Distribution_or_Shipping_center    274000.0      1955.0   \n",
       "2                       Retail_Enclosed_mall    280025.0      1951.0   \n",
       "3                  Education_Other_classroom     55325.0      1980.0   \n",
       "4                  Warehouse_Nonrefrigerated     66000.0      1985.0   \n",
       "\n",
       "   energy_star_rating  ELEVATION  january_min_temp  january_avg_temp  ...  \\\n",
       "0                11.0        2.4                36              50.5  ...   \n",
       "1                45.0        1.8                36              50.5  ...   \n",
       "2                97.0        1.8                36              50.5  ...   \n",
       "3                46.0        1.8                36              50.5  ...   \n",
       "4               100.0        2.4                36              50.5  ...   \n",
       "\n",
       "   days_above_80F  days_above_90F  days_above_100F  days_above_110F  \\\n",
       "0              14               0                0                0   \n",
       "1              14               0                0                0   \n",
       "2              14               0                0                0   \n",
       "3              14               0                0                0   \n",
       "4              14               0                0                0   \n",
       "\n",
       "   direction_max_wind_speed  direction_peak_wind_speed  max_wind_speed  \\\n",
       "0                       1.0                        1.0             1.0   \n",
       "1                       1.0                        NaN             1.0   \n",
       "2                       1.0                        NaN             1.0   \n",
       "3                       1.0                        NaN             1.0   \n",
       "4                       1.0                        1.0             1.0   \n",
       "\n",
       "   days_with_fog    site_eui  id  \n",
       "0            NaN  248.682615   0  \n",
       "1           12.0   26.500150   1  \n",
       "2           12.0   24.693619   2  \n",
       "3           12.0   48.406926   3  \n",
       "4            NaN    3.899395   4  \n",
       "\n",
       "[5 rows x 64 columns]"
      ]
     },
     "execution_count": 62,
     "metadata": {},
     "output_type": "execute_result"
    }
   ],
   "source": [
    "train_df = pd.read_csv('train.csv')\n",
    "test_df = pd.read_csv('test.csv')\n",
    "train_df.head()"
   ]
  },
  {
   "cell_type": "code",
   "execution_count": 63,
   "id": "27e76e7e",
   "metadata": {},
   "outputs": [
    {
     "data": {
      "text/plain": [
       "(75757, 64)"
      ]
     },
     "execution_count": 63,
     "metadata": {},
     "output_type": "execute_result"
    }
   ],
   "source": [
    "train_df.shape"
   ]
  },
  {
   "cell_type": "code",
   "execution_count": 64,
   "id": "b2ce5fe0",
   "metadata": {},
   "outputs": [
    {
     "name": "stdout",
     "output_type": "stream",
     "text": [
      "<class 'pandas.core.frame.DataFrame'>\n",
      "RangeIndex: 75757 entries, 0 to 75756\n",
      "Data columns (total 64 columns):\n",
      " #   Column                     Non-Null Count  Dtype  \n",
      "---  ------                     --------------  -----  \n",
      " 0   Year_Factor                75757 non-null  int64  \n",
      " 1   State_Factor               75757 non-null  object \n",
      " 2   building_class             75757 non-null  object \n",
      " 3   facility_type              75757 non-null  object \n",
      " 4   floor_area                 75757 non-null  float64\n",
      " 5   year_built                 73920 non-null  float64\n",
      " 6   energy_star_rating         49048 non-null  float64\n",
      " 7   ELEVATION                  75757 non-null  float64\n",
      " 8   january_min_temp           75757 non-null  int64  \n",
      " 9   january_avg_temp           75757 non-null  float64\n",
      " 10  january_max_temp           75757 non-null  int64  \n",
      " 11  february_min_temp          75757 non-null  int64  \n",
      " 12  february_avg_temp          75757 non-null  float64\n",
      " 13  february_max_temp          75757 non-null  int64  \n",
      " 14  march_min_temp             75757 non-null  int64  \n",
      " 15  march_avg_temp             75757 non-null  float64\n",
      " 16  march_max_temp             75757 non-null  int64  \n",
      " 17  april_min_temp             75757 non-null  int64  \n",
      " 18  april_avg_temp             75757 non-null  float64\n",
      " 19  april_max_temp             75757 non-null  int64  \n",
      " 20  may_min_temp               75757 non-null  int64  \n",
      " 21  may_avg_temp               75757 non-null  float64\n",
      " 22  may_max_temp               75757 non-null  int64  \n",
      " 23  june_min_temp              75757 non-null  int64  \n",
      " 24  june_avg_temp              75757 non-null  float64\n",
      " 25  june_max_temp              75757 non-null  int64  \n",
      " 26  july_min_temp              75757 non-null  int64  \n",
      " 27  july_avg_temp              75757 non-null  float64\n",
      " 28  july_max_temp              75757 non-null  int64  \n",
      " 29  august_min_temp            75757 non-null  int64  \n",
      " 30  august_avg_temp            75757 non-null  float64\n",
      " 31  august_max_temp            75757 non-null  int64  \n",
      " 32  september_min_temp         75757 non-null  int64  \n",
      " 33  september_avg_temp         75757 non-null  float64\n",
      " 34  september_max_temp         75757 non-null  int64  \n",
      " 35  october_min_temp           75757 non-null  int64  \n",
      " 36  october_avg_temp           75757 non-null  float64\n",
      " 37  october_max_temp           75757 non-null  int64  \n",
      " 38  november_min_temp          75757 non-null  int64  \n",
      " 39  november_avg_temp          75757 non-null  float64\n",
      " 40  november_max_temp          75757 non-null  int64  \n",
      " 41  december_min_temp          75757 non-null  int64  \n",
      " 42  december_avg_temp          75757 non-null  float64\n",
      " 43  december_max_temp          75757 non-null  int64  \n",
      " 44  cooling_degree_days        75757 non-null  int64  \n",
      " 45  heating_degree_days        75757 non-null  int64  \n",
      " 46  precipitation_inches       75757 non-null  float64\n",
      " 47  snowfall_inches            75757 non-null  float64\n",
      " 48  snowdepth_inches           75757 non-null  int64  \n",
      " 49  avg_temp                   75757 non-null  float64\n",
      " 50  days_below_30F             75757 non-null  int64  \n",
      " 51  days_below_20F             75757 non-null  int64  \n",
      " 52  days_below_10F             75757 non-null  int64  \n",
      " 53  days_below_0F              75757 non-null  int64  \n",
      " 54  days_above_80F             75757 non-null  int64  \n",
      " 55  days_above_90F             75757 non-null  int64  \n",
      " 56  days_above_100F            75757 non-null  int64  \n",
      " 57  days_above_110F            75757 non-null  int64  \n",
      " 58  direction_max_wind_speed   34675 non-null  float64\n",
      " 59  direction_peak_wind_speed  33946 non-null  float64\n",
      " 60  max_wind_speed             34675 non-null  float64\n",
      " 61  days_with_fog              29961 non-null  float64\n",
      " 62  site_eui                   75757 non-null  float64\n",
      " 63  id                         75757 non-null  int64  \n",
      "dtypes: float64(24), int64(37), object(3)\n",
      "memory usage: 37.0+ MB\n"
     ]
    }
   ],
   "source": [
    "train_df.info()"
   ]
  },
  {
   "cell_type": "code",
   "execution_count": 65,
   "id": "ca71fefc",
   "metadata": {},
   "outputs": [
    {
     "data": {
      "text/html": [
       "<div>\n",
       "<style scoped>\n",
       "    .dataframe tbody tr th:only-of-type {\n",
       "        vertical-align: middle;\n",
       "    }\n",
       "\n",
       "    .dataframe tbody tr th {\n",
       "        vertical-align: top;\n",
       "    }\n",
       "\n",
       "    .dataframe thead th {\n",
       "        text-align: right;\n",
       "    }\n",
       "</style>\n",
       "<table border=\"1\" class=\"dataframe\">\n",
       "  <thead>\n",
       "    <tr style=\"text-align: right;\">\n",
       "      <th></th>\n",
       "      <th>Year_Factor</th>\n",
       "      <th>floor_area</th>\n",
       "      <th>year_built</th>\n",
       "      <th>energy_star_rating</th>\n",
       "      <th>ELEVATION</th>\n",
       "      <th>january_min_temp</th>\n",
       "      <th>january_avg_temp</th>\n",
       "      <th>january_max_temp</th>\n",
       "      <th>february_min_temp</th>\n",
       "      <th>february_avg_temp</th>\n",
       "      <th>...</th>\n",
       "      <th>days_above_80F</th>\n",
       "      <th>days_above_90F</th>\n",
       "      <th>days_above_100F</th>\n",
       "      <th>days_above_110F</th>\n",
       "      <th>direction_max_wind_speed</th>\n",
       "      <th>direction_peak_wind_speed</th>\n",
       "      <th>max_wind_speed</th>\n",
       "      <th>days_with_fog</th>\n",
       "      <th>site_eui</th>\n",
       "      <th>id</th>\n",
       "    </tr>\n",
       "  </thead>\n",
       "  <tbody>\n",
       "    <tr>\n",
       "      <th>count</th>\n",
       "      <td>75757.000000</td>\n",
       "      <td>7.575700e+04</td>\n",
       "      <td>73920.000000</td>\n",
       "      <td>49048.000000</td>\n",
       "      <td>75757.000000</td>\n",
       "      <td>75757.000000</td>\n",
       "      <td>75757.000000</td>\n",
       "      <td>75757.000000</td>\n",
       "      <td>75757.000000</td>\n",
       "      <td>75757.000000</td>\n",
       "      <td>...</td>\n",
       "      <td>75757.000000</td>\n",
       "      <td>75757.000000</td>\n",
       "      <td>75757.000000</td>\n",
       "      <td>75757.000000</td>\n",
       "      <td>34675.000000</td>\n",
       "      <td>33946.000000</td>\n",
       "      <td>34675.000000</td>\n",
       "      <td>29961.000000</td>\n",
       "      <td>75757.000000</td>\n",
       "      <td>75757.000000</td>\n",
       "    </tr>\n",
       "    <tr>\n",
       "      <th>mean</th>\n",
       "      <td>4.367755</td>\n",
       "      <td>1.659839e+05</td>\n",
       "      <td>1952.306764</td>\n",
       "      <td>61.048605</td>\n",
       "      <td>39.506323</td>\n",
       "      <td>11.432343</td>\n",
       "      <td>34.310468</td>\n",
       "      <td>59.054952</td>\n",
       "      <td>11.720567</td>\n",
       "      <td>35.526837</td>\n",
       "      <td>...</td>\n",
       "      <td>82.709809</td>\n",
       "      <td>14.058701</td>\n",
       "      <td>0.279539</td>\n",
       "      <td>0.002442</td>\n",
       "      <td>66.552675</td>\n",
       "      <td>62.779974</td>\n",
       "      <td>4.190601</td>\n",
       "      <td>109.142051</td>\n",
       "      <td>82.584693</td>\n",
       "      <td>37878.000000</td>\n",
       "    </tr>\n",
       "    <tr>\n",
       "      <th>std</th>\n",
       "      <td>1.471441</td>\n",
       "      <td>2.468758e+05</td>\n",
       "      <td>37.053619</td>\n",
       "      <td>28.663683</td>\n",
       "      <td>60.656596</td>\n",
       "      <td>9.381027</td>\n",
       "      <td>6.996108</td>\n",
       "      <td>5.355458</td>\n",
       "      <td>12.577272</td>\n",
       "      <td>8.866697</td>\n",
       "      <td>...</td>\n",
       "      <td>25.282913</td>\n",
       "      <td>10.943996</td>\n",
       "      <td>2.252323</td>\n",
       "      <td>0.142140</td>\n",
       "      <td>131.147834</td>\n",
       "      <td>130.308106</td>\n",
       "      <td>6.458789</td>\n",
       "      <td>50.699751</td>\n",
       "      <td>58.255403</td>\n",
       "      <td>21869.306509</td>\n",
       "    </tr>\n",
       "    <tr>\n",
       "      <th>min</th>\n",
       "      <td>1.000000</td>\n",
       "      <td>9.430000e+02</td>\n",
       "      <td>0.000000</td>\n",
       "      <td>0.000000</td>\n",
       "      <td>-6.400000</td>\n",
       "      <td>-19.000000</td>\n",
       "      <td>10.806452</td>\n",
       "      <td>42.000000</td>\n",
       "      <td>-13.000000</td>\n",
       "      <td>13.250000</td>\n",
       "      <td>...</td>\n",
       "      <td>0.000000</td>\n",
       "      <td>0.000000</td>\n",
       "      <td>0.000000</td>\n",
       "      <td>0.000000</td>\n",
       "      <td>1.000000</td>\n",
       "      <td>1.000000</td>\n",
       "      <td>1.000000</td>\n",
       "      <td>12.000000</td>\n",
       "      <td>1.001169</td>\n",
       "      <td>0.000000</td>\n",
       "    </tr>\n",
       "    <tr>\n",
       "      <th>25%</th>\n",
       "      <td>3.000000</td>\n",
       "      <td>6.237900e+04</td>\n",
       "      <td>1927.000000</td>\n",
       "      <td>40.000000</td>\n",
       "      <td>11.900000</td>\n",
       "      <td>6.000000</td>\n",
       "      <td>29.827586</td>\n",
       "      <td>56.000000</td>\n",
       "      <td>2.000000</td>\n",
       "      <td>31.625000</td>\n",
       "      <td>...</td>\n",
       "      <td>72.000000</td>\n",
       "      <td>6.000000</td>\n",
       "      <td>0.000000</td>\n",
       "      <td>0.000000</td>\n",
       "      <td>1.000000</td>\n",
       "      <td>1.000000</td>\n",
       "      <td>1.000000</td>\n",
       "      <td>88.000000</td>\n",
       "      <td>54.528601</td>\n",
       "      <td>18939.000000</td>\n",
       "    </tr>\n",
       "    <tr>\n",
       "      <th>50%</th>\n",
       "      <td>5.000000</td>\n",
       "      <td>9.136700e+04</td>\n",
       "      <td>1951.000000</td>\n",
       "      <td>67.000000</td>\n",
       "      <td>25.000000</td>\n",
       "      <td>11.000000</td>\n",
       "      <td>34.451613</td>\n",
       "      <td>59.000000</td>\n",
       "      <td>9.000000</td>\n",
       "      <td>34.107143</td>\n",
       "      <td>...</td>\n",
       "      <td>84.000000</td>\n",
       "      <td>12.000000</td>\n",
       "      <td>0.000000</td>\n",
       "      <td>0.000000</td>\n",
       "      <td>1.000000</td>\n",
       "      <td>1.000000</td>\n",
       "      <td>1.000000</td>\n",
       "      <td>104.000000</td>\n",
       "      <td>75.293716</td>\n",
       "      <td>37878.000000</td>\n",
       "    </tr>\n",
       "    <tr>\n",
       "      <th>75%</th>\n",
       "      <td>6.000000</td>\n",
       "      <td>1.660000e+05</td>\n",
       "      <td>1977.000000</td>\n",
       "      <td>85.000000</td>\n",
       "      <td>42.700000</td>\n",
       "      <td>13.000000</td>\n",
       "      <td>37.322581</td>\n",
       "      <td>62.000000</td>\n",
       "      <td>20.000000</td>\n",
       "      <td>40.879310</td>\n",
       "      <td>...</td>\n",
       "      <td>97.000000</td>\n",
       "      <td>17.000000</td>\n",
       "      <td>0.000000</td>\n",
       "      <td>0.000000</td>\n",
       "      <td>1.000000</td>\n",
       "      <td>1.000000</td>\n",
       "      <td>1.000000</td>\n",
       "      <td>131.000000</td>\n",
       "      <td>97.277534</td>\n",
       "      <td>56817.000000</td>\n",
       "    </tr>\n",
       "    <tr>\n",
       "      <th>max</th>\n",
       "      <td>6.000000</td>\n",
       "      <td>6.385382e+06</td>\n",
       "      <td>2015.000000</td>\n",
       "      <td>100.000000</td>\n",
       "      <td>1924.500000</td>\n",
       "      <td>49.000000</td>\n",
       "      <td>64.758065</td>\n",
       "      <td>91.000000</td>\n",
       "      <td>48.000000</td>\n",
       "      <td>65.107143</td>\n",
       "      <td>...</td>\n",
       "      <td>260.000000</td>\n",
       "      <td>185.000000</td>\n",
       "      <td>119.000000</td>\n",
       "      <td>16.000000</td>\n",
       "      <td>360.000000</td>\n",
       "      <td>360.000000</td>\n",
       "      <td>23.300000</td>\n",
       "      <td>311.000000</td>\n",
       "      <td>997.866120</td>\n",
       "      <td>75756.000000</td>\n",
       "    </tr>\n",
       "  </tbody>\n",
       "</table>\n",
       "<p>8 rows × 61 columns</p>\n",
       "</div>"
      ],
      "text/plain": [
       "        Year_Factor    floor_area    year_built  energy_star_rating  \\\n",
       "count  75757.000000  7.575700e+04  73920.000000        49048.000000   \n",
       "mean       4.367755  1.659839e+05   1952.306764           61.048605   \n",
       "std        1.471441  2.468758e+05     37.053619           28.663683   \n",
       "min        1.000000  9.430000e+02      0.000000            0.000000   \n",
       "25%        3.000000  6.237900e+04   1927.000000           40.000000   \n",
       "50%        5.000000  9.136700e+04   1951.000000           67.000000   \n",
       "75%        6.000000  1.660000e+05   1977.000000           85.000000   \n",
       "max        6.000000  6.385382e+06   2015.000000          100.000000   \n",
       "\n",
       "          ELEVATION  january_min_temp  january_avg_temp  january_max_temp  \\\n",
       "count  75757.000000      75757.000000      75757.000000      75757.000000   \n",
       "mean      39.506323         11.432343         34.310468         59.054952   \n",
       "std       60.656596          9.381027          6.996108          5.355458   \n",
       "min       -6.400000        -19.000000         10.806452         42.000000   \n",
       "25%       11.900000          6.000000         29.827586         56.000000   \n",
       "50%       25.000000         11.000000         34.451613         59.000000   \n",
       "75%       42.700000         13.000000         37.322581         62.000000   \n",
       "max     1924.500000         49.000000         64.758065         91.000000   \n",
       "\n",
       "       february_min_temp  february_avg_temp  ...  days_above_80F  \\\n",
       "count       75757.000000       75757.000000  ...    75757.000000   \n",
       "mean           11.720567          35.526837  ...       82.709809   \n",
       "std            12.577272           8.866697  ...       25.282913   \n",
       "min           -13.000000          13.250000  ...        0.000000   \n",
       "25%             2.000000          31.625000  ...       72.000000   \n",
       "50%             9.000000          34.107143  ...       84.000000   \n",
       "75%            20.000000          40.879310  ...       97.000000   \n",
       "max            48.000000          65.107143  ...      260.000000   \n",
       "\n",
       "       days_above_90F  days_above_100F  days_above_110F  \\\n",
       "count    75757.000000     75757.000000     75757.000000   \n",
       "mean        14.058701         0.279539         0.002442   \n",
       "std         10.943996         2.252323         0.142140   \n",
       "min          0.000000         0.000000         0.000000   \n",
       "25%          6.000000         0.000000         0.000000   \n",
       "50%         12.000000         0.000000         0.000000   \n",
       "75%         17.000000         0.000000         0.000000   \n",
       "max        185.000000       119.000000        16.000000   \n",
       "\n",
       "       direction_max_wind_speed  direction_peak_wind_speed  max_wind_speed  \\\n",
       "count              34675.000000               33946.000000    34675.000000   \n",
       "mean                  66.552675                  62.779974        4.190601   \n",
       "std                  131.147834                 130.308106        6.458789   \n",
       "min                    1.000000                   1.000000        1.000000   \n",
       "25%                    1.000000                   1.000000        1.000000   \n",
       "50%                    1.000000                   1.000000        1.000000   \n",
       "75%                    1.000000                   1.000000        1.000000   \n",
       "max                  360.000000                 360.000000       23.300000   \n",
       "\n",
       "       days_with_fog      site_eui            id  \n",
       "count   29961.000000  75757.000000  75757.000000  \n",
       "mean      109.142051     82.584693  37878.000000  \n",
       "std        50.699751     58.255403  21869.306509  \n",
       "min        12.000000      1.001169      0.000000  \n",
       "25%        88.000000     54.528601  18939.000000  \n",
       "50%       104.000000     75.293716  37878.000000  \n",
       "75%       131.000000     97.277534  56817.000000  \n",
       "max       311.000000    997.866120  75756.000000  \n",
       "\n",
       "[8 rows x 61 columns]"
      ]
     },
     "execution_count": 65,
     "metadata": {},
     "output_type": "execute_result"
    }
   ],
   "source": [
    "train_df.describe()"
   ]
  },
  {
   "cell_type": "code",
   "execution_count": 66,
   "id": "398284fc",
   "metadata": {},
   "outputs": [
    {
     "data": {
      "text/plain": [
       "int64      37\n",
       "float64    24\n",
       "object      3\n",
       "dtype: int64"
      ]
     },
     "execution_count": 66,
     "metadata": {},
     "output_type": "execute_result"
    }
   ],
   "source": [
    "train_df.dtypes.value_counts()"
   ]
  },
  {
   "cell_type": "code",
   "execution_count": 67,
   "id": "0c72290b",
   "metadata": {},
   "outputs": [
    {
     "data": {
      "text/plain": [
       "Year_Factor                    int64\n",
       "State_Factor                  object\n",
       "building_class                object\n",
       "facility_type                 object\n",
       "floor_area                   float64\n",
       "                              ...   \n",
       "direction_peak_wind_speed    float64\n",
       "max_wind_speed               float64\n",
       "days_with_fog                float64\n",
       "site_eui                     float64\n",
       "id                             int64\n",
       "Length: 64, dtype: object"
      ]
     },
     "execution_count": 67,
     "metadata": {},
     "output_type": "execute_result"
    }
   ],
   "source": [
    "train_df.dtypes"
   ]
  },
  {
   "cell_type": "code",
   "execution_count": 68,
   "id": "9e103ba5",
   "metadata": {},
   "outputs": [],
   "source": [
    "cat_features = train_df.select_dtypes(include=['object']).columns.to_list()"
   ]
  },
  {
   "cell_type": "code",
   "execution_count": 69,
   "id": "3a357848",
   "metadata": {},
   "outputs": [
    {
     "data": {
      "text/plain": [
       "['State_Factor', 'building_class', 'facility_type']"
      ]
     },
     "execution_count": 69,
     "metadata": {},
     "output_type": "execute_result"
    }
   ],
   "source": [
    "cat_features"
   ]
  },
  {
   "cell_type": "code",
   "execution_count": 70,
   "id": "86c80583",
   "metadata": {},
   "outputs": [],
   "source": [
    "num_features = [i for i in train_df.columns if i not in cat_features]"
   ]
  },
  {
   "cell_type": "markdown",
   "id": "efc809c3",
   "metadata": {},
   "source": [
    "# 2. EDA\n",
    "\n",
    "    1. Analyse the categorical features of train and test sets\n",
    "    2. Visualize the spread of the data\n",
    "    3. Encoding\n",
    "    4. Group the temperature columns together and try to perform feature engineering\n",
    "    5. days_below and days_above (see whether we can bring down the number of features)\n",
    "    6. Analyse the outliers\n",
    "    7. Drop the unnececssary columns\n",
    "    8. Analyse the distribution of the features (whether they are normally distributed)\n",
    "    9. Handle missing values"
   ]
  },
  {
   "cell_type": "markdown",
   "id": "c7836fe0",
   "metadata": {},
   "source": [
    "### Creating a separate dataframe with just the categorical features and the target variable"
   ]
  },
  {
   "cell_type": "code",
   "execution_count": 71,
   "id": "30839646",
   "metadata": {},
   "outputs": [],
   "source": [
    "cat_df = train_df.loc[:, cat_features]"
   ]
  },
  {
   "cell_type": "code",
   "execution_count": 72,
   "id": "187da51b",
   "metadata": {},
   "outputs": [],
   "source": [
    "cat_df['site_eui'] = train_df['site_eui']"
   ]
  },
  {
   "cell_type": "code",
   "execution_count": 73,
   "id": "ce6b1655",
   "metadata": {},
   "outputs": [
    {
     "data": {
      "text/html": [
       "<div>\n",
       "<style scoped>\n",
       "    .dataframe tbody tr th:only-of-type {\n",
       "        vertical-align: middle;\n",
       "    }\n",
       "\n",
       "    .dataframe tbody tr th {\n",
       "        vertical-align: top;\n",
       "    }\n",
       "\n",
       "    .dataframe thead th {\n",
       "        text-align: right;\n",
       "    }\n",
       "</style>\n",
       "<table border=\"1\" class=\"dataframe\">\n",
       "  <thead>\n",
       "    <tr style=\"text-align: right;\">\n",
       "      <th></th>\n",
       "      <th>State_Factor</th>\n",
       "      <th>building_class</th>\n",
       "      <th>facility_type</th>\n",
       "      <th>site_eui</th>\n",
       "    </tr>\n",
       "  </thead>\n",
       "  <tbody>\n",
       "    <tr>\n",
       "      <th>0</th>\n",
       "      <td>State_1</td>\n",
       "      <td>Commercial</td>\n",
       "      <td>Grocery_store_or_food_market</td>\n",
       "      <td>248.682615</td>\n",
       "    </tr>\n",
       "    <tr>\n",
       "      <th>1</th>\n",
       "      <td>State_1</td>\n",
       "      <td>Commercial</td>\n",
       "      <td>Warehouse_Distribution_or_Shipping_center</td>\n",
       "      <td>26.500150</td>\n",
       "    </tr>\n",
       "    <tr>\n",
       "      <th>2</th>\n",
       "      <td>State_1</td>\n",
       "      <td>Commercial</td>\n",
       "      <td>Retail_Enclosed_mall</td>\n",
       "      <td>24.693619</td>\n",
       "    </tr>\n",
       "    <tr>\n",
       "      <th>3</th>\n",
       "      <td>State_1</td>\n",
       "      <td>Commercial</td>\n",
       "      <td>Education_Other_classroom</td>\n",
       "      <td>48.406926</td>\n",
       "    </tr>\n",
       "    <tr>\n",
       "      <th>4</th>\n",
       "      <td>State_1</td>\n",
       "      <td>Commercial</td>\n",
       "      <td>Warehouse_Nonrefrigerated</td>\n",
       "      <td>3.899395</td>\n",
       "    </tr>\n",
       "    <tr>\n",
       "      <th>...</th>\n",
       "      <td>...</td>\n",
       "      <td>...</td>\n",
       "      <td>...</td>\n",
       "      <td>...</td>\n",
       "    </tr>\n",
       "    <tr>\n",
       "      <th>75752</th>\n",
       "      <td>State_11</td>\n",
       "      <td>Commercial</td>\n",
       "      <td>Office_Uncategorized</td>\n",
       "      <td>132.918411</td>\n",
       "    </tr>\n",
       "    <tr>\n",
       "      <th>75753</th>\n",
       "      <td>State_11</td>\n",
       "      <td>Residential</td>\n",
       "      <td>5plus_Unit_Building</td>\n",
       "      <td>39.483672</td>\n",
       "    </tr>\n",
       "    <tr>\n",
       "      <th>75754</th>\n",
       "      <td>State_11</td>\n",
       "      <td>Commercial</td>\n",
       "      <td>Commercial_Other</td>\n",
       "      <td>48.404398</td>\n",
       "    </tr>\n",
       "    <tr>\n",
       "      <th>75755</th>\n",
       "      <td>State_11</td>\n",
       "      <td>Commercial</td>\n",
       "      <td>Commercial_Other</td>\n",
       "      <td>592.022750</td>\n",
       "    </tr>\n",
       "    <tr>\n",
       "      <th>75756</th>\n",
       "      <td>State_11</td>\n",
       "      <td>Residential</td>\n",
       "      <td>2to4_Unit_Building</td>\n",
       "      <td>29.154684</td>\n",
       "    </tr>\n",
       "  </tbody>\n",
       "</table>\n",
       "<p>75757 rows × 4 columns</p>\n",
       "</div>"
      ],
      "text/plain": [
       "      State_Factor building_class                              facility_type  \\\n",
       "0          State_1     Commercial               Grocery_store_or_food_market   \n",
       "1          State_1     Commercial  Warehouse_Distribution_or_Shipping_center   \n",
       "2          State_1     Commercial                       Retail_Enclosed_mall   \n",
       "3          State_1     Commercial                  Education_Other_classroom   \n",
       "4          State_1     Commercial                  Warehouse_Nonrefrigerated   \n",
       "...            ...            ...                                        ...   \n",
       "75752     State_11     Commercial                       Office_Uncategorized   \n",
       "75753     State_11    Residential                        5plus_Unit_Building   \n",
       "75754     State_11     Commercial                           Commercial_Other   \n",
       "75755     State_11     Commercial                           Commercial_Other   \n",
       "75756     State_11    Residential                         2to4_Unit_Building   \n",
       "\n",
       "         site_eui  \n",
       "0      248.682615  \n",
       "1       26.500150  \n",
       "2       24.693619  \n",
       "3       48.406926  \n",
       "4        3.899395  \n",
       "...           ...  \n",
       "75752  132.918411  \n",
       "75753   39.483672  \n",
       "75754   48.404398  \n",
       "75755  592.022750  \n",
       "75756   29.154684  \n",
       "\n",
       "[75757 rows x 4 columns]"
      ]
     },
     "execution_count": 73,
     "metadata": {},
     "output_type": "execute_result"
    }
   ],
   "source": [
    "cat_df"
   ]
  },
  {
   "cell_type": "code",
   "execution_count": 74,
   "id": "120e07bb",
   "metadata": {},
   "outputs": [
    {
     "name": "stdout",
     "output_type": "stream",
     "text": [
      "\u001b[1;4;34mSTATE_FACTOR\u001b[0m\n",
      "State_6     50840\n",
      "State_11     6412\n",
      "State_1      5618\n",
      "State_2      4871\n",
      "State_4      4300\n",
      "State_8      3701\n",
      "State_10       15\n",
      "Name: State_Factor, dtype: int64 \n",
      "\n",
      "\u001b[1;4;34mBUILDING_CLASS\u001b[0m\n",
      "Residential    43558\n",
      "Commercial     32199\n",
      "Name: building_class, dtype: int64 \n",
      "\n",
      "\u001b[1;4;34mFACILITY_TYPE\u001b[0m\n",
      "Multifamily_Uncategorized                    39455\n",
      "Office_Uncategorized                         12512\n",
      "Education_Other_classroom                     3860\n",
      "Lodging_Hotel                                 2098\n",
      "2to4_Unit_Building                            1893\n",
      "Commercial_Other                              1744\n",
      "5plus_Unit_Building                           1273\n",
      "Warehouse_Nonrefrigerated                     1255\n",
      "Retail_Uncategorized                          1130\n",
      "Education_College_or_university               1056\n",
      "Nursing_Home                                   772\n",
      "Education_Uncategorized                        709\n",
      "Mixed_Use_Commercial_and_Residential           672\n",
      "Lodging_Dormitory_or_fraternity_sorority       669\n",
      "Warehouse_Distribution_or_Shipping_center      604\n",
      "Warehouse_Selfstorage                          577\n",
      "Grocery_store_or_food_market                   448\n",
      "Office_Medical_non_diagnostic                  447\n",
      "Health_Care_Inpatient                          409\n",
      "Religious_worship                              399\n",
      "Industrial                                     384\n",
      "Warehouse_Uncategorized                        330\n",
      "Mixed_Use_Predominantly_Commercial             256\n",
      "Parking_Garage                                 251\n",
      "Office_Bank_or_other_financial                 173\n",
      "Public_Assembly_Library                        160\n",
      "Public_Safety_Fire_or_police_station           157\n",
      "Public_Assembly_Other                          142\n",
      "Service_Vehicle_service_repair_shop            138\n",
      "Retail_Enclosed_mall                           120\n",
      "Warehouse_Refrigerated                         113\n",
      "Retail_Strip_shopping_mall                     113\n",
      "Public_Assembly_Entertainment_culture          110\n",
      "Education_Preschool_or_daycare                 108\n",
      "Laboratory                                     107\n",
      "Commercial_Unknown                              95\n",
      "Public_Assembly_Social_meeting                  88\n",
      "Lodging_Other                                   75\n",
      "Retail_Vehicle_dealership_showroom              74\n",
      "Public_Assembly_Recreation                      72\n",
      "Food_Sales                                      70\n",
      "Public_Assembly_Drama_theater                   70\n",
      "Service_Uncategorized                           68\n",
      "Food_Service_Restaurant_or_cafeteria            64\n",
      "Health_Care_Outpatient_Clinic                   56\n",
      "Health_Care_Uncategorized                       51\n",
      "Public_Safety_Uncategorized                     43\n",
      "Public_Assembly_Movie_Theater                   39\n",
      "Public_Safety_Courthouse                        38\n",
      "Public_Safety_Penitentiary                      37\n",
      "Health_Care_Outpatient_Uncategorized            36\n",
      "Data_Center                                     27\n",
      "Public_Assembly_Uncategorized                   25\n",
      "Food_Service_Uncategorized                      18\n",
      "Office_Mixed_use                                18\n",
      "Food_Service_Other                              17\n",
      "Public_Assembly_Stadium                          9\n",
      "Service_Drycleaning_or_Laundry                   9\n",
      "Mixed_Use_Predominantly_Residential              9\n",
      "Lodging_Uncategorized                            5\n",
      "Name: facility_type, dtype: int64 \n",
      "\n"
     ]
    }
   ],
   "source": [
    "for i in cat_df.columns:\n",
    "    if i != 'site_eui':\n",
    "        print(blue(i.upper(), ['bold', 'underlined']))\n",
    "        print(cat_df[i].value_counts(), '\\n')"
   ]
  },
  {
   "cell_type": "markdown",
   "id": "8465140e",
   "metadata": {},
   "source": [
    "Using the countplot we can see the distribution of the groups within a particular feature. As shown below:\n",
    "\n",
    "    1. state_6 has the most number of occurances int the state_factor. \n",
    "    2. Multifamily_Uncategorized has dominated the facility_type feature. \n",
    "    3. Almost equal distribution of commercial and residential buildings in our training dataset."
   ]
  },
  {
   "cell_type": "code",
   "execution_count": 75,
   "id": "706b7295",
   "metadata": {},
   "outputs": [],
   "source": [
    "def cat_plots(df):\n",
    "    for i in cat_features:\n",
    "        plt.figure(figsize=(20,5))\n",
    "        sns.countplot(df[i])\n",
    "        plt.xticks(rotation=90)\n",
    "        plt.show()"
   ]
  },
  {
   "cell_type": "markdown",
   "id": "764299bc",
   "metadata": {},
   "source": [
    "### Training Set "
   ]
  },
  {
   "cell_type": "code",
   "execution_count": 76,
   "id": "2310a7fd",
   "metadata": {},
   "outputs": [
    {
     "data": {
      "image/png": "[encoded data removed]",
      "text/plain": [
       "<Figure size 1440x360 with 1 Axes>"
      ]
     },
     "metadata": {
      "needs_background": "light"
     },
     "output_type": "display_data"
    },
    {
     "data": {
      "image/png": "[encoded data removed]",
      "text/plain": [
       "<Figure size 1440x360 with 1 Axes>"
      ]
     },
     "metadata": {
      "needs_background": "light"
     },
     "output_type": "display_data"
    },
    {
     "data": {
      "image/png": "[encoded data removed]",
      "text/plain": [
       "<Figure size 1440x360 with 1 Axes>"
      ]
     },
     "metadata": {
      "needs_background": "light"
     },
     "output_type": "display_data"
    }
   ],
   "source": [
    "cat_plots(train_df)"
   ]
  },
  {
   "cell_type": "markdown",
   "id": "01e904d5",
   "metadata": {},
   "source": [
    "### Test Set"
   ]
  },
  {
   "cell_type": "markdown",
   "id": "481f5616",
   "metadata": {},
   "source": [
    "Test set interpretations:\n",
    "\n",
    "    1. state_11 dominates in the state_factor. \n",
    "    2. Multifamily_Uncategorized and Office_Uncategorized have dominated the facility_type feature. \n",
    "    3. Almost equal distribution of commercial and residential buildings, though Commercial surpasses in this case."
   ]
  },
  {
   "cell_type": "code",
   "execution_count": 77,
   "id": "31c52a07",
   "metadata": {},
   "outputs": [
    {
     "data": {
      "image/png": "[encoded data removed]",
      "text/plain": [
       "<Figure size 1440x360 with 1 Axes>"
      ]
     },
     "metadata": {
      "needs_background": "light"
     },
     "output_type": "display_data"
    },
    {
     "data": {
      "image/png": "[encoded data removed]",
      "text/plain": [
       "<Figure size 1440x360 with 1 Axes>"
      ]
     },
     "metadata": {
      "needs_background": "light"
     },
     "output_type": "display_data"
    },
    {
     "data": {
      "image/png": "[encoded data removed]",
      "text/plain": [
       "<Figure size 1440x360 with 1 Axes>"
      ]
     },
     "metadata": {
      "needs_background": "light"
     },
     "output_type": "display_data"
    }
   ],
   "source": [
    "cat_plots(test_df)"
   ]
  },
  {
   "cell_type": "markdown",
   "id": "6e5a4015",
   "metadata": {},
   "source": [
    "Suprisingly there are no missing values in the categorical features of the datasets!"
   ]
  },
  {
   "cell_type": "code",
   "execution_count": 78,
   "id": "94651862",
   "metadata": {},
   "outputs": [
    {
     "data": {
      "text/plain": [
       "['State_Factor', 'building_class', 'facility_type']"
      ]
     },
     "execution_count": 78,
     "metadata": {},
     "output_type": "execute_result"
    }
   ],
   "source": [
    "cat_features"
   ]
  },
  {
   "cell_type": "code",
   "execution_count": 79,
   "id": "d556c056",
   "metadata": {},
   "outputs": [],
   "source": [
    "def missing(df, hex1, hex2, text):\n",
    "    plt.figure(figsize=(15,5))\n",
    "    sns.heatmap(df[cat_features].isna().values, cmap = [hex1, hex2], xticklabels=cat_features)\n",
    "    plt.title('Missing values in {}'.format(text), fontsize=20)\n",
    "    plt.show()"
   ]
  },
  {
   "cell_type": "code",
   "execution_count": 80,
   "id": "4a985af7",
   "metadata": {},
   "outputs": [
    {
     "data": {
      "image/png": "[encoded data removed]",
      "text/plain": [
       "<Figure size 1080x360 with 2 Axes>"
      ]
     },
     "metadata": {
      "needs_background": "light"
     },
     "output_type": "display_data"
    }
   ],
   "source": [
    "missing(train_df, '#ffff99', '#009933', 'Training Set')"
   ]
  },
  {
   "cell_type": "code",
   "execution_count": 81,
   "id": "38573ea4",
   "metadata": {},
   "outputs": [
    {
     "data": {
      "image/png": "[encoded data removed]",
      "text/plain": [
       "<Figure size 1080x360 with 2 Axes>"
      ]
     },
     "metadata": {
      "needs_background": "light"
     },
     "output_type": "display_data"
    }
   ],
   "source": [
    "missing(test_df, '#ffccff',  '#66ccff', 'Test Set')"
   ]
  },
  {
   "cell_type": "markdown",
   "id": "b37e4c2a",
   "metadata": {},
   "source": [
    "The below catplot shows the correlation of the categorical features with the target variable. We can infer that:\n",
    "\n",
    "    1. state_4 has the highest energy consumption whereas state_11 has the least.\n",
    "    2. There is a lot of variation in terms of energy consumptions among different facility type. \n",
    "    3. Commercial buildings consume more energy as compared to residential ones."
   ]
  },
  {
   "cell_type": "code",
   "execution_count": 82,
   "id": "7cd3151f",
   "metadata": {},
   "outputs": [],
   "source": [
    "def catplot(df, color):\n",
    "    for i, col in enumerate(['facility_type', 'State_Factor', 'building_class']):\n",
    "        sns.catplot(x=col, y='site_eui', data=df, kind='point', aspect=3, color=color)\n",
    "        plt.xticks(rotation=90)\n",
    "        plt.show()"
   ]
  },
  {
   "cell_type": "code",
   "execution_count": 83,
   "id": "fa599f47",
   "metadata": {},
   "outputs": [
    {
     "data": {
      "image/png": "[encoded data removed]",
      "text/plain": [
       "<Figure size 1080x360 with 1 Axes>"
      ]
     },
     "metadata": {
      "needs_background": "light"
     },
     "output_type": "display_data"
    },
    {
     "data": {
      "image/png": "[encoded data removed]",
      "text/plain": [
       "<Figure size 1080x360 with 1 Axes>"
      ]
     },
     "metadata": {
      "needs_background": "light"
     },
     "output_type": "display_data"
    },
    {
     "data": {
      "image/png": "[encoded data removed]",
      "text/plain": [
       "<Figure size 1080x360 with 1 Axes>"
      ]
     },
     "metadata": {
      "needs_background": "light"
     },
     "output_type": "display_data"
    }
   ],
   "source": [
    "catplot(train_df, 'red')"
   ]
  },
  {
   "cell_type": "markdown",
   "id": "70d8118b",
   "metadata": {},
   "source": [
    "# 3. Preprocessing"
   ]
  },
  {
   "cell_type": "markdown",
   "id": "419afa9f",
   "metadata": {},
   "source": [
    "- Encoding Categorical Features\n",
    "- Impute missing values\n",
    "- Scale numerical feature\n",
    "- Transformation\n",
    "\n",
    "Before modeling we need to get our dataset ready. We we try to apply linear regression algorithm on dataset with missing values it will throw an error. Similarly, it is advisable to to have standardized features meaning all the features are brought to the same scale having mean as 0 and standard deviation as 1. This improves the model learning rate. Below, we will perform few operations to clean our data and make it ready for modelling"
   ]
  },
  {
   "cell_type": "code",
   "execution_count": 84,
   "id": "83b1ac54",
   "metadata": {},
   "outputs": [],
   "source": [
    "from sklearn.model_selection import KFold, StratifiedKFold\n",
    "from sklearn.preprocessing import LabelEncoder, StandardScaler,OrdinalEncoder\n",
    "from sklearn.metrics import mean_absolute_error, mean_squared_error\n",
    "from sklearn.impute import SimpleImputer"
   ]
  },
  {
   "cell_type": "markdown",
   "id": "574c5add",
   "metadata": {},
   "source": [
    "### Encoding the categorical features in both train and test set"
   ]
  },
  {
   "cell_type": "code",
   "execution_count": 85,
   "id": "d47ac34e",
   "metadata": {},
   "outputs": [],
   "source": [
    "def encoder(train, test):\n",
    "    le = LabelEncoder()\n",
    "    for col in train.columns:\n",
    "        if train[col].dtypes == 'object':\n",
    "            train[col] = le.fit_transform(train[col])\n",
    "            le_dict = dict(zip(le.classes_, le.transform(le.classes_)))\n",
    "            test[col] = test[col].apply(lambda x: le_dict.get(x, -1))\n",
    "    return train, test"
   ]
  },
  {
   "cell_type": "code",
   "execution_count": 86,
   "id": "56adf6b4",
   "metadata": {},
   "outputs": [],
   "source": [
    "train_encoded, test_encoded = encoder(train_df, test_df)"
   ]
  },
  {
   "cell_type": "code",
   "execution_count": 87,
   "id": "d6ef6807",
   "metadata": {},
   "outputs": [
    {
     "data": {
      "text/html": [
       "<div>\n",
       "<style scoped>\n",
       "    .dataframe tbody tr th:only-of-type {\n",
       "        vertical-align: middle;\n",
       "    }\n",
       "\n",
       "    .dataframe tbody tr th {\n",
       "        vertical-align: top;\n",
       "    }\n",
       "\n",
       "    .dataframe thead th {\n",
       "        text-align: right;\n",
       "    }\n",
       "</style>\n",
       "<table border=\"1\" class=\"dataframe\">\n",
       "  <thead>\n",
       "    <tr style=\"text-align: right;\">\n",
       "      <th></th>\n",
       "      <th>Year_Factor</th>\n",
       "      <th>State_Factor</th>\n",
       "      <th>building_class</th>\n",
       "      <th>facility_type</th>\n",
       "      <th>floor_area</th>\n",
       "      <th>year_built</th>\n",
       "      <th>energy_star_rating</th>\n",
       "      <th>ELEVATION</th>\n",
       "      <th>january_min_temp</th>\n",
       "      <th>january_avg_temp</th>\n",
       "      <th>...</th>\n",
       "      <th>days_above_80F</th>\n",
       "      <th>days_above_90F</th>\n",
       "      <th>days_above_100F</th>\n",
       "      <th>days_above_110F</th>\n",
       "      <th>direction_max_wind_speed</th>\n",
       "      <th>direction_peak_wind_speed</th>\n",
       "      <th>max_wind_speed</th>\n",
       "      <th>days_with_fog</th>\n",
       "      <th>site_eui</th>\n",
       "      <th>id</th>\n",
       "    </tr>\n",
       "  </thead>\n",
       "  <tbody>\n",
       "    <tr>\n",
       "      <th>0</th>\n",
       "      <td>1</td>\n",
       "      <td>0</td>\n",
       "      <td>0</td>\n",
       "      <td>13</td>\n",
       "      <td>61242.0</td>\n",
       "      <td>1942.0</td>\n",
       "      <td>11.0</td>\n",
       "      <td>2.4</td>\n",
       "      <td>36</td>\n",
       "      <td>50.500000</td>\n",
       "      <td>...</td>\n",
       "      <td>14</td>\n",
       "      <td>0</td>\n",
       "      <td>0</td>\n",
       "      <td>0</td>\n",
       "      <td>1.0</td>\n",
       "      <td>1.0</td>\n",
       "      <td>1.0</td>\n",
       "      <td>NaN</td>\n",
       "      <td>248.682615</td>\n",
       "      <td>0</td>\n",
       "    </tr>\n",
       "    <tr>\n",
       "      <th>1</th>\n",
       "      <td>1</td>\n",
       "      <td>0</td>\n",
       "      <td>0</td>\n",
       "      <td>55</td>\n",
       "      <td>274000.0</td>\n",
       "      <td>1955.0</td>\n",
       "      <td>45.0</td>\n",
       "      <td>1.8</td>\n",
       "      <td>36</td>\n",
       "      <td>50.500000</td>\n",
       "      <td>...</td>\n",
       "      <td>14</td>\n",
       "      <td>0</td>\n",
       "      <td>0</td>\n",
       "      <td>0</td>\n",
       "      <td>1.0</td>\n",
       "      <td>NaN</td>\n",
       "      <td>1.0</td>\n",
       "      <td>12.0</td>\n",
       "      <td>26.500150</td>\n",
       "      <td>1</td>\n",
       "    </tr>\n",
       "    <tr>\n",
       "      <th>2</th>\n",
       "      <td>1</td>\n",
       "      <td>0</td>\n",
       "      <td>0</td>\n",
       "      <td>48</td>\n",
       "      <td>280025.0</td>\n",
       "      <td>1951.0</td>\n",
       "      <td>97.0</td>\n",
       "      <td>1.8</td>\n",
       "      <td>36</td>\n",
       "      <td>50.500000</td>\n",
       "      <td>...</td>\n",
       "      <td>14</td>\n",
       "      <td>0</td>\n",
       "      <td>0</td>\n",
       "      <td>0</td>\n",
       "      <td>1.0</td>\n",
       "      <td>NaN</td>\n",
       "      <td>1.0</td>\n",
       "      <td>12.0</td>\n",
       "      <td>24.693619</td>\n",
       "      <td>2</td>\n",
       "    </tr>\n",
       "    <tr>\n",
       "      <th>3</th>\n",
       "      <td>1</td>\n",
       "      <td>0</td>\n",
       "      <td>0</td>\n",
       "      <td>6</td>\n",
       "      <td>55325.0</td>\n",
       "      <td>1980.0</td>\n",
       "      <td>46.0</td>\n",
       "      <td>1.8</td>\n",
       "      <td>36</td>\n",
       "      <td>50.500000</td>\n",
       "      <td>...</td>\n",
       "      <td>14</td>\n",
       "      <td>0</td>\n",
       "      <td>0</td>\n",
       "      <td>0</td>\n",
       "      <td>1.0</td>\n",
       "      <td>NaN</td>\n",
       "      <td>1.0</td>\n",
       "      <td>12.0</td>\n",
       "      <td>48.406926</td>\n",
       "      <td>3</td>\n",
       "    </tr>\n",
       "    <tr>\n",
       "      <th>4</th>\n",
       "      <td>1</td>\n",
       "      <td>0</td>\n",
       "      <td>0</td>\n",
       "      <td>56</td>\n",
       "      <td>66000.0</td>\n",
       "      <td>1985.0</td>\n",
       "      <td>100.0</td>\n",
       "      <td>2.4</td>\n",
       "      <td>36</td>\n",
       "      <td>50.500000</td>\n",
       "      <td>...</td>\n",
       "      <td>14</td>\n",
       "      <td>0</td>\n",
       "      <td>0</td>\n",
       "      <td>0</td>\n",
       "      <td>1.0</td>\n",
       "      <td>1.0</td>\n",
       "      <td>1.0</td>\n",
       "      <td>NaN</td>\n",
       "      <td>3.899395</td>\n",
       "      <td>4</td>\n",
       "    </tr>\n",
       "    <tr>\n",
       "      <th>...</th>\n",
       "      <td>...</td>\n",
       "      <td>...</td>\n",
       "      <td>...</td>\n",
       "      <td>...</td>\n",
       "      <td>...</td>\n",
       "      <td>...</td>\n",
       "      <td>...</td>\n",
       "      <td>...</td>\n",
       "      <td>...</td>\n",
       "      <td>...</td>\n",
       "      <td>...</td>\n",
       "      <td>...</td>\n",
       "      <td>...</td>\n",
       "      <td>...</td>\n",
       "      <td>...</td>\n",
       "      <td>...</td>\n",
       "      <td>...</td>\n",
       "      <td>...</td>\n",
       "      <td>...</td>\n",
       "      <td>...</td>\n",
       "      <td>...</td>\n",
       "    </tr>\n",
       "    <tr>\n",
       "      <th>75752</th>\n",
       "      <td>6</td>\n",
       "      <td>2</td>\n",
       "      <td>0</td>\n",
       "      <td>32</td>\n",
       "      <td>20410.0</td>\n",
       "      <td>1995.0</td>\n",
       "      <td>8.0</td>\n",
       "      <td>36.6</td>\n",
       "      <td>28</td>\n",
       "      <td>43.451613</td>\n",
       "      <td>...</td>\n",
       "      <td>25</td>\n",
       "      <td>3</td>\n",
       "      <td>0</td>\n",
       "      <td>0</td>\n",
       "      <td>NaN</td>\n",
       "      <td>NaN</td>\n",
       "      <td>NaN</td>\n",
       "      <td>NaN</td>\n",
       "      <td>132.918411</td>\n",
       "      <td>75752</td>\n",
       "    </tr>\n",
       "    <tr>\n",
       "      <th>75753</th>\n",
       "      <td>6</td>\n",
       "      <td>2</td>\n",
       "      <td>1</td>\n",
       "      <td>1</td>\n",
       "      <td>40489.0</td>\n",
       "      <td>1910.0</td>\n",
       "      <td>98.0</td>\n",
       "      <td>36.6</td>\n",
       "      <td>28</td>\n",
       "      <td>43.451613</td>\n",
       "      <td>...</td>\n",
       "      <td>25</td>\n",
       "      <td>3</td>\n",
       "      <td>0</td>\n",
       "      <td>0</td>\n",
       "      <td>NaN</td>\n",
       "      <td>NaN</td>\n",
       "      <td>NaN</td>\n",
       "      <td>NaN</td>\n",
       "      <td>39.483672</td>\n",
       "      <td>75753</td>\n",
       "    </tr>\n",
       "    <tr>\n",
       "      <th>75754</th>\n",
       "      <td>6</td>\n",
       "      <td>2</td>\n",
       "      <td>0</td>\n",
       "      <td>2</td>\n",
       "      <td>28072.0</td>\n",
       "      <td>1917.0</td>\n",
       "      <td>NaN</td>\n",
       "      <td>36.6</td>\n",
       "      <td>26</td>\n",
       "      <td>36.612903</td>\n",
       "      <td>...</td>\n",
       "      <td>6</td>\n",
       "      <td>0</td>\n",
       "      <td>0</td>\n",
       "      <td>0</td>\n",
       "      <td>NaN</td>\n",
       "      <td>NaN</td>\n",
       "      <td>NaN</td>\n",
       "      <td>NaN</td>\n",
       "      <td>48.404398</td>\n",
       "      <td>75754</td>\n",
       "    </tr>\n",
       "    <tr>\n",
       "      <th>75755</th>\n",
       "      <td>6</td>\n",
       "      <td>2</td>\n",
       "      <td>0</td>\n",
       "      <td>2</td>\n",
       "      <td>53575.0</td>\n",
       "      <td>2012.0</td>\n",
       "      <td>NaN</td>\n",
       "      <td>36.6</td>\n",
       "      <td>26</td>\n",
       "      <td>36.612903</td>\n",
       "      <td>...</td>\n",
       "      <td>6</td>\n",
       "      <td>0</td>\n",
       "      <td>0</td>\n",
       "      <td>0</td>\n",
       "      <td>NaN</td>\n",
       "      <td>NaN</td>\n",
       "      <td>NaN</td>\n",
       "      <td>NaN</td>\n",
       "      <td>592.022750</td>\n",
       "      <td>75755</td>\n",
       "    </tr>\n",
       "    <tr>\n",
       "      <th>75756</th>\n",
       "      <td>6</td>\n",
       "      <td>2</td>\n",
       "      <td>1</td>\n",
       "      <td>0</td>\n",
       "      <td>23888.0</td>\n",
       "      <td>1974.0</td>\n",
       "      <td>51.0</td>\n",
       "      <td>36.6</td>\n",
       "      <td>27</td>\n",
       "      <td>36.935484</td>\n",
       "      <td>...</td>\n",
       "      <td>16</td>\n",
       "      <td>0</td>\n",
       "      <td>0</td>\n",
       "      <td>0</td>\n",
       "      <td>NaN</td>\n",
       "      <td>NaN</td>\n",
       "      <td>NaN</td>\n",
       "      <td>NaN</td>\n",
       "      <td>29.154684</td>\n",
       "      <td>75756</td>\n",
       "    </tr>\n",
       "  </tbody>\n",
       "</table>\n",
       "<p>75757 rows × 64 columns</p>\n",
       "</div>"
      ],
      "text/plain": [
       "       Year_Factor  State_Factor  building_class  facility_type  floor_area  \\\n",
       "0                1             0               0             13     61242.0   \n",
       "1                1             0               0             55    274000.0   \n",
       "2                1             0               0             48    280025.0   \n",
       "3                1             0               0              6     55325.0   \n",
       "4                1             0               0             56     66000.0   \n",
       "...            ...           ...             ...            ...         ...   \n",
       "75752            6             2               0             32     20410.0   \n",
       "75753            6             2               1              1     40489.0   \n",
       "75754            6             2               0              2     28072.0   \n",
       "75755            6             2               0              2     53575.0   \n",
       "75756            6             2               1              0     23888.0   \n",
       "\n",
       "       year_built  energy_star_rating  ELEVATION  january_min_temp  \\\n",
       "0          1942.0                11.0        2.4                36   \n",
       "1          1955.0                45.0        1.8                36   \n",
       "2          1951.0                97.0        1.8                36   \n",
       "3          1980.0                46.0        1.8                36   \n",
       "4          1985.0               100.0        2.4                36   \n",
       "...           ...                 ...        ...               ...   \n",
       "75752      1995.0                 8.0       36.6                28   \n",
       "75753      1910.0                98.0       36.6                28   \n",
       "75754      1917.0                 NaN       36.6                26   \n",
       "75755      2012.0                 NaN       36.6                26   \n",
       "75756      1974.0                51.0       36.6                27   \n",
       "\n",
       "       january_avg_temp  ...  days_above_80F  days_above_90F  days_above_100F  \\\n",
       "0             50.500000  ...              14               0                0   \n",
       "1             50.500000  ...              14               0                0   \n",
       "2             50.500000  ...              14               0                0   \n",
       "3             50.500000  ...              14               0                0   \n",
       "4             50.500000  ...              14               0                0   \n",
       "...                 ...  ...             ...             ...              ...   \n",
       "75752         43.451613  ...              25               3                0   \n",
       "75753         43.451613  ...              25               3                0   \n",
       "75754         36.612903  ...               6               0                0   \n",
       "75755         36.612903  ...               6               0                0   \n",
       "75756         36.935484  ...              16               0                0   \n",
       "\n",
       "       days_above_110F  direction_max_wind_speed  direction_peak_wind_speed  \\\n",
       "0                    0                       1.0                        1.0   \n",
       "1                    0                       1.0                        NaN   \n",
       "2                    0                       1.0                        NaN   \n",
       "3                    0                       1.0                        NaN   \n",
       "4                    0                       1.0                        1.0   \n",
       "...                ...                       ...                        ...   \n",
       "75752                0                       NaN                        NaN   \n",
       "75753                0                       NaN                        NaN   \n",
       "75754                0                       NaN                        NaN   \n",
       "75755                0                       NaN                        NaN   \n",
       "75756                0                       NaN                        NaN   \n",
       "\n",
       "       max_wind_speed  days_with_fog    site_eui     id  \n",
       "0                 1.0            NaN  248.682615      0  \n",
       "1                 1.0           12.0   26.500150      1  \n",
       "2                 1.0           12.0   24.693619      2  \n",
       "3                 1.0           12.0   48.406926      3  \n",
       "4                 1.0            NaN    3.899395      4  \n",
       "...               ...            ...         ...    ...  \n",
       "75752             NaN            NaN  132.918411  75752  \n",
       "75753             NaN            NaN   39.483672  75753  \n",
       "75754             NaN            NaN   48.404398  75754  \n",
       "75755             NaN            NaN  592.022750  75755  \n",
       "75756             NaN            NaN   29.154684  75756  \n",
       "\n",
       "[75757 rows x 64 columns]"
      ]
     },
     "execution_count": 87,
     "metadata": {},
     "output_type": "execute_result"
    }
   ],
   "source": [
    "train_encoded"
   ]
  },
  {
   "cell_type": "code",
   "execution_count": 88,
   "id": "b62a28f4",
   "metadata": {},
   "outputs": [
    {
     "data": {
      "text/html": [
       "<div>\n",
       "<style scoped>\n",
       "    .dataframe tbody tr th:only-of-type {\n",
       "        vertical-align: middle;\n",
       "    }\n",
       "\n",
       "    .dataframe tbody tr th {\n",
       "        vertical-align: top;\n",
       "    }\n",
       "\n",
       "    .dataframe thead th {\n",
       "        text-align: right;\n",
       "    }\n",
       "</style>\n",
       "<table border=\"1\" class=\"dataframe\">\n",
       "  <thead>\n",
       "    <tr style=\"text-align: right;\">\n",
       "      <th></th>\n",
       "      <th>Year_Factor</th>\n",
       "      <th>State_Factor</th>\n",
       "      <th>building_class</th>\n",
       "      <th>facility_type</th>\n",
       "      <th>floor_area</th>\n",
       "      <th>year_built</th>\n",
       "      <th>energy_star_rating</th>\n",
       "      <th>ELEVATION</th>\n",
       "      <th>january_min_temp</th>\n",
       "      <th>january_avg_temp</th>\n",
       "      <th>...</th>\n",
       "      <th>days_below_0F</th>\n",
       "      <th>days_above_80F</th>\n",
       "      <th>days_above_90F</th>\n",
       "      <th>days_above_100F</th>\n",
       "      <th>days_above_110F</th>\n",
       "      <th>direction_max_wind_speed</th>\n",
       "      <th>direction_peak_wind_speed</th>\n",
       "      <th>max_wind_speed</th>\n",
       "      <th>days_with_fog</th>\n",
       "      <th>id</th>\n",
       "    </tr>\n",
       "  </thead>\n",
       "  <tbody>\n",
       "    <tr>\n",
       "      <th>0</th>\n",
       "      <td>7</td>\n",
       "      <td>0</td>\n",
       "      <td>0</td>\n",
       "      <td>13</td>\n",
       "      <td>28484.0</td>\n",
       "      <td>1994.0</td>\n",
       "      <td>37.0</td>\n",
       "      <td>2.4</td>\n",
       "      <td>38</td>\n",
       "      <td>50.596774</td>\n",
       "      <td>...</td>\n",
       "      <td>0</td>\n",
       "      <td>29</td>\n",
       "      <td>5</td>\n",
       "      <td>2</td>\n",
       "      <td>0</td>\n",
       "      <td>NaN</td>\n",
       "      <td>NaN</td>\n",
       "      <td>NaN</td>\n",
       "      <td>NaN</td>\n",
       "      <td>75757</td>\n",
       "    </tr>\n",
       "    <tr>\n",
       "      <th>1</th>\n",
       "      <td>7</td>\n",
       "      <td>0</td>\n",
       "      <td>0</td>\n",
       "      <td>13</td>\n",
       "      <td>21906.0</td>\n",
       "      <td>1961.0</td>\n",
       "      <td>55.0</td>\n",
       "      <td>45.7</td>\n",
       "      <td>38</td>\n",
       "      <td>50.596774</td>\n",
       "      <td>...</td>\n",
       "      <td>0</td>\n",
       "      <td>29</td>\n",
       "      <td>5</td>\n",
       "      <td>2</td>\n",
       "      <td>0</td>\n",
       "      <td>NaN</td>\n",
       "      <td>NaN</td>\n",
       "      <td>NaN</td>\n",
       "      <td>NaN</td>\n",
       "      <td>75758</td>\n",
       "    </tr>\n",
       "    <tr>\n",
       "      <th>2</th>\n",
       "      <td>7</td>\n",
       "      <td>0</td>\n",
       "      <td>0</td>\n",
       "      <td>13</td>\n",
       "      <td>16138.0</td>\n",
       "      <td>1950.0</td>\n",
       "      <td>1.0</td>\n",
       "      <td>59.1</td>\n",
       "      <td>38</td>\n",
       "      <td>50.596774</td>\n",
       "      <td>...</td>\n",
       "      <td>0</td>\n",
       "      <td>29</td>\n",
       "      <td>5</td>\n",
       "      <td>2</td>\n",
       "      <td>0</td>\n",
       "      <td>NaN</td>\n",
       "      <td>NaN</td>\n",
       "      <td>NaN</td>\n",
       "      <td>NaN</td>\n",
       "      <td>75759</td>\n",
       "    </tr>\n",
       "    <tr>\n",
       "      <th>3</th>\n",
       "      <td>7</td>\n",
       "      <td>0</td>\n",
       "      <td>0</td>\n",
       "      <td>13</td>\n",
       "      <td>97422.0</td>\n",
       "      <td>1971.0</td>\n",
       "      <td>34.0</td>\n",
       "      <td>35.4</td>\n",
       "      <td>38</td>\n",
       "      <td>50.596774</td>\n",
       "      <td>...</td>\n",
       "      <td>0</td>\n",
       "      <td>29</td>\n",
       "      <td>5</td>\n",
       "      <td>2</td>\n",
       "      <td>0</td>\n",
       "      <td>NaN</td>\n",
       "      <td>NaN</td>\n",
       "      <td>NaN</td>\n",
       "      <td>NaN</td>\n",
       "      <td>75760</td>\n",
       "    </tr>\n",
       "    <tr>\n",
       "      <th>4</th>\n",
       "      <td>7</td>\n",
       "      <td>0</td>\n",
       "      <td>0</td>\n",
       "      <td>13</td>\n",
       "      <td>61242.0</td>\n",
       "      <td>1942.0</td>\n",
       "      <td>35.0</td>\n",
       "      <td>1.8</td>\n",
       "      <td>38</td>\n",
       "      <td>50.596774</td>\n",
       "      <td>...</td>\n",
       "      <td>0</td>\n",
       "      <td>29</td>\n",
       "      <td>5</td>\n",
       "      <td>2</td>\n",
       "      <td>0</td>\n",
       "      <td>340.0</td>\n",
       "      <td>330.0</td>\n",
       "      <td>22.8</td>\n",
       "      <td>126.0</td>\n",
       "      <td>75761</td>\n",
       "    </tr>\n",
       "    <tr>\n",
       "      <th>...</th>\n",
       "      <td>...</td>\n",
       "      <td>...</td>\n",
       "      <td>...</td>\n",
       "      <td>...</td>\n",
       "      <td>...</td>\n",
       "      <td>...</td>\n",
       "      <td>...</td>\n",
       "      <td>...</td>\n",
       "      <td>...</td>\n",
       "      <td>...</td>\n",
       "      <td>...</td>\n",
       "      <td>...</td>\n",
       "      <td>...</td>\n",
       "      <td>...</td>\n",
       "      <td>...</td>\n",
       "      <td>...</td>\n",
       "      <td>...</td>\n",
       "      <td>...</td>\n",
       "      <td>...</td>\n",
       "      <td>...</td>\n",
       "      <td>...</td>\n",
       "    </tr>\n",
       "    <tr>\n",
       "      <th>9700</th>\n",
       "      <td>7</td>\n",
       "      <td>2</td>\n",
       "      <td>1</td>\n",
       "      <td>1</td>\n",
       "      <td>305925.0</td>\n",
       "      <td>2013.0</td>\n",
       "      <td>99.0</td>\n",
       "      <td>812.0</td>\n",
       "      <td>21</td>\n",
       "      <td>38.661290</td>\n",
       "      <td>...</td>\n",
       "      <td>0</td>\n",
       "      <td>39</td>\n",
       "      <td>3</td>\n",
       "      <td>0</td>\n",
       "      <td>0</td>\n",
       "      <td>NaN</td>\n",
       "      <td>NaN</td>\n",
       "      <td>NaN</td>\n",
       "      <td>NaN</td>\n",
       "      <td>85457</td>\n",
       "    </tr>\n",
       "    <tr>\n",
       "      <th>9701</th>\n",
       "      <td>7</td>\n",
       "      <td>2</td>\n",
       "      <td>1</td>\n",
       "      <td>1</td>\n",
       "      <td>34909.0</td>\n",
       "      <td>1910.0</td>\n",
       "      <td>94.0</td>\n",
       "      <td>26.5</td>\n",
       "      <td>21</td>\n",
       "      <td>38.661290</td>\n",
       "      <td>...</td>\n",
       "      <td>0</td>\n",
       "      <td>39</td>\n",
       "      <td>3</td>\n",
       "      <td>0</td>\n",
       "      <td>0</td>\n",
       "      <td>NaN</td>\n",
       "      <td>NaN</td>\n",
       "      <td>NaN</td>\n",
       "      <td>NaN</td>\n",
       "      <td>85458</td>\n",
       "    </tr>\n",
       "    <tr>\n",
       "      <th>9702</th>\n",
       "      <td>7</td>\n",
       "      <td>2</td>\n",
       "      <td>1</td>\n",
       "      <td>1</td>\n",
       "      <td>42393.0</td>\n",
       "      <td>2014.0</td>\n",
       "      <td>94.0</td>\n",
       "      <td>812.0</td>\n",
       "      <td>21</td>\n",
       "      <td>38.661290</td>\n",
       "      <td>...</td>\n",
       "      <td>0</td>\n",
       "      <td>39</td>\n",
       "      <td>3</td>\n",
       "      <td>0</td>\n",
       "      <td>0</td>\n",
       "      <td>NaN</td>\n",
       "      <td>NaN</td>\n",
       "      <td>NaN</td>\n",
       "      <td>NaN</td>\n",
       "      <td>85459</td>\n",
       "    </tr>\n",
       "    <tr>\n",
       "      <th>9703</th>\n",
       "      <td>7</td>\n",
       "      <td>2</td>\n",
       "      <td>1</td>\n",
       "      <td>1</td>\n",
       "      <td>25368.0</td>\n",
       "      <td>1992.0</td>\n",
       "      <td>79.0</td>\n",
       "      <td>812.0</td>\n",
       "      <td>21</td>\n",
       "      <td>38.661290</td>\n",
       "      <td>...</td>\n",
       "      <td>0</td>\n",
       "      <td>39</td>\n",
       "      <td>3</td>\n",
       "      <td>0</td>\n",
       "      <td>0</td>\n",
       "      <td>NaN</td>\n",
       "      <td>NaN</td>\n",
       "      <td>NaN</td>\n",
       "      <td>NaN</td>\n",
       "      <td>85460</td>\n",
       "    </tr>\n",
       "    <tr>\n",
       "      <th>9704</th>\n",
       "      <td>7</td>\n",
       "      <td>2</td>\n",
       "      <td>1</td>\n",
       "      <td>1</td>\n",
       "      <td>45640.0</td>\n",
       "      <td>1994.0</td>\n",
       "      <td>87.0</td>\n",
       "      <td>26.5</td>\n",
       "      <td>21</td>\n",
       "      <td>38.661290</td>\n",
       "      <td>...</td>\n",
       "      <td>0</td>\n",
       "      <td>39</td>\n",
       "      <td>3</td>\n",
       "      <td>0</td>\n",
       "      <td>0</td>\n",
       "      <td>NaN</td>\n",
       "      <td>NaN</td>\n",
       "      <td>NaN</td>\n",
       "      <td>NaN</td>\n",
       "      <td>85461</td>\n",
       "    </tr>\n",
       "  </tbody>\n",
       "</table>\n",
       "<p>9705 rows × 63 columns</p>\n",
       "</div>"
      ],
      "text/plain": [
       "      Year_Factor  State_Factor  building_class  facility_type  floor_area  \\\n",
       "0               7             0               0             13     28484.0   \n",
       "1               7             0               0             13     21906.0   \n",
       "2               7             0               0             13     16138.0   \n",
       "3               7             0               0             13     97422.0   \n",
       "4               7             0               0             13     61242.0   \n",
       "...           ...           ...             ...            ...         ...   \n",
       "9700            7             2               1              1    305925.0   \n",
       "9701            7             2               1              1     34909.0   \n",
       "9702            7             2               1              1     42393.0   \n",
       "9703            7             2               1              1     25368.0   \n",
       "9704            7             2               1              1     45640.0   \n",
       "\n",
       "      year_built  energy_star_rating  ELEVATION  january_min_temp  \\\n",
       "0         1994.0                37.0        2.4                38   \n",
       "1         1961.0                55.0       45.7                38   \n",
       "2         1950.0                 1.0       59.1                38   \n",
       "3         1971.0                34.0       35.4                38   \n",
       "4         1942.0                35.0        1.8                38   \n",
       "...          ...                 ...        ...               ...   \n",
       "9700      2013.0                99.0      812.0                21   \n",
       "9701      1910.0                94.0       26.5                21   \n",
       "9702      2014.0                94.0      812.0                21   \n",
       "9703      1992.0                79.0      812.0                21   \n",
       "9704      1994.0                87.0       26.5                21   \n",
       "\n",
       "      january_avg_temp  ...  days_below_0F  days_above_80F  days_above_90F  \\\n",
       "0            50.596774  ...              0              29               5   \n",
       "1            50.596774  ...              0              29               5   \n",
       "2            50.596774  ...              0              29               5   \n",
       "3            50.596774  ...              0              29               5   \n",
       "4            50.596774  ...              0              29               5   \n",
       "...                ...  ...            ...             ...             ...   \n",
       "9700         38.661290  ...              0              39               3   \n",
       "9701         38.661290  ...              0              39               3   \n",
       "9702         38.661290  ...              0              39               3   \n",
       "9703         38.661290  ...              0              39               3   \n",
       "9704         38.661290  ...              0              39               3   \n",
       "\n",
       "      days_above_100F  days_above_110F  direction_max_wind_speed  \\\n",
       "0                   2                0                       NaN   \n",
       "1                   2                0                       NaN   \n",
       "2                   2                0                       NaN   \n",
       "3                   2                0                       NaN   \n",
       "4                   2                0                     340.0   \n",
       "...               ...              ...                       ...   \n",
       "9700                0                0                       NaN   \n",
       "9701                0                0                       NaN   \n",
       "9702                0                0                       NaN   \n",
       "9703                0                0                       NaN   \n",
       "9704                0                0                       NaN   \n",
       "\n",
       "      direction_peak_wind_speed  max_wind_speed  days_with_fog     id  \n",
       "0                           NaN             NaN            NaN  75757  \n",
       "1                           NaN             NaN            NaN  75758  \n",
       "2                           NaN             NaN            NaN  75759  \n",
       "3                           NaN             NaN            NaN  75760  \n",
       "4                         330.0            22.8          126.0  75761  \n",
       "...                         ...             ...            ...    ...  \n",
       "9700                        NaN             NaN            NaN  85457  \n",
       "9701                        NaN             NaN            NaN  85458  \n",
       "9702                        NaN             NaN            NaN  85459  \n",
       "9703                        NaN             NaN            NaN  85460  \n",
       "9704                        NaN             NaN            NaN  85461  \n",
       "\n",
       "[9705 rows x 63 columns]"
      ]
     },
     "execution_count": 88,
     "metadata": {},
     "output_type": "execute_result"
    }
   ],
   "source": [
    "test_encoded"
   ]
  },
  {
   "cell_type": "code",
   "execution_count": 89,
   "id": "af9a69a4",
   "metadata": {},
   "outputs": [],
   "source": [
    "final_train = train_encoded.copy()\n",
    "final_test = test_encoded.copy()"
   ]
  },
  {
   "cell_type": "code",
   "execution_count": 92,
   "id": "cf4bbfd0",
   "metadata": {},
   "outputs": [],
   "source": [
    "# train_encoded.to_csv('train_encoded', index=False)\n",
    "# test_encoded.to_csv('test_encoded', index=False)"
   ]
  },
  {
   "cell_type": "code",
   "execution_count": null,
   "id": "10050c5a",
   "metadata": {},
   "outputs": [],
   "source": []
  },
  {
   "cell_type": "markdown",
   "id": "e43d273b",
   "metadata": {},
   "source": [
    "## Analysing the numerical features"
   ]
  },
  {
   "cell_type": "code",
   "execution_count": 31,
   "id": "2a38ea3a",
   "metadata": {},
   "outputs": [
    {
     "data": {
      "text/html": [
       "<div>\n",
       "<style scoped>\n",
       "    .dataframe tbody tr th:only-of-type {\n",
       "        vertical-align: middle;\n",
       "    }\n",
       "\n",
       "    .dataframe tbody tr th {\n",
       "        vertical-align: top;\n",
       "    }\n",
       "\n",
       "    .dataframe thead th {\n",
       "        text-align: right;\n",
       "    }\n",
       "</style>\n",
       "<table border=\"1\" class=\"dataframe\">\n",
       "  <thead>\n",
       "    <tr style=\"text-align: right;\">\n",
       "      <th></th>\n",
       "      <th>Year_Factor</th>\n",
       "      <th>floor_area</th>\n",
       "      <th>year_built</th>\n",
       "      <th>energy_star_rating</th>\n",
       "      <th>ELEVATION</th>\n",
       "      <th>january_min_temp</th>\n",
       "      <th>january_avg_temp</th>\n",
       "      <th>january_max_temp</th>\n",
       "      <th>february_min_temp</th>\n",
       "      <th>february_avg_temp</th>\n",
       "      <th>...</th>\n",
       "      <th>days_above_80F</th>\n",
       "      <th>days_above_90F</th>\n",
       "      <th>days_above_100F</th>\n",
       "      <th>days_above_110F</th>\n",
       "      <th>direction_max_wind_speed</th>\n",
       "      <th>direction_peak_wind_speed</th>\n",
       "      <th>max_wind_speed</th>\n",
       "      <th>days_with_fog</th>\n",
       "      <th>site_eui</th>\n",
       "      <th>id</th>\n",
       "    </tr>\n",
       "  </thead>\n",
       "  <tbody>\n",
       "    <tr>\n",
       "      <th>0</th>\n",
       "      <td>1</td>\n",
       "      <td>61242.0</td>\n",
       "      <td>1942.0</td>\n",
       "      <td>11.0</td>\n",
       "      <td>2.4</td>\n",
       "      <td>36</td>\n",
       "      <td>50.5</td>\n",
       "      <td>68</td>\n",
       "      <td>35</td>\n",
       "      <td>50.589286</td>\n",
       "      <td>...</td>\n",
       "      <td>14</td>\n",
       "      <td>0</td>\n",
       "      <td>0</td>\n",
       "      <td>0</td>\n",
       "      <td>1.0</td>\n",
       "      <td>1.0</td>\n",
       "      <td>1.0</td>\n",
       "      <td>NaN</td>\n",
       "      <td>248.682615</td>\n",
       "      <td>0</td>\n",
       "    </tr>\n",
       "    <tr>\n",
       "      <th>1</th>\n",
       "      <td>1</td>\n",
       "      <td>274000.0</td>\n",
       "      <td>1955.0</td>\n",
       "      <td>45.0</td>\n",
       "      <td>1.8</td>\n",
       "      <td>36</td>\n",
       "      <td>50.5</td>\n",
       "      <td>68</td>\n",
       "      <td>35</td>\n",
       "      <td>50.589286</td>\n",
       "      <td>...</td>\n",
       "      <td>14</td>\n",
       "      <td>0</td>\n",
       "      <td>0</td>\n",
       "      <td>0</td>\n",
       "      <td>1.0</td>\n",
       "      <td>NaN</td>\n",
       "      <td>1.0</td>\n",
       "      <td>12.0</td>\n",
       "      <td>26.500150</td>\n",
       "      <td>1</td>\n",
       "    </tr>\n",
       "    <tr>\n",
       "      <th>2</th>\n",
       "      <td>1</td>\n",
       "      <td>280025.0</td>\n",
       "      <td>1951.0</td>\n",
       "      <td>97.0</td>\n",
       "      <td>1.8</td>\n",
       "      <td>36</td>\n",
       "      <td>50.5</td>\n",
       "      <td>68</td>\n",
       "      <td>35</td>\n",
       "      <td>50.589286</td>\n",
       "      <td>...</td>\n",
       "      <td>14</td>\n",
       "      <td>0</td>\n",
       "      <td>0</td>\n",
       "      <td>0</td>\n",
       "      <td>1.0</td>\n",
       "      <td>NaN</td>\n",
       "      <td>1.0</td>\n",
       "      <td>12.0</td>\n",
       "      <td>24.693619</td>\n",
       "      <td>2</td>\n",
       "    </tr>\n",
       "    <tr>\n",
       "      <th>3</th>\n",
       "      <td>1</td>\n",
       "      <td>55325.0</td>\n",
       "      <td>1980.0</td>\n",
       "      <td>46.0</td>\n",
       "      <td>1.8</td>\n",
       "      <td>36</td>\n",
       "      <td>50.5</td>\n",
       "      <td>68</td>\n",
       "      <td>35</td>\n",
       "      <td>50.589286</td>\n",
       "      <td>...</td>\n",
       "      <td>14</td>\n",
       "      <td>0</td>\n",
       "      <td>0</td>\n",
       "      <td>0</td>\n",
       "      <td>1.0</td>\n",
       "      <td>NaN</td>\n",
       "      <td>1.0</td>\n",
       "      <td>12.0</td>\n",
       "      <td>48.406926</td>\n",
       "      <td>3</td>\n",
       "    </tr>\n",
       "    <tr>\n",
       "      <th>4</th>\n",
       "      <td>1</td>\n",
       "      <td>66000.0</td>\n",
       "      <td>1985.0</td>\n",
       "      <td>100.0</td>\n",
       "      <td>2.4</td>\n",
       "      <td>36</td>\n",
       "      <td>50.5</td>\n",
       "      <td>68</td>\n",
       "      <td>35</td>\n",
       "      <td>50.589286</td>\n",
       "      <td>...</td>\n",
       "      <td>14</td>\n",
       "      <td>0</td>\n",
       "      <td>0</td>\n",
       "      <td>0</td>\n",
       "      <td>1.0</td>\n",
       "      <td>1.0</td>\n",
       "      <td>1.0</td>\n",
       "      <td>NaN</td>\n",
       "      <td>3.899395</td>\n",
       "      <td>4</td>\n",
       "    </tr>\n",
       "  </tbody>\n",
       "</table>\n",
       "<p>5 rows × 61 columns</p>\n",
       "</div>"
      ],
      "text/plain": [
       "   Year_Factor  floor_area  year_built  energy_star_rating  ELEVATION  \\\n",
       "0            1     61242.0      1942.0                11.0        2.4   \n",
       "1            1    274000.0      1955.0                45.0        1.8   \n",
       "2            1    280025.0      1951.0                97.0        1.8   \n",
       "3            1     55325.0      1980.0                46.0        1.8   \n",
       "4            1     66000.0      1985.0               100.0        2.4   \n",
       "\n",
       "   january_min_temp  january_avg_temp  january_max_temp  february_min_temp  \\\n",
       "0                36              50.5                68                 35   \n",
       "1                36              50.5                68                 35   \n",
       "2                36              50.5                68                 35   \n",
       "3                36              50.5                68                 35   \n",
       "4                36              50.5                68                 35   \n",
       "\n",
       "   february_avg_temp  ...  days_above_80F  days_above_90F  days_above_100F  \\\n",
       "0          50.589286  ...              14               0                0   \n",
       "1          50.589286  ...              14               0                0   \n",
       "2          50.589286  ...              14               0                0   \n",
       "3          50.589286  ...              14               0                0   \n",
       "4          50.589286  ...              14               0                0   \n",
       "\n",
       "   days_above_110F  direction_max_wind_speed  direction_peak_wind_speed  \\\n",
       "0                0                       1.0                        1.0   \n",
       "1                0                       1.0                        NaN   \n",
       "2                0                       1.0                        NaN   \n",
       "3                0                       1.0                        NaN   \n",
       "4                0                       1.0                        1.0   \n",
       "\n",
       "   max_wind_speed  days_with_fog    site_eui  id  \n",
       "0             1.0            NaN  248.682615   0  \n",
       "1             1.0           12.0   26.500150   1  \n",
       "2             1.0           12.0   24.693619   2  \n",
       "3             1.0           12.0   48.406926   3  \n",
       "4             1.0            NaN    3.899395   4  \n",
       "\n",
       "[5 rows x 61 columns]"
      ]
     },
     "execution_count": 31,
     "metadata": {},
     "output_type": "execute_result"
    }
   ],
   "source": [
    "num_df = train_df[num_features]\n",
    "num_df['site_eui'] = train_df['site_eui']\n",
    "num_df.head()"
   ]
  },
  {
   "cell_type": "markdown",
   "id": "961e6c3d",
   "metadata": {},
   "source": [
    "Degree of correlation:\n",
    "\n",
    "    1. Perfect: If the value is near ± 1, then it said to be a perfect correlation.\n",
    "    2. High degree: If the coefficient value lies between ± 0.50 and ± 1, then it is said to be a strong correlation.\n",
    "    3. Moderate degree: If the value lies between ± 0.30 and ± 0.49, then it is said to be a medium correlation.\n",
    "    4. Low degree: When the value lies below + .29, then it is said to be a small correlation.\n",
    "    5. No correlation: When the value is zero."
   ]
  },
  {
   "cell_type": "code",
   "execution_count": 32,
   "id": "7482251d",
   "metadata": {},
   "outputs": [],
   "source": [
    "corr_dict = num_df.corr(method='spearman').loc[:,'site_eui'].to_dict()"
   ]
  },
  {
   "cell_type": "markdown",
   "id": "272d4f67",
   "metadata": {},
   "source": [
    "### As per the degree of correlation, we are dropping the features having correlation value less than +/-0.30 as they hardly have any effect on the target value"
   ]
  },
  {
   "cell_type": "code",
   "execution_count": 33,
   "id": "c9bca3d1",
   "metadata": {},
   "outputs": [
    {
     "data": {
      "text/html": [
       "<div>\n",
       "<style scoped>\n",
       "    .dataframe tbody tr th:only-of-type {\n",
       "        vertical-align: middle;\n",
       "    }\n",
       "\n",
       "    .dataframe tbody tr th {\n",
       "        vertical-align: top;\n",
       "    }\n",
       "\n",
       "    .dataframe thead th {\n",
       "        text-align: right;\n",
       "    }\n",
       "</style>\n",
       "<table border=\"1\" class=\"dataframe\">\n",
       "  <thead>\n",
       "    <tr style=\"text-align: right;\">\n",
       "      <th></th>\n",
       "      <th>Year_Factor</th>\n",
       "      <th>floor_area</th>\n",
       "      <th>year_built</th>\n",
       "      <th>energy_star_rating</th>\n",
       "      <th>ELEVATION</th>\n",
       "      <th>january_min_temp</th>\n",
       "      <th>january_avg_temp</th>\n",
       "      <th>january_max_temp</th>\n",
       "      <th>february_min_temp</th>\n",
       "      <th>february_avg_temp</th>\n",
       "      <th>...</th>\n",
       "      <th>days_above_80F</th>\n",
       "      <th>days_above_90F</th>\n",
       "      <th>days_above_100F</th>\n",
       "      <th>days_above_110F</th>\n",
       "      <th>direction_max_wind_speed</th>\n",
       "      <th>direction_peak_wind_speed</th>\n",
       "      <th>max_wind_speed</th>\n",
       "      <th>days_with_fog</th>\n",
       "      <th>site_eui</th>\n",
       "      <th>id</th>\n",
       "    </tr>\n",
       "  </thead>\n",
       "  <tbody>\n",
       "    <tr>\n",
       "      <th>0</th>\n",
       "      <td>1</td>\n",
       "      <td>61242.0</td>\n",
       "      <td>1942.0</td>\n",
       "      <td>11.0</td>\n",
       "      <td>2.4</td>\n",
       "      <td>36</td>\n",
       "      <td>50.5</td>\n",
       "      <td>68</td>\n",
       "      <td>35</td>\n",
       "      <td>50.589286</td>\n",
       "      <td>...</td>\n",
       "      <td>14</td>\n",
       "      <td>0</td>\n",
       "      <td>0</td>\n",
       "      <td>0</td>\n",
       "      <td>1.0</td>\n",
       "      <td>1.0</td>\n",
       "      <td>1.0</td>\n",
       "      <td>NaN</td>\n",
       "      <td>248.682615</td>\n",
       "      <td>0</td>\n",
       "    </tr>\n",
       "    <tr>\n",
       "      <th>1</th>\n",
       "      <td>1</td>\n",
       "      <td>274000.0</td>\n",
       "      <td>1955.0</td>\n",
       "      <td>45.0</td>\n",
       "      <td>1.8</td>\n",
       "      <td>36</td>\n",
       "      <td>50.5</td>\n",
       "      <td>68</td>\n",
       "      <td>35</td>\n",
       "      <td>50.589286</td>\n",
       "      <td>...</td>\n",
       "      <td>14</td>\n",
       "      <td>0</td>\n",
       "      <td>0</td>\n",
       "      <td>0</td>\n",
       "      <td>1.0</td>\n",
       "      <td>NaN</td>\n",
       "      <td>1.0</td>\n",
       "      <td>12.0</td>\n",
       "      <td>26.500150</td>\n",
       "      <td>1</td>\n",
       "    </tr>\n",
       "    <tr>\n",
       "      <th>2</th>\n",
       "      <td>1</td>\n",
       "      <td>280025.0</td>\n",
       "      <td>1951.0</td>\n",
       "      <td>97.0</td>\n",
       "      <td>1.8</td>\n",
       "      <td>36</td>\n",
       "      <td>50.5</td>\n",
       "      <td>68</td>\n",
       "      <td>35</td>\n",
       "      <td>50.589286</td>\n",
       "      <td>...</td>\n",
       "      <td>14</td>\n",
       "      <td>0</td>\n",
       "      <td>0</td>\n",
       "      <td>0</td>\n",
       "      <td>1.0</td>\n",
       "      <td>NaN</td>\n",
       "      <td>1.0</td>\n",
       "      <td>12.0</td>\n",
       "      <td>24.693619</td>\n",
       "      <td>2</td>\n",
       "    </tr>\n",
       "    <tr>\n",
       "      <th>3</th>\n",
       "      <td>1</td>\n",
       "      <td>55325.0</td>\n",
       "      <td>1980.0</td>\n",
       "      <td>46.0</td>\n",
       "      <td>1.8</td>\n",
       "      <td>36</td>\n",
       "      <td>50.5</td>\n",
       "      <td>68</td>\n",
       "      <td>35</td>\n",
       "      <td>50.589286</td>\n",
       "      <td>...</td>\n",
       "      <td>14</td>\n",
       "      <td>0</td>\n",
       "      <td>0</td>\n",
       "      <td>0</td>\n",
       "      <td>1.0</td>\n",
       "      <td>NaN</td>\n",
       "      <td>1.0</td>\n",
       "      <td>12.0</td>\n",
       "      <td>48.406926</td>\n",
       "      <td>3</td>\n",
       "    </tr>\n",
       "    <tr>\n",
       "      <th>4</th>\n",
       "      <td>1</td>\n",
       "      <td>66000.0</td>\n",
       "      <td>1985.0</td>\n",
       "      <td>100.0</td>\n",
       "      <td>2.4</td>\n",
       "      <td>36</td>\n",
       "      <td>50.5</td>\n",
       "      <td>68</td>\n",
       "      <td>35</td>\n",
       "      <td>50.589286</td>\n",
       "      <td>...</td>\n",
       "      <td>14</td>\n",
       "      <td>0</td>\n",
       "      <td>0</td>\n",
       "      <td>0</td>\n",
       "      <td>1.0</td>\n",
       "      <td>1.0</td>\n",
       "      <td>1.0</td>\n",
       "      <td>NaN</td>\n",
       "      <td>3.899395</td>\n",
       "      <td>4</td>\n",
       "    </tr>\n",
       "  </tbody>\n",
       "</table>\n",
       "<p>5 rows × 61 columns</p>\n",
       "</div>"
      ],
      "text/plain": [
       "   Year_Factor  floor_area  year_built  energy_star_rating  ELEVATION  \\\n",
       "0            1     61242.0      1942.0                11.0        2.4   \n",
       "1            1    274000.0      1955.0                45.0        1.8   \n",
       "2            1    280025.0      1951.0                97.0        1.8   \n",
       "3            1     55325.0      1980.0                46.0        1.8   \n",
       "4            1     66000.0      1985.0               100.0        2.4   \n",
       "\n",
       "   january_min_temp  january_avg_temp  january_max_temp  february_min_temp  \\\n",
       "0                36              50.5                68                 35   \n",
       "1                36              50.5                68                 35   \n",
       "2                36              50.5                68                 35   \n",
       "3                36              50.5                68                 35   \n",
       "4                36              50.5                68                 35   \n",
       "\n",
       "   february_avg_temp  ...  days_above_80F  days_above_90F  days_above_100F  \\\n",
       "0          50.589286  ...              14               0                0   \n",
       "1          50.589286  ...              14               0                0   \n",
       "2          50.589286  ...              14               0                0   \n",
       "3          50.589286  ...              14               0                0   \n",
       "4          50.589286  ...              14               0                0   \n",
       "\n",
       "   days_above_110F  direction_max_wind_speed  direction_peak_wind_speed  \\\n",
       "0                0                       1.0                        1.0   \n",
       "1                0                       1.0                        NaN   \n",
       "2                0                       1.0                        NaN   \n",
       "3                0                       1.0                        NaN   \n",
       "4                0                       1.0                        1.0   \n",
       "\n",
       "   max_wind_speed  days_with_fog    site_eui  id  \n",
       "0             1.0            NaN  248.682615   0  \n",
       "1             1.0           12.0   26.500150   1  \n",
       "2             1.0           12.0   24.693619   2  \n",
       "3             1.0           12.0   48.406926   3  \n",
       "4             1.0            NaN    3.899395   4  \n",
       "\n",
       "[5 rows x 61 columns]"
      ]
     },
     "execution_count": 33,
     "metadata": {},
     "output_type": "execute_result"
    }
   ],
   "source": [
    "num_df.head()"
   ]
  },
  {
   "cell_type": "code",
   "execution_count": 34,
   "id": "27240551",
   "metadata": {},
   "outputs": [
    {
     "data": {
      "text/plain": [
       "{'Year_Factor': -0.07311865024005786,\n",
       " 'floor_area': 0.0914960491412691,\n",
       " 'year_built': -0.0075687515825578425,\n",
       " 'energy_star_rating': -0.6601744892918691,\n",
       " 'ELEVATION': -0.012625032436582811,\n",
       " 'january_min_temp': -0.23616291307011517,\n",
       " 'january_avg_temp': -0.22780781418383536,\n",
       " 'january_max_temp': -0.14299244707757133,\n",
       " 'february_min_temp': -0.21226791754222993,\n",
       " 'february_avg_temp': -0.24224338261946066,\n",
       " 'february_max_temp': -0.2285283890474645,\n",
       " 'march_min_temp': -0.21641637275582773,\n",
       " 'march_avg_temp': -0.21570501493159186,\n",
       " 'march_max_temp': -0.10493368770151469,\n",
       " 'april_min_temp': -0.16615289899917668,\n",
       " 'april_avg_temp': -0.13133291775435216,\n",
       " 'april_max_temp': -0.13444873144142785,\n",
       " 'may_min_temp': 0.05620508405806788,\n",
       " 'may_avg_temp': 0.15374709214221868,\n",
       " 'may_max_temp': 0.022749236389732513,\n",
       " 'june_min_temp': 0.12154387288854655,\n",
       " 'june_avg_temp': 0.15927892481157435,\n",
       " 'june_max_temp': -0.040078032274884934,\n",
       " 'july_min_temp': 0.22336834351755522,\n",
       " 'july_avg_temp': 0.1981662474635328,\n",
       " 'july_max_temp': 0.05748413639137173,\n",
       " 'august_min_temp': 0.21273924206468314,\n",
       " 'august_avg_temp': 0.16537119048301907,\n",
       " 'august_max_temp': 0.04833869237869789,\n",
       " 'september_min_temp': 0.14362914254058112,\n",
       " 'september_avg_temp': 0.15929884736659003,\n",
       " 'september_max_temp': 0.12255530576443359,\n",
       " 'october_min_temp': -0.11623342998928254,\n",
       " 'october_avg_temp': 0.05908918716977143,\n",
       " 'october_max_temp': 0.030059571706757205,\n",
       " 'november_min_temp': -0.11374238426655917,\n",
       " 'november_avg_temp': -0.05620907017510739,\n",
       " 'november_max_temp': -0.028497608499748785,\n",
       " 'december_min_temp': -0.07041394693515143,\n",
       " 'december_avg_temp': -0.04746109670801726,\n",
       " 'december_max_temp': 0.11558199117284969,\n",
       " 'cooling_degree_days': 0.16980373290564457,\n",
       " 'heating_degree_days': 0.23547830262240718,\n",
       " 'precipitation_inches': 0.13611576631244846,\n",
       " 'snowfall_inches': 0.2614173657787626,\n",
       " 'snowdepth_inches': 0.26463935051729726,\n",
       " 'avg_temp': -0.06397002760458669,\n",
       " 'days_below_30F': 0.202830037932739,\n",
       " 'days_below_20F': 0.22683928171550916,\n",
       " 'days_below_10F': 0.16990598525434192,\n",
       " 'days_below_0F': 0.07164343060378142,\n",
       " 'days_above_80F': 0.11062997627816981,\n",
       " 'days_above_90F': 0.060967978323594796,\n",
       " 'days_above_100F': -0.07202702827743376,\n",
       " 'days_above_110F': -0.0324662349973746,\n",
       " 'direction_max_wind_speed': 0.02005265702606401,\n",
       " 'direction_peak_wind_speed': 0.022436943711091423,\n",
       " 'max_wind_speed': 0.0204219089215944,\n",
       " 'days_with_fog': -0.048905621589338776,\n",
       " 'site_eui': 1.0,\n",
       " 'id': -0.0341366553579661}"
      ]
     },
     "execution_count": 34,
     "metadata": {},
     "output_type": "execute_result"
    }
   ],
   "source": [
    "corr_dict"
   ]
  },
  {
   "cell_type": "code",
   "execution_count": 35,
   "id": "cc0a7c22",
   "metadata": {},
   "outputs": [],
   "source": [
    "for i, val in corr_dict.items():\n",
    "    if i != 'id':\n",
    "        if (val < 0.3 and val>0.0) or (val > -0.3 and val<0):\n",
    "            final_train.drop(i, axis=1, inplace=True)\n",
    "            final_test.drop(i, axis=1, inplace=True)"
   ]
  },
  {
   "cell_type": "code",
   "execution_count": 36,
   "id": "7d253390",
   "metadata": {},
   "outputs": [
    {
     "data": {
      "text/html": [
       "<div>\n",
       "<style scoped>\n",
       "    .dataframe tbody tr th:only-of-type {\n",
       "        vertical-align: middle;\n",
       "    }\n",
       "\n",
       "    .dataframe tbody tr th {\n",
       "        vertical-align: top;\n",
       "    }\n",
       "\n",
       "    .dataframe thead th {\n",
       "        text-align: right;\n",
       "    }\n",
       "</style>\n",
       "<table border=\"1\" class=\"dataframe\">\n",
       "  <thead>\n",
       "    <tr style=\"text-align: right;\">\n",
       "      <th></th>\n",
       "      <th>State_Factor</th>\n",
       "      <th>building_class</th>\n",
       "      <th>facility_type</th>\n",
       "      <th>energy_star_rating</th>\n",
       "      <th>site_eui</th>\n",
       "      <th>id</th>\n",
       "    </tr>\n",
       "  </thead>\n",
       "  <tbody>\n",
       "    <tr>\n",
       "      <th>0</th>\n",
       "      <td>0</td>\n",
       "      <td>0</td>\n",
       "      <td>13</td>\n",
       "      <td>11.0</td>\n",
       "      <td>248.682615</td>\n",
       "      <td>0</td>\n",
       "    </tr>\n",
       "    <tr>\n",
       "      <th>1</th>\n",
       "      <td>0</td>\n",
       "      <td>0</td>\n",
       "      <td>55</td>\n",
       "      <td>45.0</td>\n",
       "      <td>26.500150</td>\n",
       "      <td>1</td>\n",
       "    </tr>\n",
       "    <tr>\n",
       "      <th>2</th>\n",
       "      <td>0</td>\n",
       "      <td>0</td>\n",
       "      <td>48</td>\n",
       "      <td>97.0</td>\n",
       "      <td>24.693619</td>\n",
       "      <td>2</td>\n",
       "    </tr>\n",
       "    <tr>\n",
       "      <th>3</th>\n",
       "      <td>0</td>\n",
       "      <td>0</td>\n",
       "      <td>6</td>\n",
       "      <td>46.0</td>\n",
       "      <td>48.406926</td>\n",
       "      <td>3</td>\n",
       "    </tr>\n",
       "    <tr>\n",
       "      <th>4</th>\n",
       "      <td>0</td>\n",
       "      <td>0</td>\n",
       "      <td>56</td>\n",
       "      <td>100.0</td>\n",
       "      <td>3.899395</td>\n",
       "      <td>4</td>\n",
       "    </tr>\n",
       "  </tbody>\n",
       "</table>\n",
       "</div>"
      ],
      "text/plain": [
       "   State_Factor  building_class  facility_type  energy_star_rating  \\\n",
       "0             0               0             13                11.0   \n",
       "1             0               0             55                45.0   \n",
       "2             0               0             48                97.0   \n",
       "3             0               0              6                46.0   \n",
       "4             0               0             56               100.0   \n",
       "\n",
       "     site_eui  id  \n",
       "0  248.682615   0  \n",
       "1   26.500150   1  \n",
       "2   24.693619   2  \n",
       "3   48.406926   3  \n",
       "4    3.899395   4  "
      ]
     },
     "execution_count": 36,
     "metadata": {},
     "output_type": "execute_result"
    }
   ],
   "source": [
    "final_train.head()"
   ]
  },
  {
   "cell_type": "code",
   "execution_count": 37,
   "id": "6feed53c",
   "metadata": {},
   "outputs": [
    {
     "data": {
      "text/html": [
       "<div>\n",
       "<style scoped>\n",
       "    .dataframe tbody tr th:only-of-type {\n",
       "        vertical-align: middle;\n",
       "    }\n",
       "\n",
       "    .dataframe tbody tr th {\n",
       "        vertical-align: top;\n",
       "    }\n",
       "\n",
       "    .dataframe thead th {\n",
       "        text-align: right;\n",
       "    }\n",
       "</style>\n",
       "<table border=\"1\" class=\"dataframe\">\n",
       "  <thead>\n",
       "    <tr style=\"text-align: right;\">\n",
       "      <th></th>\n",
       "      <th>State_Factor</th>\n",
       "      <th>building_class</th>\n",
       "      <th>facility_type</th>\n",
       "      <th>energy_star_rating</th>\n",
       "      <th>id</th>\n",
       "    </tr>\n",
       "  </thead>\n",
       "  <tbody>\n",
       "    <tr>\n",
       "      <th>0</th>\n",
       "      <td>0</td>\n",
       "      <td>0</td>\n",
       "      <td>13</td>\n",
       "      <td>37.0</td>\n",
       "      <td>75757</td>\n",
       "    </tr>\n",
       "    <tr>\n",
       "      <th>1</th>\n",
       "      <td>0</td>\n",
       "      <td>0</td>\n",
       "      <td>13</td>\n",
       "      <td>55.0</td>\n",
       "      <td>75758</td>\n",
       "    </tr>\n",
       "    <tr>\n",
       "      <th>2</th>\n",
       "      <td>0</td>\n",
       "      <td>0</td>\n",
       "      <td>13</td>\n",
       "      <td>1.0</td>\n",
       "      <td>75759</td>\n",
       "    </tr>\n",
       "    <tr>\n",
       "      <th>3</th>\n",
       "      <td>0</td>\n",
       "      <td>0</td>\n",
       "      <td>13</td>\n",
       "      <td>34.0</td>\n",
       "      <td>75760</td>\n",
       "    </tr>\n",
       "    <tr>\n",
       "      <th>4</th>\n",
       "      <td>0</td>\n",
       "      <td>0</td>\n",
       "      <td>13</td>\n",
       "      <td>35.0</td>\n",
       "      <td>75761</td>\n",
       "    </tr>\n",
       "  </tbody>\n",
       "</table>\n",
       "</div>"
      ],
      "text/plain": [
       "   State_Factor  building_class  facility_type  energy_star_rating     id\n",
       "0             0               0             13                37.0  75757\n",
       "1             0               0             13                55.0  75758\n",
       "2             0               0             13                 1.0  75759\n",
       "3             0               0             13                34.0  75760\n",
       "4             0               0             13                35.0  75761"
      ]
     },
     "execution_count": 37,
     "metadata": {},
     "output_type": "execute_result"
    }
   ],
   "source": [
    "final_test.head()"
   ]
  },
  {
   "cell_type": "code",
   "execution_count": 38,
   "id": "f7bb2a60",
   "metadata": {},
   "outputs": [
    {
     "data": {
      "text/plain": [
       "<AxesSubplot:>"
      ]
     },
     "execution_count": 38,
     "metadata": {},
     "output_type": "execute_result"
    },
    {
     "data": {
      "image/png": "[encoded data removed]",
      "text/plain": [
       "<Figure size 432x288 with 2 Axes>"
      ]
     },
     "metadata": {
      "needs_background": "light"
     },
     "output_type": "display_data"
    }
   ],
   "source": [
    "final = final_train.drop('id', axis=1)\n",
    "sns.heatmap(final.corr())"
   ]
  },
  {
   "cell_type": "markdown",
   "id": "1429e08a",
   "metadata": {},
   "source": [
    "# Check for missing values"
   ]
  },
  {
   "cell_type": "code",
   "execution_count": 39,
   "id": "f9890578",
   "metadata": {},
   "outputs": [
    {
     "data": {
      "text/plain": [
       "State_Factor              0\n",
       "building_class            0\n",
       "facility_type             0\n",
       "energy_star_rating    26709\n",
       "site_eui                  0\n",
       "id                        0\n",
       "dtype: int64"
      ]
     },
     "execution_count": 39,
     "metadata": {},
     "output_type": "execute_result"
    }
   ],
   "source": [
    "final_train.isnull().sum()"
   ]
  },
  {
   "cell_type": "code",
   "execution_count": 40,
   "id": "aecc459a",
   "metadata": {},
   "outputs": [
    {
     "name": "stdout",
     "output_type": "stream",
     "text": [
      "<class 'pandas.core.frame.DataFrame'>\n",
      "RangeIndex: 75757 entries, 0 to 75756\n",
      "Data columns (total 6 columns):\n",
      " #   Column              Non-Null Count  Dtype  \n",
      "---  ------              --------------  -----  \n",
      " 0   State_Factor        75757 non-null  int32  \n",
      " 1   building_class      75757 non-null  int32  \n",
      " 2   facility_type       75757 non-null  int32  \n",
      " 3   energy_star_rating  49048 non-null  float64\n",
      " 4   site_eui            75757 non-null  float64\n",
      " 5   id                  75757 non-null  int64  \n",
      "dtypes: float64(2), int32(3), int64(1)\n",
      "memory usage: 2.6 MB\n"
     ]
    }
   ],
   "source": [
    "final_train.info()"
   ]
  },
  {
   "cell_type": "code",
   "execution_count": 41,
   "id": "b4f15fd2",
   "metadata": {},
   "outputs": [
    {
     "data": {
      "image/png": "[encoded data removed]",
      "text/plain": [
       "<Figure size 1080x360 with 2 Axes>"
      ]
     },
     "metadata": {
      "needs_background": "light"
     },
     "output_type": "display_data"
    }
   ],
   "source": [
    "plt.figure(figsize=(15,5))\n",
    "sns.heatmap(final_train.isna().values, cmap = ['#ffff99', '#009933'], xticklabels=final_train.columns)\n",
    "plt.title('Missing values in {}'.format('Final Training Set'), fontsize=20)\n",
    "plt.show()"
   ]
  },
  {
   "cell_type": "code",
   "execution_count": 42,
   "id": "b6d24461",
   "metadata": {},
   "outputs": [
    {
     "data": {
      "image/png": "[encoded data removed]",
      "text/plain": [
       "<Figure size 1080x360 with 2 Axes>"
      ]
     },
     "metadata": {
      "needs_background": "light"
     },
     "output_type": "display_data"
    }
   ],
   "source": [
    "plt.figure(figsize=(15,5))\n",
    "sns.heatmap(final_test.isna().values, cmap = ['#99ccff', '#ff99ff'], xticklabels=final_test.columns)\n",
    "plt.title('Missing values in {}'.format('Final Test Set'), fontsize=20)\n",
    "plt.show()"
   ]
  },
  {
   "cell_type": "markdown",
   "id": "e5e7306a",
   "metadata": {},
   "source": [
    "### Missing Value Imputation"
   ]
  },
  {
   "cell_type": "code",
   "execution_count": 43,
   "id": "39d48087",
   "metadata": {},
   "outputs": [
    {
     "data": {
      "text/plain": [
       "count    49048.000000\n",
       "mean        61.048605\n",
       "std         28.663683\n",
       "min          0.000000\n",
       "25%         40.000000\n",
       "50%         67.000000\n",
       "75%         85.000000\n",
       "max        100.000000\n",
       "Name: energy_star_rating, dtype: float64"
      ]
     },
     "execution_count": 43,
     "metadata": {},
     "output_type": "execute_result"
    }
   ],
   "source": [
    "final_train['energy_star_rating'].describe()"
   ]
  },
  {
   "cell_type": "code",
   "execution_count": 44,
   "id": "319f5ee5",
   "metadata": {},
   "outputs": [
    {
     "data": {
      "text/plain": [
       "<AxesSubplot:>"
      ]
     },
     "execution_count": 44,
     "metadata": {},
     "output_type": "execute_result"
    },
    {
     "data": {
      "image/png": "[encoded data removed]",
      "text/plain": [
       "<Figure size 432x288 with 1 Axes>"
      ]
     },
     "metadata": {
      "needs_background": "light"
     },
     "output_type": "display_data"
    }
   ],
   "source": [
    "final_train['energy_star_rating'].hist()"
   ]
  },
  {
   "cell_type": "code",
   "execution_count": 45,
   "id": "7bfd3f11",
   "metadata": {},
   "outputs": [
    {
     "data": {
      "text/plain": [
       "<AxesSubplot:xlabel='energy_star_rating'>"
      ]
     },
     "execution_count": 45,
     "metadata": {},
     "output_type": "execute_result"
    },
    {
     "data": {
      "image/png": "[encoded data removed]",
      "text/plain": [
       "<Figure size 432x288 with 1 Axes>"
      ]
     },
     "metadata": {
      "needs_background": "light"
     },
     "output_type": "display_data"
    }
   ],
   "source": [
    "sns.boxplot(final_train['energy_star_rating'], color = 'lightgreen')"
   ]
  },
  {
   "cell_type": "markdown",
   "id": "00a32f53",
   "metadata": {},
   "source": [
    "### Handling missing values"
   ]
  },
  {
   "cell_type": "markdown",
   "id": "c049daee",
   "metadata": {},
   "source": [
    "As we see from the above observations the energy_star_rating has no outliers and all the values lies within the range of 0 to 100. So, we will be using the mean to fill in the missing values."
   ]
  },
  {
   "cell_type": "code",
   "execution_count": 46,
   "id": "864b0761",
   "metadata": {},
   "outputs": [],
   "source": [
    "final_train1 = final_train.copy()"
   ]
  },
  {
   "cell_type": "code",
   "execution_count": 47,
   "id": "e5f0dde1",
   "metadata": {},
   "outputs": [],
   "source": [
    "final_train1['energy_star_rating']=final_train1['energy_star_rating'].fillna(final_train1['energy_star_rating'].mean())"
   ]
  },
  {
   "cell_type": "code",
   "execution_count": 48,
   "id": "909bde92",
   "metadata": {},
   "outputs": [
    {
     "data": {
      "text/plain": [
       "State_Factor          0\n",
       "building_class        0\n",
       "facility_type         0\n",
       "energy_star_rating    0\n",
       "site_eui              0\n",
       "id                    0\n",
       "dtype: int64"
      ]
     },
     "execution_count": 48,
     "metadata": {},
     "output_type": "execute_result"
    }
   ],
   "source": [
    "final_train1.isnull().sum()"
   ]
  },
  {
   "cell_type": "code",
   "execution_count": 49,
   "id": "15ac4a67",
   "metadata": {},
   "outputs": [],
   "source": [
    "final_test1 = final_test.copy()"
   ]
  },
  {
   "cell_type": "code",
   "execution_count": 50,
   "id": "5ecf9c32",
   "metadata": {},
   "outputs": [],
   "source": [
    "final_test1['energy_star_rating']=final_test1['energy_star_rating'].fillna(final_test1['energy_star_rating'].mean())"
   ]
  },
  {
   "cell_type": "code",
   "execution_count": 51,
   "id": "ea76fd87",
   "metadata": {},
   "outputs": [
    {
     "data": {
      "text/plain": [
       "State_Factor          0\n",
       "building_class        0\n",
       "facility_type         0\n",
       "energy_star_rating    0\n",
       "id                    0\n",
       "dtype: int64"
      ]
     },
     "execution_count": 51,
     "metadata": {},
     "output_type": "execute_result"
    }
   ],
   "source": [
    "final_test1.isnull().sum()"
   ]
  },
  {
   "cell_type": "markdown",
   "id": "39a29dd8",
   "metadata": {},
   "source": [
    "### Apply StandardScalar on numerical Features"
   ]
  },
  {
   "cell_type": "code",
   "execution_count": 52,
   "id": "183ff7a3",
   "metadata": {},
   "outputs": [],
   "source": [
    "scaler = StandardScaler()\n",
    "num_feat = ['energy_star_rating']\n",
    "final_train1[num_feat] = scaler.fit_transform(final_train1[num_feat])\n",
    "final_test1[num_feat] = scaler.transform(final_test1[num_feat])"
   ]
  },
  {
   "cell_type": "code",
   "execution_count": 53,
   "id": "481f3b33",
   "metadata": {},
   "outputs": [
    {
     "data": {
      "text/html": [
       "<div>\n",
       "<style scoped>\n",
       "    .dataframe tbody tr th:only-of-type {\n",
       "        vertical-align: middle;\n",
       "    }\n",
       "\n",
       "    .dataframe tbody tr th {\n",
       "        vertical-align: top;\n",
       "    }\n",
       "\n",
       "    .dataframe thead th {\n",
       "        text-align: right;\n",
       "    }\n",
       "</style>\n",
       "<table border=\"1\" class=\"dataframe\">\n",
       "  <thead>\n",
       "    <tr style=\"text-align: right;\">\n",
       "      <th></th>\n",
       "      <th>State_Factor</th>\n",
       "      <th>building_class</th>\n",
       "      <th>facility_type</th>\n",
       "      <th>energy_star_rating</th>\n",
       "      <th>site_eui</th>\n",
       "      <th>id</th>\n",
       "    </tr>\n",
       "  </thead>\n",
       "  <tbody>\n",
       "    <tr>\n",
       "      <th>0</th>\n",
       "      <td>0</td>\n",
       "      <td>0</td>\n",
       "      <td>13</td>\n",
       "      <td>-2.170027</td>\n",
       "      <td>248.682615</td>\n",
       "      <td>0</td>\n",
       "    </tr>\n",
       "    <tr>\n",
       "      <th>1</th>\n",
       "      <td>0</td>\n",
       "      <td>0</td>\n",
       "      <td>55</td>\n",
       "      <td>-0.695842</td>\n",
       "      <td>26.500150</td>\n",
       "      <td>1</td>\n",
       "    </tr>\n",
       "    <tr>\n",
       "      <th>2</th>\n",
       "      <td>0</td>\n",
       "      <td>0</td>\n",
       "      <td>48</td>\n",
       "      <td>1.558795</td>\n",
       "      <td>24.693619</td>\n",
       "      <td>2</td>\n",
       "    </tr>\n",
       "    <tr>\n",
       "      <th>3</th>\n",
       "      <td>0</td>\n",
       "      <td>0</td>\n",
       "      <td>6</td>\n",
       "      <td>-0.652483</td>\n",
       "      <td>48.406926</td>\n",
       "      <td>3</td>\n",
       "    </tr>\n",
       "    <tr>\n",
       "      <th>4</th>\n",
       "      <td>0</td>\n",
       "      <td>0</td>\n",
       "      <td>56</td>\n",
       "      <td>1.688870</td>\n",
       "      <td>3.899395</td>\n",
       "      <td>4</td>\n",
       "    </tr>\n",
       "  </tbody>\n",
       "</table>\n",
       "</div>"
      ],
      "text/plain": [
       "   State_Factor  building_class  facility_type  energy_star_rating  \\\n",
       "0             0               0             13           -2.170027   \n",
       "1             0               0             55           -0.695842   \n",
       "2             0               0             48            1.558795   \n",
       "3             0               0              6           -0.652483   \n",
       "4             0               0             56            1.688870   \n",
       "\n",
       "     site_eui  id  \n",
       "0  248.682615   0  \n",
       "1   26.500150   1  \n",
       "2   24.693619   2  \n",
       "3   48.406926   3  \n",
       "4    3.899395   4  "
      ]
     },
     "execution_count": 53,
     "metadata": {},
     "output_type": "execute_result"
    }
   ],
   "source": [
    "final_train1.head()"
   ]
  },
  {
   "cell_type": "code",
   "execution_count": 54,
   "id": "7720c2c7",
   "metadata": {},
   "outputs": [
    {
     "data": {
      "text/html": [
       "<div>\n",
       "<style scoped>\n",
       "    .dataframe tbody tr th:only-of-type {\n",
       "        vertical-align: middle;\n",
       "    }\n",
       "\n",
       "    .dataframe tbody tr th {\n",
       "        vertical-align: top;\n",
       "    }\n",
       "\n",
       "    .dataframe thead th {\n",
       "        text-align: right;\n",
       "    }\n",
       "</style>\n",
       "<table border=\"1\" class=\"dataframe\">\n",
       "  <thead>\n",
       "    <tr style=\"text-align: right;\">\n",
       "      <th></th>\n",
       "      <th>State_Factor</th>\n",
       "      <th>building_class</th>\n",
       "      <th>facility_type</th>\n",
       "      <th>energy_star_rating</th>\n",
       "      <th>id</th>\n",
       "    </tr>\n",
       "  </thead>\n",
       "  <tbody>\n",
       "    <tr>\n",
       "      <th>0</th>\n",
       "      <td>0</td>\n",
       "      <td>0</td>\n",
       "      <td>13</td>\n",
       "      <td>-1.042709</td>\n",
       "      <td>75757</td>\n",
       "    </tr>\n",
       "    <tr>\n",
       "      <th>1</th>\n",
       "      <td>0</td>\n",
       "      <td>0</td>\n",
       "      <td>13</td>\n",
       "      <td>-0.262258</td>\n",
       "      <td>75758</td>\n",
       "    </tr>\n",
       "    <tr>\n",
       "      <th>2</th>\n",
       "      <td>0</td>\n",
       "      <td>0</td>\n",
       "      <td>13</td>\n",
       "      <td>-2.603611</td>\n",
       "      <td>75759</td>\n",
       "    </tr>\n",
       "    <tr>\n",
       "      <th>3</th>\n",
       "      <td>0</td>\n",
       "      <td>0</td>\n",
       "      <td>13</td>\n",
       "      <td>-1.172784</td>\n",
       "      <td>75760</td>\n",
       "    </tr>\n",
       "    <tr>\n",
       "      <th>4</th>\n",
       "      <td>0</td>\n",
       "      <td>0</td>\n",
       "      <td>13</td>\n",
       "      <td>-1.129426</td>\n",
       "      <td>75761</td>\n",
       "    </tr>\n",
       "  </tbody>\n",
       "</table>\n",
       "</div>"
      ],
      "text/plain": [
       "   State_Factor  building_class  facility_type  energy_star_rating     id\n",
       "0             0               0             13           -1.042709  75757\n",
       "1             0               0             13           -0.262258  75758\n",
       "2             0               0             13           -2.603611  75759\n",
       "3             0               0             13           -1.172784  75760\n",
       "4             0               0             13           -1.129426  75761"
      ]
     },
     "execution_count": 54,
     "metadata": {},
     "output_type": "execute_result"
    }
   ],
   "source": [
    "final_test1.head()"
   ]
  },
  {
   "cell_type": "markdown",
   "id": "d2642758",
   "metadata": {},
   "source": [
    "## Saving the clean data in csv file"
   ]
  },
  {
   "cell_type": "code",
   "execution_count": 59,
   "id": "cc1399b1",
   "metadata": {},
   "outputs": [],
   "source": [
    "# final_train1.to_csv('train1.csv', index=False)"
   ]
  },
  {
   "cell_type": "code",
   "execution_count": 60,
   "id": "b6044815",
   "metadata": {},
   "outputs": [],
   "source": [
    "# final_test1.to_csv('test1.csv', index=False)"
   ]
  },
  {
   "cell_type": "markdown",
   "id": "12b99731",
   "metadata": {},
   "source": [
    "## Transforming Target"
   ]
  },
  {
   "cell_type": "markdown",
   "id": "982cfec0",
   "metadata": {},
   "source": [
    "## Before Transformation:"
   ]
  },
  {
   "cell_type": "code",
   "execution_count": 55,
   "id": "7e02550a",
   "metadata": {},
   "outputs": [
    {
     "data": {
      "image/png": "[encoded data removed]",
      "text/plain": [
       "<Figure size 432x288 with 1 Axes>"
      ]
     },
     "metadata": {
      "needs_background": "light"
     },
     "output_type": "display_data"
    }
   ],
   "source": [
    "final_train1['site_eui'].hist()\n",
    "plt.show()"
   ]
  },
  {
   "cell_type": "markdown",
   "id": "a9ab16ee",
   "metadata": {},
   "source": [
    "## After Transformation:"
   ]
  },
  {
   "cell_type": "markdown",
   "id": "03571568",
   "metadata": {},
   "source": [
    "## Comparison between log and square root transformation"
   ]
  },
  {
   "cell_type": "markdown",
   "id": "9fa854e9",
   "metadata": {},
   "source": [
    "From the below transformation we see that in this case the square root transformation has given a more normally distributed data than log transformation"
   ]
  },
  {
   "cell_type": "code",
   "execution_count": 56,
   "id": "c83bd1d3",
   "metadata": {},
   "outputs": [
    {
     "data": {
      "image/png": "[encoded data removed]",
      "text/plain": [
       "<Figure size 432x288 with 1 Axes>"
      ]
     },
     "metadata": {
      "needs_background": "light"
     },
     "output_type": "display_data"
    }
   ],
   "source": [
    "plt.hist(np.log(final_train1['site_eui']), color='green');\n",
    "plt.title('Log Transformation', fontsize=20)\n",
    "plt.show()"
   ]
  },
  {
   "cell_type": "code",
   "execution_count": 57,
   "id": "2382691f",
   "metadata": {},
   "outputs": [
    {
     "data": {
      "image/png": "[encoded data removed]",
      "text/plain": [
       "<Figure size 432x288 with 1 Axes>"
      ]
     },
     "metadata": {
      "needs_background": "light"
     },
     "output_type": "display_data"
    }
   ],
   "source": [
    "plt.hist(np.sqrt(final_train1['site_eui']), color='purple');\n",
    "plt.title('Sqaure Root Transformation', fontsize=20)\n",
    "plt.show()"
   ]
  },
  {
   "cell_type": "markdown",
   "id": "e7829ca1",
   "metadata": {},
   "source": [
    "# 4. Key takeaways from the analysis"
   ]
  },
  {
   "cell_type": "markdown",
   "id": "f3abd366",
   "metadata": {},
   "source": [
    "    1. The original dataset had a total of 64 columns (62 indedpendent variables + 1 target variable + 1 id column)\n",
    "    2. Only 3 categorical features with no missing values\n",
    "    3. Disparity in the categorical features of test and train set(state_6 dominates in train unlike the test set)\n",
    "    4. The numerical features (except energy_star_rating) doesn't contribute much in determining the target variable\n",
    "    5. No outliers were detected in energy_star_rating though it has a lot of missing data\n",
    "    6. From the heatmap we see that Energy_star_rating is highly correlated and Star_Factor is the least\n",
    "    7. Square Root Transformation worked better than Log transformation in normalizing the data"
   ]
  },
  {
   "cell_type": "markdown",
   "id": "61843c66",
   "metadata": {},
   "source": [
    "# 5. Summary of Data Cleaning steps"
   ]
  },
  {
   "cell_type": "markdown",
   "id": "6f766a54",
   "metadata": {},
   "source": [
    "    1. Categorical Features were Label Encoded\n",
    "    2. After studying the correlation, most of the numerical features were dropped due to low effectiveness\n",
    "    3. Missing Value Imputation for energy_star_rating\n",
    "    4. Scaled Numerical Features\n",
    "    5. Log transformation of the target variable"
   ]
  },
  {
   "cell_type": "markdown",
   "id": "69ccf49b",
   "metadata": {},
   "source": [
    "# 6. Modelling"
   ]
  },
  {
   "cell_type": "markdown",
   "id": "ca2cf8aa",
   "metadata": {},
   "source": [
    "### Base Model's Library Import"
   ]
  },
  {
   "cell_type": "code",
   "execution_count": 58,
   "id": "0ca8ea2a",
   "metadata": {},
   "outputs": [],
   "source": [
    "from helper import (plot_exponential_data, \n",
    "                    plot_square_normal_data)\n",
    "from sklearn.linear_model import LinearRegression, Lasso, Ridge\n",
    "from sklearn.metrics import r2_score\n",
    "from sklearn.model_selection import train_test_split\n",
    "from sklearn.preprocessing import (StandardScaler, \n",
    "                                   PolynomialFeatures)\n",
    "from sklearn.metrics import mean_squared_error"
   ]
  },
  {
   "cell_type": "markdown",
   "id": "c130c9f8",
   "metadata": {},
   "source": [
    "### Train CV split for cross validation"
   ]
  },
  {
   "cell_type": "markdown",
   "id": "8888e596",
   "metadata": {},
   "source": [
    "We are splitting our training set into train and test data to verify the model's performance. Firstly, we are creating x and y.\n",
    "x is a dataframe of predictors and y is our target variable set.\n",
    "\n",
    "train_test_split always divides the dataframe into 2 parts in the given ratio. Here we have splitted into 4:1."
   ]
  },
  {
   "cell_type": "code",
   "execution_count": null,
   "id": "4eba3096",
   "metadata": {},
   "outputs": [],
   "source": [
    "from sklearn.model_selection import train_test_split\n",
    "\n",
    "X= final_train1.drop('site_eui',axis=1)\n",
    "y= final_train1['site_eui']\n",
    "x_train, x_test, y_train, y_test = train_test_split( X, y, test_size=0.25, random_state=42)"
   ]
  },
  {
   "cell_type": "code",
   "execution_count": null,
   "id": "67a4c33b",
   "metadata": {},
   "outputs": [],
   "source": [
    "final_test1"
   ]
  },
  {
   "cell_type": "code",
   "execution_count": null,
   "id": "49211649",
   "metadata": {},
   "outputs": [],
   "source": [
    "lasso1 = Lasso(alpha = 100)\n",
    "lasso1.fit(x_train, y_train)"
   ]
  },
  {
   "cell_type": "code",
   "execution_count": null,
   "id": "f1774b36",
   "metadata": {},
   "outputs": [],
   "source": [
    "predictions = lasso1.predict(final_test1)"
   ]
  },
  {
   "cell_type": "code",
   "execution_count": null,
   "id": "8663df1c",
   "metadata": {},
   "outputs": [],
   "source": [
    "predictions"
   ]
  },
  {
   "cell_type": "code",
   "execution_count": null,
   "id": "44b7fcf1",
   "metadata": {},
   "outputs": [],
   "source": [
    "submissions = pd.read_csv('submissions.csv')"
   ]
  },
  {
   "cell_type": "code",
   "execution_count": null,
   "id": "3bfd7a58",
   "metadata": {},
   "outputs": [],
   "source": [
    "submissions"
   ]
  },
  {
   "cell_type": "code",
   "execution_count": null,
   "id": "c8d4e729",
   "metadata": {},
   "outputs": [],
   "source": [
    "submissions['site_eui'] = predictions"
   ]
  },
  {
   "cell_type": "code",
   "execution_count": null,
   "id": "a6e6ba7a",
   "metadata": {},
   "outputs": [],
   "source": [
    "submissions"
   ]
  },
  {
   "cell_type": "code",
   "execution_count": null,
   "id": "b2c419e0",
   "metadata": {},
   "outputs": [],
   "source": [
    "submissions.to_csv('submissions1.csv', index=False)"
   ]
  },
  {
   "cell_type": "code",
   "execution_count": null,
   "id": "3965cefc",
   "metadata": {},
   "outputs": [],
   "source": [
    "final_train1.head()"
   ]
  },
  {
   "cell_type": "code",
   "execution_count": null,
   "id": "484e0e81",
   "metadata": {},
   "outputs": [],
   "source": [
    "final_test1.head()"
   ]
  },
  {
   "cell_type": "code",
   "execution_count": null,
   "id": "6a6f9b6e",
   "metadata": {},
   "outputs": [],
   "source": [
    "# final_train1.drop('id', axis=1, inplace=True)\n",
    "# final_test1.drop('id', axis=1, inplace=True)"
   ]
  },
  {
   "cell_type": "code",
   "execution_count": null,
   "id": "f3f9ae43",
   "metadata": {},
   "outputs": [],
   "source": [
    "# final_test1.to_csv('test.csv', index=False)\n",
    "# final_train1.to_csv('train.csv', index=False)"
   ]
  },
  {
   "cell_type": "markdown",
   "id": "bdeda919",
   "metadata": {},
   "source": [
    "### Function to build model"
   ]
  },
  {
   "cell_type": "code",
   "execution_count": null,
   "id": "022e4119",
   "metadata": {},
   "outputs": [],
   "source": [
    "x_test"
   ]
  },
  {
   "cell_type": "code",
   "execution_count": null,
   "id": "bf9b1cc6",
   "metadata": {},
   "outputs": [],
   "source": [
    "def model(obj):\n",
    "    obj.fit(x_train, y_train)\n",
    "    obj_y_pred = lreg.predict(x_test)\n",
    "    mean_squared_error = np.mean((obj_y_pred - y_test)**2)\n",
    "    obj_coefficient = pd.DataFrame()\n",
    "    obj_coefficient[\"Columns\"] = x_train.columns\n",
    "    obj_coefficient['Coefficient Estimate'] = pd.Series(lreg.coef_)\n",
    "    return obj_coefficient, mean_squared_error"
   ]
  },
  {
   "cell_type": "markdown",
   "id": "f27eabc6",
   "metadata": {},
   "source": [
    "### Function to visualize the coefficient values"
   ]
  },
  {
   "cell_type": "code",
   "execution_count": null,
   "id": "3a18da9e",
   "metadata": {},
   "outputs": [],
   "source": [
    "def visualize(obj_coeff, title, color):\n",
    "    fig, ax = plt.subplots(figsize =(20, 8))\n",
    "\n",
    "    ax.bar(lreg_coefficient[\"Columns\"],\n",
    "    obj_coeff['Coefficient Estimate'],\n",
    "    color = color)\n",
    "    ax.spines['bottom'].set_position('zero')\n",
    "    plt.title(title, fontsize=25) \n",
    "    plt.style.use('ggplot')\n",
    "    plt.show()"
   ]
  },
  {
   "cell_type": "markdown",
   "id": "149aa929",
   "metadata": {},
   "source": [
    "### Linear regression"
   ]
  },
  {
   "cell_type": "code",
   "execution_count": null,
   "id": "459bf13e",
   "metadata": {},
   "outputs": [],
   "source": [
    "lreg = LinearRegression()\n",
    "lreg_coefficient, lreg_mse = model(lreg)\n",
    "visualize(lreg_coefficient, 'Linear Regression with Mean squared Error: {}'.format(lreg_mse), 'lightgreen')"
   ]
  },
  {
   "cell_type": "markdown",
   "id": "fbfa8140",
   "metadata": {},
   "source": [
    "### Lasso Regression"
   ]
  },
  {
   "cell_type": "code",
   "execution_count": null,
   "id": "a0c4c634",
   "metadata": {},
   "outputs": [],
   "source": [
    "lasso = Lasso(alpha = 100000000000000)\n",
    "lasso_coefficient, lasso_mse = model(lasso)\n",
    "visualize(lasso_coefficient, 'Lasso Regression with Mean squared Error: {}'.format(lasso_mse), 'lightblue')"
   ]
  },
  {
   "cell_type": "markdown",
   "id": "95ae072f",
   "metadata": {},
   "source": [
    "### Ridge Regression"
   ]
  },
  {
   "cell_type": "code",
   "execution_count": null,
   "id": "9b468185",
   "metadata": {},
   "outputs": [],
   "source": [
    "ridge = Ridge(alpha = 1)\n",
    "ridge_coefficient, ridge_mse = model(lasso)\n",
    "visualize(ridge_coefficient, 'Ridge Regression with Mean squared Error: {}'.format(ridge_mse), 'pink')"
   ]
  },
  {
   "cell_type": "markdown",
   "id": "03e6cd39",
   "metadata": {},
   "source": [
    "## Tuning the alpha values and checking the variations in Lasso Regression"
   ]
  },
  {
   "cell_type": "code",
   "execution_count": null,
   "id": "014e1144",
   "metadata": {},
   "outputs": [],
   "source": [
    "alpha= [10 ** x for x in range(-6,8)]\n",
    "cv_error_array=[]\n",
    "for i in alpha:\n",
    "    reg= Lasso(alpha=i,random_state=42)\n",
    "    reg.fit(x_train,y_train)\n",
    "    y_pred= reg.predict(x_test)\n",
    "    loss= mean_squared_error(y_test,y_pred)\n",
    "    cv_error_array.append(loss)\n",
    "    print(\"For Alpha : \", i ,\"Loss :\",round(loss,2))"
   ]
  },
  {
   "cell_type": "markdown",
   "id": "49c198f7",
   "metadata": {},
   "source": [
    "# 7. Key Findings:"
   ]
  },
  {
   "cell_type": "markdown",
   "id": "9c7dc869",
   "metadata": {},
   "source": [
    "- We found that for the considered scenario all the models performed similarly\n",
    "\n",
    "- The Lasso Regression Model's performace was best with alpha=0.1. The performance didn't improve on reducing the hyperparameter beyond 1. But as we increase the alpha value the performance deteriorates gradually upto 100000 beyond which it remains constant.\n",
    "\n",
    "- There wasn't any difference in the mse and the coefficients of various regression model\n",
    "\n",
    "- We can try elastic regression model as well and compare the results\n",
    "\n",
    "- We can consider the Linear Regression model as our base model and further try to reduce the MSE "
   ]
  },
  {
   "cell_type": "markdown",
   "id": "e5beb0c9",
   "metadata": {},
   "source": [
    "# 8. Future Plan of Action"
   ]
  },
  {
   "cell_type": "markdown",
   "id": "592409b8",
   "metadata": {},
   "source": [
    "Following points can be considered while remodelling:\n",
    "\n",
    "    1. Instead of Label Encoding we can try using on-hot or dummy encoding techniques\n",
    "    2. Missing Value Imputation for energy_star_rating can be done using median or by filling with regression model\n",
    "    3. We can consider other features which were dropped due to low correlation values\n",
    "    4. Try Box cox instead of Sqrt transformation of target variable\n",
    "    5. We can also compare the performance by training our model with ElasticNet\n",
    "    5. Try out other modelling algorithms like Random Forest\n",
    "    \n",
    "We can consider this as our base model and keep building on top of this by tweaking the hyperparameters and chaning the data cleaning techniques. Also, we can compare different algorithms' performance to come up with the best one."
   ]
  }
 ],
 "metadata": {
  "kernelspec": {
   "display_name": "Python 3",
   "language": "python",
   "name": "python3"
  },
  "language_info": {
   "codemirror_mode": {
    "name": "ipython",
    "version": 3
   },
   "file_extension": ".py",
   "mimetype": "text/x-python",
   "name": "python",
   "nbconvert_exporter": "python",
   "pygments_lexer": "ipython3",
   "version": "3.8.8"
  }
 },
 "nbformat": 4,
 "nbformat_minor": 5
}
